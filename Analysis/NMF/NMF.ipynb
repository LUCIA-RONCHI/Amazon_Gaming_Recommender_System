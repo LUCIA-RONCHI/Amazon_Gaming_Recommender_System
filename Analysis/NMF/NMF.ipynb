{
 "cells": [
  {
   "cell_type": "markdown",
   "metadata": {},
   "source": [
    "## Loading data and Necessary libraries"
   ]
  },
  {
   "cell_type": "markdown",
   "metadata": {},
   "source": [
    "**References:**\n",
    "* Splitting into Train and Test https://towardsdatascience.com/if-you-cant-measure-it-you-can-t-improve-it-5c059014faad\n",
    "* Official documentation http://surpriselib.com/\n",
    "* Basic tutorial https://towardsdatascience.com/building-and-testing-recommender-systems-with-surprise-step-by-step-d4ba702ef80b\n",
    "* Predicting on Test https://surprise.readthedocs.io/en/stable/FAQ.html#raw-inner-note\n",
    "* Top N recommendations for each user https://surprise.readthedocs.io/en/stable/FAQ.html#how-to-save-some-data-for-unbiased-accuracy-estimation"
   ]
  },
  {
   "cell_type": "code",
   "execution_count": 111,
   "metadata": {},
   "outputs": [],
   "source": [
    "# Load libraries\n",
    "import pandas as pd\n",
    "import numpy as np\n",
    "import matplotlib.pyplot as plt\n",
    "import seaborn as sns\n",
    "# Surprise Package\n",
    "import surprise"
   ]
  },
  {
   "cell_type": "code",
   "execution_count": 4,
   "metadata": {},
   "outputs": [],
   "source": [
    "# Read data\n",
    "train_df = pd.read_pickle(\"../../../train_df.pkl\")\n",
    "test_df = pd.read_pickle(\"../../../test_df.pkl\")"
   ]
  },
  {
   "cell_type": "code",
   "execution_count": 8,
   "metadata": {},
   "outputs": [
    {
     "name": "stdout",
     "output_type": "stream",
     "text": [
      "(206085, 20)\n",
      "(84554, 20)\n"
     ]
    }
   ],
   "source": [
    "# Explore set shapes\n",
    "print(train_df.shape)\n",
    "print(test_df.shape)"
   ]
  },
  {
   "cell_type": "code",
   "execution_count": 6,
   "metadata": {},
   "outputs": [
    {
     "data": {
      "text/html": [
       "<div>\n",
       "<style scoped>\n",
       "    .dataframe tbody tr th:only-of-type {\n",
       "        vertical-align: middle;\n",
       "    }\n",
       "\n",
       "    .dataframe tbody tr th {\n",
       "        vertical-align: top;\n",
       "    }\n",
       "\n",
       "    .dataframe thead th {\n",
       "        text-align: right;\n",
       "    }\n",
       "</style>\n",
       "<table border=\"1\" class=\"dataframe\">\n",
       "  <thead>\n",
       "    <tr style=\"text-align: right;\">\n",
       "      <th></th>\n",
       "      <th>reviewID</th>\n",
       "      <th>overall</th>\n",
       "      <th>verified</th>\n",
       "      <th>reviewTime</th>\n",
       "      <th>reviewerID</th>\n",
       "      <th>productID</th>\n",
       "      <th>reviewText</th>\n",
       "      <th>summary</th>\n",
       "      <th>vote</th>\n",
       "      <th>style</th>\n",
       "      <th>category</th>\n",
       "      <th>title</th>\n",
       "      <th>brand</th>\n",
       "      <th>rank</th>\n",
       "      <th>main_cat</th>\n",
       "      <th>description</th>\n",
       "      <th>also_buy</th>\n",
       "      <th>also_view</th>\n",
       "      <th>feature</th>\n",
       "      <th>numberOfReviews</th>\n",
       "    </tr>\n",
       "  </thead>\n",
       "  <tbody>\n",
       "    <tr>\n",
       "      <td>473590</td>\n",
       "      <td>473590</td>\n",
       "      <td>5</td>\n",
       "      <td>False</td>\n",
       "      <td>2016-07-16</td>\n",
       "      <td>A2KJVIU82ZUSBA</td>\n",
       "      <td>B0186D1UQ0</td>\n",
       "      <td>Fantastic</td>\n",
       "      <td>Best Remake I've Ever Played</td>\n",
       "      <td>0</td>\n",
       "      <td>{'Format:': ' Video Game'}</td>\n",
       "      <td>['Video Games', 'PlayStation 4', 'Games', '']</td>\n",
       "      <td>Odin Sphere Leifthrasir - PlayStation 4 Standa...</td>\n",
       "      <td>by Atlus</td>\n",
       "      <td>&gt;#4,665 in Video Games (See Top 100 in Video G...</td>\n",
       "      <td>Video Games</td>\n",
       "      <td>[\"ATLUS x Vanillaware, the team behind the hit...</td>\n",
       "      <td>['B077Y7313L', 'B0794Y8FLW', 'B01HQGWBZ2', 'B0...</td>\n",
       "      <td>['B077Y7313L', 'B0794Y8FLW', 'B017GY06UQ', 'B0...</td>\n",
       "      <td>['HD Art Upgrade: Known for its beautiful, 2D ...</td>\n",
       "      <td>26</td>\n",
       "    </tr>\n",
       "    <tr>\n",
       "      <td>128446</td>\n",
       "      <td>128446</td>\n",
       "      <td>5</td>\n",
       "      <td>True</td>\n",
       "      <td>2014-07-18</td>\n",
       "      <td>A3GENOZU8QJZAZ</td>\n",
       "      <td>B000R39GPA</td>\n",
       "      <td>Great game</td>\n",
       "      <td>PS3</td>\n",
       "      <td>0</td>\n",
       "      <td>{'Edition:': ' Standard', 'Platform:': ' PlayS...</td>\n",
       "      <td>['Video Games', 'PlayStation 3', 'Games', '']</td>\n",
       "      <td>Star Wars: The Force Unleashed</td>\n",
       "      <td>by LucasArts</td>\n",
       "      <td>&gt;#9,056 in Video Games (See Top 100 in Video G...</td>\n",
       "      <td>Video Games</td>\n",
       "      <td>['The Star Wars saga will continue in Star War...</td>\n",
       "      <td>['B0030F1DOO', 'B003FMUMBM', 'B00EY3F8LU', 'B0...</td>\n",
       "      <td>['B01BCMBP44', 'B0030F1DOO', 'B00EY3F8LU', 'B0...</td>\n",
       "      <td>['Confront and associate with familiar faces f...</td>\n",
       "      <td>140</td>\n",
       "    </tr>\n",
       "    <tr>\n",
       "      <td>356264</td>\n",
       "      <td>356264</td>\n",
       "      <td>3</td>\n",
       "      <td>True</td>\n",
       "      <td>2015-07-03</td>\n",
       "      <td>ADE6VBLJEOKFC</td>\n",
       "      <td>B00DHF39HQ</td>\n",
       "      <td>Its a game with stuff thats really boring to s...</td>\n",
       "      <td>Buy a car.</td>\n",
       "      <td>2</td>\n",
       "      <td>{'Format:': ' Video Game'}</td>\n",
       "      <td>['Video Games', 'PlayStation 4', 'Games', '']</td>\n",
       "      <td>Elder Scrolls Online: Tamriel Unlimited - Play...</td>\n",
       "      <td>by Bethesda</td>\n",
       "      <td>&gt;#5,896 in Video Games (See Top 100 in Video G...</td>\n",
       "      <td>Video Games</td>\n",
       "      <td>[\"The award winning Elder Scrolls saga goes on...</td>\n",
       "      <td>['B01MSDDCUI', 'B07BJ66LRB', 'B01I41HEGY', 'B0...</td>\n",
       "      <td>['B07BJ66LRB', 'B01I41HEGY', 'B01MSDDCUI', 'B0...</td>\n",
       "      <td>['Unlimited Adventures, No Subscription Requir...</td>\n",
       "      <td>135</td>\n",
       "    </tr>\n",
       "    <tr>\n",
       "      <td>396581</td>\n",
       "      <td>396581</td>\n",
       "      <td>5</td>\n",
       "      <td>True</td>\n",
       "      <td>2014-12-25</td>\n",
       "      <td>AGS25M1ED8EGZ</td>\n",
       "      <td>B00K848IH0</td>\n",
       "      <td>love it</td>\n",
       "      <td>great</td>\n",
       "      <td>0</td>\n",
       "      <td>{'Edition:': ' Alpha Sapphire', 'Platform:': '...</td>\n",
       "      <td>['Video Games', 'Kids &amp; Family', 'Nintendo 3DS...</td>\n",
       "      <td>Pokemon Alpha Sapphire - Nintendo 3DS</td>\n",
       "      <td>by Nintendo</td>\n",
       "      <td>&gt;#837 in Video Games (See Top 100 in Video Gam...</td>\n",
       "      <td>Video Games</td>\n",
       "      <td>[\"Soar high above the Hoenn region on an unfor...</td>\n",
       "      <td>['B0053B66KE', 'B0053B5RGI', 'B071WNTGFY', 'B0...</td>\n",
       "      <td>['B0053B5RGI', 'B00R11EPAC', 'B071JQQ9PK', 'B0...</td>\n",
       "      <td>['Games in 2D. Some areas also playable in 3D....</td>\n",
       "      <td>267</td>\n",
       "    </tr>\n",
       "    <tr>\n",
       "      <td>244246</td>\n",
       "      <td>244246</td>\n",
       "      <td>4</td>\n",
       "      <td>True</td>\n",
       "      <td>2011-07-15</td>\n",
       "      <td>A1CZT2GDDO4GC1</td>\n",
       "      <td>B003O6G1L4</td>\n",
       "      <td>The main people who are really DOWNING this ga...</td>\n",
       "      <td>It's not that bad of a game, but does lack a l...</td>\n",
       "      <td>5</td>\n",
       "      <td>{'Edition:': ' Standard', 'Platform:': ' PlayS...</td>\n",
       "      <td>['Video Games', 'PlayStation 3', 'Games', '']</td>\n",
       "      <td>Dungeon Siege III - Playstation 3</td>\n",
       "      <td>by Square Enix</td>\n",
       "      <td>&gt;#19,535 in Video Games (See Top 100 in Video ...</td>\n",
       "      <td>Video Games</td>\n",
       "      <td>[\"Torn asunder, the delicate balance of power ...</td>\n",
       "      <td>['B00IQCRO3K', 'B001BTPRKC', 'B000HCJD68', 'B0...</td>\n",
       "      <td>['B00IQCRO3K', 'B007V9QKH0', 'B00B59MXGY', 'B0...</td>\n",
       "      <td>['For the first time, play DUNGEON SIEGE on hi...</td>\n",
       "      <td>43</td>\n",
       "    </tr>\n",
       "  </tbody>\n",
       "</table>\n",
       "</div>"
      ],
      "text/plain": [
       "        reviewID  overall  verified  reviewTime      reviewerID   productID  \\\n",
       "473590    473590        5     False  2016-07-16  A2KJVIU82ZUSBA  B0186D1UQ0   \n",
       "128446    128446        5      True  2014-07-18  A3GENOZU8QJZAZ  B000R39GPA   \n",
       "356264    356264        3      True  2015-07-03   ADE6VBLJEOKFC  B00DHF39HQ   \n",
       "396581    396581        5      True  2014-12-25   AGS25M1ED8EGZ  B00K848IH0   \n",
       "244246    244246        4      True  2011-07-15  A1CZT2GDDO4GC1  B003O6G1L4   \n",
       "\n",
       "                                               reviewText  \\\n",
       "473590                                          Fantastic   \n",
       "128446                                         Great game   \n",
       "356264  Its a game with stuff thats really boring to s...   \n",
       "396581                                            love it   \n",
       "244246  The main people who are really DOWNING this ga...   \n",
       "\n",
       "                                                  summary vote  \\\n",
       "473590                       Best Remake I've Ever Played    0   \n",
       "128446                                                PS3    0   \n",
       "356264                                         Buy a car.    2   \n",
       "396581                                              great    0   \n",
       "244246  It's not that bad of a game, but does lack a l...    5   \n",
       "\n",
       "                                                    style  \\\n",
       "473590                         {'Format:': ' Video Game'}   \n",
       "128446  {'Edition:': ' Standard', 'Platform:': ' PlayS...   \n",
       "356264                         {'Format:': ' Video Game'}   \n",
       "396581  {'Edition:': ' Alpha Sapphire', 'Platform:': '...   \n",
       "244246  {'Edition:': ' Standard', 'Platform:': ' PlayS...   \n",
       "\n",
       "                                                 category  \\\n",
       "473590      ['Video Games', 'PlayStation 4', 'Games', '']   \n",
       "128446      ['Video Games', 'PlayStation 3', 'Games', '']   \n",
       "356264      ['Video Games', 'PlayStation 4', 'Games', '']   \n",
       "396581  ['Video Games', 'Kids & Family', 'Nintendo 3DS...   \n",
       "244246      ['Video Games', 'PlayStation 3', 'Games', '']   \n",
       "\n",
       "                                                    title           brand  \\\n",
       "473590  Odin Sphere Leifthrasir - PlayStation 4 Standa...        by Atlus   \n",
       "128446                     Star Wars: The Force Unleashed    by LucasArts   \n",
       "356264  Elder Scrolls Online: Tamriel Unlimited - Play...     by Bethesda   \n",
       "396581              Pokemon Alpha Sapphire - Nintendo 3DS     by Nintendo   \n",
       "244246                  Dungeon Siege III - Playstation 3  by Square Enix   \n",
       "\n",
       "                                                     rank     main_cat  \\\n",
       "473590  >#4,665 in Video Games (See Top 100 in Video G...  Video Games   \n",
       "128446  >#9,056 in Video Games (See Top 100 in Video G...  Video Games   \n",
       "356264  >#5,896 in Video Games (See Top 100 in Video G...  Video Games   \n",
       "396581  >#837 in Video Games (See Top 100 in Video Gam...  Video Games   \n",
       "244246  >#19,535 in Video Games (See Top 100 in Video ...  Video Games   \n",
       "\n",
       "                                              description  \\\n",
       "473590  [\"ATLUS x Vanillaware, the team behind the hit...   \n",
       "128446  ['The Star Wars saga will continue in Star War...   \n",
       "356264  [\"The award winning Elder Scrolls saga goes on...   \n",
       "396581  [\"Soar high above the Hoenn region on an unfor...   \n",
       "244246  [\"Torn asunder, the delicate balance of power ...   \n",
       "\n",
       "                                                 also_buy  \\\n",
       "473590  ['B077Y7313L', 'B0794Y8FLW', 'B01HQGWBZ2', 'B0...   \n",
       "128446  ['B0030F1DOO', 'B003FMUMBM', 'B00EY3F8LU', 'B0...   \n",
       "356264  ['B01MSDDCUI', 'B07BJ66LRB', 'B01I41HEGY', 'B0...   \n",
       "396581  ['B0053B66KE', 'B0053B5RGI', 'B071WNTGFY', 'B0...   \n",
       "244246  ['B00IQCRO3K', 'B001BTPRKC', 'B000HCJD68', 'B0...   \n",
       "\n",
       "                                                also_view  \\\n",
       "473590  ['B077Y7313L', 'B0794Y8FLW', 'B017GY06UQ', 'B0...   \n",
       "128446  ['B01BCMBP44', 'B0030F1DOO', 'B00EY3F8LU', 'B0...   \n",
       "356264  ['B07BJ66LRB', 'B01I41HEGY', 'B01MSDDCUI', 'B0...   \n",
       "396581  ['B0053B5RGI', 'B00R11EPAC', 'B071JQQ9PK', 'B0...   \n",
       "244246  ['B00IQCRO3K', 'B007V9QKH0', 'B00B59MXGY', 'B0...   \n",
       "\n",
       "                                                  feature  numberOfReviews  \n",
       "473590  ['HD Art Upgrade: Known for its beautiful, 2D ...               26  \n",
       "128446  ['Confront and associate with familiar faces f...              140  \n",
       "356264  ['Unlimited Adventures, No Subscription Requir...              135  \n",
       "396581  ['Games in 2D. Some areas also playable in 3D....              267  \n",
       "244246  ['For the first time, play DUNGEON SIEGE on hi...               43  "
      ]
     },
     "execution_count": 6,
     "metadata": {},
     "output_type": "execute_result"
    }
   ],
   "source": [
    "# Explore train set\n",
    "train_df.head()"
   ]
  },
  {
   "cell_type": "code",
   "execution_count": 34,
   "metadata": {},
   "outputs": [
    {
     "data": {
      "text/plain": [
       "5    170016\n",
       "4     57442\n",
       "3     31130\n",
       "1     17244\n",
       "2     14807\n",
       "Name: overall, dtype: int64"
      ]
     },
     "execution_count": 34,
     "metadata": {},
     "output_type": "execute_result"
    }
   ],
   "source": [
    "# Possible values for ratings\n",
    "pd.concat([train_df, test_df])[\"overall\"].value_counts()"
   ]
  },
  {
   "cell_type": "code",
   "execution_count": 38,
   "metadata": {},
   "outputs": [
    {
     "data": {
      "text/html": [
       "<div>\n",
       "<style scoped>\n",
       "    .dataframe tbody tr th:only-of-type {\n",
       "        vertical-align: middle;\n",
       "    }\n",
       "\n",
       "    .dataframe tbody tr th {\n",
       "        vertical-align: top;\n",
       "    }\n",
       "\n",
       "    .dataframe thead th {\n",
       "        text-align: right;\n",
       "    }\n",
       "</style>\n",
       "<table border=\"1\" class=\"dataframe\">\n",
       "  <thead>\n",
       "    <tr style=\"text-align: right;\">\n",
       "      <th></th>\n",
       "      <th>Rating</th>\n",
       "      <th>Count</th>\n",
       "    </tr>\n",
       "  </thead>\n",
       "  <tbody>\n",
       "    <tr>\n",
       "      <td>0</td>\n",
       "      <td>1</td>\n",
       "      <td>17244</td>\n",
       "    </tr>\n",
       "    <tr>\n",
       "      <td>1</td>\n",
       "      <td>2</td>\n",
       "      <td>14807</td>\n",
       "    </tr>\n",
       "    <tr>\n",
       "      <td>2</td>\n",
       "      <td>3</td>\n",
       "      <td>31130</td>\n",
       "    </tr>\n",
       "    <tr>\n",
       "      <td>3</td>\n",
       "      <td>4</td>\n",
       "      <td>57442</td>\n",
       "    </tr>\n",
       "    <tr>\n",
       "      <td>4</td>\n",
       "      <td>5</td>\n",
       "      <td>170016</td>\n",
       "    </tr>\n",
       "  </tbody>\n",
       "</table>\n",
       "</div>"
      ],
      "text/plain": [
       "   Rating   Count\n",
       "0       1   17244\n",
       "1       2   14807\n",
       "2       3   31130\n",
       "3       4   57442\n",
       "4       5  170016"
      ]
     },
     "execution_count": 38,
     "metadata": {},
     "output_type": "execute_result"
    }
   ],
   "source": [
    "ratings_summary = pd.DataFrame(pd.concat([train_df, test_df]).groupby([\"overall\"]).count()[\"productID\"]).reset_index()\n",
    "ratings_summary.columns = [\"Rating\", \"Count\"]\n",
    "ratings_summary"
   ]
  },
  {
   "cell_type": "code",
   "execution_count": 83,
   "metadata": {},
   "outputs": [
    {
     "data": {
      "image/png": "[encoded data removed]",
      "text/plain": [
       "<Figure size 432x288 with 1 Axes>"
      ]
     },
     "metadata": {
      "needs_background": "light"
     },
     "output_type": "display_data"
    }
   ],
   "source": [
    "ax = ratings_summary.plot(x = \"Rating\", y = \"Count\", kind = \"bar\", color = \"orange\", legend = False, figsize = (6, 4))\n",
    "plt.xticks(rotation=0)\n",
    "plt.ylabel(\"Count\")\n",
    "#ax.set_ylabel(ylabel = \"Count\", position=(0,1), fontsize = 12)\n",
    "plt.title(\"Ratings distribution\", fontweight = \"bold\", fontsize = 14)\n",
    "plt.show()"
   ]
  },
  {
   "cell_type": "markdown",
   "metadata": {},
   "source": [
    "# With Surprise Package"
   ]
  },
  {
   "cell_type": "markdown",
   "metadata": {},
   "source": [
    "## Loading data into Surprise"
   ]
  },
  {
   "cell_type": "code",
   "execution_count": 85,
   "metadata": {},
   "outputs": [],
   "source": [
    "# Instantiate reader object, to parse ratings\n",
    "reader = surprise.Reader(rating_scale=(1, 5))"
   ]
  },
  {
   "cell_type": "code",
   "execution_count": 86,
   "metadata": {},
   "outputs": [],
   "source": [
    "# Load Train data into Surprise, from train_df and using reader instantiated above\n",
    "surprise_data_train = surprise.Dataset.load_from_df(train_df[['reviewerID', 'productID', 'overall']], reader)"
   ]
  },
  {
   "cell_type": "markdown",
   "metadata": {},
   "source": [
    "## Training the model"
   ]
  },
  {
   "cell_type": "code",
   "execution_count": 87,
   "metadata": {},
   "outputs": [],
   "source": [
    "# Define parameter grid\n",
    "param_grid = {\"n_factors\": [10, 20, 30, 40, 50],\n",
    "              \"n_epochs\": [25, 50, 75]}"
   ]
  },
  {
   "cell_type": "code",
   "execution_count": 110,
   "metadata": {},
   "outputs": [],
   "source": [
    "# Instantiate grid search CV\n",
    "grid_search = surprise.model_selection.GridSearchCV(algo_class = surprise.NMF, \n",
    "                                                    param_grid = param_grid, \n",
    "                                                    measures=['rmse'], \n",
    "                                                    cv = 5, \n",
    "                                                    n_jobs = 7)"
   ]
  },
  {
   "cell_type": "code",
   "execution_count": 91,
   "metadata": {},
   "outputs": [],
   "source": [
    "# Look for best parameters on train data\n",
    "grid_search.fit(surprise_data_train)"
   ]
  },
  {
   "cell_type": "code",
   "execution_count": 92,
   "metadata": {},
   "outputs": [
    {
     "name": "stdout",
     "output_type": "stream",
     "text": [
      "1.1566126294866532\n"
     ]
    }
   ],
   "source": [
    "# Best RMSE score (prediction of what Test RMSE will be)\n",
    "print(grid_search.best_score['rmse'])"
   ]
  },
  {
   "cell_type": "code",
   "execution_count": 93,
   "metadata": {},
   "outputs": [
    {
     "name": "stdout",
     "output_type": "stream",
     "text": [
      "{'n_factors': 40, 'n_epochs': 50}\n"
     ]
    }
   ],
   "source": [
    "# Combination of parameters that gave the best RMSE score\n",
    "print(grid_search.best_params['rmse'])"
   ]
  },
  {
   "cell_type": "code",
   "execution_count": 97,
   "metadata": {},
   "outputs": [],
   "source": [
    "# Get model with best performance\n",
    "best_NMF = grid_search.best_estimator['rmse']"
   ]
  },
  {
   "cell_type": "markdown",
   "metadata": {},
   "source": [
    "## Predicting on Train Set"
   ]
  },
  {
   "cell_type": "code",
   "execution_count": 98,
   "metadata": {},
   "outputs": [
    {
     "data": {
      "text/plain": [
       "<surprise.prediction_algorithms.matrix_factorization.NMF at 0x1a3aa2a550>"
      ]
     },
     "execution_count": 98,
     "metadata": {},
     "output_type": "execute_result"
    }
   ],
   "source": [
    "# Fit best NMF on Train\n",
    "best_NMF.fit(surprise_data_train.build_full_trainset())"
   ]
  },
  {
   "cell_type": "code",
   "execution_count": 107,
   "metadata": {},
   "outputs": [
    {
     "name": "stdout",
     "output_type": "stream",
     "text": [
      "RMSE: 0.3779\n"
     ]
    },
    {
     "data": {
      "text/plain": [
       "0.37791368279108"
      ]
     },
     "execution_count": 107,
     "metadata": {},
     "output_type": "execute_result"
    }
   ],
   "source": [
    "predictions_train = best_NMF.test(surprise_data_train.build_full_trainset().build_testset())\n",
    "surprise.accuracy.rmse(predictions_train)"
   ]
  },
  {
   "cell_type": "markdown",
   "metadata": {},
   "source": [
    "## Predicting on Test Set"
   ]
  },
  {
   "cell_type": "code",
   "execution_count": 103,
   "metadata": {},
   "outputs": [],
   "source": [
    "test_list = []"
   ]
  },
  {
   "cell_type": "code",
   "execution_count": 104,
   "metadata": {},
   "outputs": [],
   "source": [
    "for _, row in test_df.iterrows():\n",
    "    t = (row[\"reviewerID\"], row[\"productID\"], row[\"overall\"])\n",
    "    test_list.append(t)"
   ]
  },
  {
   "cell_type": "code",
   "execution_count": 105,
   "metadata": {},
   "outputs": [],
   "source": [
    "# Predict using best model found\n",
    "test_predictions = best_NMF.test(test_list)"
   ]
  },
  {
   "cell_type": "code",
   "execution_count": 106,
   "metadata": {
    "scrolled": false
   },
   "outputs": [
    {
     "name": "stdout",
     "output_type": "stream",
     "text": [
      "RMSE: 1.1335\n"
     ]
    },
    {
     "data": {
      "text/plain": [
       "1.1335048210152516"
      ]
     },
     "execution_count": 106,
     "metadata": {},
     "output_type": "execute_result"
    }
   ],
   "source": [
    "# Compute Test RMSE\n",
    "surprise.accuracy.rmse(test_predictions)"
   ]
  }
 ],
 "metadata": {
  "kernelspec": {
   "display_name": "Python 3",
   "language": "python",
   "name": "python3"
  },
  "language_info": {
   "codemirror_mode": {
    "name": "ipython",
    "version": 3
   },
   "file_extension": ".py",
   "mimetype": "text/x-python",
   "name": "python",
   "nbconvert_exporter": "python",
   "pygments_lexer": "ipython3",
   "version": "3.7.4"
  }
 },
 "nbformat": 4,
 "nbformat_minor": 2
}
