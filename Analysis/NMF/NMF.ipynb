{
 "cells": [
  {
   "cell_type": "markdown",
   "metadata": {},
   "source": [
    "## Loading data and Necessary libraries"
   ]
  },
  {
   "cell_type": "markdown",
   "metadata": {},
   "source": [
    "**References:**\n",
    "* Splitting into Train and Test https://towardsdatascience.com/if-you-cant-measure-it-you-can-t-improve-it-5c059014faad\n",
    "* Official documentation http://surpriselib.com/\n",
    "* Basic tutorial https://towardsdatascience.com/building-and-testing-recommender-systems-with-surprise-step-by-step-d4ba702ef80b\n",
    "* Predicting on Test https://surprise.readthedocs.io/en/stable/FAQ.html#raw-inner-note\n",
    "* Top N recommendations for each user https://surprise.readthedocs.io/en/stable/FAQ.html#how-to-save-some-data-for-unbiased-accuracy-estimation"
   ]
  },
  {
   "cell_type": "code",
   "execution_count": 101,
   "metadata": {},
   "outputs": [],
   "source": [
    "# Load libraries\n",
    "import pandas as pd\n",
    "import numpy as np\n",
    "from sklearn.utils import shuffle\n",
    "#from sklearn.decomposition import NMF\n",
    "import surprise\n",
    "from surprise import NMF\n",
    "#from sklearn.model_selection import GridSearchCV\n",
    "#from surprise.model_selection import cross_validate\n",
    "#from surprise.model_selection import train_test_split"
   ]
  },
  {
   "cell_type": "code",
   "execution_count": 15,
   "metadata": {},
   "outputs": [],
   "source": [
    "# Read data\n",
    "raw_data = pd.read_csv(\"../../../merged_data_edited.csv\", index_col = 0)"
   ]
  },
  {
   "cell_type": "code",
   "execution_count": 16,
   "metadata": {},
   "outputs": [
    {
     "data": {
      "text/plain": [
       "Index(['Unnamed: 0.1', 'reviewID', 'overall', 'verified', 'reviewTime',\n",
       "       'reviewerID', 'productID', 'reviewText', 'summary', 'vote', 'style',\n",
       "       'category', 'title', 'brand', 'rank', 'main_cat', 'description',\n",
       "       'also_buy', 'also_view', 'feature', 'numberOfReviews'],\n",
       "      dtype='object')"
      ]
     },
     "execution_count": 16,
     "metadata": {},
     "output_type": "execute_result"
    }
   ],
   "source": [
    "# Column names\n",
    "raw_data.columns"
   ]
  },
  {
   "cell_type": "code",
   "execution_count": 17,
   "metadata": {},
   "outputs": [],
   "source": [
    "# Drop first column\n",
    "data = raw_data.drop(labels = [\"Unnamed: 0.1\"], axis = 1)"
   ]
  },
  {
   "cell_type": "code",
   "execution_count": 18,
   "metadata": {},
   "outputs": [
    {
     "data": {
      "text/html": [
       "<div>\n",
       "<style scoped>\n",
       "    .dataframe tbody tr th:only-of-type {\n",
       "        vertical-align: middle;\n",
       "    }\n",
       "\n",
       "    .dataframe tbody tr th {\n",
       "        vertical-align: top;\n",
       "    }\n",
       "\n",
       "    .dataframe thead th {\n",
       "        text-align: right;\n",
       "    }\n",
       "</style>\n",
       "<table border=\"1\" class=\"dataframe\">\n",
       "  <thead>\n",
       "    <tr style=\"text-align: right;\">\n",
       "      <th></th>\n",
       "      <th>reviewID</th>\n",
       "      <th>overall</th>\n",
       "      <th>verified</th>\n",
       "      <th>reviewTime</th>\n",
       "      <th>reviewerID</th>\n",
       "      <th>productID</th>\n",
       "      <th>reviewText</th>\n",
       "      <th>summary</th>\n",
       "      <th>vote</th>\n",
       "      <th>style</th>\n",
       "      <th>category</th>\n",
       "      <th>title</th>\n",
       "      <th>brand</th>\n",
       "      <th>rank</th>\n",
       "      <th>main_cat</th>\n",
       "      <th>description</th>\n",
       "      <th>also_buy</th>\n",
       "      <th>also_view</th>\n",
       "      <th>feature</th>\n",
       "      <th>numberOfReviews</th>\n",
       "    </tr>\n",
       "  </thead>\n",
       "  <tbody>\n",
       "    <tr>\n",
       "      <td>0</td>\n",
       "      <td>0</td>\n",
       "      <td>5</td>\n",
       "      <td>True</td>\n",
       "      <td>2015-10-17</td>\n",
       "      <td>A1HP7NVNPFMA4N</td>\n",
       "      <td>0700026657</td>\n",
       "      <td>This game is a bit hard to get the hang of, bu...</td>\n",
       "      <td>but when you do it's great.</td>\n",
       "      <td>0</td>\n",
       "      <td>NaN</td>\n",
       "      <td>['Video Games', 'PC', 'Games']</td>\n",
       "      <td>Anno 2070</td>\n",
       "      <td>Ubisoft</td>\n",
       "      <td>&gt;#30,230 in Video Games (See Top 100 in Video ...</td>\n",
       "      <td>Video Games</td>\n",
       "      <td>['ANNO 2070BRAND NEW - IN STOCKDVD Rom Softwar...</td>\n",
       "      <td>NaN</td>\n",
       "      <td>['B013F0IP1C', 'B00JDP1AWU', 'B00XR3YC2E', 'B0...</td>\n",
       "      <td>['A new era: while adhering to the fundamental...</td>\n",
       "      <td>13</td>\n",
       "    </tr>\n",
       "    <tr>\n",
       "      <td>1</td>\n",
       "      <td>1</td>\n",
       "      <td>4</td>\n",
       "      <td>False</td>\n",
       "      <td>2015-07-27</td>\n",
       "      <td>A1JGAP0185YJI6</td>\n",
       "      <td>0700026657</td>\n",
       "      <td>I played it a while but it was alright. The st...</td>\n",
       "      <td>But in spite of that it was fun, I liked it</td>\n",
       "      <td>0</td>\n",
       "      <td>NaN</td>\n",
       "      <td>['Video Games', 'PC', 'Games']</td>\n",
       "      <td>Anno 2070</td>\n",
       "      <td>Ubisoft</td>\n",
       "      <td>&gt;#30,230 in Video Games (See Top 100 in Video ...</td>\n",
       "      <td>Video Games</td>\n",
       "      <td>['ANNO 2070BRAND NEW - IN STOCKDVD Rom Softwar...</td>\n",
       "      <td>NaN</td>\n",
       "      <td>['B013F0IP1C', 'B00JDP1AWU', 'B00XR3YC2E', 'B0...</td>\n",
       "      <td>['A new era: while adhering to the fundamental...</td>\n",
       "      <td>13</td>\n",
       "    </tr>\n",
       "    <tr>\n",
       "      <td>2</td>\n",
       "      <td>2</td>\n",
       "      <td>3</td>\n",
       "      <td>True</td>\n",
       "      <td>2015-02-23</td>\n",
       "      <td>A1YJWEXHQBWK2B</td>\n",
       "      <td>0700026657</td>\n",
       "      <td>ok game.</td>\n",
       "      <td>Three Stars</td>\n",
       "      <td>0</td>\n",
       "      <td>NaN</td>\n",
       "      <td>['Video Games', 'PC', 'Games']</td>\n",
       "      <td>Anno 2070</td>\n",
       "      <td>Ubisoft</td>\n",
       "      <td>&gt;#30,230 in Video Games (See Top 100 in Video ...</td>\n",
       "      <td>Video Games</td>\n",
       "      <td>['ANNO 2070BRAND NEW - IN STOCKDVD Rom Softwar...</td>\n",
       "      <td>NaN</td>\n",
       "      <td>['B013F0IP1C', 'B00JDP1AWU', 'B00XR3YC2E', 'B0...</td>\n",
       "      <td>['A new era: while adhering to the fundamental...</td>\n",
       "      <td>13</td>\n",
       "    </tr>\n",
       "    <tr>\n",
       "      <td>3</td>\n",
       "      <td>3</td>\n",
       "      <td>2</td>\n",
       "      <td>True</td>\n",
       "      <td>2015-02-20</td>\n",
       "      <td>A2204E1TH211HT</td>\n",
       "      <td>0700026657</td>\n",
       "      <td>found the game a bit too complicated, not what...</td>\n",
       "      <td>Two Stars</td>\n",
       "      <td>0</td>\n",
       "      <td>NaN</td>\n",
       "      <td>['Video Games', 'PC', 'Games']</td>\n",
       "      <td>Anno 2070</td>\n",
       "      <td>Ubisoft</td>\n",
       "      <td>&gt;#30,230 in Video Games (See Top 100 in Video ...</td>\n",
       "      <td>Video Games</td>\n",
       "      <td>['ANNO 2070BRAND NEW - IN STOCKDVD Rom Softwar...</td>\n",
       "      <td>NaN</td>\n",
       "      <td>['B013F0IP1C', 'B00JDP1AWU', 'B00XR3YC2E', 'B0...</td>\n",
       "      <td>['A new era: while adhering to the fundamental...</td>\n",
       "      <td>13</td>\n",
       "    </tr>\n",
       "    <tr>\n",
       "      <td>4</td>\n",
       "      <td>4</td>\n",
       "      <td>5</td>\n",
       "      <td>True</td>\n",
       "      <td>2014-12-25</td>\n",
       "      <td>A2RF5B5H74JLPE</td>\n",
       "      <td>0700026657</td>\n",
       "      <td>great game, I love it and have played it since...</td>\n",
       "      <td>love this game</td>\n",
       "      <td>0</td>\n",
       "      <td>NaN</td>\n",
       "      <td>['Video Games', 'PC', 'Games']</td>\n",
       "      <td>Anno 2070</td>\n",
       "      <td>Ubisoft</td>\n",
       "      <td>&gt;#30,230 in Video Games (See Top 100 in Video ...</td>\n",
       "      <td>Video Games</td>\n",
       "      <td>['ANNO 2070BRAND NEW - IN STOCKDVD Rom Softwar...</td>\n",
       "      <td>NaN</td>\n",
       "      <td>['B013F0IP1C', 'B00JDP1AWU', 'B00XR3YC2E', 'B0...</td>\n",
       "      <td>['A new era: while adhering to the fundamental...</td>\n",
       "      <td>13</td>\n",
       "    </tr>\n",
       "  </tbody>\n",
       "</table>\n",
       "</div>"
      ],
      "text/plain": [
       "   reviewID  overall  verified  reviewTime      reviewerID   productID  \\\n",
       "0         0        5      True  2015-10-17  A1HP7NVNPFMA4N  0700026657   \n",
       "1         1        4     False  2015-07-27  A1JGAP0185YJI6  0700026657   \n",
       "2         2        3      True  2015-02-23  A1YJWEXHQBWK2B  0700026657   \n",
       "3         3        2      True  2015-02-20  A2204E1TH211HT  0700026657   \n",
       "4         4        5      True  2014-12-25  A2RF5B5H74JLPE  0700026657   \n",
       "\n",
       "                                          reviewText  \\\n",
       "0  This game is a bit hard to get the hang of, bu...   \n",
       "1  I played it a while but it was alright. The st...   \n",
       "2                                           ok game.   \n",
       "3  found the game a bit too complicated, not what...   \n",
       "4  great game, I love it and have played it since...   \n",
       "\n",
       "                                       summary vote style  \\\n",
       "0                  but when you do it's great.    0   NaN   \n",
       "1  But in spite of that it was fun, I liked it    0   NaN   \n",
       "2                                  Three Stars    0   NaN   \n",
       "3                                    Two Stars    0   NaN   \n",
       "4                               love this game    0   NaN   \n",
       "\n",
       "                         category      title    brand  \\\n",
       "0  ['Video Games', 'PC', 'Games']  Anno 2070  Ubisoft   \n",
       "1  ['Video Games', 'PC', 'Games']  Anno 2070  Ubisoft   \n",
       "2  ['Video Games', 'PC', 'Games']  Anno 2070  Ubisoft   \n",
       "3  ['Video Games', 'PC', 'Games']  Anno 2070  Ubisoft   \n",
       "4  ['Video Games', 'PC', 'Games']  Anno 2070  Ubisoft   \n",
       "\n",
       "                                                rank     main_cat  \\\n",
       "0  >#30,230 in Video Games (See Top 100 in Video ...  Video Games   \n",
       "1  >#30,230 in Video Games (See Top 100 in Video ...  Video Games   \n",
       "2  >#30,230 in Video Games (See Top 100 in Video ...  Video Games   \n",
       "3  >#30,230 in Video Games (See Top 100 in Video ...  Video Games   \n",
       "4  >#30,230 in Video Games (See Top 100 in Video ...  Video Games   \n",
       "\n",
       "                                         description also_buy  \\\n",
       "0  ['ANNO 2070BRAND NEW - IN STOCKDVD Rom Softwar...      NaN   \n",
       "1  ['ANNO 2070BRAND NEW - IN STOCKDVD Rom Softwar...      NaN   \n",
       "2  ['ANNO 2070BRAND NEW - IN STOCKDVD Rom Softwar...      NaN   \n",
       "3  ['ANNO 2070BRAND NEW - IN STOCKDVD Rom Softwar...      NaN   \n",
       "4  ['ANNO 2070BRAND NEW - IN STOCKDVD Rom Softwar...      NaN   \n",
       "\n",
       "                                           also_view  \\\n",
       "0  ['B013F0IP1C', 'B00JDP1AWU', 'B00XR3YC2E', 'B0...   \n",
       "1  ['B013F0IP1C', 'B00JDP1AWU', 'B00XR3YC2E', 'B0...   \n",
       "2  ['B013F0IP1C', 'B00JDP1AWU', 'B00XR3YC2E', 'B0...   \n",
       "3  ['B013F0IP1C', 'B00JDP1AWU', 'B00XR3YC2E', 'B0...   \n",
       "4  ['B013F0IP1C', 'B00JDP1AWU', 'B00XR3YC2E', 'B0...   \n",
       "\n",
       "                                             feature  numberOfReviews  \n",
       "0  ['A new era: while adhering to the fundamental...               13  \n",
       "1  ['A new era: while adhering to the fundamental...               13  \n",
       "2  ['A new era: while adhering to the fundamental...               13  \n",
       "3  ['A new era: while adhering to the fundamental...               13  \n",
       "4  ['A new era: while adhering to the fundamental...               13  "
      ]
     },
     "execution_count": 18,
     "metadata": {},
     "output_type": "execute_result"
    }
   ],
   "source": [
    "# Explore resulting df\n",
    "data.head()"
   ]
  },
  {
   "cell_type": "code",
   "execution_count": 19,
   "metadata": {},
   "outputs": [
    {
     "data": {
      "text/plain": [
       "(473824, 20)"
      ]
     },
     "execution_count": 19,
     "metadata": {},
     "output_type": "execute_result"
    }
   ],
   "source": [
    "# Shape\n",
    "data.shape"
   ]
  },
  {
   "cell_type": "code",
   "execution_count": 20,
   "metadata": {},
   "outputs": [
    {
     "data": {
      "text/plain": [
       "0"
      ]
     },
     "execution_count": 20,
     "metadata": {},
     "output_type": "execute_result"
    }
   ],
   "source": [
    "# Check that there are no duplicates\n",
    "sum(data.duplicated(subset = [\"reviewerID\", \"productID\", \"reviewTime\"]))"
   ]
  },
  {
   "cell_type": "code",
   "execution_count": 21,
   "metadata": {},
   "outputs": [
    {
     "data": {
      "text/plain": [
       "5    286845\n",
       "4     88462\n",
       "3     46548\n",
       "1     29137\n",
       "2     22832\n",
       "Name: overall, dtype: int64"
      ]
     },
     "execution_count": 21,
     "metadata": {},
     "output_type": "execute_result"
    }
   ],
   "source": [
    "# Possible values for ratings\n",
    "data[\"overall\"].value_counts()"
   ]
  },
  {
   "cell_type": "markdown",
   "metadata": {},
   "source": [
    "## Splitting into Train and Test"
   ]
  },
  {
   "cell_type": "code",
   "execution_count": 75,
   "metadata": {},
   "outputs": [],
   "source": [
    "# Split data into Train and Test\n",
    "train_ratio = 0.7\n",
    "shuffled_data = shuffle(data, random_state = 232323)\n",
    "split_cut = np.int(np.round(len(shuffled_data) * train_ratio))\n",
    "train_df = shuffled_data.iloc[0:split_cut]\n",
    "test_df = shuffled_data.iloc[split_cut::]\n",
    "test_df = test_df[(test_df['reviewerID'].isin(train_df['reviewerID'])) & (test_df['productID'].isin(train_df['productID']))]\n"
   ]
  },
  {
   "cell_type": "code",
   "execution_count": 76,
   "metadata": {},
   "outputs": [
    {
     "name": "stdout",
     "output_type": "stream",
     "text": [
      "55223\n",
      "17408\n"
     ]
    }
   ],
   "source": [
    "# Unique users in full dataset\n",
    "print(len(data[\"reviewerID\"].unique()))\n",
    "# Unique users in full dataset\n",
    "print(len(data[\"productID\"].unique()))"
   ]
  },
  {
   "cell_type": "code",
   "execution_count": 77,
   "metadata": {},
   "outputs": [
    {
     "name": "stdout",
     "output_type": "stream",
     "text": [
      "55133\n",
      "17393\n"
     ]
    }
   ],
   "source": [
    "# Unique users in Train dataset\n",
    "print(len(train_df[\"reviewerID\"].unique()))\n",
    "# Unique users in Train dataset\n",
    "print(len(train_df[\"productID\"].unique()))"
   ]
  },
  {
   "cell_type": "code",
   "execution_count": 78,
   "metadata": {},
   "outputs": [
    {
     "name": "stdout",
     "output_type": "stream",
     "text": [
      "49197\n",
      "16503\n"
     ]
    }
   ],
   "source": [
    "# Unique users in Test dataset\n",
    "print(len(test_df[\"reviewerID\"].unique()))\n",
    "# Unique users in Test dataset\n",
    "print(len(test_df[\"productID\"].unique()))"
   ]
  },
  {
   "cell_type": "code",
   "execution_count": 91,
   "metadata": {},
   "outputs": [
    {
     "data": {
      "text/plain": [
       "141704"
      ]
     },
     "execution_count": 91,
     "metadata": {},
     "output_type": "execute_result"
    }
   ],
   "source": [
    "# Number of rows in Test\n",
    "len(test_df)"
   ]
  },
  {
   "cell_type": "code",
   "execution_count": 90,
   "metadata": {},
   "outputs": [
    {
     "data": {
      "text/plain": [
       "141704"
      ]
     },
     "execution_count": 90,
     "metadata": {},
     "output_type": "execute_result"
    }
   ],
   "source": [
    "# All reviewers contained in Train\n",
    "sum(test_df[\"reviewerID\"].isin(train_users))"
   ]
  },
  {
   "cell_type": "code",
   "execution_count": 93,
   "metadata": {},
   "outputs": [
    {
     "data": {
      "text/plain": [
       "141704"
      ]
     },
     "execution_count": 93,
     "metadata": {},
     "output_type": "execute_result"
    }
   ],
   "source": [
    "# All products contained in Train\n",
    "sum(test_df[\"productID\"].isin(train_items))"
   ]
  },
  {
   "cell_type": "markdown",
   "metadata": {},
   "source": [
    "## Loading data into Surprise"
   ]
  },
  {
   "cell_type": "code",
   "execution_count": 94,
   "metadata": {},
   "outputs": [],
   "source": [
    "# Instantiate reader object, to parse ratings\n",
    "reader = surprise.Reader(rating_scale=(1, 5))"
   ]
  },
  {
   "cell_type": "code",
   "execution_count": 100,
   "metadata": {},
   "outputs": [],
   "source": [
    "# Load Train data into Surprise, from dataframe created and using reader instantiated above\n",
    "surprise_data_train = surprise.Dataset.load_from_df(train_df[['reviewerID', 'productID', 'overall']], reader)"
   ]
  },
  {
   "cell_type": "markdown",
   "metadata": {},
   "source": [
    "## Training the model"
   ]
  },
  {
   "cell_type": "code",
   "execution_count": 108,
   "metadata": {},
   "outputs": [],
   "source": [
    "# Define parameter grid\n",
    "param_grid = {\"n_factors\": [5, 10, 15, 20, 25, 30, 40, 45, 50],\n",
    "              \"n_epochs\": [25, 50, 75]}"
   ]
  },
  {
   "cell_type": "code",
   "execution_count": 109,
   "metadata": {},
   "outputs": [],
   "source": [
    "# Instantiate grid search CV\n",
    "grid_search = surprise.model_selection.GridSearchCV(algo_class = NMF, \n",
    "                                                    param_grid = param_grid, \n",
    "                                                    measures=['rmse'], \n",
    "                                                    cv = 5, \n",
    "                                                    n_jobs = 7,\n",
    "                                                    verbose = 5)"
   ]
  },
  {
   "cell_type": "code",
   "execution_count": 110,
   "metadata": {},
   "outputs": [],
   "source": [
    "# Look for best parameters on train data\n",
    "grid_search.fit(surprise_data_train)"
   ]
  },
  {
   "cell_type": "code",
   "execution_count": 186,
   "metadata": {},
   "outputs": [],
   "source": [
    "# best RMSE score\n",
    "#print(grid_search.best_score['rmse'])"
   ]
  },
  {
   "cell_type": "code",
   "execution_count": 112,
   "metadata": {},
   "outputs": [
    {
     "name": "stdout",
     "output_type": "stream",
     "text": [
      "{'n_factors': 40, 'n_epochs': 50}\n"
     ]
    }
   ],
   "source": [
    "# combination of parameters that gave the best RMSE score\n",
    "print(grid_search.best_params['rmse'])"
   ]
  },
  {
   "cell_type": "code",
   "execution_count": 113,
   "metadata": {},
   "outputs": [],
   "source": [
    "# Get model with best performance\n",
    "best_NMF = grid_search.best_estimator['rmse']"
   ]
  },
  {
   "cell_type": "code",
   "execution_count": 114,
   "metadata": {},
   "outputs": [
    {
     "data": {
      "text/plain": [
       "<surprise.prediction_algorithms.matrix_factorization.NMF at 0x1a7ee73710>"
      ]
     },
     "execution_count": 114,
     "metadata": {},
     "output_type": "execute_result"
    }
   ],
   "source": [
    "# Fit best NMF on Train\n",
    "best_NMF.fit(surprise_data_train.build_full_trainset())"
   ]
  },
  {
   "cell_type": "code",
   "execution_count": 122,
   "metadata": {},
   "outputs": [
    {
     "name": "stdout",
     "output_type": "stream",
     "text": [
      "RMSE: 0.4733\n"
     ]
    },
    {
     "data": {
      "text/plain": [
       "0.4732875436103701"
      ]
     },
     "execution_count": 122,
     "metadata": {},
     "output_type": "execute_result"
    }
   ],
   "source": [
    "predictions = best_NMF.test(trainset.build_testset())\n",
    "surprise.accuracy.rmse(predictions)"
   ]
  },
  {
   "cell_type": "code",
   "execution_count": 141,
   "metadata": {},
   "outputs": [
    {
     "data": {
      "text/plain": [
       "Prediction(uid='A1G0WXV8BJWMO6', iid='B00EZPCX1A', r_ui=5.0, est=5, details={'was_impossible': False})"
      ]
     },
     "execution_count": 141,
     "metadata": {},
     "output_type": "execute_result"
    }
   ],
   "source": [
    "predictions[0]"
   ]
  },
  {
   "cell_type": "code",
   "execution_count": 140,
   "metadata": {},
   "outputs": [
    {
     "data": {
      "text/plain": [
       "surprise.prediction_algorithms.predictions.Prediction"
      ]
     },
     "execution_count": 140,
     "metadata": {},
     "output_type": "execute_result"
    }
   ],
   "source": [
    "type(predictions[0])"
   ]
  },
  {
   "cell_type": "markdown",
   "metadata": {},
   "source": [
    "## Predicting on Test Set"
   ]
  },
  {
   "cell_type": "code",
   "execution_count": 169,
   "metadata": {},
   "outputs": [],
   "source": [
    "test_list = []"
   ]
  },
  {
   "cell_type": "code",
   "execution_count": 182,
   "metadata": {},
   "outputs": [],
   "source": [
    "for _, row in test_df.iterrows():\n",
    "    t = (row[\"reviewerID\"], row[\"productID\"], row[\"overall\"])\n",
    "    test_list.append(t)"
   ]
  },
  {
   "cell_type": "code",
   "execution_count": 184,
   "metadata": {},
   "outputs": [],
   "source": [
    "# Predict using best model found\n",
    "test_predictions = best_NMF.test(test_list)"
   ]
  },
  {
   "cell_type": "code",
   "execution_count": 185,
   "metadata": {},
   "outputs": [
    {
     "name": "stdout",
     "output_type": "stream",
     "text": [
      "RMSE: 1.1225\n"
     ]
    },
    {
     "data": {
      "text/plain": [
       "1.1225321863396875"
      ]
     },
     "execution_count": 185,
     "metadata": {},
     "output_type": "execute_result"
    }
   ],
   "source": [
    "# Compute Test RMSE\n",
    "surprise.accuracy.rmse(test_predictions)"
   ]
  }
 ],
 "metadata": {
  "kernelspec": {
   "display_name": "Python 3",
   "language": "python",
   "name": "python3"
  },
  "language_info": {
   "codemirror_mode": {
    "name": "ipython",
    "version": 3
   },
   "file_extension": ".py",
   "mimetype": "text/x-python",
   "name": "python",
   "nbconvert_exporter": "python",
   "pygments_lexer": "ipython3",
   "version": "3.7.4"
  }
 },
 "nbformat": 4,
 "nbformat_minor": 2
}
