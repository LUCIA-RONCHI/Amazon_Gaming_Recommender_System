{
 "cells": [
  {
   "cell_type": "markdown",
   "metadata": {},
   "source": [
    "**References:**\n",
    "* Official documentation http://surpriselib.com/\n",
    "* Basic tutorial https://towardsdatascience.com/building-and-testing-recommender-systems-with-surprise-step-by-step-d4ba702ef80b\n",
    "* Predicting on Test https://surprise.readthedocs.io/en/stable/FAQ.html#raw-inner-note\n",
    "* Top N recommendations for each user https://surprise.readthedocs.io/en/stable/FAQ.html?#how-to-get-the-top-n-recommendations-for-each-user\n",
    "* Making recommendations https://blog.cambridgespark.com/tutorial-practical-introduction-to-recommender-systems-dbe22848392b\n",
    "* Plotting mean and sd https://stackoverflow.com/questions/22481854/plot-mean-and-standard-deviation"
   ]
  },
  {
   "cell_type": "markdown",
   "metadata": {},
   "source": [
    "## Loading data and Necessary libraries"
   ]
  },
  {
   "cell_type": "code",
   "execution_count": 1,
   "metadata": {},
   "outputs": [],
   "source": [
    "# Load libraries\n",
    "import pandas as pd\n",
    "import numpy as np\n",
    "import matplotlib.pyplot as plt\n",
    "import seaborn as sns\n",
    "from collections import defaultdict\n",
    "# Surprise Package\n",
    "import surprise"
   ]
  },
  {
   "cell_type": "code",
   "execution_count": 2,
   "metadata": {},
   "outputs": [],
   "source": [
    "# Read data\n",
    "train_df = pd.read_pickle(\"../../../train_df_with_valid_recommendations.pkl\")\n",
    "validation_df = pd.read_pickle(\"../../../validation_df_with_valid_recommendations.pkl\")"
   ]
  },
  {
   "cell_type": "code",
   "execution_count": 3,
   "metadata": {},
   "outputs": [
    {
     "name": "stdout",
     "output_type": "stream",
     "text": [
      "(202990, 22)\n",
      "(55146, 22)\n"
     ]
    }
   ],
   "source": [
    "# Explore set shapes\n",
    "print(train_df.shape)\n",
    "print(validation_df.shape)"
   ]
  },
  {
   "cell_type": "code",
   "execution_count": 4,
   "metadata": {},
   "outputs": [
    {
     "data": {
      "text/html": [
       "<div>\n",
       "<style scoped>\n",
       "    .dataframe tbody tr th:only-of-type {\n",
       "        vertical-align: middle;\n",
       "    }\n",
       "\n",
       "    .dataframe tbody tr th {\n",
       "        vertical-align: top;\n",
       "    }\n",
       "\n",
       "    .dataframe thead th {\n",
       "        text-align: right;\n",
       "    }\n",
       "</style>\n",
       "<table border=\"1\" class=\"dataframe\">\n",
       "  <thead>\n",
       "    <tr style=\"text-align: right;\">\n",
       "      <th></th>\n",
       "      <th>reviewID</th>\n",
       "      <th>overall</th>\n",
       "      <th>verified</th>\n",
       "      <th>reviewTime</th>\n",
       "      <th>reviewerID</th>\n",
       "      <th>productID</th>\n",
       "      <th>reviewText</th>\n",
       "      <th>summary</th>\n",
       "      <th>vote</th>\n",
       "      <th>style</th>\n",
       "      <th>...</th>\n",
       "      <th>brand</th>\n",
       "      <th>rank</th>\n",
       "      <th>main_cat</th>\n",
       "      <th>description</th>\n",
       "      <th>also_buy</th>\n",
       "      <th>also_view</th>\n",
       "      <th>feature</th>\n",
       "      <th>numberOfReviews</th>\n",
       "      <th>Set</th>\n",
       "      <th>valid_recommendations</th>\n",
       "    </tr>\n",
       "  </thead>\n",
       "  <tbody>\n",
       "    <tr>\n",
       "      <td>473590</td>\n",
       "      <td>473590</td>\n",
       "      <td>5</td>\n",
       "      <td>False</td>\n",
       "      <td>2016-07-16</td>\n",
       "      <td>A2KJVIU82ZUSBA</td>\n",
       "      <td>B0186D1UQ0</td>\n",
       "      <td>Fantastic</td>\n",
       "      <td>Best Remake I've Ever Played</td>\n",
       "      <td>0</td>\n",
       "      <td>{'Format:': ' Video Game'}</td>\n",
       "      <td>...</td>\n",
       "      <td>by Atlus</td>\n",
       "      <td>&gt;#4,665 in Video Games (See Top 100 in Video G...</td>\n",
       "      <td>Video Games</td>\n",
       "      <td>[\"ATLUS x Vanillaware, the team behind the hit...</td>\n",
       "      <td>['B077Y7313L', 'B0794Y8FLW', 'B01HQGWBZ2', 'B0...</td>\n",
       "      <td>['B077Y7313L', 'B0794Y8FLW', 'B017GY06UQ', 'B0...</td>\n",
       "      <td>['HD Art Upgrade: Known for its beautiful, 2D ...</td>\n",
       "      <td>26</td>\n",
       "      <td>Train</td>\n",
       "      <td>[B00007KUUD, B0186D1UQ0, B00004Y57G, B00Z9LUFH...</td>\n",
       "    </tr>\n",
       "    <tr>\n",
       "      <td>128446</td>\n",
       "      <td>128446</td>\n",
       "      <td>5</td>\n",
       "      <td>True</td>\n",
       "      <td>2014-07-18</td>\n",
       "      <td>A3GENOZU8QJZAZ</td>\n",
       "      <td>B000R39GPA</td>\n",
       "      <td>Great game</td>\n",
       "      <td>PS3</td>\n",
       "      <td>0</td>\n",
       "      <td>{'Edition:': ' Standard', 'Platform:': ' PlayS...</td>\n",
       "      <td>...</td>\n",
       "      <td>by LucasArts</td>\n",
       "      <td>&gt;#9,056 in Video Games (See Top 100 in Video G...</td>\n",
       "      <td>Video Games</td>\n",
       "      <td>['The Star Wars saga will continue in Star War...</td>\n",
       "      <td>['B0030F1DOO', 'B003FMUMBM', 'B00EY3F8LU', 'B0...</td>\n",
       "      <td>['B01BCMBP44', 'B0030F1DOO', 'B00EY3F8LU', 'B0...</td>\n",
       "      <td>['Confront and associate with familiar faces f...</td>\n",
       "      <td>140</td>\n",
       "      <td>Train</td>\n",
       "      <td>[B000R39GPA, B00000I1BX, B0012N94WO, B001TOMQS...</td>\n",
       "    </tr>\n",
       "    <tr>\n",
       "      <td>356264</td>\n",
       "      <td>356264</td>\n",
       "      <td>3</td>\n",
       "      <td>True</td>\n",
       "      <td>2015-07-03</td>\n",
       "      <td>ADE6VBLJEOKFC</td>\n",
       "      <td>B00DHF39HQ</td>\n",
       "      <td>Its a game with stuff thats really boring to s...</td>\n",
       "      <td>Buy a car.</td>\n",
       "      <td>2</td>\n",
       "      <td>{'Format:': ' Video Game'}</td>\n",
       "      <td>...</td>\n",
       "      <td>by Bethesda</td>\n",
       "      <td>&gt;#5,896 in Video Games (See Top 100 in Video G...</td>\n",
       "      <td>Video Games</td>\n",
       "      <td>[\"The award winning Elder Scrolls saga goes on...</td>\n",
       "      <td>['B01MSDDCUI', 'B07BJ66LRB', 'B01I41HEGY', 'B0...</td>\n",
       "      <td>['B07BJ66LRB', 'B01I41HEGY', 'B01MSDDCUI', 'B0...</td>\n",
       "      <td>['Unlimited Adventures, No Subscription Requir...</td>\n",
       "      <td>135</td>\n",
       "      <td>Train</td>\n",
       "      <td>[B00USM22DI, B00YQ2KCWO, B00DHF3BZQ, B00LEPDQA...</td>\n",
       "    </tr>\n",
       "    <tr>\n",
       "      <td>396581</td>\n",
       "      <td>396581</td>\n",
       "      <td>5</td>\n",
       "      <td>True</td>\n",
       "      <td>2014-12-25</td>\n",
       "      <td>AGS25M1ED8EGZ</td>\n",
       "      <td>B00K848IH0</td>\n",
       "      <td>love it</td>\n",
       "      <td>great</td>\n",
       "      <td>0</td>\n",
       "      <td>{'Edition:': ' Alpha Sapphire', 'Platform:': '...</td>\n",
       "      <td>...</td>\n",
       "      <td>by Nintendo</td>\n",
       "      <td>&gt;#837 in Video Games (See Top 100 in Video Gam...</td>\n",
       "      <td>Video Games</td>\n",
       "      <td>[\"Soar high above the Hoenn region on an unfor...</td>\n",
       "      <td>['B0053B66KE', 'B0053B5RGI', 'B071WNTGFY', 'B0...</td>\n",
       "      <td>['B0053B5RGI', 'B00R11EPAC', 'B071JQQ9PK', 'B0...</td>\n",
       "      <td>['Games in 2D. Some areas also playable in 3D....</td>\n",
       "      <td>267</td>\n",
       "      <td>Train</td>\n",
       "      <td>[B00QLWZWMW, B00846E6X4, B00K848IH0, B005J5K9E...</td>\n",
       "    </tr>\n",
       "    <tr>\n",
       "      <td>244246</td>\n",
       "      <td>244246</td>\n",
       "      <td>4</td>\n",
       "      <td>True</td>\n",
       "      <td>2011-07-15</td>\n",
       "      <td>A1CZT2GDDO4GC1</td>\n",
       "      <td>B003O6G1L4</td>\n",
       "      <td>The main people who are really DOWNING this ga...</td>\n",
       "      <td>It's not that bad of a game, but does lack a l...</td>\n",
       "      <td>5</td>\n",
       "      <td>{'Edition:': ' Standard', 'Platform:': ' PlayS...</td>\n",
       "      <td>...</td>\n",
       "      <td>by Square Enix</td>\n",
       "      <td>&gt;#19,535 in Video Games (See Top 100 in Video ...</td>\n",
       "      <td>Video Games</td>\n",
       "      <td>[\"Torn asunder, the delicate balance of power ...</td>\n",
       "      <td>['B00IQCRO3K', 'B001BTPRKC', 'B000HCJD68', 'B0...</td>\n",
       "      <td>['B00IQCRO3K', 'B007V9QKH0', 'B00B59MXGY', 'B0...</td>\n",
       "      <td>['For the first time, play DUNGEON SIEGE on hi...</td>\n",
       "      <td>43</td>\n",
       "      <td>Train</td>\n",
       "      <td>[B003O6G1L4, B00IQCRO3K, B001BTPRKC, B000HCJD6...</td>\n",
       "    </tr>\n",
       "  </tbody>\n",
       "</table>\n",
       "<p>5 rows × 22 columns</p>\n",
       "</div>"
      ],
      "text/plain": [
       "        reviewID  overall  verified  reviewTime      reviewerID   productID  \\\n",
       "473590    473590        5     False  2016-07-16  A2KJVIU82ZUSBA  B0186D1UQ0   \n",
       "128446    128446        5      True  2014-07-18  A3GENOZU8QJZAZ  B000R39GPA   \n",
       "356264    356264        3      True  2015-07-03   ADE6VBLJEOKFC  B00DHF39HQ   \n",
       "396581    396581        5      True  2014-12-25   AGS25M1ED8EGZ  B00K848IH0   \n",
       "244246    244246        4      True  2011-07-15  A1CZT2GDDO4GC1  B003O6G1L4   \n",
       "\n",
       "                                               reviewText  \\\n",
       "473590                                          Fantastic   \n",
       "128446                                         Great game   \n",
       "356264  Its a game with stuff thats really boring to s...   \n",
       "396581                                            love it   \n",
       "244246  The main people who are really DOWNING this ga...   \n",
       "\n",
       "                                                  summary vote  \\\n",
       "473590                       Best Remake I've Ever Played    0   \n",
       "128446                                                PS3    0   \n",
       "356264                                         Buy a car.    2   \n",
       "396581                                              great    0   \n",
       "244246  It's not that bad of a game, but does lack a l...    5   \n",
       "\n",
       "                                                    style  ...  \\\n",
       "473590                         {'Format:': ' Video Game'}  ...   \n",
       "128446  {'Edition:': ' Standard', 'Platform:': ' PlayS...  ...   \n",
       "356264                         {'Format:': ' Video Game'}  ...   \n",
       "396581  {'Edition:': ' Alpha Sapphire', 'Platform:': '...  ...   \n",
       "244246  {'Edition:': ' Standard', 'Platform:': ' PlayS...  ...   \n",
       "\n",
       "                 brand                                               rank  \\\n",
       "473590        by Atlus  >#4,665 in Video Games (See Top 100 in Video G...   \n",
       "128446    by LucasArts  >#9,056 in Video Games (See Top 100 in Video G...   \n",
       "356264     by Bethesda  >#5,896 in Video Games (See Top 100 in Video G...   \n",
       "396581     by Nintendo  >#837 in Video Games (See Top 100 in Video Gam...   \n",
       "244246  by Square Enix  >#19,535 in Video Games (See Top 100 in Video ...   \n",
       "\n",
       "           main_cat                                        description  \\\n",
       "473590  Video Games  [\"ATLUS x Vanillaware, the team behind the hit...   \n",
       "128446  Video Games  ['The Star Wars saga will continue in Star War...   \n",
       "356264  Video Games  [\"The award winning Elder Scrolls saga goes on...   \n",
       "396581  Video Games  [\"Soar high above the Hoenn region on an unfor...   \n",
       "244246  Video Games  [\"Torn asunder, the delicate balance of power ...   \n",
       "\n",
       "                                                 also_buy  \\\n",
       "473590  ['B077Y7313L', 'B0794Y8FLW', 'B01HQGWBZ2', 'B0...   \n",
       "128446  ['B0030F1DOO', 'B003FMUMBM', 'B00EY3F8LU', 'B0...   \n",
       "356264  ['B01MSDDCUI', 'B07BJ66LRB', 'B01I41HEGY', 'B0...   \n",
       "396581  ['B0053B66KE', 'B0053B5RGI', 'B071WNTGFY', 'B0...   \n",
       "244246  ['B00IQCRO3K', 'B001BTPRKC', 'B000HCJD68', 'B0...   \n",
       "\n",
       "                                                also_view  \\\n",
       "473590  ['B077Y7313L', 'B0794Y8FLW', 'B017GY06UQ', 'B0...   \n",
       "128446  ['B01BCMBP44', 'B0030F1DOO', 'B00EY3F8LU', 'B0...   \n",
       "356264  ['B07BJ66LRB', 'B01I41HEGY', 'B01MSDDCUI', 'B0...   \n",
       "396581  ['B0053B5RGI', 'B00R11EPAC', 'B071JQQ9PK', 'B0...   \n",
       "244246  ['B00IQCRO3K', 'B007V9QKH0', 'B00B59MXGY', 'B0...   \n",
       "\n",
       "                                                  feature numberOfReviews  \\\n",
       "473590  ['HD Art Upgrade: Known for its beautiful, 2D ...              26   \n",
       "128446  ['Confront and associate with familiar faces f...             140   \n",
       "356264  ['Unlimited Adventures, No Subscription Requir...             135   \n",
       "396581  ['Games in 2D. Some areas also playable in 3D....             267   \n",
       "244246  ['For the first time, play DUNGEON SIEGE on hi...              43   \n",
       "\n",
       "          Set                              valid_recommendations  \n",
       "473590  Train  [B00007KUUD, B0186D1UQ0, B00004Y57G, B00Z9LUFH...  \n",
       "128446  Train  [B000R39GPA, B00000I1BX, B0012N94WO, B001TOMQS...  \n",
       "356264  Train  [B00USM22DI, B00YQ2KCWO, B00DHF3BZQ, B00LEPDQA...  \n",
       "396581  Train  [B00QLWZWMW, B00846E6X4, B00K848IH0, B005J5K9E...  \n",
       "244246  Train  [B003O6G1L4, B00IQCRO3K, B001BTPRKC, B000HCJD6...  \n",
       "\n",
       "[5 rows x 22 columns]"
      ]
     },
     "execution_count": 4,
     "metadata": {},
     "output_type": "execute_result"
    }
   ],
   "source": [
    "# Explore train set\n",
    "train_df.head()"
   ]
  },
  {
   "cell_type": "code",
   "execution_count": 5,
   "metadata": {},
   "outputs": [
    {
     "data": {
      "text/plain": [
       "5    151416\n",
       "4     50922\n",
       "3     27682\n",
       "1     15074\n",
       "2     13042\n",
       "Name: overall, dtype: int64"
      ]
     },
     "execution_count": 5,
     "metadata": {},
     "output_type": "execute_result"
    }
   ],
   "source": [
    "# Possible values for ratings\n",
    "pd.concat([train_df, validation_df])[\"overall\"].value_counts()"
   ]
  },
  {
   "cell_type": "code",
   "execution_count": 6,
   "metadata": {},
   "outputs": [
    {
     "data": {
      "text/html": [
       "<div>\n",
       "<style scoped>\n",
       "    .dataframe tbody tr th:only-of-type {\n",
       "        vertical-align: middle;\n",
       "    }\n",
       "\n",
       "    .dataframe tbody tr th {\n",
       "        vertical-align: top;\n",
       "    }\n",
       "\n",
       "    .dataframe thead th {\n",
       "        text-align: right;\n",
       "    }\n",
       "</style>\n",
       "<table border=\"1\" class=\"dataframe\">\n",
       "  <thead>\n",
       "    <tr style=\"text-align: right;\">\n",
       "      <th></th>\n",
       "      <th>Rating</th>\n",
       "      <th>Count</th>\n",
       "    </tr>\n",
       "  </thead>\n",
       "  <tbody>\n",
       "    <tr>\n",
       "      <td>0</td>\n",
       "      <td>1</td>\n",
       "      <td>15074</td>\n",
       "    </tr>\n",
       "    <tr>\n",
       "      <td>1</td>\n",
       "      <td>2</td>\n",
       "      <td>13042</td>\n",
       "    </tr>\n",
       "    <tr>\n",
       "      <td>2</td>\n",
       "      <td>3</td>\n",
       "      <td>27682</td>\n",
       "    </tr>\n",
       "    <tr>\n",
       "      <td>3</td>\n",
       "      <td>4</td>\n",
       "      <td>50922</td>\n",
       "    </tr>\n",
       "    <tr>\n",
       "      <td>4</td>\n",
       "      <td>5</td>\n",
       "      <td>151416</td>\n",
       "    </tr>\n",
       "  </tbody>\n",
       "</table>\n",
       "</div>"
      ],
      "text/plain": [
       "   Rating   Count\n",
       "0       1   15074\n",
       "1       2   13042\n",
       "2       3   27682\n",
       "3       4   50922\n",
       "4       5  151416"
      ]
     },
     "execution_count": 6,
     "metadata": {},
     "output_type": "execute_result"
    }
   ],
   "source": [
    "ratings_summary = pd.DataFrame(pd.concat([train_df, validation_df]).groupby([\"overall\"]).count()[\"productID\"]).reset_index()\n",
    "ratings_summary.columns = [\"Rating\", \"Count\"]\n",
    "ratings_summary"
   ]
  },
  {
   "cell_type": "code",
   "execution_count": 7,
   "metadata": {},
   "outputs": [
    {
     "data": {
      "image/png": "[encoded data removed]",
      "text/plain": [
       "<Figure size 432x288 with 1 Axes>"
      ]
     },
     "metadata": {
      "needs_background": "light"
     },
     "output_type": "display_data"
    }
   ],
   "source": [
    "ax = ratings_summary.plot(x = \"Rating\", y = \"Count\", kind = \"bar\", color = \"orange\", legend = False, figsize = (6, 4))\n",
    "plt.xticks(rotation=0)\n",
    "plt.ylabel(\"Count\")\n",
    "#ax.set_ylabel(ylabel = \"Count\", position=(0,1), fontsize = 12)\n",
    "plt.title(\"Ratings distribution\", fontweight = \"bold\", fontsize = 14)\n",
    "plt.show()"
   ]
  },
  {
   "cell_type": "markdown",
   "metadata": {},
   "source": [
    "## Fitting the model on Train set"
   ]
  },
  {
   "cell_type": "markdown",
   "metadata": {},
   "source": [
    "### Loading data into Surprise"
   ]
  },
  {
   "cell_type": "code",
   "execution_count": 8,
   "metadata": {},
   "outputs": [],
   "source": [
    "# Instantiate reader object, to parse ratings\n",
    "reader = surprise.Reader(rating_scale=(1, 5))"
   ]
  },
  {
   "cell_type": "code",
   "execution_count": 9,
   "metadata": {},
   "outputs": [],
   "source": [
    "# Load Train data into Surprise, from train_df and using reader instantiated above\n",
    "surprise_data_train = surprise.Dataset.load_from_df(train_df[['reviewerID', 'productID', 'overall']], reader)"
   ]
  },
  {
   "cell_type": "markdown",
   "metadata": {},
   "source": [
    "### Training the model"
   ]
  },
  {
   "cell_type": "code",
   "execution_count": 10,
   "metadata": {},
   "outputs": [],
   "source": [
    "# Define parameter grid\n",
    "param_grid = {\"n_factors\": [10, 20, 30, 40, 50],\n",
    "              \"n_epochs\": [25, 50, 75]}"
   ]
  },
  {
   "cell_type": "code",
   "execution_count": 11,
   "metadata": {},
   "outputs": [],
   "source": [
    "# Instantiate grid search CV\n",
    "grid_search = surprise.model_selection.GridSearchCV(algo_class = surprise.NMF, \n",
    "                                                    param_grid = param_grid, \n",
    "                                                    measures=['rmse'], \n",
    "                                                    cv = 5, \n",
    "                                                    n_jobs = 7)"
   ]
  },
  {
   "cell_type": "code",
   "execution_count": 12,
   "metadata": {},
   "outputs": [],
   "source": [
    "# Look for best parameters on train data\n",
    "grid_search.fit(surprise_data_train)"
   ]
  },
  {
   "cell_type": "code",
   "execution_count": 13,
   "metadata": {},
   "outputs": [
    {
     "name": "stdout",
     "output_type": "stream",
     "text": [
      "1.150541773302828\n"
     ]
    }
   ],
   "source": [
    "# Best RMSE score (prediction of what Test RMSE will be)\n",
    "print(grid_search.best_score['rmse'])"
   ]
  },
  {
   "cell_type": "code",
   "execution_count": 14,
   "metadata": {},
   "outputs": [
    {
     "name": "stdout",
     "output_type": "stream",
     "text": [
      "{'n_factors': 40, 'n_epochs': 50}\n"
     ]
    }
   ],
   "source": [
    "# Combination of parameters that gave the best RMSE score\n",
    "print(grid_search.best_params['rmse'])"
   ]
  },
  {
   "cell_type": "code",
   "execution_count": 15,
   "metadata": {},
   "outputs": [],
   "source": [
    "# Get model with best performance\n",
    "best_NMF = grid_search.best_estimator['rmse']"
   ]
  },
  {
   "cell_type": "markdown",
   "metadata": {},
   "source": [
    "### Predicting ratings"
   ]
  },
  {
   "cell_type": "code",
   "execution_count": 16,
   "metadata": {},
   "outputs": [
    {
     "data": {
      "text/plain": [
       "<surprise.prediction_algorithms.matrix_factorization.NMF at 0x14010cfd0>"
      ]
     },
     "execution_count": 16,
     "metadata": {},
     "output_type": "execute_result"
    }
   ],
   "source": [
    "# Fit best NMF on Train\n",
    "best_NMF.fit(surprise_data_train.build_full_trainset())"
   ]
  },
  {
   "cell_type": "code",
   "execution_count": 17,
   "metadata": {},
   "outputs": [
    {
     "name": "stdout",
     "output_type": "stream",
     "text": [
      "RMSE: 0.3813\n"
     ]
    },
    {
     "data": {
      "text/plain": [
       "0.3813200039331193"
      ]
     },
     "execution_count": 17,
     "metadata": {},
     "output_type": "execute_result"
    }
   ],
   "source": [
    "predictions_train = best_NMF.test(surprise_data_train.build_full_trainset().build_testset())\n",
    "surprise.accuracy.rmse(predictions_train)"
   ]
  },
  {
   "cell_type": "markdown",
   "metadata": {},
   "source": [
    "## Getting Top K recommendations for each row in Train"
   ]
  },
  {
   "cell_type": "code",
   "execution_count": 18,
   "metadata": {},
   "outputs": [],
   "source": [
    "def get_top_n(predictions, n=10):\n",
    "    '''Return the top-N recommendation for each user from a set of predictions.\n",
    "\n",
    "    Args:\n",
    "        predictions(list of Prediction objects): The list of predictions, as\n",
    "            returned by the test method of an algorithm.\n",
    "        n(int): The number of recommendation to output for each user. Default\n",
    "            is 10.\n",
    "\n",
    "    Returns:\n",
    "    A dict where keys are user (raw) ids and values are lists of tuples:\n",
    "        [(raw item id, rating estimation), ...] of size n.\n",
    "    '''\n",
    "\n",
    "    # First map the predictions to each user.\n",
    "    top_n = defaultdict(list)\n",
    "    \n",
    "    for uid, iid, true_r, est, _ in predictions:\n",
    "        top_n[uid].append((iid, est))\n",
    "\n",
    "    # Then sort the predictions for each user and retrieve the k highest ones.\n",
    "    for uid, user_ratings in top_n.items():\n",
    "        \n",
    "        user_ratings.sort(key=lambda x: x[1], reverse=True)\n",
    "        \n",
    "        top_n[uid] = user_ratings[:n]\n",
    "\n",
    "    #\n",
    "    for key in top_n.keys():\n",
    "        top_n[key] = [x[0] for x in top_n[key]]\n",
    "        #print(type(top_n[key]))       \n",
    "    \n",
    "    return top_n"
   ]
  },
  {
   "cell_type": "code",
   "execution_count": 19,
   "metadata": {},
   "outputs": [],
   "source": [
    "# Calculate top K recommended products\n",
    "train_df[\"top_1_recommended\"] = train_df[\"reviewerID\"].map(get_top_n(predictions_train, 1))\n",
    "train_df[\"top_3_recommended\"] = train_df[\"reviewerID\"].map(get_top_n(predictions_train, 3))\n",
    "train_df[\"top_5_recommended\"] = train_df[\"reviewerID\"].map(get_top_n(predictions_train, 5))\n",
    "train_df[\"top_10_recommended\"] = train_df[\"reviewerID\"].map(get_top_n(predictions_train, 10))\n",
    "train_df[\"top_15_recommended\"] = train_df[\"reviewerID\"].map(get_top_n(predictions_train, 15))"
   ]
  },
  {
   "cell_type": "markdown",
   "metadata": {},
   "source": [
    "## Calculating Accuracy in Train"
   ]
  },
  {
   "cell_type": "code",
   "execution_count": 20,
   "metadata": {},
   "outputs": [],
   "source": [
    "# Calculate accuracy @ 1\n",
    "train_df[\"accuracy_at_1\"] = 0\n",
    "for index, row in train_df.iterrows():\n",
    "    train_df.loc[index, \"accuracy_at_1\"] = len(set(row[\"top_1_recommended\"]).intersection(set(row[\"valid_recommendations\"][:1])))/1\n",
    "\n",
    "# Calculate accuracy @ 3\n",
    "train_df[\"accuracy_at_3\"] = 0\n",
    "for index, row in train_df.iterrows():\n",
    "    train_df.loc[index, \"accuracy_at_3\"] = len(set(row[\"top_3_recommended\"]).intersection(set(row[\"valid_recommendations\"][:3])))/3\n",
    "\n",
    "# Calculate accuracy @ 5\n",
    "train_df[\"accuracy_at_5\"] = 0\n",
    "for index, row in train_df.iterrows():\n",
    "    train_df.loc[index, \"accuracy_at_5\"] = len(set(row[\"top_5_recommended\"]).intersection(set(row[\"valid_recommendations\"][:5])))/5\n",
    "\n",
    "# Calculate accuracy @ 10\n",
    "train_df[\"accuracy_at_10\"] = 0\n",
    "for index, row in train_df.iterrows():\n",
    "    train_df.loc[index, \"accuracy_at_10\"] = len(set(row[\"top_10_recommended\"]).intersection(set(row[\"valid_recommendations\"][:10])))/10\n",
    "\n",
    "# Calculate accuracy @ 15\n",
    "train_df[\"accuracy_at_15\"] = 0\n",
    "for index, row in train_df.iterrows():\n",
    "    train_df.loc[index, \"accuracy_at_15\"] = len(set(row[\"top_15_recommended\"]).intersection(set(row[\"valid_recommendations\"][:15])))/15"
   ]
  },
  {
   "cell_type": "code",
   "execution_count": 21,
   "metadata": {},
   "outputs": [
    {
     "name": "stdout",
     "output_type": "stream",
     "text": [
      "0.5127296911177891\n",
      "0.6447394781354664\n",
      "0.5973437115131632\n",
      "0.44386570767032973\n",
      "0.3491002840861291\n"
     ]
    }
   ],
   "source": [
    "# Get means for accuracy at K\n",
    "print(np.mean(train_df[\"accuracy_at_1\"]))\n",
    "print(np.mean(train_df[\"accuracy_at_3\"]))\n",
    "print(np.mean(train_df[\"accuracy_at_5\"]))\n",
    "print(np.mean(train_df[\"accuracy_at_10\"]))\n",
    "print(np.mean(train_df[\"accuracy_at_15\"]))"
   ]
  },
  {
   "cell_type": "code",
   "execution_count": 22,
   "metadata": {},
   "outputs": [],
   "source": [
    "MAP_train = np.mean([np.mean(train_df[\"accuracy_at_1\"]), \n",
    "                     np.mean(train_df[\"accuracy_at_3\"]), \n",
    "                     np.mean(train_df[\"accuracy_at_5\"]),\n",
    "                     np.mean(train_df[\"accuracy_at_10\"]),\n",
    "                     np.mean(train_df[\"accuracy_at_15\"])])"
   ]
  },
  {
   "cell_type": "code",
   "execution_count": 23,
   "metadata": {},
   "outputs": [
    {
     "data": {
      "text/plain": [
       "0.5095557745045756"
      ]
     },
     "execution_count": 23,
     "metadata": {},
     "output_type": "execute_result"
    }
   ],
   "source": [
    "MAP_train"
   ]
  },
  {
   "cell_type": "markdown",
   "metadata": {},
   "source": [
    "## Predicting on Validation Set"
   ]
  },
  {
   "cell_type": "code",
   "execution_count": 24,
   "metadata": {},
   "outputs": [],
   "source": [
    "validation_list = []"
   ]
  },
  {
   "cell_type": "code",
   "execution_count": 25,
   "metadata": {},
   "outputs": [],
   "source": [
    "for _, row in validation_df.iterrows():\n",
    "    t = (row[\"reviewerID\"], row[\"productID\"], row[\"overall\"])\n",
    "    validation_list.append(t)"
   ]
  },
  {
   "cell_type": "code",
   "execution_count": 26,
   "metadata": {},
   "outputs": [],
   "source": [
    "# Predict using best model found\n",
    "validation_predictions = best_NMF.test(validation_list)"
   ]
  },
  {
   "cell_type": "code",
   "execution_count": 27,
   "metadata": {
    "scrolled": false
   },
   "outputs": [
    {
     "name": "stdout",
     "output_type": "stream",
     "text": [
      "RMSE: 1.1222\n"
     ]
    },
    {
     "data": {
      "text/plain": [
       "1.1221746268079213"
      ]
     },
     "execution_count": 27,
     "metadata": {},
     "output_type": "execute_result"
    }
   ],
   "source": [
    "# Compute Test RMSE\n",
    "surprise.accuracy.rmse(validation_predictions)"
   ]
  },
  {
   "cell_type": "markdown",
   "metadata": {},
   "source": [
    "## Getting Top K recommendations for each row in Validation"
   ]
  },
  {
   "cell_type": "code",
   "execution_count": 28,
   "metadata": {},
   "outputs": [],
   "source": [
    "# Calculate top K recommended products\n",
    "validation_df[\"top_1_recommended\"] = validation_df[\"reviewerID\"].map(get_top_n(predictions_train, 1))\n",
    "validation_df[\"top_3_recommended\"] = validation_df[\"reviewerID\"].map(get_top_n(predictions_train, 3))\n",
    "validation_df[\"top_5_recommended\"] = validation_df[\"reviewerID\"].map(get_top_n(predictions_train, 5))\n",
    "validation_df[\"top_10_recommended\"] = validation_df[\"reviewerID\"].map(get_top_n(predictions_train, 10))\n",
    "validation_df[\"top_15_recommended\"] = validation_df[\"reviewerID\"].map(get_top_n(predictions_train, 15))"
   ]
  },
  {
   "cell_type": "markdown",
   "metadata": {},
   "source": [
    "## Calculating accuracy in Validation"
   ]
  },
  {
   "cell_type": "code",
   "execution_count": 29,
   "metadata": {},
   "outputs": [],
   "source": [
    "# Calculate accuracy @ 1\n",
    "validation_df[\"accuracy_at_1\"] = 0\n",
    "for index, row in validation_df.iterrows():\n",
    "    validation_df.loc[index, \"accuracy_at_1\"] = len(set(row[\"top_1_recommended\"]).intersection(set(row[\"valid_recommendations\"][:1])))/1\n",
    "\n",
    "# Calculate accuracy @ 3\n",
    "validation_df[\"accuracy_at_3\"] = 0\n",
    "for index, row in validation_df.iterrows():\n",
    "    validation_df.loc[index, \"accuracy_at_3\"] = len(set(row[\"top_3_recommended\"]).intersection(set(row[\"valid_recommendations\"][:3])))/3\n",
    "\n",
    "# Calculate accuracy @ 5\n",
    "validation_df[\"accuracy_at_5\"] = 0\n",
    "for index, row in validation_df.iterrows():\n",
    "    validation_df.loc[index, \"accuracy_at_5\"] = len(set(row[\"top_5_recommended\"]).intersection(set(row[\"valid_recommendations\"][:5])))/5\n",
    "\n",
    "# Calculate accuracy @ 10\n",
    "validation_df[\"accuracy_at_10\"] = 0\n",
    "for index, row in validation_df.iterrows():\n",
    "    validation_df.loc[index, \"accuracy_at_10\"] = len(set(row[\"top_10_recommended\"]).intersection(set(row[\"valid_recommendations\"][:10])))/10\n",
    "\n",
    "# Calculate accuracy @ 15\n",
    "validation_df[\"accuracy_at_15\"] = 0\n",
    "for index, row in validation_df.iterrows():\n",
    "    validation_df.loc[index, \"accuracy_at_15\"] = len(set(row[\"top_15_recommended\"]).intersection(set(row[\"valid_recommendations\"][:15])))/15"
   ]
  },
  {
   "cell_type": "code",
   "execution_count": 30,
   "metadata": {},
   "outputs": [
    {
     "name": "stdout",
     "output_type": "stream",
     "text": [
      "0.4076814274834077\n",
      "0.5057121096725187\n",
      "0.47997678888768996\n",
      "0.37343052986618475\n",
      "0.3008679988878782\n"
     ]
    }
   ],
   "source": [
    "# Get means for accuracy at K\n",
    "print(np.mean(validation_df[\"accuracy_at_1\"]))\n",
    "print(np.mean(validation_df[\"accuracy_at_3\"]))\n",
    "print(np.mean(validation_df[\"accuracy_at_5\"]))\n",
    "print(np.mean(validation_df[\"accuracy_at_10\"]))\n",
    "print(np.mean(validation_df[\"accuracy_at_15\"]))"
   ]
  },
  {
   "cell_type": "code",
   "execution_count": 31,
   "metadata": {},
   "outputs": [],
   "source": [
    "MAP_validation = np.mean([np.mean(validation_df[\"accuracy_at_1\"]), \n",
    "                     np.mean(validation_df[\"accuracy_at_3\"]), \n",
    "                     np.mean(validation_df[\"accuracy_at_5\"]),\n",
    "                     np.mean(validation_df[\"accuracy_at_10\"]),\n",
    "                     np.mean(validation_df[\"accuracy_at_15\"])])"
   ]
  },
  {
   "cell_type": "code",
   "execution_count": 32,
   "metadata": {
    "scrolled": true
   },
   "outputs": [
    {
     "data": {
      "text/plain": [
       "0.4135337709595358"
      ]
     },
     "execution_count": 32,
     "metadata": {},
     "output_type": "execute_result"
    }
   ],
   "source": [
    "MAP_validation"
   ]
  },
  {
   "cell_type": "markdown",
   "metadata": {},
   "source": [
    "## Plotting results"
   ]
  },
  {
   "cell_type": "code",
   "execution_count": 75,
   "metadata": {
    "scrolled": true
   },
   "outputs": [
    {
     "data": {
      "image/png": "[encoded data removed]",
      "text/plain": [
       "<Figure size 432x288 with 1 Axes>"
      ]
     },
     "metadata": {
      "needs_background": "light"
     },
     "output_type": "display_data"
    }
   ],
   "source": [
    "# 5 values for K\n",
    "x_train = [1, 4, 7, 10, 13]\n",
    "x_val = [2, 5, 8, 11, 14]\n",
    "\n",
    "\n",
    "# Training means\n",
    "y_train = [np.mean(train_df[\"accuracy_at_1\"]),\n",
    "         np.mean(train_df[\"accuracy_at_3\"]),\n",
    "         np.mean(train_df[\"accuracy_at_5\"]),\n",
    "         np.mean(train_df[\"accuracy_at_10\"]),\n",
    "         np.mean(train_df[\"accuracy_at_15\"])]\n",
    "\n",
    "# Training stds\n",
    "error_train = [np.std(train_df[\"accuracy_at_1\"]),\n",
    "             np.std(train_df[\"accuracy_at_3\"]),\n",
    "             np.std(train_df[\"accuracy_at_5\"]),\n",
    "             np.std(train_df[\"accuracy_at_10\"]),\n",
    "             np.std(train_df[\"accuracy_at_15\"])]\n",
    "\n",
    "# Validation means\n",
    "y_val = [np.mean(validation_df[\"accuracy_at_1\"]),\n",
    "         np.mean(validation_df[\"accuracy_at_3\"]),\n",
    "         np.mean(validation_df[\"accuracy_at_5\"]),\n",
    "         np.mean(validation_df[\"accuracy_at_10\"]),\n",
    "         np.mean(validation_df[\"accuracy_at_15\"])]\n",
    "\n",
    "# Validation stds\n",
    "error_val = [np.std(validation_df[\"accuracy_at_1\"]),\n",
    "             np.std(validation_df[\"accuracy_at_3\"]),\n",
    "             np.std(validation_df[\"accuracy_at_5\"]),\n",
    "             np.std(validation_df[\"accuracy_at_10\"]),\n",
    "             np.std(validation_df[\"accuracy_at_15\"])]\n",
    "\n",
    "# Plot errorbars\n",
    "plt.bar(x = x_train, height = y_train, yerr = error_train, color = \"peachpuff\", label = \"Train\")\n",
    "plt.bar(x = x_val, height = y_val, yerr = error_val, color = \"orange\", label = \"Validation\")\n",
    "\n",
    "# Titles and axis labels\n",
    "plt.title(\"Precision at k\", fontweight = \"bold\", fontsize = 14)\n",
    "plt.xlabel(\"Number of recommendations\")\n",
    "plt.ylabel(\"Precision\")\n",
    "plt.xticks(ticks = [1.5, 4.5, 7.5, 10.5, 13.5], labels = [1, 3, 5, 10, 15])\n",
    "\n",
    "# Add legend\n",
    "plt.legend()\n",
    "\n",
    "# Show plot\n",
    "plt.show()"
   ]
  },
  {
   "cell_type": "code",
   "execution_count": 79,
   "metadata": {
    "scrolled": true
   },
   "outputs": [
    {
     "data": {
      "image/png": "[encoded data removed]",
      "text/plain": [
       "<Figure size 432x288 with 1 Axes>"
      ]
     },
     "metadata": {
      "needs_background": "light"
     },
     "output_type": "display_data"
    }
   ],
   "source": [
    "# Plot MAP\n",
    "plt.bar(x = 1, height = MAP_train, color = \"peachpuff\", label = \"Train\")\n",
    "plt.bar(x = 2, height = MAP_validation, color = \"orange\", label = \"Validation\")\n",
    "\n",
    "# Titles and axis labels\n",
    "plt.title(\"Mean Average Precision (MAP)\", fontweight = \"bold\", fontsize = 14)\n",
    "plt.xlabel(\"Set\")\n",
    "plt.ylabel(\"MAP\")\n",
    "plt.ylim((0, 1))\n",
    "plt.xticks(ticks = [1, 2], labels = [\"Train\", \"Test\"])\n",
    "\n",
    "# Show plot\n",
    "plt.show()"
   ]
  }
 ],
 "metadata": {
  "kernelspec": {
   "display_name": "Python 3",
   "language": "python",
   "name": "python3"
  },
  "language_info": {
   "codemirror_mode": {
    "name": "ipython",
    "version": 3
   },
   "file_extension": ".py",
   "mimetype": "text/x-python",
   "name": "python",
   "nbconvert_exporter": "python",
   "pygments_lexer": "ipython3",
   "version": "3.7.4"
  }
 },
 "nbformat": 4,
 "nbformat_minor": 2
}
