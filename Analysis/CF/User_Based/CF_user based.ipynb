{
 "cells": [
  {
   "cell_type": "code",
   "execution_count": 33,
   "metadata": {},
   "outputs": [],
   "source": [
    "import pandas as pd\n",
    "import matplotlib.pyplot as plt\n",
    "import seaborn as sns"
   ]
  },
  {
   "cell_type": "markdown",
   "metadata": {},
   "source": [
    "### import the data"
   ]
  },
  {
   "cell_type": "code",
   "execution_count": 2,
   "metadata": {},
   "outputs": [
    {
     "name": "stderr",
     "output_type": "stream",
     "text": [
      "/Users/miaoxuanzhang/opt/anaconda3/lib/python3.7/site-packages/IPython/core/interactiveshell.py:3058: DtypeWarning: Columns (9) have mixed types. Specify dtype option on import or set low_memory=False.\n",
      "  interactivity=interactivity, compiler=compiler, result=result)\n"
     ]
    }
   ],
   "source": [
    "data=pd.read_csv(\"merged_file.csv\")"
   ]
  },
  {
   "cell_type": "code",
   "execution_count": 3,
   "metadata": {},
   "outputs": [
    {
     "data": {
      "text/html": [
       "<div>\n",
       "<style scoped>\n",
       "    .dataframe tbody tr th:only-of-type {\n",
       "        vertical-align: middle;\n",
       "    }\n",
       "\n",
       "    .dataframe tbody tr th {\n",
       "        vertical-align: top;\n",
       "    }\n",
       "\n",
       "    .dataframe thead th {\n",
       "        text-align: right;\n",
       "    }\n",
       "</style>\n",
       "<table border=\"1\" class=\"dataframe\">\n",
       "  <thead>\n",
       "    <tr style=\"text-align: right;\">\n",
       "      <th></th>\n",
       "      <th>Unnamed: 0</th>\n",
       "      <th>reviewID</th>\n",
       "      <th>overall</th>\n",
       "      <th>verified</th>\n",
       "      <th>reviewTime</th>\n",
       "      <th>reviewerID</th>\n",
       "      <th>productID</th>\n",
       "      <th>reviewText</th>\n",
       "      <th>summary</th>\n",
       "      <th>vote</th>\n",
       "      <th>...</th>\n",
       "      <th>category</th>\n",
       "      <th>title</th>\n",
       "      <th>brand</th>\n",
       "      <th>rank</th>\n",
       "      <th>main_cat</th>\n",
       "      <th>description</th>\n",
       "      <th>also_buy</th>\n",
       "      <th>also_view</th>\n",
       "      <th>feature</th>\n",
       "      <th>numberOfReviews</th>\n",
       "    </tr>\n",
       "  </thead>\n",
       "  <tbody>\n",
       "    <tr>\n",
       "      <td>0</td>\n",
       "      <td>0</td>\n",
       "      <td>0</td>\n",
       "      <td>5</td>\n",
       "      <td>True</td>\n",
       "      <td>2015-10-17</td>\n",
       "      <td>A1HP7NVNPFMA4N</td>\n",
       "      <td>0700026657</td>\n",
       "      <td>This game is a bit hard to get the hang of, bu...</td>\n",
       "      <td>but when you do it's great.</td>\n",
       "      <td>0</td>\n",
       "      <td>...</td>\n",
       "      <td>['Video Games', 'PC', 'Games']</td>\n",
       "      <td>Anno 2070</td>\n",
       "      <td>Ubisoft</td>\n",
       "      <td>&gt;#30,230 in Video Games (See Top 100 in Video ...</td>\n",
       "      <td>Video Games</td>\n",
       "      <td>['ANNO 2070BRAND NEW - IN STOCKDVD Rom Softwar...</td>\n",
       "      <td>NaN</td>\n",
       "      <td>['B013F0IP1C', 'B00JDP1AWU', 'B00XR3YC2E', 'B0...</td>\n",
       "      <td>['A new era: while adhering to the fundamental...</td>\n",
       "      <td>13</td>\n",
       "    </tr>\n",
       "    <tr>\n",
       "      <td>1</td>\n",
       "      <td>1</td>\n",
       "      <td>1</td>\n",
       "      <td>4</td>\n",
       "      <td>False</td>\n",
       "      <td>2015-07-27</td>\n",
       "      <td>A1JGAP0185YJI6</td>\n",
       "      <td>0700026657</td>\n",
       "      <td>I played it a while but it was alright. The st...</td>\n",
       "      <td>But in spite of that it was fun, I liked it</td>\n",
       "      <td>0</td>\n",
       "      <td>...</td>\n",
       "      <td>['Video Games', 'PC', 'Games']</td>\n",
       "      <td>Anno 2070</td>\n",
       "      <td>Ubisoft</td>\n",
       "      <td>&gt;#30,230 in Video Games (See Top 100 in Video ...</td>\n",
       "      <td>Video Games</td>\n",
       "      <td>['ANNO 2070BRAND NEW - IN STOCKDVD Rom Softwar...</td>\n",
       "      <td>NaN</td>\n",
       "      <td>['B013F0IP1C', 'B00JDP1AWU', 'B00XR3YC2E', 'B0...</td>\n",
       "      <td>['A new era: while adhering to the fundamental...</td>\n",
       "      <td>13</td>\n",
       "    </tr>\n",
       "    <tr>\n",
       "      <td>2</td>\n",
       "      <td>2</td>\n",
       "      <td>2</td>\n",
       "      <td>3</td>\n",
       "      <td>True</td>\n",
       "      <td>2015-02-23</td>\n",
       "      <td>A1YJWEXHQBWK2B</td>\n",
       "      <td>0700026657</td>\n",
       "      <td>ok game.</td>\n",
       "      <td>Three Stars</td>\n",
       "      <td>0</td>\n",
       "      <td>...</td>\n",
       "      <td>['Video Games', 'PC', 'Games']</td>\n",
       "      <td>Anno 2070</td>\n",
       "      <td>Ubisoft</td>\n",
       "      <td>&gt;#30,230 in Video Games (See Top 100 in Video ...</td>\n",
       "      <td>Video Games</td>\n",
       "      <td>['ANNO 2070BRAND NEW - IN STOCKDVD Rom Softwar...</td>\n",
       "      <td>NaN</td>\n",
       "      <td>['B013F0IP1C', 'B00JDP1AWU', 'B00XR3YC2E', 'B0...</td>\n",
       "      <td>['A new era: while adhering to the fundamental...</td>\n",
       "      <td>13</td>\n",
       "    </tr>\n",
       "    <tr>\n",
       "      <td>3</td>\n",
       "      <td>3</td>\n",
       "      <td>3</td>\n",
       "      <td>2</td>\n",
       "      <td>True</td>\n",
       "      <td>2015-02-20</td>\n",
       "      <td>A2204E1TH211HT</td>\n",
       "      <td>0700026657</td>\n",
       "      <td>found the game a bit too complicated, not what...</td>\n",
       "      <td>Two Stars</td>\n",
       "      <td>0</td>\n",
       "      <td>...</td>\n",
       "      <td>['Video Games', 'PC', 'Games']</td>\n",
       "      <td>Anno 2070</td>\n",
       "      <td>Ubisoft</td>\n",
       "      <td>&gt;#30,230 in Video Games (See Top 100 in Video ...</td>\n",
       "      <td>Video Games</td>\n",
       "      <td>['ANNO 2070BRAND NEW - IN STOCKDVD Rom Softwar...</td>\n",
       "      <td>NaN</td>\n",
       "      <td>['B013F0IP1C', 'B00JDP1AWU', 'B00XR3YC2E', 'B0...</td>\n",
       "      <td>['A new era: while adhering to the fundamental...</td>\n",
       "      <td>13</td>\n",
       "    </tr>\n",
       "    <tr>\n",
       "      <td>4</td>\n",
       "      <td>4</td>\n",
       "      <td>4</td>\n",
       "      <td>5</td>\n",
       "      <td>True</td>\n",
       "      <td>2014-12-25</td>\n",
       "      <td>A2RF5B5H74JLPE</td>\n",
       "      <td>0700026657</td>\n",
       "      <td>great game, I love it and have played it since...</td>\n",
       "      <td>love this game</td>\n",
       "      <td>0</td>\n",
       "      <td>...</td>\n",
       "      <td>['Video Games', 'PC', 'Games']</td>\n",
       "      <td>Anno 2070</td>\n",
       "      <td>Ubisoft</td>\n",
       "      <td>&gt;#30,230 in Video Games (See Top 100 in Video ...</td>\n",
       "      <td>Video Games</td>\n",
       "      <td>['ANNO 2070BRAND NEW - IN STOCKDVD Rom Softwar...</td>\n",
       "      <td>NaN</td>\n",
       "      <td>['B013F0IP1C', 'B00JDP1AWU', 'B00XR3YC2E', 'B0...</td>\n",
       "      <td>['A new era: while adhering to the fundamental...</td>\n",
       "      <td>13</td>\n",
       "    </tr>\n",
       "  </tbody>\n",
       "</table>\n",
       "<p>5 rows × 21 columns</p>\n",
       "</div>"
      ],
      "text/plain": [
       "   Unnamed: 0  reviewID  overall  verified  reviewTime      reviewerID  \\\n",
       "0           0         0        5      True  2015-10-17  A1HP7NVNPFMA4N   \n",
       "1           1         1        4     False  2015-07-27  A1JGAP0185YJI6   \n",
       "2           2         2        3      True  2015-02-23  A1YJWEXHQBWK2B   \n",
       "3           3         3        2      True  2015-02-20  A2204E1TH211HT   \n",
       "4           4         4        5      True  2014-12-25  A2RF5B5H74JLPE   \n",
       "\n",
       "    productID                                         reviewText  \\\n",
       "0  0700026657  This game is a bit hard to get the hang of, bu...   \n",
       "1  0700026657  I played it a while but it was alright. The st...   \n",
       "2  0700026657                                           ok game.   \n",
       "3  0700026657  found the game a bit too complicated, not what...   \n",
       "4  0700026657  great game, I love it and have played it since...   \n",
       "\n",
       "                                       summary vote  ...  \\\n",
       "0                  but when you do it's great.    0  ...   \n",
       "1  But in spite of that it was fun, I liked it    0  ...   \n",
       "2                                  Three Stars    0  ...   \n",
       "3                                    Two Stars    0  ...   \n",
       "4                               love this game    0  ...   \n",
       "\n",
       "                         category      title    brand  \\\n",
       "0  ['Video Games', 'PC', 'Games']  Anno 2070  Ubisoft   \n",
       "1  ['Video Games', 'PC', 'Games']  Anno 2070  Ubisoft   \n",
       "2  ['Video Games', 'PC', 'Games']  Anno 2070  Ubisoft   \n",
       "3  ['Video Games', 'PC', 'Games']  Anno 2070  Ubisoft   \n",
       "4  ['Video Games', 'PC', 'Games']  Anno 2070  Ubisoft   \n",
       "\n",
       "                                                rank     main_cat  \\\n",
       "0  >#30,230 in Video Games (See Top 100 in Video ...  Video Games   \n",
       "1  >#30,230 in Video Games (See Top 100 in Video ...  Video Games   \n",
       "2  >#30,230 in Video Games (See Top 100 in Video ...  Video Games   \n",
       "3  >#30,230 in Video Games (See Top 100 in Video ...  Video Games   \n",
       "4  >#30,230 in Video Games (See Top 100 in Video ...  Video Games   \n",
       "\n",
       "                                         description also_buy  \\\n",
       "0  ['ANNO 2070BRAND NEW - IN STOCKDVD Rom Softwar...      NaN   \n",
       "1  ['ANNO 2070BRAND NEW - IN STOCKDVD Rom Softwar...      NaN   \n",
       "2  ['ANNO 2070BRAND NEW - IN STOCKDVD Rom Softwar...      NaN   \n",
       "3  ['ANNO 2070BRAND NEW - IN STOCKDVD Rom Softwar...      NaN   \n",
       "4  ['ANNO 2070BRAND NEW - IN STOCKDVD Rom Softwar...      NaN   \n",
       "\n",
       "                                           also_view  \\\n",
       "0  ['B013F0IP1C', 'B00JDP1AWU', 'B00XR3YC2E', 'B0...   \n",
       "1  ['B013F0IP1C', 'B00JDP1AWU', 'B00XR3YC2E', 'B0...   \n",
       "2  ['B013F0IP1C', 'B00JDP1AWU', 'B00XR3YC2E', 'B0...   \n",
       "3  ['B013F0IP1C', 'B00JDP1AWU', 'B00XR3YC2E', 'B0...   \n",
       "4  ['B013F0IP1C', 'B00JDP1AWU', 'B00XR3YC2E', 'B0...   \n",
       "\n",
       "                                             feature numberOfReviews  \n",
       "0  ['A new era: while adhering to the fundamental...              13  \n",
       "1  ['A new era: while adhering to the fundamental...              13  \n",
       "2  ['A new era: while adhering to the fundamental...              13  \n",
       "3  ['A new era: while adhering to the fundamental...              13  \n",
       "4  ['A new era: while adhering to the fundamental...              13  \n",
       "\n",
       "[5 rows x 21 columns]"
      ]
     },
     "execution_count": 3,
     "metadata": {},
     "output_type": "execute_result"
    }
   ],
   "source": [
    "data.head()"
   ]
  },
  {
   "cell_type": "markdown",
   "metadata": {},
   "source": [
    "### Extract columns needed"
   ]
  },
  {
   "cell_type": "code",
   "execution_count": 9,
   "metadata": {},
   "outputs": [],
   "source": [
    "df=data[[\"reviewID\", \"reviewTime\",\"reviewerID\", \"productID\",\"overall\", \"title\"]]"
   ]
  },
  {
   "cell_type": "code",
   "execution_count": 10,
   "metadata": {},
   "outputs": [
    {
     "data": {
      "text/html": [
       "<div>\n",
       "<style scoped>\n",
       "    .dataframe tbody tr th:only-of-type {\n",
       "        vertical-align: middle;\n",
       "    }\n",
       "\n",
       "    .dataframe tbody tr th {\n",
       "        vertical-align: top;\n",
       "    }\n",
       "\n",
       "    .dataframe thead th {\n",
       "        text-align: right;\n",
       "    }\n",
       "</style>\n",
       "<table border=\"1\" class=\"dataframe\">\n",
       "  <thead>\n",
       "    <tr style=\"text-align: right;\">\n",
       "      <th></th>\n",
       "      <th>reviewID</th>\n",
       "      <th>reviewTime</th>\n",
       "      <th>reviewerID</th>\n",
       "      <th>productID</th>\n",
       "      <th>overall</th>\n",
       "      <th>title</th>\n",
       "    </tr>\n",
       "  </thead>\n",
       "  <tbody>\n",
       "    <tr>\n",
       "      <td>0</td>\n",
       "      <td>0</td>\n",
       "      <td>2015-10-17</td>\n",
       "      <td>A1HP7NVNPFMA4N</td>\n",
       "      <td>0700026657</td>\n",
       "      <td>5</td>\n",
       "      <td>Anno 2070</td>\n",
       "    </tr>\n",
       "    <tr>\n",
       "      <td>1</td>\n",
       "      <td>1</td>\n",
       "      <td>2015-07-27</td>\n",
       "      <td>A1JGAP0185YJI6</td>\n",
       "      <td>0700026657</td>\n",
       "      <td>4</td>\n",
       "      <td>Anno 2070</td>\n",
       "    </tr>\n",
       "    <tr>\n",
       "      <td>2</td>\n",
       "      <td>2</td>\n",
       "      <td>2015-02-23</td>\n",
       "      <td>A1YJWEXHQBWK2B</td>\n",
       "      <td>0700026657</td>\n",
       "      <td>3</td>\n",
       "      <td>Anno 2070</td>\n",
       "    </tr>\n",
       "    <tr>\n",
       "      <td>3</td>\n",
       "      <td>3</td>\n",
       "      <td>2015-02-20</td>\n",
       "      <td>A2204E1TH211HT</td>\n",
       "      <td>0700026657</td>\n",
       "      <td>2</td>\n",
       "      <td>Anno 2070</td>\n",
       "    </tr>\n",
       "    <tr>\n",
       "      <td>4</td>\n",
       "      <td>4</td>\n",
       "      <td>2014-12-25</td>\n",
       "      <td>A2RF5B5H74JLPE</td>\n",
       "      <td>0700026657</td>\n",
       "      <td>5</td>\n",
       "      <td>Anno 2070</td>\n",
       "    </tr>\n",
       "  </tbody>\n",
       "</table>\n",
       "</div>"
      ],
      "text/plain": [
       "   reviewID  reviewTime      reviewerID   productID  overall      title\n",
       "0         0  2015-10-17  A1HP7NVNPFMA4N  0700026657        5  Anno 2070\n",
       "1         1  2015-07-27  A1JGAP0185YJI6  0700026657        4  Anno 2070\n",
       "2         2  2015-02-23  A1YJWEXHQBWK2B  0700026657        3  Anno 2070\n",
       "3         3  2015-02-20  A2204E1TH211HT  0700026657        2  Anno 2070\n",
       "4         4  2014-12-25  A2RF5B5H74JLPE  0700026657        5  Anno 2070"
      ]
     },
     "execution_count": 10,
     "metadata": {},
     "output_type": "execute_result"
    }
   ],
   "source": [
    "df.head()"
   ]
  },
  {
   "cell_type": "code",
   "execution_count": 12,
   "metadata": {},
   "outputs": [
    {
     "data": {
      "text/plain": [
       "count    497577.000000\n",
       "mean          4.220456\n",
       "std           1.185424\n",
       "min           1.000000\n",
       "25%           4.000000\n",
       "50%           5.000000\n",
       "75%           5.000000\n",
       "max           5.000000\n",
       "Name: overall, dtype: float64"
      ]
     },
     "execution_count": 12,
     "metadata": {},
     "output_type": "execute_result"
    }
   ],
   "source": [
    "df[\"overall\"].describe()"
   ]
  },
  {
   "cell_type": "markdown",
   "metadata": {},
   "source": [
    "Average rating is 4.22"
   ]
  },
  {
   "cell_type": "markdown",
   "metadata": {},
   "source": [
    "# A Simple User based CF---Pearson correlation on ratings to compare similarities"
   ]
  },
  {
   "cell_type": "markdown",
   "metadata": {},
   "source": [
    "### Preparation (Ratings table and game_matrix)"
   ]
  },
  {
   "cell_type": "code",
   "execution_count": 20,
   "metadata": {},
   "outputs": [
    {
     "data": {
      "text/html": [
       "<div>\n",
       "<style scoped>\n",
       "    .dataframe tbody tr th:only-of-type {\n",
       "        vertical-align: middle;\n",
       "    }\n",
       "\n",
       "    .dataframe tbody tr th {\n",
       "        vertical-align: top;\n",
       "    }\n",
       "\n",
       "    .dataframe thead th {\n",
       "        text-align: right;\n",
       "    }\n",
       "</style>\n",
       "<table border=\"1\" class=\"dataframe\">\n",
       "  <thead>\n",
       "    <tr style=\"text-align: right;\">\n",
       "      <th></th>\n",
       "      <th>overall</th>\n",
       "    </tr>\n",
       "    <tr>\n",
       "      <th>productID</th>\n",
       "      <th></th>\n",
       "    </tr>\n",
       "  </thead>\n",
       "  <tbody>\n",
       "    <tr>\n",
       "      <td>0700026398</td>\n",
       "      <td>3.125000</td>\n",
       "    </tr>\n",
       "    <tr>\n",
       "      <td>0700026657</td>\n",
       "      <td>3.692308</td>\n",
       "    </tr>\n",
       "    <tr>\n",
       "      <td>0700099867</td>\n",
       "      <td>3.300000</td>\n",
       "    </tr>\n",
       "    <tr>\n",
       "      <td>0804161380</td>\n",
       "      <td>4.816327</td>\n",
       "    </tr>\n",
       "    <tr>\n",
       "      <td>3828770193</td>\n",
       "      <td>4.333333</td>\n",
       "    </tr>\n",
       "  </tbody>\n",
       "</table>\n",
       "</div>"
      ],
      "text/plain": [
       "             overall\n",
       "productID           \n",
       "0700026398  3.125000\n",
       "0700026657  3.692308\n",
       "0700099867  3.300000\n",
       "0804161380  4.816327\n",
       "3828770193  4.333333"
      ]
     },
     "execution_count": 20,
     "metadata": {},
     "output_type": "execute_result"
    }
   ],
   "source": [
    "#Create a new dataframe called ratings grouped by product ID and calculated the average rating per each product ID\n",
    "ratings = pd.DataFrame(df.groupby('productID')['overall'].mean())\n",
    "ratings.head()"
   ]
  },
  {
   "cell_type": "code",
   "execution_count": 21,
   "metadata": {},
   "outputs": [
    {
     "data": {
      "text/html": [
       "<div>\n",
       "<style scoped>\n",
       "    .dataframe tbody tr th:only-of-type {\n",
       "        vertical-align: middle;\n",
       "    }\n",
       "\n",
       "    .dataframe tbody tr th {\n",
       "        vertical-align: top;\n",
       "    }\n",
       "\n",
       "    .dataframe thead th {\n",
       "        text-align: right;\n",
       "    }\n",
       "</style>\n",
       "<table border=\"1\" class=\"dataframe\">\n",
       "  <thead>\n",
       "    <tr style=\"text-align: right;\">\n",
       "      <th></th>\n",
       "      <th>overall</th>\n",
       "      <th>number_of_ratings</th>\n",
       "    </tr>\n",
       "    <tr>\n",
       "      <th>productID</th>\n",
       "      <th></th>\n",
       "      <th></th>\n",
       "    </tr>\n",
       "  </thead>\n",
       "  <tbody>\n",
       "    <tr>\n",
       "      <td>0700026398</td>\n",
       "      <td>3.125000</td>\n",
       "      <td>8</td>\n",
       "    </tr>\n",
       "    <tr>\n",
       "      <td>0700026657</td>\n",
       "      <td>3.692308</td>\n",
       "      <td>13</td>\n",
       "    </tr>\n",
       "    <tr>\n",
       "      <td>0700099867</td>\n",
       "      <td>3.300000</td>\n",
       "      <td>30</td>\n",
       "    </tr>\n",
       "    <tr>\n",
       "      <td>0804161380</td>\n",
       "      <td>4.816327</td>\n",
       "      <td>49</td>\n",
       "    </tr>\n",
       "    <tr>\n",
       "      <td>3828770193</td>\n",
       "      <td>4.333333</td>\n",
       "      <td>6</td>\n",
       "    </tr>\n",
       "  </tbody>\n",
       "</table>\n",
       "</div>"
      ],
      "text/plain": [
       "             overall  number_of_ratings\n",
       "productID                              \n",
       "0700026398  3.125000                  8\n",
       "0700026657  3.692308                 13\n",
       "0700099867  3.300000                 30\n",
       "0804161380  4.816327                 49\n",
       "3828770193  4.333333                  6"
      ]
     },
     "execution_count": 21,
     "metadata": {},
     "output_type": "execute_result"
    }
   ],
   "source": [
    "#Add number of ratings per each product ID\n",
    "ratings['number_of_ratings'] = df.groupby('productID')['overall'].count()\n",
    "ratings.head()"
   ]
  },
  {
   "cell_type": "code",
   "execution_count": 29,
   "metadata": {},
   "outputs": [
    {
     "data": {
      "text/plain": [
       "<matplotlib.axes._subplots.AxesSubplot at 0x1277d5990>"
      ]
     },
     "execution_count": 29,
     "metadata": {},
     "output_type": "execute_result"
    },
    {
     "data": {
      "image/png": "[encoded data removed]",
      "text/plain": [
       "<Figure size 432x288 with 1 Axes>"
      ]
     },
     "metadata": {
      "needs_background": "light"
     },
     "output_type": "display_data"
    }
   ],
   "source": [
    "#Now make a plot to visualize average ratings\n",
    "%matplotlib inline \n",
    "#makes your plot outputs appear and be stored within the notebook\n",
    "ratings['overall'].hist(bins=50)"
   ]
  },
  {
   "cell_type": "markdown",
   "metadata": {},
   "source": [
    "We can see that most movie ratings are between 3.5 and 5."
   ]
  },
  {
   "cell_type": "code",
   "execution_count": 32,
   "metadata": {},
   "outputs": [
    {
     "data": {
      "text/plain": [
       "<matplotlib.axes._subplots.AxesSubplot at 0x12943a450>"
      ]
     },
     "execution_count": 32,
     "metadata": {},
     "output_type": "execute_result"
    },
    {
     "data": {
      "image/png": "[encoded data removed]",
      "text/plain": [
       "<Figure size 432x288 with 1 Axes>"
      ]
     },
     "metadata": {
      "needs_background": "light"
     },
     "output_type": "display_data"
    }
   ],
   "source": [
    "#Visualize number of ratings\n",
    "ratings['number_of_ratings'].hist(bins=30)"
   ]
  },
  {
   "cell_type": "code",
   "execution_count": 34,
   "metadata": {},
   "outputs": [
    {
     "data": {
      "text/plain": [
       "<seaborn.axisgrid.JointGrid at 0x1294dda90>"
      ]
     },
     "execution_count": 34,
     "metadata": {},
     "output_type": "execute_result"
    },
    {
     "data": {
      "image/png": "[encoded data removed]",
      "text/plain": [
       "<Figure size 432x432 with 3 Axes>"
      ]
     },
     "metadata": {
      "needs_background": "light"
     },
     "output_type": "display_data"
    }
   ],
   "source": [
    "#Now let us check the relationship between the ratings of a product and the number of ratings\n",
    "sns.jointplot(x='overall', y='number_of_ratings', data=ratings)"
   ]
  },
  {
   "cell_type": "markdown",
   "metadata": {},
   "source": [
    "As number of ratings increases, we see the overall ratings tend to increase as well---small positive relationship observed."
   ]
  },
  {
   "cell_type": "code",
   "execution_count": 64,
   "metadata": {},
   "outputs": [
    {
     "data": {
      "text/html": [
       "<div>\n",
       "<style scoped>\n",
       "    .dataframe tbody tr th:only-of-type {\n",
       "        vertical-align: middle;\n",
       "    }\n",
       "\n",
       "    .dataframe tbody tr th {\n",
       "        vertical-align: top;\n",
       "    }\n",
       "\n",
       "    .dataframe thead th {\n",
       "        text-align: right;\n",
       "    }\n",
       "</style>\n",
       "<table border=\"1\" class=\"dataframe\">\n",
       "  <thead>\n",
       "    <tr style=\"text-align: right;\">\n",
       "      <th>productID</th>\n",
       "      <th>0700026398</th>\n",
       "      <th>0700026657</th>\n",
       "      <th>0700099867</th>\n",
       "      <th>0804161380</th>\n",
       "      <th>3828770193</th>\n",
       "      <th>6050036071</th>\n",
       "      <th>7293000936</th>\n",
       "      <th>7544256944</th>\n",
       "      <th>8176503290</th>\n",
       "      <th>8565000168</th>\n",
       "      <th>...</th>\n",
       "      <th>B01HD1B76O</th>\n",
       "      <th>B01HD2TECW</th>\n",
       "      <th>B01HDJFJKG</th>\n",
       "      <th>B01HDJFJLK</th>\n",
       "      <th>B01HDJFJOM</th>\n",
       "      <th>B01HFRICLE</th>\n",
       "      <th>B01HGPUTCA</th>\n",
       "      <th>B01HH6JEOC</th>\n",
       "      <th>B01HIZF7XE</th>\n",
       "      <th>B01HIZGKOE</th>\n",
       "    </tr>\n",
       "    <tr>\n",
       "      <th>reviewerID</th>\n",
       "      <th></th>\n",
       "      <th></th>\n",
       "      <th></th>\n",
       "      <th></th>\n",
       "      <th></th>\n",
       "      <th></th>\n",
       "      <th></th>\n",
       "      <th></th>\n",
       "      <th></th>\n",
       "      <th></th>\n",
       "      <th></th>\n",
       "      <th></th>\n",
       "      <th></th>\n",
       "      <th></th>\n",
       "      <th></th>\n",
       "      <th></th>\n",
       "      <th></th>\n",
       "      <th></th>\n",
       "      <th></th>\n",
       "      <th></th>\n",
       "      <th></th>\n",
       "    </tr>\n",
       "  </thead>\n",
       "  <tbody>\n",
       "    <tr>\n",
       "      <td>A0059486XI1Z0P98KP35</td>\n",
       "      <td>NaN</td>\n",
       "      <td>NaN</td>\n",
       "      <td>NaN</td>\n",
       "      <td>NaN</td>\n",
       "      <td>NaN</td>\n",
       "      <td>NaN</td>\n",
       "      <td>NaN</td>\n",
       "      <td>NaN</td>\n",
       "      <td>NaN</td>\n",
       "      <td>NaN</td>\n",
       "      <td>...</td>\n",
       "      <td>NaN</td>\n",
       "      <td>NaN</td>\n",
       "      <td>NaN</td>\n",
       "      <td>NaN</td>\n",
       "      <td>NaN</td>\n",
       "      <td>NaN</td>\n",
       "      <td>NaN</td>\n",
       "      <td>NaN</td>\n",
       "      <td>NaN</td>\n",
       "      <td>NaN</td>\n",
       "    </tr>\n",
       "    <tr>\n",
       "      <td>A0220159ZRNBTRKLG08H</td>\n",
       "      <td>NaN</td>\n",
       "      <td>NaN</td>\n",
       "      <td>NaN</td>\n",
       "      <td>NaN</td>\n",
       "      <td>NaN</td>\n",
       "      <td>NaN</td>\n",
       "      <td>NaN</td>\n",
       "      <td>NaN</td>\n",
       "      <td>NaN</td>\n",
       "      <td>NaN</td>\n",
       "      <td>...</td>\n",
       "      <td>NaN</td>\n",
       "      <td>NaN</td>\n",
       "      <td>NaN</td>\n",
       "      <td>NaN</td>\n",
       "      <td>NaN</td>\n",
       "      <td>NaN</td>\n",
       "      <td>NaN</td>\n",
       "      <td>NaN</td>\n",
       "      <td>NaN</td>\n",
       "      <td>NaN</td>\n",
       "    </tr>\n",
       "    <tr>\n",
       "      <td>A0266076X6KPZ6CCHGVS</td>\n",
       "      <td>NaN</td>\n",
       "      <td>NaN</td>\n",
       "      <td>NaN</td>\n",
       "      <td>NaN</td>\n",
       "      <td>NaN</td>\n",
       "      <td>NaN</td>\n",
       "      <td>NaN</td>\n",
       "      <td>NaN</td>\n",
       "      <td>NaN</td>\n",
       "      <td>NaN</td>\n",
       "      <td>...</td>\n",
       "      <td>NaN</td>\n",
       "      <td>NaN</td>\n",
       "      <td>NaN</td>\n",
       "      <td>NaN</td>\n",
       "      <td>NaN</td>\n",
       "      <td>NaN</td>\n",
       "      <td>NaN</td>\n",
       "      <td>NaN</td>\n",
       "      <td>NaN</td>\n",
       "      <td>NaN</td>\n",
       "    </tr>\n",
       "    <tr>\n",
       "      <td>A0277912HT4JSJKVSL3E</td>\n",
       "      <td>NaN</td>\n",
       "      <td>NaN</td>\n",
       "      <td>NaN</td>\n",
       "      <td>NaN</td>\n",
       "      <td>NaN</td>\n",
       "      <td>NaN</td>\n",
       "      <td>NaN</td>\n",
       "      <td>NaN</td>\n",
       "      <td>NaN</td>\n",
       "      <td>NaN</td>\n",
       "      <td>...</td>\n",
       "      <td>NaN</td>\n",
       "      <td>NaN</td>\n",
       "      <td>NaN</td>\n",
       "      <td>NaN</td>\n",
       "      <td>NaN</td>\n",
       "      <td>NaN</td>\n",
       "      <td>NaN</td>\n",
       "      <td>NaN</td>\n",
       "      <td>NaN</td>\n",
       "      <td>NaN</td>\n",
       "    </tr>\n",
       "    <tr>\n",
       "      <td>A02836981FYG9912C66F</td>\n",
       "      <td>NaN</td>\n",
       "      <td>NaN</td>\n",
       "      <td>NaN</td>\n",
       "      <td>NaN</td>\n",
       "      <td>NaN</td>\n",
       "      <td>NaN</td>\n",
       "      <td>NaN</td>\n",
       "      <td>NaN</td>\n",
       "      <td>NaN</td>\n",
       "      <td>NaN</td>\n",
       "      <td>...</td>\n",
       "      <td>NaN</td>\n",
       "      <td>NaN</td>\n",
       "      <td>NaN</td>\n",
       "      <td>NaN</td>\n",
       "      <td>NaN</td>\n",
       "      <td>NaN</td>\n",
       "      <td>NaN</td>\n",
       "      <td>NaN</td>\n",
       "      <td>NaN</td>\n",
       "      <td>NaN</td>\n",
       "    </tr>\n",
       "  </tbody>\n",
       "</table>\n",
       "<p>5 rows × 17408 columns</p>\n",
       "</div>"
      ],
      "text/plain": [
       "productID             0700026398  0700026657  0700099867  0804161380  \\\n",
       "reviewerID                                                             \n",
       "A0059486XI1Z0P98KP35         NaN         NaN         NaN         NaN   \n",
       "A0220159ZRNBTRKLG08H         NaN         NaN         NaN         NaN   \n",
       "A0266076X6KPZ6CCHGVS         NaN         NaN         NaN         NaN   \n",
       "A0277912HT4JSJKVSL3E         NaN         NaN         NaN         NaN   \n",
       "A02836981FYG9912C66F         NaN         NaN         NaN         NaN   \n",
       "\n",
       "productID             3828770193  6050036071  7293000936  7544256944  \\\n",
       "reviewerID                                                             \n",
       "A0059486XI1Z0P98KP35         NaN         NaN         NaN         NaN   \n",
       "A0220159ZRNBTRKLG08H         NaN         NaN         NaN         NaN   \n",
       "A0266076X6KPZ6CCHGVS         NaN         NaN         NaN         NaN   \n",
       "A0277912HT4JSJKVSL3E         NaN         NaN         NaN         NaN   \n",
       "A02836981FYG9912C66F         NaN         NaN         NaN         NaN   \n",
       "\n",
       "productID             8176503290  8565000168  ...  B01HD1B76O  B01HD2TECW  \\\n",
       "reviewerID                                    ...                           \n",
       "A0059486XI1Z0P98KP35         NaN         NaN  ...         NaN         NaN   \n",
       "A0220159ZRNBTRKLG08H         NaN         NaN  ...         NaN         NaN   \n",
       "A0266076X6KPZ6CCHGVS         NaN         NaN  ...         NaN         NaN   \n",
       "A0277912HT4JSJKVSL3E         NaN         NaN  ...         NaN         NaN   \n",
       "A02836981FYG9912C66F         NaN         NaN  ...         NaN         NaN   \n",
       "\n",
       "productID             B01HDJFJKG  B01HDJFJLK  B01HDJFJOM  B01HFRICLE  \\\n",
       "reviewerID                                                             \n",
       "A0059486XI1Z0P98KP35         NaN         NaN         NaN         NaN   \n",
       "A0220159ZRNBTRKLG08H         NaN         NaN         NaN         NaN   \n",
       "A0266076X6KPZ6CCHGVS         NaN         NaN         NaN         NaN   \n",
       "A0277912HT4JSJKVSL3E         NaN         NaN         NaN         NaN   \n",
       "A02836981FYG9912C66F         NaN         NaN         NaN         NaN   \n",
       "\n",
       "productID             B01HGPUTCA  B01HH6JEOC  B01HIZF7XE  B01HIZGKOE  \n",
       "reviewerID                                                            \n",
       "A0059486XI1Z0P98KP35         NaN         NaN         NaN         NaN  \n",
       "A0220159ZRNBTRKLG08H         NaN         NaN         NaN         NaN  \n",
       "A0266076X6KPZ6CCHGVS         NaN         NaN         NaN         NaN  \n",
       "A0277912HT4JSJKVSL3E         NaN         NaN         NaN         NaN  \n",
       "A02836981FYG9912C66F         NaN         NaN         NaN         NaN  \n",
       "\n",
       "[5 rows x 17408 columns]"
      ]
     },
     "execution_count": 64,
     "metadata": {},
     "output_type": "execute_result"
    }
   ],
   "source": [
    "#Build a matrix between reviewerID and productID\n",
    "game_matrix = df.pivot_table(index='reviewerID', columns='productID', values='overall')\n",
    "game_matrix.head()"
   ]
  },
  {
   "cell_type": "code",
   "execution_count": 36,
   "metadata": {},
   "outputs": [
    {
     "data": {
      "text/html": [
       "<div>\n",
       "<style scoped>\n",
       "    .dataframe tbody tr th:only-of-type {\n",
       "        vertical-align: middle;\n",
       "    }\n",
       "\n",
       "    .dataframe tbody tr th {\n",
       "        vertical-align: top;\n",
       "    }\n",
       "\n",
       "    .dataframe thead th {\n",
       "        text-align: right;\n",
       "    }\n",
       "</style>\n",
       "<table border=\"1\" class=\"dataframe\">\n",
       "  <thead>\n",
       "    <tr style=\"text-align: right;\">\n",
       "      <th></th>\n",
       "      <th>overall</th>\n",
       "      <th>number_of_ratings</th>\n",
       "    </tr>\n",
       "    <tr>\n",
       "      <th>productID</th>\n",
       "      <th></th>\n",
       "      <th></th>\n",
       "    </tr>\n",
       "  </thead>\n",
       "  <tbody>\n",
       "    <tr>\n",
       "      <td>B00178630A</td>\n",
       "      <td>2.824765</td>\n",
       "      <td>1381</td>\n",
       "    </tr>\n",
       "    <tr>\n",
       "      <td>B000ZK9QCS</td>\n",
       "      <td>4.627624</td>\n",
       "      <td>905</td>\n",
       "    </tr>\n",
       "    <tr>\n",
       "      <td>B000XJNTNS</td>\n",
       "      <td>4.631894</td>\n",
       "      <td>834</td>\n",
       "    </tr>\n",
       "    <tr>\n",
       "      <td>B00JK00S0S</td>\n",
       "      <td>4.690932</td>\n",
       "      <td>783</td>\n",
       "    </tr>\n",
       "    <tr>\n",
       "      <td>B000ZKA0J6</td>\n",
       "      <td>3.560724</td>\n",
       "      <td>774</td>\n",
       "    </tr>\n",
       "    <tr>\n",
       "      <td>B0012N94WO</td>\n",
       "      <td>4.174931</td>\n",
       "      <td>726</td>\n",
       "    </tr>\n",
       "    <tr>\n",
       "      <td>B003ZSP0WW</td>\n",
       "      <td>4.651297</td>\n",
       "      <td>694</td>\n",
       "    </tr>\n",
       "    <tr>\n",
       "      <td>B00GODZYNA</td>\n",
       "      <td>4.644737</td>\n",
       "      <td>684</td>\n",
       "    </tr>\n",
       "    <tr>\n",
       "      <td>B000ZK7ZOE</td>\n",
       "      <td>4.461424</td>\n",
       "      <td>674</td>\n",
       "    </tr>\n",
       "    <tr>\n",
       "      <td>B000P46NMA</td>\n",
       "      <td>4.126697</td>\n",
       "      <td>663</td>\n",
       "    </tr>\n",
       "  </tbody>\n",
       "</table>\n",
       "</div>"
      ],
      "text/plain": [
       "             overall  number_of_ratings\n",
       "productID                              \n",
       "B00178630A  2.824765               1381\n",
       "B000ZK9QCS  4.627624                905\n",
       "B000XJNTNS  4.631894                834\n",
       "B00JK00S0S  4.690932                783\n",
       "B000ZKA0J6  3.560724                774\n",
       "B0012N94WO  4.174931                726\n",
       "B003ZSP0WW  4.651297                694\n",
       "B00GODZYNA  4.644737                684\n",
       "B000ZK7ZOE  4.461424                674\n",
       "B000P46NMA  4.126697                663"
      ]
     },
     "execution_count": 36,
     "metadata": {},
     "output_type": "execute_result"
    }
   ],
   "source": [
    "#Find top 10 productIDs with most number of ratings\n",
    "ratings.sort_values('number_of_ratings', ascending=False).head(10)"
   ]
  },
  {
   "cell_type": "markdown",
   "metadata": {},
   "source": [
    "### Let us do a recommendation system test on one product"
   ]
  },
  {
   "cell_type": "code",
   "execution_count": 41,
   "metadata": {},
   "outputs": [
    {
     "data": {
      "text/plain": [
       "reviewerID\n",
       "A0059486XI1Z0P98KP35   NaN\n",
       "A0220159ZRNBTRKLG08H   NaN\n",
       "A0266076X6KPZ6CCHGVS   NaN\n",
       "A0277912HT4JSJKVSL3E   NaN\n",
       "A02836981FYG9912C66F   NaN\n",
       "Name: B00178630A, dtype: float64"
      ]
     },
     "execution_count": 41,
     "metadata": {},
     "output_type": "execute_result"
    }
   ],
   "source": [
    "#Let us check the product with the largest number of ratings\n",
    "B00178630A_user_rating=game_matrix['B00178630A']\n",
    "B00178630A_user_rating.head()"
   ]
  },
  {
   "cell_type": "code",
   "execution_count": 42,
   "metadata": {},
   "outputs": [
    {
     "name": "stderr",
     "output_type": "stream",
     "text": [
      "/Users/miaoxuanzhang/opt/anaconda3/lib/python3.7/site-packages/numpy/lib/function_base.py:2526: RuntimeWarning: Degrees of freedom <= 0 for slice\n",
      "  c = cov(x, y, rowvar)\n",
      "/Users/miaoxuanzhang/opt/anaconda3/lib/python3.7/site-packages/numpy/lib/function_base.py:2455: RuntimeWarning: divide by zero encountered in true_divide\n",
      "  c *= np.true_divide(1, fact)\n"
     ]
    }
   ],
   "source": [
    "#Let us compare correlation between those two products\n",
    "similar_to_B00178630A=game_matrix.corrwith(B00178630A_user_rating)"
   ]
  },
  {
   "cell_type": "code",
   "execution_count": 52,
   "metadata": {},
   "outputs": [
    {
     "data": {
      "text/plain": [
       "productID\n",
       "B00KWF366S    1.0\n",
       "B000V9C9FO    1.0\n",
       "B000HKKM2Y    1.0\n",
       "B000IN0BSU    1.0\n",
       "B0064TYRAU    1.0\n",
       "             ... \n",
       "B01HFRICLE    NaN\n",
       "B01HGPUTCA    NaN\n",
       "B01HH6JEOC    NaN\n",
       "B01HIZF7XE    NaN\n",
       "B01HIZGKOE    NaN\n",
       "Length: 17408, dtype: float64"
      ]
     },
     "execution_count": 52,
     "metadata": {},
     "output_type": "execute_result"
    }
   ],
   "source": [
    "similar_to_B00178630A.sort_values(ascending=False)"
   ]
  },
  {
   "cell_type": "markdown",
   "metadata": {},
   "source": [
    "We can see some strong correlations from above."
   ]
  },
  {
   "cell_type": "code",
   "execution_count": 55,
   "metadata": {},
   "outputs": [
    {
     "data": {
      "text/plain": [
       "count    918.000000\n",
       "mean       0.249138\n",
       "std        0.752845\n",
       "min       -1.000000\n",
       "25%       -0.413403\n",
       "50%        0.500000\n",
       "75%        1.000000\n",
       "max        1.000000\n",
       "dtype: float64"
      ]
     },
     "execution_count": 55,
     "metadata": {},
     "output_type": "execute_result"
    }
   ],
   "source": [
    "similar_to_B00178630A.describe()"
   ]
  },
  {
   "cell_type": "markdown",
   "metadata": {},
   "source": [
    "25% of other products are perfectly correlated with B00178630A. Probably because this game got a lot of ratings."
   ]
  },
  {
   "cell_type": "code",
   "execution_count": 59,
   "metadata": {},
   "outputs": [
    {
     "data": {
      "text/html": [
       "<div>\n",
       "<style scoped>\n",
       "    .dataframe tbody tr th:only-of-type {\n",
       "        vertical-align: middle;\n",
       "    }\n",
       "\n",
       "    .dataframe tbody tr th {\n",
       "        vertical-align: top;\n",
       "    }\n",
       "\n",
       "    .dataframe thead th {\n",
       "        text-align: right;\n",
       "    }\n",
       "</style>\n",
       "<table border=\"1\" class=\"dataframe\">\n",
       "  <thead>\n",
       "    <tr style=\"text-align: right;\">\n",
       "      <th></th>\n",
       "      <th>Correlation</th>\n",
       "    </tr>\n",
       "    <tr>\n",
       "      <th>productID</th>\n",
       "      <th></th>\n",
       "    </tr>\n",
       "  </thead>\n",
       "  <tbody>\n",
       "    <tr>\n",
       "      <td>0700099867</td>\n",
       "      <td>0.500000</td>\n",
       "    </tr>\n",
       "    <tr>\n",
       "      <td>B00000F1GM</td>\n",
       "      <td>-1.000000</td>\n",
       "    </tr>\n",
       "    <tr>\n",
       "      <td>B00001IVRD</td>\n",
       "      <td>0.353553</td>\n",
       "    </tr>\n",
       "    <tr>\n",
       "      <td>B00001LCDM</td>\n",
       "      <td>1.000000</td>\n",
       "    </tr>\n",
       "    <tr>\n",
       "      <td>B00001OWYW</td>\n",
       "      <td>-0.693375</td>\n",
       "    </tr>\n",
       "  </tbody>\n",
       "</table>\n",
       "</div>"
      ],
      "text/plain": [
       "            Correlation\n",
       "productID              \n",
       "0700099867     0.500000\n",
       "B00000F1GM    -1.000000\n",
       "B00001IVRD     0.353553\n",
       "B00001LCDM     1.000000\n",
       "B00001OWYW    -0.693375"
      ]
     },
     "execution_count": 59,
     "metadata": {},
     "output_type": "execute_result"
    }
   ],
   "source": [
    "#Make similar_to_B00178630A looks better\n",
    "corr_B00178630A = pd.DataFrame(similar_to_B00178630A, columns=['Correlation'])\n",
    "corr_B00178630A.dropna(inplace=True)\n",
    "corr_B00178630A.head()"
   ]
  },
  {
   "cell_type": "code",
   "execution_count": 60,
   "metadata": {},
   "outputs": [
    {
     "data": {
      "text/html": [
       "<div>\n",
       "<style scoped>\n",
       "    .dataframe tbody tr th:only-of-type {\n",
       "        vertical-align: middle;\n",
       "    }\n",
       "\n",
       "    .dataframe tbody tr th {\n",
       "        vertical-align: top;\n",
       "    }\n",
       "\n",
       "    .dataframe thead th {\n",
       "        text-align: right;\n",
       "    }\n",
       "</style>\n",
       "<table border=\"1\" class=\"dataframe\">\n",
       "  <thead>\n",
       "    <tr style=\"text-align: right;\">\n",
       "      <th></th>\n",
       "      <th>Correlation</th>\n",
       "      <th>number_of_ratings</th>\n",
       "    </tr>\n",
       "    <tr>\n",
       "      <th>productID</th>\n",
       "      <th></th>\n",
       "      <th></th>\n",
       "    </tr>\n",
       "  </thead>\n",
       "  <tbody>\n",
       "    <tr>\n",
       "      <td>0700099867</td>\n",
       "      <td>0.500000</td>\n",
       "      <td>30</td>\n",
       "    </tr>\n",
       "    <tr>\n",
       "      <td>B00000F1GM</td>\n",
       "      <td>-1.000000</td>\n",
       "      <td>172</td>\n",
       "    </tr>\n",
       "    <tr>\n",
       "      <td>B00001IVRD</td>\n",
       "      <td>0.353553</td>\n",
       "      <td>113</td>\n",
       "    </tr>\n",
       "    <tr>\n",
       "      <td>B00001LCDM</td>\n",
       "      <td>1.000000</td>\n",
       "      <td>10</td>\n",
       "    </tr>\n",
       "    <tr>\n",
       "      <td>B00001OWYW</td>\n",
       "      <td>-0.693375</td>\n",
       "      <td>75</td>\n",
       "    </tr>\n",
       "  </tbody>\n",
       "</table>\n",
       "</div>"
      ],
      "text/plain": [
       "            Correlation  number_of_ratings\n",
       "productID                                 \n",
       "0700099867     0.500000                 30\n",
       "B00000F1GM    -1.000000                172\n",
       "B00001IVRD     0.353553                113\n",
       "B00001LCDM     1.000000                 10\n",
       "B00001OWYW    -0.693375                 75"
      ]
     },
     "execution_count": 60,
     "metadata": {},
     "output_type": "execute_result"
    }
   ],
   "source": [
    "#Add number of ratings to this correlation based dataframe\n",
    "corr_B00178630A = corr_B00178630A.join(ratings['number_of_ratings'])\n",
    "corr_B00178630A.head()"
   ]
  },
  {
   "cell_type": "code",
   "execution_count": 62,
   "metadata": {},
   "outputs": [
    {
     "data": {
      "text/html": [
       "<div>\n",
       "<style scoped>\n",
       "    .dataframe tbody tr th:only-of-type {\n",
       "        vertical-align: middle;\n",
       "    }\n",
       "\n",
       "    .dataframe tbody tr th {\n",
       "        vertical-align: top;\n",
       "    }\n",
       "\n",
       "    .dataframe thead th {\n",
       "        text-align: right;\n",
       "    }\n",
       "</style>\n",
       "<table border=\"1\" class=\"dataframe\">\n",
       "  <thead>\n",
       "    <tr style=\"text-align: right;\">\n",
       "      <th></th>\n",
       "      <th>Correlation</th>\n",
       "      <th>number_of_ratings</th>\n",
       "    </tr>\n",
       "    <tr>\n",
       "      <th>productID</th>\n",
       "      <th></th>\n",
       "      <th></th>\n",
       "    </tr>\n",
       "  </thead>\n",
       "  <tbody>\n",
       "    <tr>\n",
       "      <td>B007VJ06Q6</td>\n",
       "      <td>1.0</td>\n",
       "      <td>69</td>\n",
       "    </tr>\n",
       "    <tr>\n",
       "      <td>B003O6JKLC</td>\n",
       "      <td>1.0</td>\n",
       "      <td>176</td>\n",
       "    </tr>\n",
       "    <tr>\n",
       "      <td>B0012N5MUC</td>\n",
       "      <td>1.0</td>\n",
       "      <td>102</td>\n",
       "    </tr>\n",
       "    <tr>\n",
       "      <td>B002BSA298</td>\n",
       "      <td>1.0</td>\n",
       "      <td>159</td>\n",
       "    </tr>\n",
       "    <tr>\n",
       "      <td>B00BBUCCKO</td>\n",
       "      <td>1.0</td>\n",
       "      <td>93</td>\n",
       "    </tr>\n",
       "    <tr>\n",
       "      <td>B00JUFT1E2</td>\n",
       "      <td>1.0</td>\n",
       "      <td>63</td>\n",
       "    </tr>\n",
       "    <tr>\n",
       "      <td>B0002Y2XXQ</td>\n",
       "      <td>1.0</td>\n",
       "      <td>91</td>\n",
       "    </tr>\n",
       "    <tr>\n",
       "      <td>B00D6PTMB4</td>\n",
       "      <td>1.0</td>\n",
       "      <td>90</td>\n",
       "    </tr>\n",
       "    <tr>\n",
       "      <td>B002Q8IHDQ</td>\n",
       "      <td>1.0</td>\n",
       "      <td>70</td>\n",
       "    </tr>\n",
       "    <tr>\n",
       "      <td>B000VBFW7E</td>\n",
       "      <td>1.0</td>\n",
       "      <td>56</td>\n",
       "    </tr>\n",
       "  </tbody>\n",
       "</table>\n",
       "</div>"
      ],
      "text/plain": [
       "            Correlation  number_of_ratings\n",
       "productID                                 \n",
       "B007VJ06Q6          1.0                 69\n",
       "B003O6JKLC          1.0                176\n",
       "B0012N5MUC          1.0                102\n",
       "B002BSA298          1.0                159\n",
       "B00BBUCCKO          1.0                 93\n",
       "B00JUFT1E2          1.0                 63\n",
       "B0002Y2XXQ          1.0                 91\n",
       "B00D6PTMB4          1.0                 90\n",
       "B002Q8IHDQ          1.0                 70\n",
       "B000VBFW7E          1.0                 56"
      ]
     },
     "execution_count": 62,
     "metadata": {},
     "output_type": "execute_result"
    }
   ],
   "source": [
    "#Limit products and only keep products with number of ratings >50 and view the top 10\n",
    "corr_B00178630A[corr_B00178630A['number_of_ratings'] > 50].sort_values(by='Correlation', ascending=False).head(10)"
   ]
  },
  {
   "cell_type": "markdown",
   "metadata": {},
   "source": [
    "### Let us now build a recommendation system function in order to generalize"
   ]
  },
  {
   "cell_type": "code",
   "execution_count": 67,
   "metadata": {},
   "outputs": [],
   "source": [
    "def user_based_CF(productID, number_of_ratings):\n",
    "    user_rating=game_matrix[productID]\n",
    "    similar_to=game_matrix.corrwith(user_rating)\n",
    "    corr = pd.DataFrame(similar_to, columns=['Correlation'])\n",
    "    corr.dropna(inplace=True)\n",
    "    corr = corr.join(ratings['number_of_ratings'])\n",
    "    return corr[corr['number_of_ratings'] > number_of_ratings].sort_values(by='Correlation', ascending=False).head(10)"
   ]
  },
  {
   "cell_type": "code",
   "execution_count": 68,
   "metadata": {},
   "outputs": [
    {
     "data": {
      "text/html": [
       "<div>\n",
       "<style scoped>\n",
       "    .dataframe tbody tr th:only-of-type {\n",
       "        vertical-align: middle;\n",
       "    }\n",
       "\n",
       "    .dataframe tbody tr th {\n",
       "        vertical-align: top;\n",
       "    }\n",
       "\n",
       "    .dataframe thead th {\n",
       "        text-align: right;\n",
       "    }\n",
       "</style>\n",
       "<table border=\"1\" class=\"dataframe\">\n",
       "  <thead>\n",
       "    <tr style=\"text-align: right;\">\n",
       "      <th></th>\n",
       "      <th>Correlation</th>\n",
       "      <th>number_of_ratings</th>\n",
       "    </tr>\n",
       "    <tr>\n",
       "      <th>productID</th>\n",
       "      <th></th>\n",
       "      <th></th>\n",
       "    </tr>\n",
       "  </thead>\n",
       "  <tbody>\n",
       "    <tr>\n",
       "      <td>B00000DMB3</td>\n",
       "      <td>1.0</td>\n",
       "      <td>192</td>\n",
       "    </tr>\n",
       "    <tr>\n",
       "      <td>B003ZHMMEM</td>\n",
       "      <td>1.0</td>\n",
       "      <td>247</td>\n",
       "    </tr>\n",
       "    <tr>\n",
       "      <td>B0009VXBAQ</td>\n",
       "      <td>1.0</td>\n",
       "      <td>629</td>\n",
       "    </tr>\n",
       "    <tr>\n",
       "      <td>B000UW21A0</td>\n",
       "      <td>1.0</td>\n",
       "      <td>423</td>\n",
       "    </tr>\n",
       "    <tr>\n",
       "      <td>B000XJNTNS</td>\n",
       "      <td>1.0</td>\n",
       "      <td>834</td>\n",
       "    </tr>\n",
       "    <tr>\n",
       "      <td>B001TOQ8UW</td>\n",
       "      <td>1.0</td>\n",
       "      <td>107</td>\n",
       "    </tr>\n",
       "    <tr>\n",
       "      <td>B00004SVV9</td>\n",
       "      <td>1.0</td>\n",
       "      <td>128</td>\n",
       "    </tr>\n",
       "    <tr>\n",
       "      <td>B001HWB68K</td>\n",
       "      <td>1.0</td>\n",
       "      <td>274</td>\n",
       "    </tr>\n",
       "    <tr>\n",
       "      <td>B00009WNZA</td>\n",
       "      <td>1.0</td>\n",
       "      <td>114</td>\n",
       "    </tr>\n",
       "    <tr>\n",
       "      <td>B009EWHKAI</td>\n",
       "      <td>1.0</td>\n",
       "      <td>127</td>\n",
       "    </tr>\n",
       "  </tbody>\n",
       "</table>\n",
       "</div>"
      ],
      "text/plain": [
       "            Correlation  number_of_ratings\n",
       "productID                                 \n",
       "B00000DMB3          1.0                192\n",
       "B003ZHMMEM          1.0                247\n",
       "B0009VXBAQ          1.0                629\n",
       "B000UW21A0          1.0                423\n",
       "B000XJNTNS          1.0                834\n",
       "B001TOQ8UW          1.0                107\n",
       "B00004SVV9          1.0                128\n",
       "B001HWB68K          1.0                274\n",
       "B00009WNZA          1.0                114\n",
       "B009EWHKAI          1.0                127"
      ]
     },
     "execution_count": 68,
     "metadata": {},
     "output_type": "execute_result"
    }
   ],
   "source": [
    "#Test\n",
    "user_based_CF(\"B00001OWYW\", 100)"
   ]
  },
  {
   "cell_type": "code",
   "execution_count": null,
   "metadata": {},
   "outputs": [],
   "source": []
  }
 ],
 "metadata": {
  "kernelspec": {
   "display_name": "Python 3.7.4 64-bit ('anaconda3': virtualenv)",
   "language": "python",
   "name": "python37464bitanaconda3virtualenv8f28c204401e429ebf3efadfa54f4526"
  },
  "language_info": {
   "codemirror_mode": {
    "name": "ipython",
    "version": 3
   },
   "file_extension": ".py",
   "mimetype": "text/x-python",
   "name": "python",
   "nbconvert_exporter": "python",
   "pygments_lexer": "ipython3",
   "version": "3.7.4"
  }
 },
 "nbformat": 4,
 "nbformat_minor": 2
}
