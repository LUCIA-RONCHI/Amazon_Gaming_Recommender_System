{
  "nbformat": 4,
  "nbformat_minor": 0,
  "metadata": {
    "kernelspec": {
      "name": "python3",
      "display_name": "Python 3"
    },
    "colab": {
      "name": "game_feature_snorkel.ipynb",
      "provenance": [],
      "collapsed_sections": [
        "g5fVdbRxK1IU",
        "A8bNTRUXrvY-",
        "roplyY1nK1I2",
        "vXAksE35K1I5",
        "dHZtMCp-uu_U",
        "NqVHzjAduy2D",
        "32rxkIlQK1I8",
        "5jCGNLtYB-9X",
        "4byuqZEcK1JE",
        "4-WRiyx5K1JI",
        "26f6tmXAK1JK",
        "ggEPUxlZK1JM",
        "z-JefjpMK1JW",
        "-kvj137pK1Ja",
        "ryN3AwUzK1Jh",
        "ban5aKbl8Z95",
        "4CDnzH4o8XSd"
      ]
    },
    "accelerator": "TPU"
  },
  "cells": [
    {
      "cell_type": "markdown",
      "metadata": {
        "id": "iN2fqiBuK1ID",
        "colab_type": "text"
      },
      "source": [
        "## Import libraries"
      ]
    },
    {
      "cell_type": "code",
      "metadata": {
        "id": "h9t3unB-d-rH",
        "colab_type": "code",
        "outputId": "cfe3f9c0-c422-4b48-c513-784531a5b136",
        "colab": {
          "base_uri": "https://localhost:8080/",
          "height": 481
        }
      },
      "source": [
        "!pip install snorkel"
      ],
      "execution_count": 0,
      "outputs": [
        {
          "output_type": "stream",
          "text": [
            "Requirement already satisfied: snorkel in /usr/local/lib/python3.6/dist-packages (0.9.5)\n",
            "Requirement already satisfied: munkres>=1.0.6 in /usr/local/lib/python3.6/dist-packages (from snorkel) (1.1.2)\n",
            "Requirement already satisfied: numpy<2.0.0,>=1.16.0 in /usr/local/lib/python3.6/dist-packages (from snorkel) (1.18.4)\n",
            "Requirement already satisfied: scipy<2.0.0,>=1.2.0 in /usr/local/lib/python3.6/dist-packages (from snorkel) (1.4.1)\n",
            "Requirement already satisfied: tensorboard<2.0.0,>=1.14.0 in /usr/local/lib/python3.6/dist-packages (from snorkel) (1.15.0)\n",
            "Requirement already satisfied: tqdm<5.0.0,>=4.33.0 in /usr/local/lib/python3.6/dist-packages (from snorkel) (4.41.1)\n",
            "Requirement already satisfied: pandas<0.26.0,>=0.25.0 in /usr/local/lib/python3.6/dist-packages (from snorkel) (0.25.3)\n",
            "Requirement already satisfied: networkx<2.4,>=2.2 in /usr/local/lib/python3.6/dist-packages (from snorkel) (2.3)\n",
            "Requirement already satisfied: torch<2.0.0,>=1.2.0 in /usr/local/lib/python3.6/dist-packages (from snorkel) (1.5.0+cu101)\n",
            "Requirement already satisfied: scikit-learn<0.22.0,>=0.20.2 in /usr/local/lib/python3.6/dist-packages (from snorkel) (0.21.3)\n",
            "Requirement already satisfied: six>=1.10.0 in /usr/local/lib/python3.6/dist-packages (from tensorboard<2.0.0,>=1.14.0->snorkel) (1.12.0)\n",
            "Requirement already satisfied: markdown>=2.6.8 in /usr/local/lib/python3.6/dist-packages (from tensorboard<2.0.0,>=1.14.0->snorkel) (3.2.2)\n",
            "Requirement already satisfied: grpcio>=1.6.3 in /usr/local/lib/python3.6/dist-packages (from tensorboard<2.0.0,>=1.14.0->snorkel) (1.29.0)\n",
            "Requirement already satisfied: absl-py>=0.4 in /usr/local/lib/python3.6/dist-packages (from tensorboard<2.0.0,>=1.14.0->snorkel) (0.9.0)\n",
            "Requirement already satisfied: protobuf>=3.6.0 in /usr/local/lib/python3.6/dist-packages (from tensorboard<2.0.0,>=1.14.0->snorkel) (3.10.0)\n",
            "Requirement already satisfied: setuptools>=41.0.0 in /usr/local/lib/python3.6/dist-packages (from tensorboard<2.0.0,>=1.14.0->snorkel) (47.1.1)\n",
            "Requirement already satisfied: wheel>=0.26; python_version >= \"3\" in /usr/local/lib/python3.6/dist-packages (from tensorboard<2.0.0,>=1.14.0->snorkel) (0.34.2)\n",
            "Requirement already satisfied: werkzeug>=0.11.15 in /usr/local/lib/python3.6/dist-packages (from tensorboard<2.0.0,>=1.14.0->snorkel) (1.0.1)\n",
            "Requirement already satisfied: pytz>=2017.2 in /usr/local/lib/python3.6/dist-packages (from pandas<0.26.0,>=0.25.0->snorkel) (2018.9)\n",
            "Requirement already satisfied: python-dateutil>=2.6.1 in /usr/local/lib/python3.6/dist-packages (from pandas<0.26.0,>=0.25.0->snorkel) (2.8.1)\n",
            "Requirement already satisfied: decorator>=4.3.0 in /usr/local/lib/python3.6/dist-packages (from networkx<2.4,>=2.2->snorkel) (4.4.2)\n",
            "Requirement already satisfied: future in /usr/local/lib/python3.6/dist-packages (from torch<2.0.0,>=1.2.0->snorkel) (0.16.0)\n",
            "Requirement already satisfied: joblib>=0.11 in /usr/local/lib/python3.6/dist-packages (from scikit-learn<0.22.0,>=0.20.2->snorkel) (0.15.1)\n",
            "Requirement already satisfied: importlib-metadata; python_version < \"3.8\" in /usr/local/lib/python3.6/dist-packages (from markdown>=2.6.8->tensorboard<2.0.0,>=1.14.0->snorkel) (1.6.0)\n",
            "Requirement already satisfied: zipp>=0.5 in /usr/local/lib/python3.6/dist-packages (from importlib-metadata; python_version < \"3.8\"->markdown>=2.6.8->tensorboard<2.0.0,>=1.14.0->snorkel) (3.1.0)\n"
          ],
          "name": "stdout"
        }
      ]
    },
    {
      "cell_type": "code",
      "metadata": {
        "id": "M4BCg1FHK1II",
        "colab_type": "code",
        "colab": {}
      },
      "source": [
        "import ast\n",
        "import snorkel as sk\n",
        "import pandas as pd\n",
        "import numpy as np\n",
        "import matplotlib.pyplot as plt\n",
        "from joblib import dump, load\n",
        "from snorkel.labeling import labeling_function, PandasLFApplier, LFAnalysis, \\\n",
        "                            LabelingFunction, filter_unlabeled_dataframe\n",
        "from snorkel.labeling.model import LabelModel, MajorityLabelVoter\n",
        "from snorkel.analysis import get_label_buckets\n",
        "from snorkel.preprocess import preprocessor\n",
        "from snorkel.labeling.lf.nlp import nlp_labeling_function\n",
        "from snorkel.utils import probs_to_preds\n",
        "\n",
        "import keras\n",
        "import tensorflow\n",
        "from tensorflow.keras.callbacks import EarlyStopping \n",
        "from tensorflow.keras.models import Sequential\n",
        "from tensorflow.keras.layers import Dense, Dropout, Activation, Flatten, BatchNormalization\n",
        "from tensorflow.keras.layers import Conv2D, MaxPooling2D, Conv1D, MaxPooling1D\n",
        "from tensorflow.keras.utils import to_categorical\n",
        "from tensorflow.keras.models import model_from_json\n",
        "from keras.preprocessing.text import Tokenizer\n",
        "from keras.layers import Embedding\n",
        "\n",
        "from sklearn.model_selection import train_test_split\n",
        "from sklearn.feature_extraction.text import CountVectorizer\n",
        "from sklearn.naive_bayes import MultinomialNB\n",
        "from sklearn.metrics import classification_report, confusion_matrix, accuracy_score\n",
        "from sklearn.linear_model import LogisticRegression, SGDClassifier\n",
        "from sklearn import metrics\n",
        "import re\n",
        "import operator\n",
        "from tensorflow.keras.callbacks import LearningRateScheduler\n",
        "import math\n",
        "from tqdm.auto import tqdm\n",
        "tqdm.pandas()"
      ],
      "execution_count": 0,
      "outputs": []
    },
    {
      "cell_type": "markdown",
      "metadata": {
        "id": "eF_61hCZK1IN",
        "colab_type": "text"
      },
      "source": [
        "## Create regex labeling model"
      ]
    },
    {
      "cell_type": "markdown",
      "metadata": {
        "id": "g5fVdbRxK1IU",
        "colab_type": "text"
      },
      "source": [
        "### Labels and label functions"
      ]
    },
    {
      "cell_type": "code",
      "metadata": {
        "id": "Yn9rEu7TK1IV",
        "colab_type": "code",
        "colab": {}
      },
      "source": [
        "ABSTAIN = -1\n",
        "platformer_int = 0\n",
        "shooter_int = 1\n",
        "arcade_int = 2\n",
        "fighting_int = 3\n",
        "stealth_int = 4\n",
        "survival_int = 5\n",
        "horror_int = 6\n",
        "rhythm_int = 7\n",
        "action_adventure_int = 8\n",
        "visual_novels_int = 9\n",
        "rpg_action_int = 10\n",
        "rpg_mmo_int = 11\n",
        "rpg_roguelike_int = 12\n",
        "rpg_tactical_int = 13\n",
        "rpg_sandbox_int = 14\n",
        "sim_management_int = 15\n",
        "sim_vehicle_int = 16\n",
        "strat_int = 17\n",
        "sports_int = 18\n",
        "puzzle_int = 19\n",
        "casual_party_int = 20\n",
        "casual_family_int = 21"
      ],
      "execution_count": 0,
      "outputs": []
    },
    {
      "cell_type": "markdown",
      "metadata": {
        "id": "WltK_qiCrXb5",
        "colab_type": "text"
      },
      "source": [
        "#### V1 Labeling Functions"
      ]
    },
    {
      "cell_type": "code",
      "metadata": {
        "id": "1biC86kMcgJO",
        "colab_type": "code",
        "colab": {}
      },
      "source": [
        "# # Old Labeling Functions\n",
        "\n",
        "# @labeling_function()\n",
        "# def platformer(x):\n",
        "# \treturn platformer_int if re.search(r\"platform*|jump*\", x.text,flags=re.I) else ABSTAIN\n",
        "\n",
        "# @labeling_function()\n",
        "# def shooter_fps(x): # aim?\n",
        "# \treturn shooter_int if re.search(r\"first-person shoot*|first person shoot*\", x.text,flags=re.I) else ABSTAIN\n",
        "\n",
        "# @labeling_function()\n",
        "# def shooter_tps(x):\n",
        "# \treturn shooter_int if re.search(r\"third-person shoot*|third person shoot*\", x.text,flags=re.I) else ABSTAIN\n",
        "\n",
        "# @labeling_function()\n",
        "# def arcade(x):\n",
        "# \treturn arcade_int if re.search(r\"arcade*\", x.text,flags=re.I) else ABSTAIN\n",
        "\n",
        "# @labeling_function()\n",
        "# def fighting(x):\n",
        "# \treturn fighting_int if re.search(r\"fight*|match*\", x.text,flags=re.I) else ABSTAIN\n",
        "\n",
        "# @labeling_function()\n",
        "# def stealth(x):\n",
        "# \treturn stealth_int if re.search(r\"steal*|hide|cover*\", x.text,flags=re.I) else ABSTAIN    \n",
        "\n",
        "# @labeling_function()\n",
        "# def survival(x):\n",
        "# \treturn survival_int if re.search(r\"survi*|gathe*\", x.text,flags=re.I) else ABSTAIN  \n",
        "\n",
        "# @labeling_function()\n",
        "# def horror(x):\n",
        "# \treturn horror_int if re.search(r\"scar*|dark*\", x.text,flags=re.I) else ABSTAIN     \n",
        "\n",
        "# @labeling_function()\n",
        "# def rhythm(x): # remove music\n",
        "# \treturn rhythm_int if re.search(r\"danc*|instr*\", x.text,flags=re.I) else ABSTAIN      \n",
        "\n",
        "# @labeling_function()\n",
        "# def metroidvania(x):\n",
        "# \treturn metroidvania_int if re.search(r\"metroidvania|metroid-vania\", x.text,flags=re.I) else ABSTAIN\n",
        "\n",
        "# @labeling_function()\n",
        "# def action_adventure(x):\n",
        "# \treturn action_adventure_int if re.search(r\"explor*|advent*\", x.text,flags=re.I) else ABSTAIN\n",
        "\n",
        "# @labeling_function()\n",
        "# def visual_novels(x): # look at this - story?\n",
        "# \treturn visual_novels_int if re.search(r\"book*|novel*\", x.text,flags=re.I) else ABSTAIN\n",
        "\n",
        "# @labeling_function()\n",
        "# def rpg_action(x):\n",
        "# \treturn rpg_action_int if re.search(r\"action-rpg|role*|class*|rpg\", x.text,flags=re.I) else ABSTAIN\n",
        "\n",
        "# @labeling_function()\n",
        "# def rpg_mmo(x):\n",
        "# \treturn rpg_mmo_int if re.search(r\"socia*|massi*|rpg\", x.text,flags=re.I) else ABSTAIN\n",
        "\n",
        "# @labeling_function()\n",
        "# def rpg_roguelike(x):\n",
        "# \treturn rpg_roguelike_int if re.search(r\"death*|dyin*\", x.text,flags=re.I) else ABSTAIN\n",
        "\n",
        "# @labeling_function()\n",
        "# def rpg_tactical(x):\n",
        "# \treturn rpg_tactical_int if re.search(r\"strateg*|rpg\", x.text,flags=re.I) else ABSTAIN\n",
        "\n",
        "# @labeling_function()\n",
        "# def rpg_sandbox(x):\n",
        "# \treturn rpg_sandbox_int if re.search(r\"sandb*|creat*|manag*\", x.text,flags=re.I) else ABSTAIN\n",
        "\n",
        "# @labeling_function()\n",
        "# def sim_management(x): # 71% look at this\n",
        "# \treturn sim_management_int if re.search(r\"\\bsimulat*\\b|\\bbuild*|plan*\\b\", x.text,flags=re.I) else ABSTAIN\n",
        "\n",
        "# @labeling_function()\n",
        "# def sim_vehicle(x):\n",
        "# \treturn sim_vehicle_int if re.search(r\"driv*|pilot*\", x.text,flags=re.I) else ABSTAIN\n",
        "\n",
        "# @labeling_function()\n",
        "# def strat_4x(x):\n",
        "# \treturn strat_int if re.search(r\"\\bstrat*\\b|\\b4x|exploit*\\b\", x.text, flags=re.I) else ABSTAIN\n",
        "\n",
        "# @labeling_function()\n",
        "# def strat_rts_tbs(x): #typo - strat, 63% look at this\n",
        "# \treturn strat_int if re.search(r\"\\bstrat*\\b|\\breal-time*|turn*\\b\", x.text, flags=re.I) else ABSTAIN\n",
        "\n",
        "# @labeling_function()\n",
        "# def sports(x):\n",
        "# \treturn sports_int if re.search(r\"sport*\", x.text,flags=re.I) else ABSTAIN\n",
        "\n",
        "# @labeling_function()\n",
        "# def puzzle(x):\n",
        "# \treturn puzzle_int if re.search(r\"puzz*|think*\", x.text,flags=re.I) else ABSTAIN\n",
        "\n",
        "# @labeling_function()\n",
        "# def casual_party(x):\n",
        "# \treturn casual_party_int if re.search(r\"part*|board*|friend*\", x.text,flags=re.I) else ABSTAIN \n",
        "\n",
        "# @labeling_function()\n",
        "# def casual_family(x):\n",
        "# \treturn casual_family_int if re.search(r\"famil*|casual\", x.text,flags=re.I) else ABSTAIN"
      ],
      "execution_count": 0,
      "outputs": []
    },
    {
      "cell_type": "markdown",
      "metadata": {
        "id": "XrVWukIyre7j",
        "colab_type": "text"
      },
      "source": [
        "#### V2 Labeling Functions"
      ]
    },
    {
      "cell_type": "code",
      "metadata": {
        "id": "OZd_OdpmK1IX",
        "colab_type": "code",
        "colab": {}
      },
      "source": [
        "# New Labeling Functions\n",
        "\n",
        "@labeling_function()\n",
        "def platformer(x):\n",
        "\treturn platformer_int if re.search(r\"platform*|jump*\", x.text,flags=re.I) else ABSTAIN\n",
        "\n",
        "@labeling_function()\n",
        "def shooter_fps(x): # aim?\n",
        "\treturn shooter_int if re.search(r\"first-person shoot*|first person shoot*|gun*\", x.text,flags=re.I) else ABSTAIN\n",
        "\n",
        "@labeling_function()\n",
        "def shooter_tps(x):\n",
        "\treturn shooter_int if re.search(r\"third-person shoot*|third person shoot*\", x.text,flags=re.I) else ABSTAIN\n",
        "\n",
        "@labeling_function()\n",
        "def arcade(x):\n",
        "\treturn arcade_int if re.search(r\"arcade*\", x.text,flags=re.I) else ABSTAIN\n",
        "\n",
        "@labeling_function()\n",
        "def fighting(x):\n",
        "\treturn fighting_int if re.search(r\"fighter*|match*\", x.text,flags=re.I) else ABSTAIN\n",
        "\n",
        "@labeling_function()\n",
        "def stealth(x):\n",
        "\treturn stealth_int if re.search(r\"stealt*|hide|cover*\", x.text,flags=re.I) else ABSTAIN    \n",
        "\n",
        "@labeling_function()\n",
        "def survival(x):\n",
        "\treturn survival_int if re.search(r\"survi*|gathe*\", x.text,flags=re.I) else ABSTAIN  \n",
        "\n",
        "@labeling_function()\n",
        "def horror(x):\n",
        "\treturn horror_int if re.search(r\"scar*|dark*\", x.text,flags=re.I) else ABSTAIN     \n",
        "\n",
        "@labeling_function()\n",
        "def rhythm(x):\n",
        "\treturn rhythm_int if re.search(r\"danc*|instrum*\", x.text,flags=re.I) else ABSTAIN      \n",
        "\n",
        "@labeling_function()\n",
        "def action_adventure(x):\n",
        "\treturn action_adventure_int if re.search(r\"explor*|advent*\", x.text,flags=re.I) else ABSTAIN\n",
        "\n",
        "@labeling_function()\n",
        "def visual_novels(x):\n",
        "\treturn visual_novels_int if re.search(r\"visual-novel*|visual novel\", x.text,flags=re.I) else ABSTAIN\n",
        "\n",
        "@labeling_function()\n",
        "def rpg_action(x):\n",
        "\treturn rpg_action_int if re.search(r\"action-[Rr][Pp][Gg]|rolepl*|rpg|RPG|action [Rr][Pp][Gg]\", x.text,flags=re.I) else ABSTAIN\n",
        "\n",
        "@labeling_function()\n",
        "def rpg_mmo(x):\n",
        "\treturn rpg_mmo_int if re.search(r\"\\bonline\\b|\\bsocia*|massi*|mmo\\b\", x.text,flags=re.I) else ABSTAIN\n",
        "\n",
        "@labeling_function()\n",
        "def rpg_roguelike(x):\n",
        "\treturn rpg_roguelike_int if re.search(r\"death*|dyin*\", x.text,flags=re.I) else ABSTAIN\n",
        "\n",
        "@labeling_function()\n",
        "def rpg_tactical(x):\n",
        "\treturn rpg_tactical_int if re.search(r\"strateg*|tacti*\", x.text,flags=re.I) else ABSTAIN\n",
        "\n",
        "@labeling_function()\n",
        "def rpg_sandbox(x):\n",
        "\treturn rpg_sandbox_int if re.search(r\"sandb*|creat*|manag*\", x.text,flags=re.I) else ABSTAIN\n",
        "\n",
        "@labeling_function()\n",
        "def sim_management(x):\n",
        "\treturn sim_management_int if re.search(r\"\\bsimulat*\\b|\\bbuilding*|develop*|relationsh*|persona*\\b\", x.text,flags=re.I) else ABSTAIN\n",
        "\n",
        "@labeling_function()\n",
        "def sim_vehicle(x):\n",
        "\treturn sim_vehicle_int if re.search(r\"driv*|pilot*\", x.text,flags=re.I) else ABSTAIN\n",
        "\n",
        "@labeling_function()\n",
        "def strat_4x(x):\n",
        "\treturn strat_int if re.search(r\"\\bstrat*\\b|\\b4x|exploit*\\b\", x.text, flags=re.I) else ABSTAIN\n",
        "\n",
        "@labeling_function()\n",
        "def strat_rts_tbs(x):\n",
        "\treturn strat_int if re.search(r\"\\bstrat*\\b|\\breal-time*|turn*\\b\", x.text, flags=re.I) else ABSTAIN\n",
        "\n",
        "@labeling_function()\n",
        "def sports(x):\n",
        "\treturn sports_int if re.search(r\"sport*\", x.text,flags=re.I) else ABSTAIN\n",
        "\n",
        "@labeling_function()\n",
        "def sports_names(x):\n",
        "\treturn sports_int if re.search(r\"socc*|footb*|tenn*|baseba*|bowl*|basketb*|hocke*|nfl|nba|madden|mlb\", x.text,flags=re.I) else ABSTAIN\n",
        "\n",
        "@labeling_function()\n",
        "def puzzle(x):\n",
        "\treturn puzzle_int if re.search(r\"puzz*|think*\", x.text,flags=re.I) else ABSTAIN\n",
        "\n",
        "@labeling_function()\n",
        "def casual_party(x):\n",
        "\treturn casual_party_int if re.search(r\"part*|board*|friend*\", x.text,flags=re.I) else ABSTAIN \n",
        "\n",
        "@labeling_function()\n",
        "def casual_family(x):\n",
        "\treturn casual_family_int if re.search(r\"famil*|casual\", x.text,flags=re.I) else ABSTAIN"
      ],
      "execution_count": 0,
      "outputs": []
    },
    {
      "cell_type": "markdown",
      "metadata": {
        "id": "LOosaIblrhzd",
        "colab_type": "text"
      },
      "source": [
        "### Data import"
      ]
    },
    {
      "cell_type": "code",
      "metadata": {
        "id": "QCHQiKzHYPCI",
        "colab_type": "code",
        "outputId": "361948af-1206-4369-a5e4-10d9d9c67227",
        "colab": {
          "base_uri": "https://localhost:8080/",
          "height": 34
        }
      },
      "source": [
        "from google.colab import drive\n",
        "drive.mount('/content/drive')"
      ],
      "execution_count": 0,
      "outputs": [
        {
          "output_type": "stream",
          "text": [
            "Drive already mounted at /content/drive; to attempt to forcibly remount, call drive.mount(\"/content/drive\", force_remount=True).\n"
          ],
          "name": "stdout"
        }
      ]
    },
    {
      "cell_type": "code",
      "metadata": {
        "id": "gYZrHZj6G4gz",
        "colab_type": "code",
        "outputId": "25d2fc68-331d-404c-9948-c1b2f6189447",
        "colab": {
          "base_uri": "https://localhost:8080/",
          "height": 72
        }
      },
      "source": [
        "#features = pd.read_csv(\"/content/drive/My Drive/ml_data/features_clean.csv\")\n",
        "features = pd.read_csv(\"/content/drive/My Drive/MScA/Machine Learning/ML Final Project/Data/descriptions_clean.csv\")"
      ],
      "execution_count": 0,
      "outputs": [
        {
          "output_type": "stream",
          "text": [
            "/usr/local/lib/python3.6/dist-packages/IPython/core/interactiveshell.py:2718: DtypeWarning: Columns (1,2,3,4,5,6,7,8,9,10,11,12,13,14,15,16,17,18,19,20,21) have mixed types. Specify dtype option on import or set low_memory=False.\n",
            "  interactivity=interactivity, compiler=compiler, result=result)\n"
          ],
          "name": "stderr"
        }
      ]
    },
    {
      "cell_type": "code",
      "metadata": {
        "id": "XVZmF-F91053",
        "colab_type": "code",
        "outputId": "de659eb6-8143-4b26-fe81-4661cfbfe255",
        "colab": {
          "base_uri": "https://localhost:8080/",
          "height": 406
        }
      },
      "source": [
        "features.dropna(subset = [\"description_joined\"],inplace = True)\n",
        "features.reset_index(inplace = True)\n",
        "features.drop(\"index\", axis = 1, inplace = True)\n",
        "feats = features[[\"description_joined\"]]\n",
        "feats = feats[\"description_joined\"]\n",
        "feats = feats.rename(columns={'description_joined': 'text'})\n",
        "feats = pd.DataFrame(feats)\n",
        "feats.columns = [\"text\"]\n",
        "feats"
      ],
      "execution_count": 0,
      "outputs": [
        {
          "output_type": "execute_result",
          "data": {
            "text/html": [
              "<div>\n",
              "<style scoped>\n",
              "    .dataframe tbody tr th:only-of-type {\n",
              "        vertical-align: middle;\n",
              "    }\n",
              "\n",
              "    .dataframe tbody tr th {\n",
              "        vertical-align: top;\n",
              "    }\n",
              "\n",
              "    .dataframe thead th {\n",
              "        text-align: right;\n",
              "    }\n",
              "</style>\n",
              "<table border=\"1\" class=\"dataframe\">\n",
              "  <thead>\n",
              "    <tr style=\"text-align: right;\">\n",
              "      <th></th>\n",
              "      <th>text</th>\n",
              "    </tr>\n",
              "  </thead>\n",
              "  <tbody>\n",
              "    <tr>\n",
              "      <th>0</th>\n",
              "      <td>Phonics Alive! 3, The Speller teaches students...</td>\n",
              "    </tr>\n",
              "    <tr>\n",
              "      <th>1</th>\n",
              "      <td>CD-ROM</td>\n",
              "    </tr>\n",
              "    <tr>\n",
              "      <th>2</th>\n",
              "      <td>video game</td>\n",
              "    </tr>\n",
              "    <tr>\n",
              "      <th>3</th>\n",
              "      <td>Grandma Groupers kelp seeds are missing and wi...</td>\n",
              "    </tr>\n",
              "    <tr>\n",
              "      <th>4</th>\n",
              "      <td>This software is BRAND NEW. Packaging may diff...</td>\n",
              "    </tr>\n",
              "    <tr>\n",
              "      <th>...</th>\n",
              "      <td>...</td>\n",
              "    </tr>\n",
              "    <tr>\n",
              "      <th>27233</th>\n",
              "      <td>OlliOlli: Epic Combo Edition includes a gold l...</td>\n",
              "    </tr>\n",
              "    <tr>\n",
              "      <th>27234</th>\n",
              "      <td>Return to the cities of Rapture and Columbia ...</td>\n",
              "    </tr>\n",
              "    <tr>\n",
              "      <th>27235</th>\n",
              "      <td>Experience explosive airborne action, high in ...</td>\n",
              "    </tr>\n",
              "    <tr>\n",
              "      <th>27236</th>\n",
              "      <td>Return to the cities of Rapture and Columbia ...</td>\n",
              "    </tr>\n",
              "    <tr>\n",
              "      <th>27237</th>\n",
              "      <td>All-new game modes, new and deeper experiences...</td>\n",
              "    </tr>\n",
              "  </tbody>\n",
              "</table>\n",
              "<p>27238 rows × 1 columns</p>\n",
              "</div>"
            ],
            "text/plain": [
              "                                                    text\n",
              "0      Phonics Alive! 3, The Speller teaches students...\n",
              "1                                                 CD-ROM\n",
              "2                                             video game\n",
              "3      Grandma Groupers kelp seeds are missing and wi...\n",
              "4      This software is BRAND NEW. Packaging may diff...\n",
              "...                                                  ...\n",
              "27233  OlliOlli: Epic Combo Edition includes a gold l...\n",
              "27234   Return to the cities of Rapture and Columbia ...\n",
              "27235  Experience explosive airborne action, high in ...\n",
              "27236   Return to the cities of Rapture and Columbia ...\n",
              "27237  All-new game modes, new and deeper experiences...\n",
              "\n",
              "[27238 rows x 1 columns]"
            ]
          },
          "metadata": {
            "tags": []
          },
          "execution_count": 14
        }
      ]
    },
    {
      "cell_type": "markdown",
      "metadata": {
        "id": "A8bNTRUXrvY-",
        "colab_type": "text"
      },
      "source": [
        "### Apply labels"
      ]
    },
    {
      "cell_type": "code",
      "metadata": {
        "id": "WpRFny9_K1IZ",
        "colab_type": "code",
        "outputId": "44afc9f0-b601-42bf-c371-9f4fe89f9e42",
        "colab": {
          "base_uri": "https://localhost:8080/"
        }
      },
      "source": [
        "lfs=([platformer, shooter_fps, shooter_tps, arcade, fighting, stealth,\n",
        "      survival, horror, rhythm, action_adventure,\n",
        "      visual_novels, rpg_action, rpg_mmo, rpg_roguelike, rpg_tactical,\n",
        "      rpg_sandbox, sim_management, sim_vehicle, strat_4x,\n",
        "      strat_rts_tbs, sports,sports_names, puzzle, casual_party, casual_family])\n",
        "\n",
        "cardinality = len(lfs)\n",
        "\n",
        "applier = PandasLFApplier(lfs)\n",
        "\n",
        "# The output of the apply method is a label matrix, which is a # NumPy array L \n",
        "# with one column for each LF and one row for each data point\n",
        "L_train = applier.apply(feats)"
      ],
      "execution_count": 0,
      "outputs": [
        {
          "output_type": "stream",
          "text": [
            "100%|██████████| 27238/27238 [00:44<00:00, 611.18it/s]\n"
          ],
          "name": "stderr"
        }
      ]
    },
    {
      "cell_type": "code",
      "metadata": {
        "id": "G0d_vHrNB4mc",
        "colab_type": "code",
        "outputId": "9a4bd249-6474-49bb-e294-9af63827d909",
        "colab": {
          "base_uri": "https://localhost:8080/"
        }
      },
      "source": [
        "L_train.shape"
      ],
      "execution_count": 0,
      "outputs": [
        {
          "output_type": "execute_result",
          "data": {
            "text/plain": [
              "(27238, 25)"
            ]
          },
          "metadata": {
            "tags": []
          },
          "execution_count": 16
        }
      ]
    },
    {
      "cell_type": "code",
      "metadata": {
        "id": "opFkJytTt-C2",
        "colab_type": "code",
        "outputId": "17da5373-420c-4dd8-f2af-f4b612255380",
        "colab": {
          "base_uri": "https://localhost:8080/"
        }
      },
      "source": [
        "L_train"
      ],
      "execution_count": 0,
      "outputs": [
        {
          "output_type": "execute_result",
          "data": {
            "text/plain": [
              "array([[-1,  1, -1, ..., -1, -1, 21],\n",
              "       [-1, -1, -1, ..., -1, -1, -1],\n",
              "       [-1, -1, -1, ..., -1, -1, -1],\n",
              "       ...,\n",
              "       [-1, -1, -1, ..., -1, -1, -1],\n",
              "       [-1, -1, -1, ..., -1, -1, -1],\n",
              "       [-1,  1, -1, ..., -1, -1, -1]])"
            ]
          },
          "metadata": {
            "tags": []
          },
          "execution_count": 17
        }
      ]
    },
    {
      "cell_type": "markdown",
      "metadata": {
        "id": "17qgElY1K1Ib",
        "colab_type": "text"
      },
      "source": [
        "#### Explore labeling results"
      ]
    },
    {
      "cell_type": "code",
      "metadata": {
        "id": "IPJIax-mK1Ib",
        "colab_type": "code",
        "outputId": "cfdf9082-8b8d-4ce1-8764-478939dcf73e",
        "colab": {
          "base_uri": "https://localhost:8080/"
        }
      },
      "source": [
        "# Polarity: The set of unique labels this LF outputs (excluding abstains)\n",
        "# Coverage: The fraction of the dataset the LF labels\n",
        "# Overlaps: The fraction of the dataset where this LF and at least one other LF label\n",
        "# Conflicts: The fraction of the dataset where this LF and at least one other LF label and disagree\n",
        "\n",
        "LFAnalysis(L=L_train, lfs=lfs).lf_summary()"
      ],
      "execution_count": 0,
      "outputs": [
        {
          "output_type": "execute_result",
          "data": {
            "text/html": [
              "<div>\n",
              "<style scoped>\n",
              "    .dataframe tbody tr th:only-of-type {\n",
              "        vertical-align: middle;\n",
              "    }\n",
              "\n",
              "    .dataframe tbody tr th {\n",
              "        vertical-align: top;\n",
              "    }\n",
              "\n",
              "    .dataframe thead th {\n",
              "        text-align: right;\n",
              "    }\n",
              "</style>\n",
              "<table border=\"1\" class=\"dataframe\">\n",
              "  <thead>\n",
              "    <tr style=\"text-align: right;\">\n",
              "      <th></th>\n",
              "      <th>j</th>\n",
              "      <th>Polarity</th>\n",
              "      <th>Coverage</th>\n",
              "      <th>Overlaps</th>\n",
              "      <th>Conflicts</th>\n",
              "    </tr>\n",
              "  </thead>\n",
              "  <tbody>\n",
              "    <tr>\n",
              "      <th>platformer</th>\n",
              "      <td>0</td>\n",
              "      <td>[0]</td>\n",
              "      <td>0.095381</td>\n",
              "      <td>0.091967</td>\n",
              "      <td>0.091967</td>\n",
              "    </tr>\n",
              "    <tr>\n",
              "      <th>shooter_fps</th>\n",
              "      <td>1</td>\n",
              "      <td>[1]</td>\n",
              "      <td>0.253947</td>\n",
              "      <td>0.233424</td>\n",
              "      <td>0.233424</td>\n",
              "    </tr>\n",
              "    <tr>\n",
              "      <th>shooter_tps</th>\n",
              "      <td>2</td>\n",
              "      <td>[1]</td>\n",
              "      <td>0.003231</td>\n",
              "      <td>0.003231</td>\n",
              "      <td>0.003231</td>\n",
              "    </tr>\n",
              "    <tr>\n",
              "      <th>arcade</th>\n",
              "      <td>3</td>\n",
              "      <td>[2]</td>\n",
              "      <td>0.047654</td>\n",
              "      <td>0.044019</td>\n",
              "      <td>0.044019</td>\n",
              "    </tr>\n",
              "    <tr>\n",
              "      <th>fighting</th>\n",
              "      <td>4</td>\n",
              "      <td>[3]</td>\n",
              "      <td>0.091967</td>\n",
              "      <td>0.088773</td>\n",
              "      <td>0.088773</td>\n",
              "    </tr>\n",
              "    <tr>\n",
              "      <th>stealth</th>\n",
              "      <td>5</td>\n",
              "      <td>[4]</td>\n",
              "      <td>0.170974</td>\n",
              "      <td>0.166128</td>\n",
              "      <td>0.166128</td>\n",
              "    </tr>\n",
              "    <tr>\n",
              "      <th>survival</th>\n",
              "      <td>6</td>\n",
              "      <td>[5]</td>\n",
              "      <td>0.074969</td>\n",
              "      <td>0.072766</td>\n",
              "      <td>0.072766</td>\n",
              "    </tr>\n",
              "    <tr>\n",
              "      <th>horror</th>\n",
              "      <td>7</td>\n",
              "      <td>[6]</td>\n",
              "      <td>0.225017</td>\n",
              "      <td>0.216829</td>\n",
              "      <td>0.216829</td>\n",
              "    </tr>\n",
              "    <tr>\n",
              "      <th>rhythm</th>\n",
              "      <td>8</td>\n",
              "      <td>[7]</td>\n",
              "      <td>0.118364</td>\n",
              "      <td>0.113628</td>\n",
              "      <td>0.113628</td>\n",
              "    </tr>\n",
              "    <tr>\n",
              "      <th>action_adventure</th>\n",
              "      <td>9</td>\n",
              "      <td>[8]</td>\n",
              "      <td>0.262611</td>\n",
              "      <td>0.249615</td>\n",
              "      <td>0.249615</td>\n",
              "    </tr>\n",
              "    <tr>\n",
              "      <th>visual_novels</th>\n",
              "      <td>10</td>\n",
              "      <td>[9]</td>\n",
              "      <td>0.000587</td>\n",
              "      <td>0.000551</td>\n",
              "      <td>0.000551</td>\n",
              "    </tr>\n",
              "    <tr>\n",
              "      <th>rpg_action</th>\n",
              "      <td>11</td>\n",
              "      <td>[10]</td>\n",
              "      <td>0.035392</td>\n",
              "      <td>0.034437</td>\n",
              "      <td>0.034437</td>\n",
              "    </tr>\n",
              "    <tr>\n",
              "      <th>rpg_mmo</th>\n",
              "      <td>12</td>\n",
              "      <td>[11]</td>\n",
              "      <td>0.136060</td>\n",
              "      <td>0.133527</td>\n",
              "      <td>0.133527</td>\n",
              "    </tr>\n",
              "    <tr>\n",
              "      <th>rpg_roguelike</th>\n",
              "      <td>13</td>\n",
              "      <td>[12]</td>\n",
              "      <td>0.041670</td>\n",
              "      <td>0.040972</td>\n",
              "      <td>0.040972</td>\n",
              "    </tr>\n",
              "    <tr>\n",
              "      <th>rpg_tactical</th>\n",
              "      <td>14</td>\n",
              "      <td>[13]</td>\n",
              "      <td>0.124936</td>\n",
              "      <td>0.120347</td>\n",
              "      <td>0.120347</td>\n",
              "    </tr>\n",
              "    <tr>\n",
              "      <th>rpg_sandbox</th>\n",
              "      <td>15</td>\n",
              "      <td>[14]</td>\n",
              "      <td>0.277590</td>\n",
              "      <td>0.267861</td>\n",
              "      <td>0.267861</td>\n",
              "    </tr>\n",
              "    <tr>\n",
              "      <th>sim_management</th>\n",
              "      <td>16</td>\n",
              "      <td>[15]</td>\n",
              "      <td>0.152324</td>\n",
              "      <td>0.149277</td>\n",
              "      <td>0.149277</td>\n",
              "    </tr>\n",
              "    <tr>\n",
              "      <th>sim_vehicle</th>\n",
              "      <td>17</td>\n",
              "      <td>[16]</td>\n",
              "      <td>0.132205</td>\n",
              "      <td>0.127653</td>\n",
              "      <td>0.127653</td>\n",
              "    </tr>\n",
              "    <tr>\n",
              "      <th>strat_4x</th>\n",
              "      <td>18</td>\n",
              "      <td>[17]</td>\n",
              "      <td>0.011308</td>\n",
              "      <td>0.011087</td>\n",
              "      <td>0.011087</td>\n",
              "    </tr>\n",
              "    <tr>\n",
              "      <th>strat_rts_tbs</th>\n",
              "      <td>19</td>\n",
              "      <td>[17]</td>\n",
              "      <td>0.109002</td>\n",
              "      <td>0.106212</td>\n",
              "      <td>0.106212</td>\n",
              "    </tr>\n",
              "    <tr>\n",
              "      <th>sports</th>\n",
              "      <td>20</td>\n",
              "      <td>[18]</td>\n",
              "      <td>0.061532</td>\n",
              "      <td>0.060026</td>\n",
              "      <td>0.058595</td>\n",
              "    </tr>\n",
              "    <tr>\n",
              "      <th>sports_names</th>\n",
              "      <td>21</td>\n",
              "      <td>[18]</td>\n",
              "      <td>0.358139</td>\n",
              "      <td>0.331522</td>\n",
              "      <td>0.330090</td>\n",
              "    </tr>\n",
              "    <tr>\n",
              "      <th>puzzle</th>\n",
              "      <td>22</td>\n",
              "      <td>[19]</td>\n",
              "      <td>0.247926</td>\n",
              "      <td>0.239041</td>\n",
              "      <td>0.239041</td>\n",
              "    </tr>\n",
              "    <tr>\n",
              "      <th>casual_party</th>\n",
              "      <td>23</td>\n",
              "      <td>[20]</td>\n",
              "      <td>0.366914</td>\n",
              "      <td>0.345363</td>\n",
              "      <td>0.345363</td>\n",
              "    </tr>\n",
              "    <tr>\n",
              "      <th>casual_family</th>\n",
              "      <td>24</td>\n",
              "      <td>[21]</td>\n",
              "      <td>0.104670</td>\n",
              "      <td>0.099971</td>\n",
              "      <td>0.099971</td>\n",
              "    </tr>\n",
              "  </tbody>\n",
              "</table>\n",
              "</div>"
            ],
            "text/plain": [
              "                   j Polarity  Coverage  Overlaps  Conflicts\n",
              "platformer         0      [0]  0.095381  0.091967   0.091967\n",
              "shooter_fps        1      [1]  0.253947  0.233424   0.233424\n",
              "shooter_tps        2      [1]  0.003231  0.003231   0.003231\n",
              "arcade             3      [2]  0.047654  0.044019   0.044019\n",
              "fighting           4      [3]  0.091967  0.088773   0.088773\n",
              "stealth            5      [4]  0.170974  0.166128   0.166128\n",
              "survival           6      [5]  0.074969  0.072766   0.072766\n",
              "horror             7      [6]  0.225017  0.216829   0.216829\n",
              "rhythm             8      [7]  0.118364  0.113628   0.113628\n",
              "action_adventure   9      [8]  0.262611  0.249615   0.249615\n",
              "visual_novels     10      [9]  0.000587  0.000551   0.000551\n",
              "rpg_action        11     [10]  0.035392  0.034437   0.034437\n",
              "rpg_mmo           12     [11]  0.136060  0.133527   0.133527\n",
              "rpg_roguelike     13     [12]  0.041670  0.040972   0.040972\n",
              "rpg_tactical      14     [13]  0.124936  0.120347   0.120347\n",
              "rpg_sandbox       15     [14]  0.277590  0.267861   0.267861\n",
              "sim_management    16     [15]  0.152324  0.149277   0.149277\n",
              "sim_vehicle       17     [16]  0.132205  0.127653   0.127653\n",
              "strat_4x          18     [17]  0.011308  0.011087   0.011087\n",
              "strat_rts_tbs     19     [17]  0.109002  0.106212   0.106212\n",
              "sports            20     [18]  0.061532  0.060026   0.058595\n",
              "sports_names      21     [18]  0.358139  0.331522   0.330090\n",
              "puzzle            22     [19]  0.247926  0.239041   0.239041\n",
              "casual_party      23     [20]  0.366914  0.345363   0.345363\n",
              "casual_family     24     [21]  0.104670  0.099971   0.099971"
            ]
          },
          "metadata": {
            "tags": []
          },
          "execution_count": 18
        }
      ]
    },
    {
      "cell_type": "markdown",
      "metadata": {
        "id": "roplyY1nK1I2",
        "colab_type": "text"
      },
      "source": [
        "### Majority label model"
      ]
    },
    {
      "cell_type": "code",
      "metadata": {
        "id": "X50qPvF0K1I2",
        "colab_type": "code",
        "colab": {}
      },
      "source": [
        "majority_model = MajorityLabelVoter(cardinality=cardinality, verbose=True) # cardinality = number of categories\n",
        "preds_train_majority = majority_model.predict(L=L_train)"
      ],
      "execution_count": 0,
      "outputs": []
    },
    {
      "cell_type": "code",
      "metadata": {
        "id": "N9FdJPYaK1I4",
        "colab_type": "code",
        "outputId": "2e0f4611-3e42-4b3a-80b0-5543d067c3e5",
        "colab": {
          "base_uri": "https://localhost:8080/"
        }
      },
      "source": [
        "preds_train_majority[230:270]"
      ],
      "execution_count": 0,
      "outputs": [
        {
          "output_type": "execute_result",
          "data": {
            "text/plain": [
              "array([-1, 17, -1, -1, -1, -1, -1, -1, -1, -1, -1, -1,  8, -1, -1, -1, -1,\n",
              "       -1, -1, -1, -1, -1, -1, 18, -1, -1, -1, -1, -1, -1, -1, 18, -1, -1,\n",
              "       -1, -1, -1, -1, -1, 18])"
            ]
          },
          "metadata": {
            "tags": []
          },
          "execution_count": 20
        }
      ]
    },
    {
      "cell_type": "markdown",
      "metadata": {
        "id": "vXAksE35K1I5",
        "colab_type": "text"
      },
      "source": [
        "### Snorkel LabelModel"
      ]
    },
    {
      "cell_type": "code",
      "metadata": {
        "id": "GLDZYRHmK1I6",
        "colab_type": "code",
        "colab": {}
      },
      "source": [
        "label_model = LabelModel(cardinality=cardinality, verbose=True)\n",
        "label_model.fit(L_train=L_train, n_epochs=500, log_freq=100, seed=2020)"
      ],
      "execution_count": 0,
      "outputs": []
    },
    {
      "cell_type": "markdown",
      "metadata": {
        "id": "dHZtMCp-uu_U",
        "colab_type": "text"
      },
      "source": [
        "### Predict on selected model"
      ]
    },
    {
      "cell_type": "code",
      "metadata": {
        "id": "ufsPo6p1UsEZ",
        "colab_type": "code",
        "colab": {}
      },
      "source": [
        "preds_train_label = label_model.predict(L=L_train)"
      ],
      "execution_count": 0,
      "outputs": []
    },
    {
      "cell_type": "code",
      "metadata": {
        "id": "WgqsCvS3Uzo6",
        "colab_type": "code",
        "outputId": "2ba7d9ad-21ef-479b-8236-8aa13f1478af",
        "colab": {
          "base_uri": "https://localhost:8080/"
        }
      },
      "source": [
        "preds_train_label[230:270]"
      ],
      "execution_count": 0,
      "outputs": [
        {
          "output_type": "execute_result",
          "data": {
            "text/plain": [
              "array([18, 18, 18, 18,  1,  8, -1, 13, 20, 18, 18, 20,  8, 18, 18, -1, 18,\n",
              "       18, 18, 18, 18, 18, 18, 18, 18, 18,  3, 18, 18, 18, -1, 18, 18, -1,\n",
              "       19, 18, 18, 20, 18, 18])"
            ]
          },
          "metadata": {
            "tags": []
          },
          "execution_count": 23
        }
      ]
    },
    {
      "cell_type": "markdown",
      "metadata": {
        "id": "NqVHzjAduy2D",
        "colab_type": "text"
      },
      "source": [
        "### Explore predictions"
      ]
    },
    {
      "cell_type": "markdown",
      "metadata": {
        "id": "32rxkIlQK1I8",
        "colab_type": "text"
      },
      "source": [
        "#### Explore snokrel predicted features"
      ]
    },
    {
      "cell_type": "code",
      "metadata": {
        "id": "DPhZOzp7K1I9",
        "colab_type": "code",
        "outputId": "a6061eec-5a66-4792-87b6-9b053c05fe66",
        "colab": {
          "base_uri": "https://localhost:8080/"
        }
      },
      "source": [
        "feats_class = pd.DataFrame({\"class\":preds_train_label,\"text\":feats[\"text\"]})\n",
        "feats_class"
      ],
      "execution_count": 0,
      "outputs": [
        {
          "output_type": "execute_result",
          "data": {
            "text/html": [
              "<div>\n",
              "<style scoped>\n",
              "    .dataframe tbody tr th:only-of-type {\n",
              "        vertical-align: middle;\n",
              "    }\n",
              "\n",
              "    .dataframe tbody tr th {\n",
              "        vertical-align: top;\n",
              "    }\n",
              "\n",
              "    .dataframe thead th {\n",
              "        text-align: right;\n",
              "    }\n",
              "</style>\n",
              "<table border=\"1\" class=\"dataframe\">\n",
              "  <thead>\n",
              "    <tr style=\"text-align: right;\">\n",
              "      <th></th>\n",
              "      <th>class</th>\n",
              "      <th>text</th>\n",
              "    </tr>\n",
              "  </thead>\n",
              "  <tbody>\n",
              "    <tr>\n",
              "      <th>0</th>\n",
              "      <td>6</td>\n",
              "      <td>Phonics Alive! 3, The Speller teaches students...</td>\n",
              "    </tr>\n",
              "    <tr>\n",
              "      <th>1</th>\n",
              "      <td>-1</td>\n",
              "      <td>CD-ROM</td>\n",
              "    </tr>\n",
              "    <tr>\n",
              "      <th>2</th>\n",
              "      <td>-1</td>\n",
              "      <td>video game</td>\n",
              "    </tr>\n",
              "    <tr>\n",
              "      <th>3</th>\n",
              "      <td>20</td>\n",
              "      <td>Grandma Groupers kelp seeds are missing and wi...</td>\n",
              "    </tr>\n",
              "    <tr>\n",
              "      <th>4</th>\n",
              "      <td>-1</td>\n",
              "      <td>This software is BRAND NEW. Packaging may diff...</td>\n",
              "    </tr>\n",
              "    <tr>\n",
              "      <th>...</th>\n",
              "      <td>...</td>\n",
              "      <td>...</td>\n",
              "    </tr>\n",
              "    <tr>\n",
              "      <th>27233</th>\n",
              "      <td>18</td>\n",
              "      <td>OlliOlli: Epic Combo Edition includes a gold l...</td>\n",
              "    </tr>\n",
              "    <tr>\n",
              "      <th>27234</th>\n",
              "      <td>18</td>\n",
              "      <td>Return to the cities of Rapture and Columbia ...</td>\n",
              "    </tr>\n",
              "    <tr>\n",
              "      <th>27235</th>\n",
              "      <td>18</td>\n",
              "      <td>Experience explosive airborne action, high in ...</td>\n",
              "    </tr>\n",
              "    <tr>\n",
              "      <th>27236</th>\n",
              "      <td>18</td>\n",
              "      <td>Return to the cities of Rapture and Columbia ...</td>\n",
              "    </tr>\n",
              "    <tr>\n",
              "      <th>27237</th>\n",
              "      <td>18</td>\n",
              "      <td>All-new game modes, new and deeper experiences...</td>\n",
              "    </tr>\n",
              "  </tbody>\n",
              "</table>\n",
              "<p>27238 rows × 2 columns</p>\n",
              "</div>"
            ],
            "text/plain": [
              "       class                                               text\n",
              "0          6  Phonics Alive! 3, The Speller teaches students...\n",
              "1         -1                                             CD-ROM\n",
              "2         -1                                         video game\n",
              "3         20  Grandma Groupers kelp seeds are missing and wi...\n",
              "4         -1  This software is BRAND NEW. Packaging may diff...\n",
              "...      ...                                                ...\n",
              "27233     18  OlliOlli: Epic Combo Edition includes a gold l...\n",
              "27234     18   Return to the cities of Rapture and Columbia ...\n",
              "27235     18  Experience explosive airborne action, high in ...\n",
              "27236     18   Return to the cities of Rapture and Columbia ...\n",
              "27237     18  All-new game modes, new and deeper experiences...\n",
              "\n",
              "[27238 rows x 2 columns]"
            ]
          },
          "metadata": {
            "tags": []
          },
          "execution_count": 24
        }
      ]
    },
    {
      "cell_type": "code",
      "metadata": {
        "id": "tRDN7H1-K1I-",
        "colab_type": "code",
        "outputId": "4f607473-d853-4a85-9918-7d1dd8fe8223",
        "colab": {
          "base_uri": "https://localhost:8080/"
        }
      },
      "source": [
        "feats_class.groupby(['class']).size().reset_index(name='counts')"
      ],
      "execution_count": 0,
      "outputs": [
        {
          "output_type": "execute_result",
          "data": {
            "text/html": [
              "<div>\n",
              "<style scoped>\n",
              "    .dataframe tbody tr th:only-of-type {\n",
              "        vertical-align: middle;\n",
              "    }\n",
              "\n",
              "    .dataframe tbody tr th {\n",
              "        vertical-align: top;\n",
              "    }\n",
              "\n",
              "    .dataframe thead th {\n",
              "        text-align: right;\n",
              "    }\n",
              "</style>\n",
              "<table border=\"1\" class=\"dataframe\">\n",
              "  <thead>\n",
              "    <tr style=\"text-align: right;\">\n",
              "      <th></th>\n",
              "      <th>class</th>\n",
              "      <th>counts</th>\n",
              "    </tr>\n",
              "  </thead>\n",
              "  <tbody>\n",
              "    <tr>\n",
              "      <th>0</th>\n",
              "      <td>-1</td>\n",
              "      <td>4076</td>\n",
              "    </tr>\n",
              "    <tr>\n",
              "      <th>1</th>\n",
              "      <td>0</td>\n",
              "      <td>302</td>\n",
              "    </tr>\n",
              "    <tr>\n",
              "      <th>2</th>\n",
              "      <td>1</td>\n",
              "      <td>994</td>\n",
              "    </tr>\n",
              "    <tr>\n",
              "      <th>3</th>\n",
              "      <td>2</td>\n",
              "      <td>207</td>\n",
              "    </tr>\n",
              "    <tr>\n",
              "      <th>4</th>\n",
              "      <td>3</td>\n",
              "      <td>302</td>\n",
              "    </tr>\n",
              "    <tr>\n",
              "      <th>5</th>\n",
              "      <td>4</td>\n",
              "      <td>491</td>\n",
              "    </tr>\n",
              "    <tr>\n",
              "      <th>6</th>\n",
              "      <td>5</td>\n",
              "      <td>232</td>\n",
              "    </tr>\n",
              "    <tr>\n",
              "      <th>7</th>\n",
              "      <td>6</td>\n",
              "      <td>917</td>\n",
              "    </tr>\n",
              "    <tr>\n",
              "      <th>8</th>\n",
              "      <td>7</td>\n",
              "      <td>393</td>\n",
              "    </tr>\n",
              "    <tr>\n",
              "      <th>9</th>\n",
              "      <td>8</td>\n",
              "      <td>1183</td>\n",
              "    </tr>\n",
              "    <tr>\n",
              "      <th>10</th>\n",
              "      <td>9</td>\n",
              "      <td>2</td>\n",
              "    </tr>\n",
              "    <tr>\n",
              "      <th>11</th>\n",
              "      <td>10</td>\n",
              "      <td>70</td>\n",
              "    </tr>\n",
              "    <tr>\n",
              "      <th>12</th>\n",
              "      <td>11</td>\n",
              "      <td>237</td>\n",
              "    </tr>\n",
              "    <tr>\n",
              "      <th>13</th>\n",
              "      <td>12</td>\n",
              "      <td>60</td>\n",
              "    </tr>\n",
              "    <tr>\n",
              "      <th>14</th>\n",
              "      <td>13</td>\n",
              "      <td>371</td>\n",
              "    </tr>\n",
              "    <tr>\n",
              "      <th>15</th>\n",
              "      <td>14</td>\n",
              "      <td>843</td>\n",
              "    </tr>\n",
              "    <tr>\n",
              "      <th>16</th>\n",
              "      <td>15</td>\n",
              "      <td>340</td>\n",
              "    </tr>\n",
              "    <tr>\n",
              "      <th>17</th>\n",
              "      <td>16</td>\n",
              "      <td>344</td>\n",
              "    </tr>\n",
              "    <tr>\n",
              "      <th>18</th>\n",
              "      <td>17</td>\n",
              "      <td>371</td>\n",
              "    </tr>\n",
              "    <tr>\n",
              "      <th>19</th>\n",
              "      <td>18</td>\n",
              "      <td>11335</td>\n",
              "    </tr>\n",
              "    <tr>\n",
              "      <th>20</th>\n",
              "      <td>19</td>\n",
              "      <td>1087</td>\n",
              "    </tr>\n",
              "    <tr>\n",
              "      <th>21</th>\n",
              "      <td>20</td>\n",
              "      <td>2730</td>\n",
              "    </tr>\n",
              "    <tr>\n",
              "      <th>22</th>\n",
              "      <td>21</td>\n",
              "      <td>351</td>\n",
              "    </tr>\n",
              "  </tbody>\n",
              "</table>\n",
              "</div>"
            ],
            "text/plain": [
              "    class  counts\n",
              "0      -1    4076\n",
              "1       0     302\n",
              "2       1     994\n",
              "3       2     207\n",
              "4       3     302\n",
              "5       4     491\n",
              "6       5     232\n",
              "7       6     917\n",
              "8       7     393\n",
              "9       8    1183\n",
              "10      9       2\n",
              "11     10      70\n",
              "12     11     237\n",
              "13     12      60\n",
              "14     13     371\n",
              "15     14     843\n",
              "16     15     340\n",
              "17     16     344\n",
              "18     17     371\n",
              "19     18   11335\n",
              "20     19    1087\n",
              "21     20    2730\n",
              "22     21     351"
            ]
          },
          "metadata": {
            "tags": []
          },
          "execution_count": 25
        }
      ]
    },
    {
      "cell_type": "markdown",
      "metadata": {
        "id": "5jCGNLtYB-9X",
        "colab_type": "text"
      },
      "source": [
        "#### Filter for non-abstained"
      ]
    },
    {
      "cell_type": "code",
      "metadata": {
        "id": "sDGIoNVUyLxx",
        "colab_type": "code",
        "colab": {}
      },
      "source": [
        "feats_class_filtered = feats_class[feats_class['class'] != -1]"
      ],
      "execution_count": 0,
      "outputs": []
    },
    {
      "cell_type": "code",
      "metadata": {
        "id": "G0SP4eQwymXB",
        "colab_type": "code",
        "outputId": "67eb80b3-cce7-4f23-cbdd-692217c50e30",
        "colab": {
          "base_uri": "https://localhost:8080/"
        }
      },
      "source": [
        "feats_class_filtered"
      ],
      "execution_count": 0,
      "outputs": [
        {
          "output_type": "execute_result",
          "data": {
            "text/html": [
              "<div>\n",
              "<style scoped>\n",
              "    .dataframe tbody tr th:only-of-type {\n",
              "        vertical-align: middle;\n",
              "    }\n",
              "\n",
              "    .dataframe tbody tr th {\n",
              "        vertical-align: top;\n",
              "    }\n",
              "\n",
              "    .dataframe thead th {\n",
              "        text-align: right;\n",
              "    }\n",
              "</style>\n",
              "<table border=\"1\" class=\"dataframe\">\n",
              "  <thead>\n",
              "    <tr style=\"text-align: right;\">\n",
              "      <th></th>\n",
              "      <th>class</th>\n",
              "      <th>text</th>\n",
              "    </tr>\n",
              "  </thead>\n",
              "  <tbody>\n",
              "    <tr>\n",
              "      <th>0</th>\n",
              "      <td>6</td>\n",
              "      <td>Phonics Alive! 3, The Speller teaches students...</td>\n",
              "    </tr>\n",
              "    <tr>\n",
              "      <th>3</th>\n",
              "      <td>20</td>\n",
              "      <td>Grandma Groupers kelp seeds are missing and wi...</td>\n",
              "    </tr>\n",
              "    <tr>\n",
              "      <th>5</th>\n",
              "      <td>20</td>\n",
              "      <td>OREGON TRAIL 5TH EDITION (JEWEL CASE). Create ...</td>\n",
              "    </tr>\n",
              "    <tr>\n",
              "      <th>6</th>\n",
              "      <td>18</td>\n",
              "      <td>Product Description Your ship has crash-landed...</td>\n",
              "    </tr>\n",
              "    <tr>\n",
              "      <th>8</th>\n",
              "      <td>18</td>\n",
              "      <td>There is so much to do on LEGO Island: buildin...</td>\n",
              "    </tr>\n",
              "    <tr>\n",
              "      <th>...</th>\n",
              "      <td>...</td>\n",
              "      <td>...</td>\n",
              "    </tr>\n",
              "    <tr>\n",
              "      <th>27233</th>\n",
              "      <td>18</td>\n",
              "      <td>OlliOlli: Epic Combo Edition includes a gold l...</td>\n",
              "    </tr>\n",
              "    <tr>\n",
              "      <th>27234</th>\n",
              "      <td>18</td>\n",
              "      <td>Return to the cities of Rapture and Columbia ...</td>\n",
              "    </tr>\n",
              "    <tr>\n",
              "      <th>27235</th>\n",
              "      <td>18</td>\n",
              "      <td>Experience explosive airborne action, high in ...</td>\n",
              "    </tr>\n",
              "    <tr>\n",
              "      <th>27236</th>\n",
              "      <td>18</td>\n",
              "      <td>Return to the cities of Rapture and Columbia ...</td>\n",
              "    </tr>\n",
              "    <tr>\n",
              "      <th>27237</th>\n",
              "      <td>18</td>\n",
              "      <td>All-new game modes, new and deeper experiences...</td>\n",
              "    </tr>\n",
              "  </tbody>\n",
              "</table>\n",
              "<p>23162 rows × 2 columns</p>\n",
              "</div>"
            ],
            "text/plain": [
              "       class                                               text\n",
              "0          6  Phonics Alive! 3, The Speller teaches students...\n",
              "3         20  Grandma Groupers kelp seeds are missing and wi...\n",
              "5         20  OREGON TRAIL 5TH EDITION (JEWEL CASE). Create ...\n",
              "6         18  Product Description Your ship has crash-landed...\n",
              "8         18  There is so much to do on LEGO Island: buildin...\n",
              "...      ...                                                ...\n",
              "27233     18  OlliOlli: Epic Combo Edition includes a gold l...\n",
              "27234     18   Return to the cities of Rapture and Columbia ...\n",
              "27235     18  Experience explosive airborne action, high in ...\n",
              "27236     18   Return to the cities of Rapture and Columbia ...\n",
              "27237     18  All-new game modes, new and deeper experiences...\n",
              "\n",
              "[23162 rows x 2 columns]"
            ]
          },
          "metadata": {
            "tags": []
          },
          "execution_count": 27
        }
      ]
    },
    {
      "cell_type": "markdown",
      "metadata": {
        "id": "4byuqZEcK1JE",
        "colab_type": "text"
      },
      "source": [
        "### Split the data into train / test"
      ]
    },
    {
      "cell_type": "code",
      "metadata": {
        "id": "qjD6J4jOK1JE",
        "colab_type": "code",
        "outputId": "b1b83491-72ba-415d-fa36-f90f18967983",
        "colab": {
          "base_uri": "https://localhost:8080/"
        }
      },
      "source": [
        "df_train, df_test = train_test_split(feats_class_filtered, test_size=0.2, random_state=100)\n",
        "\n",
        "# Create label vectors\n",
        "Y_train = df_train[\"class\"].values\n",
        "Y_test = df_test[\"class\"].values\n",
        "\n",
        "print (\"Train Size:\", df_train.shape)\n",
        "print (\"Test Size:\", df_test.shape)"
      ],
      "execution_count": 0,
      "outputs": [
        {
          "output_type": "stream",
          "text": [
            "Train Size: (18529, 2)\n",
            "Test Size: (4633, 2)\n"
          ],
          "name": "stdout"
        }
      ]
    },
    {
      "cell_type": "code",
      "metadata": {
        "id": "i8M3DCFaK1JG",
        "colab_type": "code",
        "outputId": "cb9553bd-7840-4a21-9f3d-df2f4dedf054",
        "colab": {
          "base_uri": "https://localhost:8080/"
        }
      },
      "source": [
        "applier = PandasLFApplier(lfs=lfs)\n",
        "L_train = applier.apply(df=df_train)\n",
        "L_test = applier.apply(df=df_test)\n",
        "\n",
        "LFAnalysis(L_train, lfs).lf_summary()"
      ],
      "execution_count": 0,
      "outputs": [
        {
          "output_type": "stream",
          "text": [
            "100%|██████████| 18529/18529 [00:34<00:00, 543.41it/s]\n",
            "100%|██████████| 4633/4633 [00:08<00:00, 547.27it/s]\n"
          ],
          "name": "stderr"
        },
        {
          "output_type": "execute_result",
          "data": {
            "text/html": [
              "<div>\n",
              "<style scoped>\n",
              "    .dataframe tbody tr th:only-of-type {\n",
              "        vertical-align: middle;\n",
              "    }\n",
              "\n",
              "    .dataframe tbody tr th {\n",
              "        vertical-align: top;\n",
              "    }\n",
              "\n",
              "    .dataframe thead th {\n",
              "        text-align: right;\n",
              "    }\n",
              "</style>\n",
              "<table border=\"1\" class=\"dataframe\">\n",
              "  <thead>\n",
              "    <tr style=\"text-align: right;\">\n",
              "      <th></th>\n",
              "      <th>j</th>\n",
              "      <th>Polarity</th>\n",
              "      <th>Coverage</th>\n",
              "      <th>Overlaps</th>\n",
              "      <th>Conflicts</th>\n",
              "    </tr>\n",
              "  </thead>\n",
              "  <tbody>\n",
              "    <tr>\n",
              "      <th>platformer</th>\n",
              "      <td>0</td>\n",
              "      <td>[0]</td>\n",
              "      <td>0.112256</td>\n",
              "      <td>0.107777</td>\n",
              "      <td>0.107777</td>\n",
              "    </tr>\n",
              "    <tr>\n",
              "      <th>shooter_fps</th>\n",
              "      <td>1</td>\n",
              "      <td>[1]</td>\n",
              "      <td>0.301042</td>\n",
              "      <td>0.276863</td>\n",
              "      <td>0.276863</td>\n",
              "    </tr>\n",
              "    <tr>\n",
              "      <th>shooter_tps</th>\n",
              "      <td>2</td>\n",
              "      <td>[1]</td>\n",
              "      <td>0.003940</td>\n",
              "      <td>0.003940</td>\n",
              "      <td>0.003940</td>\n",
              "    </tr>\n",
              "    <tr>\n",
              "      <th>arcade</th>\n",
              "      <td>3</td>\n",
              "      <td>[2]</td>\n",
              "      <td>0.054455</td>\n",
              "      <td>0.050407</td>\n",
              "      <td>0.050407</td>\n",
              "    </tr>\n",
              "    <tr>\n",
              "      <th>fighting</th>\n",
              "      <td>4</td>\n",
              "      <td>[3]</td>\n",
              "      <td>0.108155</td>\n",
              "      <td>0.104539</td>\n",
              "      <td>0.104539</td>\n",
              "    </tr>\n",
              "    <tr>\n",
              "      <th>stealth</th>\n",
              "      <td>5</td>\n",
              "      <td>[4]</td>\n",
              "      <td>0.200982</td>\n",
              "      <td>0.195315</td>\n",
              "      <td>0.195315</td>\n",
              "    </tr>\n",
              "    <tr>\n",
              "      <th>survival</th>\n",
              "      <td>6</td>\n",
              "      <td>[5]</td>\n",
              "      <td>0.086999</td>\n",
              "      <td>0.084624</td>\n",
              "      <td>0.084624</td>\n",
              "    </tr>\n",
              "    <tr>\n",
              "      <th>horror</th>\n",
              "      <td>7</td>\n",
              "      <td>[6]</td>\n",
              "      <td>0.263803</td>\n",
              "      <td>0.254304</td>\n",
              "      <td>0.254304</td>\n",
              "    </tr>\n",
              "    <tr>\n",
              "      <th>rhythm</th>\n",
              "      <td>8</td>\n",
              "      <td>[7]</td>\n",
              "      <td>0.138863</td>\n",
              "      <td>0.133466</td>\n",
              "      <td>0.133466</td>\n",
              "    </tr>\n",
              "    <tr>\n",
              "      <th>action_adventure</th>\n",
              "      <td>9</td>\n",
              "      <td>[8]</td>\n",
              "      <td>0.307356</td>\n",
              "      <td>0.291921</td>\n",
              "      <td>0.291921</td>\n",
              "    </tr>\n",
              "    <tr>\n",
              "      <th>visual_novels</th>\n",
              "      <td>10</td>\n",
              "      <td>[9]</td>\n",
              "      <td>0.000594</td>\n",
              "      <td>0.000540</td>\n",
              "      <td>0.000540</td>\n",
              "    </tr>\n",
              "    <tr>\n",
              "      <th>rpg_action</th>\n",
              "      <td>11</td>\n",
              "      <td>[10]</td>\n",
              "      <td>0.042258</td>\n",
              "      <td>0.041233</td>\n",
              "      <td>0.041233</td>\n",
              "    </tr>\n",
              "    <tr>\n",
              "      <th>rpg_mmo</th>\n",
              "      <td>12</td>\n",
              "      <td>[11]</td>\n",
              "      <td>0.160343</td>\n",
              "      <td>0.157051</td>\n",
              "      <td>0.157051</td>\n",
              "    </tr>\n",
              "    <tr>\n",
              "      <th>rpg_roguelike</th>\n",
              "      <td>13</td>\n",
              "      <td>[12]</td>\n",
              "      <td>0.048950</td>\n",
              "      <td>0.048303</td>\n",
              "      <td>0.048303</td>\n",
              "    </tr>\n",
              "    <tr>\n",
              "      <th>rpg_tactical</th>\n",
              "      <td>14</td>\n",
              "      <td>[13]</td>\n",
              "      <td>0.149172</td>\n",
              "      <td>0.143613</td>\n",
              "      <td>0.143613</td>\n",
              "    </tr>\n",
              "    <tr>\n",
              "      <th>rpg_sandbox</th>\n",
              "      <td>15</td>\n",
              "      <td>[14]</td>\n",
              "      <td>0.326623</td>\n",
              "      <td>0.315397</td>\n",
              "      <td>0.315397</td>\n",
              "    </tr>\n",
              "    <tr>\n",
              "      <th>sim_management</th>\n",
              "      <td>16</td>\n",
              "      <td>[15]</td>\n",
              "      <td>0.178477</td>\n",
              "      <td>0.175077</td>\n",
              "      <td>0.175077</td>\n",
              "    </tr>\n",
              "    <tr>\n",
              "      <th>sim_vehicle</th>\n",
              "      <td>17</td>\n",
              "      <td>[16]</td>\n",
              "      <td>0.154676</td>\n",
              "      <td>0.149226</td>\n",
              "      <td>0.149226</td>\n",
              "    </tr>\n",
              "    <tr>\n",
              "      <th>strat_4x</th>\n",
              "      <td>18</td>\n",
              "      <td>[17]</td>\n",
              "      <td>0.013115</td>\n",
              "      <td>0.012791</td>\n",
              "      <td>0.012791</td>\n",
              "    </tr>\n",
              "    <tr>\n",
              "      <th>strat_rts_tbs</th>\n",
              "      <td>19</td>\n",
              "      <td>[17]</td>\n",
              "      <td>0.128177</td>\n",
              "      <td>0.125101</td>\n",
              "      <td>0.125101</td>\n",
              "    </tr>\n",
              "    <tr>\n",
              "      <th>sports</th>\n",
              "      <td>20</td>\n",
              "      <td>[18]</td>\n",
              "      <td>0.073884</td>\n",
              "      <td>0.072103</td>\n",
              "      <td>0.070268</td>\n",
              "    </tr>\n",
              "    <tr>\n",
              "      <th>sports_names</th>\n",
              "      <td>21</td>\n",
              "      <td>[18]</td>\n",
              "      <td>0.420260</td>\n",
              "      <td>0.389552</td>\n",
              "      <td>0.387717</td>\n",
              "    </tr>\n",
              "    <tr>\n",
              "      <th>puzzle</th>\n",
              "      <td>22</td>\n",
              "      <td>[19]</td>\n",
              "      <td>0.294511</td>\n",
              "      <td>0.283933</td>\n",
              "      <td>0.283933</td>\n",
              "    </tr>\n",
              "    <tr>\n",
              "      <th>casual_party</th>\n",
              "      <td>23</td>\n",
              "      <td>[20]</td>\n",
              "      <td>0.429327</td>\n",
              "      <td>0.403745</td>\n",
              "      <td>0.403745</td>\n",
              "    </tr>\n",
              "    <tr>\n",
              "      <th>casual_family</th>\n",
              "      <td>24</td>\n",
              "      <td>[21]</td>\n",
              "      <td>0.122025</td>\n",
              "      <td>0.116304</td>\n",
              "      <td>0.116304</td>\n",
              "    </tr>\n",
              "  </tbody>\n",
              "</table>\n",
              "</div>"
            ],
            "text/plain": [
              "                   j Polarity  Coverage  Overlaps  Conflicts\n",
              "platformer         0      [0]  0.112256  0.107777   0.107777\n",
              "shooter_fps        1      [1]  0.301042  0.276863   0.276863\n",
              "shooter_tps        2      [1]  0.003940  0.003940   0.003940\n",
              "arcade             3      [2]  0.054455  0.050407   0.050407\n",
              "fighting           4      [3]  0.108155  0.104539   0.104539\n",
              "stealth            5      [4]  0.200982  0.195315   0.195315\n",
              "survival           6      [5]  0.086999  0.084624   0.084624\n",
              "horror             7      [6]  0.263803  0.254304   0.254304\n",
              "rhythm             8      [7]  0.138863  0.133466   0.133466\n",
              "action_adventure   9      [8]  0.307356  0.291921   0.291921\n",
              "visual_novels     10      [9]  0.000594  0.000540   0.000540\n",
              "rpg_action        11     [10]  0.042258  0.041233   0.041233\n",
              "rpg_mmo           12     [11]  0.160343  0.157051   0.157051\n",
              "rpg_roguelike     13     [12]  0.048950  0.048303   0.048303\n",
              "rpg_tactical      14     [13]  0.149172  0.143613   0.143613\n",
              "rpg_sandbox       15     [14]  0.326623  0.315397   0.315397\n",
              "sim_management    16     [15]  0.178477  0.175077   0.175077\n",
              "sim_vehicle       17     [16]  0.154676  0.149226   0.149226\n",
              "strat_4x          18     [17]  0.013115  0.012791   0.012791\n",
              "strat_rts_tbs     19     [17]  0.128177  0.125101   0.125101\n",
              "sports            20     [18]  0.073884  0.072103   0.070268\n",
              "sports_names      21     [18]  0.420260  0.389552   0.387717\n",
              "puzzle            22     [19]  0.294511  0.283933   0.283933\n",
              "casual_party      23     [20]  0.429327  0.403745   0.403745\n",
              "casual_family     24     [21]  0.122025  0.116304   0.116304"
            ]
          },
          "metadata": {
            "tags": []
          },
          "execution_count": 29
        }
      ]
    },
    {
      "cell_type": "markdown",
      "metadata": {
        "id": "4-WRiyx5K1JI",
        "colab_type": "text"
      },
      "source": [
        "#### Applying Majority Model"
      ]
    },
    {
      "cell_type": "code",
      "metadata": {
        "id": "CqYxCX3lK1JI",
        "colab_type": "code",
        "colab": {}
      },
      "source": [
        "majority_model_train = MajorityLabelVoter(cardinality=cardinality, verbose=True) # cardinality = number of categories\n",
        "preds_train_model_train = majority_model_train.predict(L=L_train)"
      ],
      "execution_count": 0,
      "outputs": []
    },
    {
      "cell_type": "markdown",
      "metadata": {
        "id": "26f6tmXAK1JK",
        "colab_type": "text"
      },
      "source": [
        "#### Applying Snorkel LabelModel"
      ]
    },
    {
      "cell_type": "code",
      "metadata": {
        "id": "t7-JnphQK1JK",
        "colab_type": "code",
        "colab": {}
      },
      "source": [
        "label_model_train = LabelModel(cardinality=cardinality, verbose=True)\n",
        "label_model_train.fit(L_train=L_train, n_epochs=500, log_freq=100, seed=123)"
      ],
      "execution_count": 0,
      "outputs": []
    },
    {
      "cell_type": "code",
      "metadata": {
        "id": "ChbcNO9uxHow",
        "colab_type": "code",
        "outputId": "453354d8-746d-4a53-8dbc-57e8ecc66be5",
        "colab": {
          "base_uri": "https://localhost:8080/"
        }
      },
      "source": [
        "ls = []\n",
        "for i in L_train.tolist():\n",
        "  for j in i:\n",
        "    if j not in ls:\n",
        "      ls.append(j)\n",
        "    else:\n",
        "      continue\n",
        "set(ls)"
      ],
      "execution_count": 0,
      "outputs": [
        {
          "output_type": "execute_result",
          "data": {
            "text/plain": [
              "{-1,\n",
              " 0,\n",
              " 1,\n",
              " 2,\n",
              " 3,\n",
              " 4,\n",
              " 5,\n",
              " 6,\n",
              " 7,\n",
              " 8,\n",
              " 9,\n",
              " 10,\n",
              " 11,\n",
              " 12,\n",
              " 13,\n",
              " 14,\n",
              " 15,\n",
              " 16,\n",
              " 17,\n",
              " 18,\n",
              " 19,\n",
              " 20,\n",
              " 21}"
            ]
          },
          "metadata": {
            "tags": []
          },
          "execution_count": 32
        }
      ]
    },
    {
      "cell_type": "markdown",
      "metadata": {
        "id": "ggEPUxlZK1JM",
        "colab_type": "text"
      },
      "source": [
        "#### Comparing model performance accuracy on labeled data  \n",
        "These tweets have not been properly labeled, so the accuracy will not be really indicative of the model performance"
      ]
    },
    {
      "cell_type": "code",
      "metadata": {
        "id": "PkzX7o2mK1JM",
        "colab_type": "code",
        "outputId": "c4fe7c9a-e879-4ba6-86f7-98e0cf9a7016",
        "colab": {
          "base_uri": "https://localhost:8080/"
        }
      },
      "source": [
        "majority_acc = majority_model_train.score(L=L_test, Y=Y_test, tie_break_policy=\"random\")[\n",
        "    \"accuracy\"\n",
        "]\n",
        "print(f\"{'Majority Vote Accuracy:':<25} {majority_acc * 100:.1f}%\")\n",
        "\n",
        "label_model_acc = label_model_train.score(L=L_test, Y=Y_test, tie_break_policy=\"random\")[\n",
        "    \"accuracy\"\n",
        "]\n",
        "print(f\"{'Label Model Accuracy:':<25} {label_model_acc * 100:.1f}%\")\n"
      ],
      "execution_count": 0,
      "outputs": [
        {
          "output_type": "stream",
          "text": [
            "Majority Vote Accuracy:   41.7%\n",
            "Label Model Accuracy:     91.5%\n"
          ],
          "name": "stdout"
        }
      ]
    },
    {
      "cell_type": "code",
      "metadata": {
        "id": "pLCoSP70K1JO",
        "colab_type": "code",
        "colab": {}
      },
      "source": [
        "probs_train_label = label_model_train.predict_proba(L_train)\n",
        "preds_label_model_train = label_model_train.predict(L=L_train)"
      ],
      "execution_count": 0,
      "outputs": []
    },
    {
      "cell_type": "code",
      "metadata": {
        "id": "cU2RuZWf_55y",
        "colab_type": "code",
        "outputId": "78538053-929c-4bdd-999d-4f914d077085",
        "colab": {
          "base_uri": "https://localhost:8080/"
        }
      },
      "source": [
        "set(preds_label_model_train)"
      ],
      "execution_count": 0,
      "outputs": [
        {
          "output_type": "execute_result",
          "data": {
            "text/plain": [
              "{0, 1, 2, 3, 4, 5, 6, 7, 8, 9, 10, 11, 12, 13, 14, 15, 16, 17, 18, 19, 20, 21}"
            ]
          },
          "metadata": {
            "tags": []
          },
          "execution_count": 35
        }
      ]
    },
    {
      "cell_type": "code",
      "metadata": {
        "id": "qrXNiaQSK1JQ",
        "colab_type": "code",
        "colab": {}
      },
      "source": [
        "df_train_filtered, probs_train_filtered = filter_unlabeled_dataframe(\n",
        "    X=df_train, y=probs_train_label, L=L_train\n",
        ")"
      ],
      "execution_count": 0,
      "outputs": []
    },
    {
      "cell_type": "code",
      "metadata": {
        "id": "xT581Lzm_v7q",
        "colab_type": "code",
        "outputId": "6ad31e45-2baf-409d-fbab-402173e66196",
        "colab": {
          "base_uri": "https://localhost:8080/"
        }
      },
      "source": [
        "probs_train_filtered.shape"
      ],
      "execution_count": 0,
      "outputs": [
        {
          "output_type": "execute_result",
          "data": {
            "text/plain": [
              "(18529, 25)"
            ]
          },
          "metadata": {
            "tags": []
          },
          "execution_count": 37
        }
      ]
    },
    {
      "cell_type": "markdown",
      "metadata": {
        "id": "zwrNcbCDK1JW",
        "colab_type": "text"
      },
      "source": [
        "## Training a Classifier on Snorkel Labels\n",
        "The output of the Snorkel LabelModel is just a set of labels which can be used with most popular libraries for performing supervised classification for NLP (i.e. Scikit-Learn, TensorFlow, Keras, PyTorch, etc.)"
      ]
    },
    {
      "cell_type": "markdown",
      "metadata": {
        "id": "z-JefjpMK1JW",
        "colab_type": "text"
      },
      "source": [
        "#### Vectorize the features"
      ]
    },
    {
      "cell_type": "code",
      "metadata": {
        "id": "XajYISlGK1JW",
        "colab_type": "code",
        "colab": {}
      },
      "source": [
        "vectorizer = CountVectorizer(ngram_range=(1, 3), stop_words=\"english\", max_df = 0.95)\n",
        "X_train_vec = vectorizer.fit_transform(df_train_filtered.text.tolist())\n",
        "X_test_vec = vectorizer.transform(df_test.text.tolist())"
      ],
      "execution_count": 0,
      "outputs": []
    },
    {
      "cell_type": "code",
      "metadata": {
        "id": "gjT-9BlVpVpT",
        "colab_type": "code",
        "colab": {}
      },
      "source": [
        "# Save vectorizer\n",
        "#dump(vectorizer,\"/content/drive/My Drive/MScA/Machine Learning/ML Final Project/Models/base_vectorizer_v2.joblib\")"
      ],
      "execution_count": 0,
      "outputs": []
    },
    {
      "cell_type": "code",
      "metadata": {
        "id": "UaAAprCSK1JY",
        "colab_type": "code",
        "colab": {}
      },
      "source": [
        "preds_train_filtered = probs_to_preds(probs=probs_train_filtered)"
      ],
      "execution_count": 0,
      "outputs": []
    },
    {
      "cell_type": "code",
      "metadata": {
        "id": "3uouhifA01ZT",
        "colab_type": "code",
        "outputId": "4c58ab0c-e536-4a2b-c40a-2c2c6a4bcc0a",
        "colab": {
          "base_uri": "https://localhost:8080/"
        }
      },
      "source": [
        "len(set(preds_train_filtered))"
      ],
      "execution_count": 0,
      "outputs": [
        {
          "output_type": "execute_result",
          "data": {
            "text/plain": [
              "22"
            ]
          },
          "metadata": {
            "tags": []
          },
          "execution_count": 41
        }
      ]
    },
    {
      "cell_type": "markdown",
      "metadata": {
        "id": "-kvj137pK1Ja",
        "colab_type": "text"
      },
      "source": [
        "### Naive Bayes Model"
      ]
    },
    {
      "cell_type": "code",
      "metadata": {
        "id": "zNvcYWImK1Ja",
        "colab_type": "code",
        "colab": {}
      },
      "source": [
        "# instantiate and train Multinomial Naive Bayes model\n",
        "nb = MultinomialNB()\n",
        "nb.fit(X=X_train_vec, y=preds_train_filtered)\n",
        "\n",
        "# make class predictions for X_test\n",
        "y_pred_class = nb.predict(X_test_vec)"
      ],
      "execution_count": 0,
      "outputs": []
    },
    {
      "cell_type": "code",
      "metadata": {
        "id": "qNP0PWf-K1Jd",
        "colab_type": "code",
        "outputId": "49d17547-e96b-4044-bf0b-c6980c327420",
        "colab": {
          "base_uri": "https://localhost:8080/"
        }
      },
      "source": [
        "print(f\"Test Accuracy: {metrics.accuracy_score(Y_test, y_pred_class) * 100:.1f}%\")"
      ],
      "execution_count": 0,
      "outputs": [
        {
          "output_type": "stream",
          "text": [
            "Test Accuracy: 46.1%\n"
          ],
          "name": "stdout"
        }
      ]
    },
    {
      "cell_type": "code",
      "metadata": {
        "id": "MOyfUyDkEe_s",
        "colab_type": "code",
        "outputId": "68cded52-2a3c-4c08-f280-630b93b6e721",
        "colab": {
          "base_uri": "https://localhost:8080/"
        }
      },
      "source": [
        "nb.classes_"
      ],
      "execution_count": 0,
      "outputs": [
        {
          "output_type": "execute_result",
          "data": {
            "text/plain": [
              "array([ 0,  1,  2,  3,  4,  5,  6,  7,  8,  9, 10, 11, 12, 13, 14, 15, 16,\n",
              "       17, 18, 19, 20, 21])"
            ]
          },
          "metadata": {
            "tags": []
          },
          "execution_count": 192
        }
      ]
    },
    {
      "cell_type": "code",
      "metadata": {
        "id": "v2rEAtuaK1Je",
        "colab_type": "code",
        "outputId": "55745a01-b3b1-48cc-98a5-7662df416092",
        "colab": {
          "base_uri": "https://localhost:8080/"
        }
      },
      "source": [
        "# calculate precision and recall\n",
        "print(classification_report(Y_test, y_pred_class))"
      ],
      "execution_count": 0,
      "outputs": [
        {
          "output_type": "stream",
          "text": [
            "              precision    recall  f1-score   support\n",
            "\n",
            "           0       0.45      0.36      0.40        84\n",
            "           1       0.89      0.44      0.59       233\n",
            "           2       0.62      0.32      0.42        66\n",
            "           3       0.64      0.37      0.47       110\n",
            "           4       0.68      0.36      0.47       182\n",
            "           5       0.18      0.20      0.19        15\n",
            "           6       0.51      0.42      0.46       230\n",
            "           7       0.44      0.45      0.45        86\n",
            "           8       0.56      0.58      0.57       347\n",
            "          10       0.00      0.00      0.00        17\n",
            "          11       0.63      0.37      0.46       185\n",
            "          12       0.00      0.00      0.00         3\n",
            "          13       0.60      0.40      0.48       182\n",
            "          14       0.42      0.38      0.40       379\n",
            "          15       0.80      0.27      0.40       179\n",
            "          16       0.63      0.29      0.40       139\n",
            "          17       0.47      0.47      0.47        72\n",
            "          18       0.32      0.77      0.45       662\n",
            "          19       0.71      0.39      0.50       251\n",
            "          20       0.51      0.39      0.44       495\n",
            "          21       0.42      0.49      0.45        55\n",
            "\n",
            "    accuracy                           0.46      3972\n",
            "   macro avg       0.50      0.37      0.40      3972\n",
            "weighted avg       0.54      0.46      0.46      3972\n",
            "\n"
          ],
          "name": "stdout"
        }
      ]
    },
    {
      "cell_type": "code",
      "metadata": {
        "id": "Gk9OO5PJcu0t",
        "colab_type": "code",
        "outputId": "9a8659fc-7659-4a85-d98f-89f751f5d2b3",
        "colab": {
          "base_uri": "https://localhost:8080/"
        }
      },
      "source": [
        "dump(nb, '/content/drive/My Drive/MScA/Machine Learning/ML Final Project/Models/game_cat_naiveBayes_v3.joblib')"
      ],
      "execution_count": 0,
      "outputs": [
        {
          "output_type": "execute_result",
          "data": {
            "text/plain": [
              "['/content/drive/My Drive/MScA/Machine Learning/ML Final Project/Models/game_cat_naiveBayes_v3.joblib']"
            ]
          },
          "metadata": {
            "tags": []
          },
          "execution_count": 250
        }
      ]
    },
    {
      "cell_type": "markdown",
      "metadata": {
        "id": "ryN3AwUzK1Jh",
        "colab_type": "text"
      },
      "source": [
        "### Logistic Regression Model"
      ]
    },
    {
      "cell_type": "code",
      "metadata": {
        "id": "qz_ig5ybK1Jh",
        "colab_type": "code",
        "outputId": "d1db5019-e628-4702-ee49-aa69c9529086",
        "colab": {
          "base_uri": "https://localhost:8080/",
          "height": 87
        }
      },
      "source": [
        "# instantiate and train a logistic regression model\n",
        "logreg = LogisticRegression()\n",
        "logreg.fit(X_train_vec, y=preds_train_filtered)\n",
        "\n",
        "# make class predictions for X_test\n",
        "y_pred_class = logreg.predict(X_test_vec)"
      ],
      "execution_count": 0,
      "outputs": [
        {
          "output_type": "stream",
          "text": [
            "/usr/local/lib/python3.6/dist-packages/sklearn/linear_model/logistic.py:432: FutureWarning: Default solver will be changed to 'lbfgs' in 0.22. Specify a solver to silence this warning.\n",
            "  FutureWarning)\n",
            "/usr/local/lib/python3.6/dist-packages/sklearn/linear_model/logistic.py:469: FutureWarning: Default multi_class will be changed to 'auto' in 0.22. Specify the multi_class option to silence this warning.\n",
            "  \"this warning.\", FutureWarning)\n"
          ],
          "name": "stderr"
        }
      ]
    },
    {
      "cell_type": "code",
      "metadata": {
        "id": "_YESo1NnK1Ji",
        "colab_type": "code",
        "outputId": "9ebee675-fafc-4645-cf83-8b009dd89895",
        "colab": {
          "base_uri": "https://localhost:8080/",
          "height": 34
        }
      },
      "source": [
        "# calculate accuracy of class predictions\n",
        "print(f\"Test Accuracy: {metrics.accuracy_score(Y_test, y_pred_class) * 100:.1f}%\")"
      ],
      "execution_count": 0,
      "outputs": [
        {
          "output_type": "stream",
          "text": [
            "Test Accuracy: 60.4%\n"
          ],
          "name": "stdout"
        }
      ]
    },
    {
      "cell_type": "code",
      "metadata": {
        "id": "Dqbr0jX7-JLU",
        "colab_type": "code",
        "outputId": "8a8f0143-2f90-448e-8f8b-00ca560e90cc",
        "colab": {
          "base_uri": "https://localhost:8080/",
          "height": 52
        }
      },
      "source": [
        "logreg.classes_"
      ],
      "execution_count": 0,
      "outputs": [
        {
          "output_type": "execute_result",
          "data": {
            "text/plain": [
              "array([ 0,  1,  2,  3,  4,  5,  6,  7,  8,  9, 10, 11, 12, 13, 14, 15, 16,\n",
              "       17, 18, 19, 20, 21])"
            ]
          },
          "metadata": {
            "tags": []
          },
          "execution_count": 200
        }
      ]
    },
    {
      "cell_type": "code",
      "metadata": {
        "id": "FmWySupDK1Jk",
        "colab_type": "code",
        "outputId": "1d8d6e69-2c4b-4183-98c2-dc64344b0633",
        "colab": {
          "base_uri": "https://localhost:8080/",
          "height": 514
        }
      },
      "source": [
        "# calculate precision and recall\n",
        "print(classification_report(Y_test, y_pred_class))"
      ],
      "execution_count": 0,
      "outputs": [
        {
          "output_type": "stream",
          "text": [
            "              precision    recall  f1-score   support\n",
            "\n",
            "           0       0.48      0.74      0.58        84\n",
            "           1       0.78      0.58      0.67       233\n",
            "           2       0.56      0.92      0.70        66\n",
            "           3       0.60      0.79      0.69       110\n",
            "           4       0.57      0.65      0.61       182\n",
            "           5       0.22      0.53      0.31        15\n",
            "           6       0.68      0.57      0.62       230\n",
            "           7       0.44      0.70      0.54        86\n",
            "           8       0.66      0.67      0.66       347\n",
            "          10       0.37      0.82      0.51        17\n",
            "          11       0.63      0.68      0.65       185\n",
            "          12       0.25      0.33      0.29         3\n",
            "          13       0.58      0.63      0.61       182\n",
            "          14       0.60      0.51      0.55       379\n",
            "          15       0.69      0.66      0.68       179\n",
            "          16       0.71      0.65      0.68       139\n",
            "          17       0.34      0.78      0.47        72\n",
            "          18       0.62      0.58      0.60       662\n",
            "          19       0.69      0.67      0.68       251\n",
            "          20       0.65      0.39      0.49       495\n",
            "          21       0.41      0.84      0.55        55\n",
            "\n",
            "    accuracy                           0.60      3972\n",
            "   macro avg       0.55      0.65      0.58      3972\n",
            "weighted avg       0.63      0.60      0.60      3972\n",
            "\n"
          ],
          "name": "stdout"
        }
      ]
    },
    {
      "cell_type": "code",
      "metadata": {
        "id": "-TVXJUDlF0-R",
        "colab_type": "code",
        "outputId": "b876f182-902b-4ecd-cc65-cd6f9fac2b9c",
        "colab": {
          "base_uri": "https://localhost:8080/",
          "height": 34
        }
      },
      "source": [
        "dump(logreg, '/content/drive/My Drive/MScA/Machine Learning/ML Final Project/Models/game_cat_logreg_v3.joblib')"
      ],
      "execution_count": 0,
      "outputs": [
        {
          "output_type": "execute_result",
          "data": {
            "text/plain": [
              "['/content/drive/My Drive/MScA/Machine Learning/ML Final Project/Models/game_cat_logreg_v3.joblib']"
            ]
          },
          "metadata": {
            "tags": []
          },
          "execution_count": 251
        }
      ]
    },
    {
      "cell_type": "markdown",
      "metadata": {
        "id": "ban5aKbl8Z95",
        "colab_type": "text"
      },
      "source": [
        "### SVM GridSearch"
      ]
    },
    {
      "cell_type": "code",
      "metadata": {
        "id": "Gm9S2VaH7JaJ",
        "colab_type": "code",
        "colab": {}
      },
      "source": [
        "from sklearn.svm import SVC\n",
        "from sklearn.model_selection import GridSearchCV"
      ],
      "execution_count": 0,
      "outputs": []
    },
    {
      "cell_type": "code",
      "metadata": {
        "id": "msutDJjK7tmo",
        "colab_type": "code",
        "colab": {}
      },
      "source": [
        "svc_gs = GridSearchCV(estimator=SVC(),\n",
        "             param_grid={'C': [0.1, 0.5, 1, 10], 'kernel': ['linear']\n",
        "                         #, 'degree'=[2, 3, 4, 5]\n",
        "                         })\n",
        "svc_gs.fit(X_train_vec, y=preds_train_filtered)"
      ],
      "execution_count": 0,
      "outputs": []
    },
    {
      "cell_type": "code",
      "metadata": {
        "id": "fh21lF0xDnwh",
        "colab_type": "code",
        "colab": {}
      },
      "source": [
        "svc_gs.best_params_"
      ],
      "execution_count": 0,
      "outputs": []
    },
    {
      "cell_type": "code",
      "metadata": {
        "id": "Kj4U1WS1Dqk2",
        "colab_type": "code",
        "colab": {}
      },
      "source": [
        "best_svc = svc_gs.get_"
      ],
      "execution_count": 0,
      "outputs": []
    },
    {
      "cell_type": "code",
      "metadata": {
        "colab_type": "code",
        "id": "dqSvFJA3Dkyr",
        "colab": {}
      },
      "source": [
        "# calculate accuracy of class predictions\n",
        "svc_test_pred = best_svc.predict(X_test_vec)\n",
        "print(f\"Test Accuracy: {metrics.accuracy_score(Y_test, svc_test_pred) * 100:.1f}%\")"
      ],
      "execution_count": 0,
      "outputs": []
    },
    {
      "cell_type": "code",
      "metadata": {
        "colab_type": "code",
        "outputId": "e06f4127-7eb6-4fdc-f647-786c423675ac",
        "id": "CR0t2GTyDkyv",
        "colab": {
          "base_uri": "https://localhost:8080/",
          "height": 564
        }
      },
      "source": [
        "print(classification_report(Y_test, svc_test_pred))"
      ],
      "execution_count": 0,
      "outputs": [
        {
          "output_type": "stream",
          "text": [
            "              precision    recall  f1-score   support\n",
            "\n",
            "           0       0.00      0.00      0.00       121\n",
            "           1       0.00      0.00      0.00         9\n",
            "           3       0.00      0.00      0.00        51\n",
            "           5       0.00      0.00      0.00       242\n",
            "           7       0.00      0.00      0.00       213\n",
            "           8       0.00      0.00      0.00        29\n",
            "           9       0.00      0.00      0.00       197\n",
            "          10       0.00      0.00      0.00       193\n",
            "          12       0.00      0.00      0.00       320\n",
            "          14       0.00      0.00      0.00       164\n",
            "          15       1.00      0.04      0.07       540\n",
            "          16       0.00      0.00      0.00        85\n",
            "          17       0.00      0.00      0.00         7\n",
            "          18       0.00      0.00      0.00       100\n",
            "          19       1.00      0.00      0.01       356\n",
            "          20       0.00      0.00      0.00       139\n",
            "          21       0.00      0.00      0.00       131\n",
            "          22       0.00      0.00      0.00        93\n",
            "          25       0.00      0.00      0.00        34\n",
            "          26       0.00      0.00      0.00       212\n",
            "          27       0.15      1.00      0.26       573\n",
            "          28       0.00      0.00      0.00        64\n",
            "\n",
            "    accuracy                           0.15      3873\n",
            "   macro avg       0.10      0.05      0.02      3873\n",
            "weighted avg       0.25      0.15      0.05      3873\n",
            "\n"
          ],
          "name": "stdout"
        },
        {
          "output_type": "stream",
          "text": [
            "/usr/local/lib/python3.6/dist-packages/sklearn/metrics/classification.py:1437: UndefinedMetricWarning: Precision and F-score are ill-defined and being set to 0.0 in labels with no predicted samples.\n",
            "  'precision', 'predicted', average, warn_for)\n"
          ],
          "name": "stderr"
        }
      ]
    },
    {
      "cell_type": "markdown",
      "metadata": {
        "id": "4CDnzH4o8XSd",
        "colab_type": "text"
      },
      "source": [
        "### Random Forest"
      ]
    },
    {
      "cell_type": "code",
      "metadata": {
        "id": "ldWxlNJw8ZBR",
        "colab_type": "code",
        "colab": {}
      },
      "source": [
        "from sklearn.ensemble import RandomForestClassifier"
      ],
      "execution_count": 0,
      "outputs": []
    },
    {
      "cell_type": "code",
      "metadata": {
        "id": "d3obvAve9CB6",
        "colab_type": "code",
        "colab": {}
      },
      "source": [
        "#param_grid = {'n_estimators':[50,100,500],\n",
        "              #'max_features': [2,4],\n",
        "              #'max_depth': [6,8,10,12]}"
      ],
      "execution_count": 0,
      "outputs": []
    },
    {
      "cell_type": "code",
      "metadata": {
        "id": "axUWuQmY-rsg",
        "colab_type": "code",
        "colab": {}
      },
      "source": [
        "# from sklearn import preprocessing\n",
        "# y = preprocessing.label_binarize(preds_train_filtered, classes=list(set(preds_train_filtered)))"
      ],
      "execution_count": 0,
      "outputs": []
    },
    {
      "cell_type": "code",
      "metadata": {
        "id": "QdQ4DYb58mlI",
        "colab_type": "code",
        "colab": {}
      },
      "source": [
        "#rfc = RandomForestClassifier(random_state=1125)\n",
        "# rfc.fit(X_train, y=preds_train_filtered)"
      ],
      "execution_count": 0,
      "outputs": []
    },
    {
      "cell_type": "code",
      "metadata": {
        "id": "5IIEXukb8tB3",
        "colab_type": "code",
        "colab": {}
      },
      "source": [
        "# rf_Grid = GridSearchCV(rfc, param_grid, cv = 5, scoring = 'roc_auc',refit = True, n_jobs=-1, verbose = 5)"
      ],
      "execution_count": 0,
      "outputs": []
    },
    {
      "cell_type": "code",
      "metadata": {
        "id": "Vf1PqZBx-eTK",
        "colab_type": "code",
        "outputId": "4a35777f-2406-45cd-9203-04d65c4f8102",
        "colab": {
          "base_uri": "https://localhost:8080/",
          "height": 425
        }
      },
      "source": [
        "# rf_Grid.fit(X_train, y) # 2446812"
      ],
      "execution_count": 0,
      "outputs": [
        {
          "output_type": "stream",
          "text": [
            "Fitting 5 folds for each of 24 candidates, totalling 120 fits\n"
          ],
          "name": "stdout"
        },
        {
          "output_type": "stream",
          "text": [
            "[Parallel(n_jobs=-1)]: Using backend LokyBackend with 2 concurrent workers.\n",
            "[Parallel(n_jobs=-1)]: Done  14 tasks      | elapsed:  1.7min\n",
            "[Parallel(n_jobs=-1)]: Done  68 tasks      | elapsed:  8.7min\n",
            "[Parallel(n_jobs=-1)]: Done 120 out of 120 | elapsed: 17.0min finished\n"
          ],
          "name": "stderr"
        },
        {
          "output_type": "execute_result",
          "data": {
            "text/plain": [
              "GridSearchCV(cv=5, error_score='raise-deprecating',\n",
              "             estimator=RandomForestClassifier(bootstrap=True, class_weight=None,\n",
              "                                              criterion='gini', max_depth=None,\n",
              "                                              max_features='auto',\n",
              "                                              max_leaf_nodes=None,\n",
              "                                              min_impurity_decrease=0.0,\n",
              "                                              min_impurity_split=None,\n",
              "                                              min_samples_leaf=1,\n",
              "                                              min_samples_split=2,\n",
              "                                              min_weight_fraction_leaf=0.0,\n",
              "                                              n_estimators='warn', n_jobs=None,\n",
              "                                              oob_score=False,\n",
              "                                              random_state=1125, verbose=0,\n",
              "                                              warm_start=False),\n",
              "             iid='warn', n_jobs=-1,\n",
              "             param_grid={'max_depth': [6, 8, 10, 12], 'max_features': [2, 4],\n",
              "                         'n_estimators': [50, 100, 500]},\n",
              "             pre_dispatch='2*n_jobs', refit=True, return_train_score=False,\n",
              "             scoring='roc_auc', verbose=5)"
            ]
          },
          "metadata": {
            "tags": []
          },
          "execution_count": 74
        }
      ]
    },
    {
      "cell_type": "code",
      "metadata": {
        "id": "FbLY_Y2SE0FC",
        "colab_type": "code",
        "outputId": "d34d2bf9-0b50-41d5-92c7-353071b255ea",
        "colab": {
          "base_uri": "https://localhost:8080/",
          "height": 34
        }
      },
      "source": [
        "# rf_Grid.best_params_"
      ],
      "execution_count": 0,
      "outputs": [
        {
          "output_type": "execute_result",
          "data": {
            "text/plain": [
              "{'max_depth': 12, 'max_features': 4, 'n_estimators': 500}"
            ]
          },
          "metadata": {
            "tags": []
          },
          "execution_count": 75
        }
      ]
    },
    {
      "cell_type": "code",
      "metadata": {
        "id": "xH7w6K9gE9MG",
        "colab_type": "code",
        "outputId": "31c0535d-dbc1-4009-83ab-96c767e75f5f",
        "colab": {
          "base_uri": "https://localhost:8080/",
          "height": 136
        }
      },
      "source": [
        "best_rf = RandomForestClassifier(random_state = 1125, max_depth=12, max_features= 4, n_estimators= 500)\n",
        "best_rf.fit(X_train, preds_train_filtered)"
      ],
      "execution_count": 0,
      "outputs": [
        {
          "output_type": "execute_result",
          "data": {
            "text/plain": [
              "RandomForestClassifier(bootstrap=True, class_weight=None, criterion='gini',\n",
              "                       max_depth=12, max_features=4, max_leaf_nodes=None,\n",
              "                       min_impurity_decrease=0.0, min_impurity_split=None,\n",
              "                       min_samples_leaf=1, min_samples_split=2,\n",
              "                       min_weight_fraction_leaf=0.0, n_estimators=500,\n",
              "                       n_jobs=None, oob_score=False, random_state=1125,\n",
              "                       verbose=0, warm_start=False)"
            ]
          },
          "metadata": {
            "tags": []
          },
          "execution_count": 35
        }
      ]
    },
    {
      "cell_type": "code",
      "metadata": {
        "id": "LyFIED-EFCAH",
        "colab_type": "code",
        "colab": {}
      },
      "source": [
        "rf_test_pred = best_rf.predict(X_test)"
      ],
      "execution_count": 0,
      "outputs": []
    },
    {
      "cell_type": "code",
      "metadata": {
        "id": "v92F_y9AIj1g",
        "colab_type": "code",
        "colab": {}
      },
      "source": [
        "from sklearn.metrics import confusion_matrix, classification_report, roc_auc_score, mean_squared_error, roc_curve"
      ],
      "execution_count": 0,
      "outputs": []
    },
    {
      "cell_type": "code",
      "metadata": {
        "id": "ndRGWhc_FXf9",
        "colab_type": "code",
        "colab": {}
      },
      "source": [
        "# feature_importances = pd.DataFrame(best_rf.feature_importances_, \n",
        "#                                    index = X_train.columns, \n",
        "#                                    columns = ['importance'])"
      ],
      "execution_count": 0,
      "outputs": []
    },
    {
      "cell_type": "code",
      "metadata": {
        "id": "YdCKevFBFdMt",
        "colab_type": "code",
        "colab": {}
      },
      "source": [
        "# feature_importances.sort_values(by=['importance'], ascending=False).head(5)"
      ],
      "execution_count": 0,
      "outputs": []
    },
    {
      "cell_type": "code",
      "metadata": {
        "id": "UnKBJDz-DD0S",
        "colab_type": "code",
        "outputId": "bb95cf01-0d2d-41be-ee87-4c844f5d2389",
        "colab": {
          "base_uri": "https://localhost:8080/",
          "height": 34
        }
      },
      "source": [
        "# calculate accuracy of class predictions\n",
        "rf_test_pred = best_rf.predict(X_test)\n",
        "print(f\"Test Accuracy: {metrics.accuracy_score(Y_test, rf_test_pred) * 100:.1f}%\")"
      ],
      "execution_count": 0,
      "outputs": [
        {
          "output_type": "stream",
          "text": [
            "Test Accuracy: 15.3%\n"
          ],
          "name": "stdout"
        }
      ]
    },
    {
      "cell_type": "code",
      "metadata": {
        "id": "NBntfsjpJIgK",
        "colab_type": "code",
        "outputId": "e06f4127-7eb6-4fdc-f647-786c423675ac",
        "colab": {
          "base_uri": "https://localhost:8080/",
          "height": 564
        }
      },
      "source": [
        "print(classification_report(Y_test, rf_test_pred))"
      ],
      "execution_count": 0,
      "outputs": [
        {
          "output_type": "stream",
          "text": [
            "              precision    recall  f1-score   support\n",
            "\n",
            "           0       0.00      0.00      0.00       121\n",
            "           1       0.00      0.00      0.00         9\n",
            "           3       0.00      0.00      0.00        51\n",
            "           5       0.00      0.00      0.00       242\n",
            "           7       0.00      0.00      0.00       213\n",
            "           8       0.00      0.00      0.00        29\n",
            "           9       0.00      0.00      0.00       197\n",
            "          10       0.00      0.00      0.00       193\n",
            "          12       0.00      0.00      0.00       320\n",
            "          14       0.00      0.00      0.00       164\n",
            "          15       1.00      0.04      0.07       540\n",
            "          16       0.00      0.00      0.00        85\n",
            "          17       0.00      0.00      0.00         7\n",
            "          18       0.00      0.00      0.00       100\n",
            "          19       1.00      0.00      0.01       356\n",
            "          20       0.00      0.00      0.00       139\n",
            "          21       0.00      0.00      0.00       131\n",
            "          22       0.00      0.00      0.00        93\n",
            "          25       0.00      0.00      0.00        34\n",
            "          26       0.00      0.00      0.00       212\n",
            "          27       0.15      1.00      0.26       573\n",
            "          28       0.00      0.00      0.00        64\n",
            "\n",
            "    accuracy                           0.15      3873\n",
            "   macro avg       0.10      0.05      0.02      3873\n",
            "weighted avg       0.25      0.15      0.05      3873\n",
            "\n"
          ],
          "name": "stdout"
        },
        {
          "output_type": "stream",
          "text": [
            "/usr/local/lib/python3.6/dist-packages/sklearn/metrics/classification.py:1437: UndefinedMetricWarning: Precision and F-score are ill-defined and being set to 0.0 in labels with no predicted samples.\n",
            "  'precision', 'predicted', average, warn_for)\n"
          ],
          "name": "stderr"
        }
      ]
    },
    {
      "cell_type": "markdown",
      "metadata": {
        "id": "D4aILNwKB5iP",
        "colab_type": "text"
      },
      "source": [
        "### CNN"
      ]
    },
    {
      "cell_type": "markdown",
      "metadata": {
        "id": "AIDkvvqwUNf-",
        "colab_type": "text"
      },
      "source": [
        "#### Embedding\n",
        "[Source](https://machinelearningmastery.com/use-word-embedding-layers-deep-learning-keras/)"
      ]
    },
    {
      "cell_type": "code",
      "metadata": {
        "id": "9UnWWsl1VZD-",
        "colab_type": "code",
        "colab": {}
      },
      "source": [
        "# Train tokenizer\n",
        "t = Tokenizer()\n",
        "docs_full = np.array(feats.text).tolist()\n",
        "t.fit_on_texts(docs_full)\n",
        "vocab_size = len(t.word_index) + 1\n",
        "\n",
        "\n",
        "# Transform train data\n",
        "sequence_length = 500 # max number of words considered from each description\n",
        "\n",
        "docs_train = np.array(df_train.text).tolist()\n",
        "encoded_docs = t.texts_to_sequences(docs_train)\n",
        "padded_docs = tensorflow.keras.preprocessing.sequence.pad_sequences(encoded_docs, maxlen=sequence_length, padding='post')\n",
        "\n",
        "labels = preds_train_filtered\n",
        "labels_encoded = to_categorical(labels)\n",
        "\n",
        "# Transform test data\n",
        "docs_test = np.array(df_test.text).tolist()\n",
        "encoded_docs_test = t.texts_to_sequences(docs_test)\n",
        "padded_docs_test = tensorflow.keras.preprocessing.sequence.pad_sequences(encoded_docs_test, maxlen=sequence_length, padding='post')\n",
        "\n",
        "labels_test = Y_test\n",
        "labels_encoded_test = to_categorical(labels_test)\n",
        "\n",
        "# Get number of classes\n",
        "num_classes = len(labels_encoded[0])"
      ],
      "execution_count": 0,
      "outputs": []
    },
    {
      "cell_type": "code",
      "metadata": {
        "id": "mr4I1YBegJsv",
        "colab_type": "code",
        "colab": {}
      },
      "source": [
        "# Hyperparameter setting\n",
        "embedding_dim = 300 # features in embedding space\n",
        "max_features = vocab_size # max number of words considered for embedding space\n",
        "gru_dims = 64 # nodes in GRU"
      ],
      "execution_count": 0,
      "outputs": []
    },
    {
      "cell_type": "code",
      "metadata": {
        "id": "-1YrMgEqkL3o",
        "colab_type": "code",
        "outputId": "2543a253-b38b-447f-b52c-0641e0720071",
        "colab": {
          "base_uri": "https://localhost:8080/",
          "height": 34
        }
      },
      "source": [
        "# Save tokenizer\n",
        "dump(t,\"/content/drive/My Drive/MScA/Machine Learning/ML Final Project/Models/base_tokenizer.joblib\")"
      ],
      "execution_count": 0,
      "outputs": [
        {
          "output_type": "execute_result",
          "data": {
            "text/plain": [
              "['/content/drive/My Drive/MScA/Machine Learning/ML Final Project/Models/base_tokenizer.joblib']"
            ]
          },
          "metadata": {
            "tags": []
          },
          "execution_count": 217
        }
      ]
    },
    {
      "cell_type": "code",
      "metadata": {
        "id": "OFVaxjjWUdAE",
        "colab_type": "code",
        "outputId": "1089e1ff-fb47-4259-a21f-4fb279fa3b7f",
        "colab": {
          "base_uri": "https://localhost:8080/",
          "height": 34
        }
      },
      "source": [
        "# Get embedding pre-trained\n",
        "embeddings_index = dict()\n",
        "f = open('/content/drive/My Drive/MScA/Machine Learning/ML Final Project/Data/glove.6B.300d.txt')\n",
        "for line in f:\n",
        "\tvalues = line.split()\n",
        "\tword = values[0]\n",
        "\tcoefs = np.asarray(values[1:], dtype='float32')\n",
        "\tembeddings_index[word] = coefs\n",
        "f.close()\n",
        "print('Loaded %s word vectors.' % len(embeddings_index))"
      ],
      "execution_count": 0,
      "outputs": [
        {
          "output_type": "stream",
          "text": [
            "Loaded 400000 word vectors.\n"
          ],
          "name": "stdout"
        }
      ]
    },
    {
      "cell_type": "code",
      "metadata": {
        "id": "FSQ1EThVULx1",
        "colab_type": "code",
        "colab": {}
      },
      "source": [
        "# # create a weight matrix for words in training docs\n",
        "# embedding_matrix = np.zeros((max_features, embedding_dim))\n",
        "# for word, i in t.word_index.items():\n",
        "# \tembedding_vector = embeddings_index.get(word)\n",
        "# \tif embedding_vector is not None:\n",
        "# \t\tembedding_matrix[i] = embedding_vector"
      ],
      "execution_count": 0,
      "outputs": []
    },
    {
      "cell_type": "code",
      "metadata": {
        "id": "7W1SATLohgNu",
        "colab_type": "code",
        "outputId": "5d62f0eb-bd23-4e45-f1c0-c51c0991405f",
        "colab": {
          "base_uri": "https://localhost:8080/",
          "height": 52
        }
      },
      "source": [
        "# create a weight matrix for words in training docs\n",
        "\n",
        "vocabulary = len(t.word_index) + 1\n",
        "word_index = t.word_index\n",
        "\n",
        "nb_words = min(max_features, len(word_index) + 1)\n",
        "\n",
        "embedding_matrix = np.zeros((nb_words, embedding_dim))\n",
        "\n",
        "for word, i in word_index.items():\n",
        "    if i >= max_features: continue\n",
        "        \n",
        "    embedding_vector = embeddings_index.get(word)\n",
        "    \n",
        "    if embedding_vector is not None:\n",
        "        embedding_matrix[i] = embedding_vector\n",
        "\n",
        "print(\"Our vocab has word count:\", vocabulary)\n",
        "\n",
        "print(\"Matrix shape is:\", embedding_matrix.shape)"
      ],
      "execution_count": 0,
      "outputs": [
        {
          "output_type": "stream",
          "text": [
            "Our vocab has word count: 75481\n",
            "Matrix shape is: (75481, 300)\n"
          ],
          "name": "stdout"
        }
      ]
    },
    {
      "cell_type": "markdown",
      "metadata": {
        "id": "xv8fGY5NCo5V",
        "colab_type": "text"
      },
      "source": [
        "#### Building the model"
      ]
    },
    {
      "cell_type": "code",
      "metadata": {
        "id": "O1hNcrKTY_CA",
        "colab_type": "code",
        "colab": {}
      },
      "source": [
        "from keras.wrappers.scikit_learn import KerasClassifier\n",
        "from keras.preprocessing.text import Tokenizer, text_to_word_sequence\n",
        "from keras.preprocessing import sequence\n",
        "from keras.layers import Dense, Input, LSTM, Embedding, Dropout, Activation, GRU, Convolution1D, Flatten, LeakyReLU\n",
        "from keras.layers import Bidirectional, GlobalMaxPool1D, GlobalAveragePooling1D, MaxPooling1D, GlobalMaxPooling1D\n",
        "from keras.layers import SpatialDropout1D, MaxPooling1D, Bidirectional, GRU, concatenate\n",
        "from keras.layers.merge import Concatenate\n",
        "\n",
        "from keras.models import Model, Sequential\n",
        "from keras import initializers, regularizers, constraints, optimizers, layers\n",
        "from keras.utils import np_utils\n",
        "from keras import callbacks\n",
        "from keras.models import Sequential\n",
        "from keras.wrappers.scikit_learn import KerasClassifier\n",
        "from keras.callbacks import EarlyStopping, ModelCheckpoint, Callback"
      ],
      "execution_count": 0,
      "outputs": []
    },
    {
      "cell_type": "code",
      "metadata": {
        "id": "2D-0nDyba1VN",
        "colab_type": "code",
        "outputId": "7ef9403d-dc93-40b2-c555-4ae296373faf",
        "colab": {
          "base_uri": "https://localhost:8080/",
          "height": 478
        }
      },
      "source": [
        "inputs = Input(shape=(sequence_length, ))\n",
        "\n",
        "x = Embedding(max_features, embedding_dim, weights=[embedding_matrix], trainable = False)(inputs)\n",
        "x = SpatialDropout1D(0.2)(x)\n",
        "x = Bidirectional(GRU(gru_dims, return_sequences=True))(x)\n",
        "\n",
        "# Create a concatenation of GlobalAveragePooling1D and GlobalMaxPooling1D layers\n",
        "avg_pool = GlobalAveragePooling1D()(x)\n",
        "max_pool = GlobalMaxPooling1D()(x)\n",
        "concatenated = concatenate([avg_pool, max_pool])\n",
        "outputs = Dense(num_classes, activation=\"softmax\")(concatenated)\n",
        "\n",
        "model = Model(inputs=inputs, outputs=outputs)\n",
        "print(model.summary())"
      ],
      "execution_count": 0,
      "outputs": [
        {
          "output_type": "stream",
          "text": [
            "Model: \"model_1\"\n",
            "__________________________________________________________________________________________________\n",
            "Layer (type)                    Output Shape         Param #     Connected to                     \n",
            "==================================================================================================\n",
            "input_1 (InputLayer)            (None, 500)          0                                            \n",
            "__________________________________________________________________________________________________\n",
            "embedding_1 (Embedding)         (None, 500, 300)     22644300    input_1[0][0]                    \n",
            "__________________________________________________________________________________________________\n",
            "spatial_dropout1d_1 (SpatialDro (None, 500, 300)     0           embedding_1[0][0]                \n",
            "__________________________________________________________________________________________________\n",
            "bidirectional_1 (Bidirectional) (None, 500, 128)     140160      spatial_dropout1d_1[0][0]        \n",
            "__________________________________________________________________________________________________\n",
            "global_average_pooling1d_1 (Glo (None, 128)          0           bidirectional_1[0][0]            \n",
            "__________________________________________________________________________________________________\n",
            "global_max_pooling1d_1 (GlobalM (None, 128)          0           bidirectional_1[0][0]            \n",
            "__________________________________________________________________________________________________\n",
            "concatenate_1 (Concatenate)     (None, 256)          0           global_average_pooling1d_1[0][0] \n",
            "                                                                 global_max_pooling1d_1[0][0]     \n",
            "__________________________________________________________________________________________________\n",
            "dense_1 (Dense)                 (None, 22)           5654        concatenate_1[0][0]              \n",
            "==================================================================================================\n",
            "Total params: 22,790,114\n",
            "Trainable params: 145,814\n",
            "Non-trainable params: 22,644,300\n",
            "__________________________________________________________________________________________________\n",
            "None\n"
          ],
          "name": "stdout"
        }
      ]
    },
    {
      "cell_type": "code",
      "metadata": {
        "id": "DSg_BqgM9dpz",
        "colab_type": "code",
        "outputId": "bee782b0-48af-43be-c904-29362112438e",
        "colab": {
          "base_uri": "https://localhost:8080/",
          "height": 1000
        }
      },
      "source": [
        "from IPython.display import SVG\n",
        "from keras.utils.vis_utils import model_to_dot\n",
        "SVG(model_to_dot(model, show_shapes=True).create(prog='dot', format='svg'))"
      ],
      "execution_count": 0,
      "outputs": [
        {
          "output_type": "execute_result",
          "data": {
            "text/plain": [
              "<IPython.core.display.SVG object>"
            ],
            "image/svg+xml": "<svg height=\"737pt\" viewBox=\"0.00 0.00 1024.00 553.00\" width=\"1365pt\" xmlns=\"http://www.w3.org/2000/svg\" xmlns:xlink=\"http://www.w3.org/1999/xlink\">\n<g class=\"graph\" id=\"graph0\" transform=\"scale(1.3333 1.3333) rotate(0) translate(4 549)\">\n<title>G</title>\n<polygon fill=\"#ffffff\" points=\"-4,4 -4,-549 1020,-549 1020,4 -4,4\" stroke=\"transparent\"/>\n<!-- 140073752371552 -->\n<g class=\"node\" id=\"node1\">\n<title>140073752371552</title>\n<polygon fill=\"none\" points=\"378.5,-498.5 378.5,-544.5 656.5,-544.5 656.5,-498.5 378.5,-498.5\" stroke=\"#000000\"/>\n<text fill=\"#000000\" font-family=\"Times,serif\" font-size=\"14.00\" text-anchor=\"middle\" x=\"445\" y=\"-517.8\">input_1: InputLayer</text>\n<polyline fill=\"none\" points=\"511.5,-498.5 511.5,-544.5 \" stroke=\"#000000\"/>\n<text fill=\"#000000\" font-family=\"Times,serif\" font-size=\"14.00\" text-anchor=\"middle\" x=\"540.5\" y=\"-529.3\">input:</text>\n<polyline fill=\"none\" points=\"511.5,-521.5 569.5,-521.5 \" stroke=\"#000000\"/>\n<text fill=\"#000000\" font-family=\"Times,serif\" font-size=\"14.00\" text-anchor=\"middle\" x=\"540.5\" y=\"-506.3\">output:</text>\n<polyline fill=\"none\" points=\"569.5,-498.5 569.5,-544.5 \" stroke=\"#000000\"/>\n<text fill=\"#000000\" font-family=\"Times,serif\" font-size=\"14.00\" text-anchor=\"middle\" x=\"613\" y=\"-529.3\">(None, 500)</text>\n<polyline fill=\"none\" points=\"569.5,-521.5 656.5,-521.5 \" stroke=\"#000000\"/>\n<text fill=\"#000000\" font-family=\"Times,serif\" font-size=\"14.00\" text-anchor=\"middle\" x=\"613\" y=\"-506.3\">(None, 500)</text>\n</g>\n<!-- 140073766723824 -->\n<g class=\"node\" id=\"node2\">\n<title>140073766723824</title>\n<polygon fill=\"none\" points=\"344.5,-415.5 344.5,-461.5 690.5,-461.5 690.5,-415.5 344.5,-415.5\" stroke=\"#000000\"/>\n<text fill=\"#000000\" font-family=\"Times,serif\" font-size=\"14.00\" text-anchor=\"middle\" x=\"430\" y=\"-434.8\">embedding_1: Embedding</text>\n<polyline fill=\"none\" points=\"515.5,-415.5 515.5,-461.5 \" stroke=\"#000000\"/>\n<text fill=\"#000000\" font-family=\"Times,serif\" font-size=\"14.00\" text-anchor=\"middle\" x=\"544.5\" y=\"-446.3\">input:</text>\n<polyline fill=\"none\" points=\"515.5,-438.5 573.5,-438.5 \" stroke=\"#000000\"/>\n<text fill=\"#000000\" font-family=\"Times,serif\" font-size=\"14.00\" text-anchor=\"middle\" x=\"544.5\" y=\"-423.3\">output:</text>\n<polyline fill=\"none\" points=\"573.5,-415.5 573.5,-461.5 \" stroke=\"#000000\"/>\n<text fill=\"#000000\" font-family=\"Times,serif\" font-size=\"14.00\" text-anchor=\"middle\" x=\"632\" y=\"-446.3\">(None, 500)</text>\n<polyline fill=\"none\" points=\"573.5,-438.5 690.5,-438.5 \" stroke=\"#000000\"/>\n<text fill=\"#000000\" font-family=\"Times,serif\" font-size=\"14.00\" text-anchor=\"middle\" x=\"632\" y=\"-423.3\">(None, 500, 300)</text>\n</g>\n<!-- 140073752371552&#45;&gt;140073766723824 -->\n<g class=\"edge\" id=\"edge1\">\n<title>140073752371552-&gt;140073766723824</title>\n<path d=\"M517.5,-498.3799C517.5,-490.1745 517.5,-480.7679 517.5,-471.8786\" fill=\"none\" stroke=\"#000000\"/>\n<polygon fill=\"#000000\" points=\"521.0001,-471.784 517.5,-461.784 514.0001,-471.784 521.0001,-471.784\" stroke=\"#000000\"/>\n</g>\n<!-- 140073766725448 -->\n<g class=\"node\" id=\"node3\">\n<title>140073766725448</title>\n<polygon fill=\"none\" points=\"305.5,-332.5 305.5,-378.5 729.5,-378.5 729.5,-332.5 305.5,-332.5\" stroke=\"#000000\"/>\n<text fill=\"#000000\" font-family=\"Times,serif\" font-size=\"14.00\" text-anchor=\"middle\" x=\"430\" y=\"-351.8\">spatial_dropout1d_1: SpatialDropout1D</text>\n<polyline fill=\"none\" points=\"554.5,-332.5 554.5,-378.5 \" stroke=\"#000000\"/>\n<text fill=\"#000000\" font-family=\"Times,serif\" font-size=\"14.00\" text-anchor=\"middle\" x=\"583.5\" y=\"-363.3\">input:</text>\n<polyline fill=\"none\" points=\"554.5,-355.5 612.5,-355.5 \" stroke=\"#000000\"/>\n<text fill=\"#000000\" font-family=\"Times,serif\" font-size=\"14.00\" text-anchor=\"middle\" x=\"583.5\" y=\"-340.3\">output:</text>\n<polyline fill=\"none\" points=\"612.5,-332.5 612.5,-378.5 \" stroke=\"#000000\"/>\n<text fill=\"#000000\" font-family=\"Times,serif\" font-size=\"14.00\" text-anchor=\"middle\" x=\"671\" y=\"-363.3\">(None, 500, 300)</text>\n<polyline fill=\"none\" points=\"612.5,-355.5 729.5,-355.5 \" stroke=\"#000000\"/>\n<text fill=\"#000000\" font-family=\"Times,serif\" font-size=\"14.00\" text-anchor=\"middle\" x=\"671\" y=\"-340.3\">(None, 500, 300)</text>\n</g>\n<!-- 140073766723824&#45;&gt;140073766725448 -->\n<g class=\"edge\" id=\"edge2\">\n<title>140073766723824-&gt;140073766725448</title>\n<path d=\"M517.5,-415.3799C517.5,-407.1745 517.5,-397.7679 517.5,-388.8786\" fill=\"none\" stroke=\"#000000\"/>\n<polygon fill=\"#000000\" points=\"521.0001,-388.784 517.5,-378.784 514.0001,-388.784 521.0001,-388.784\" stroke=\"#000000\"/>\n</g>\n<!-- 140073766726400 -->\n<g class=\"node\" id=\"node4\">\n<title>140073766726400</title>\n<polygon fill=\"none\" points=\"296.5,-249.5 296.5,-295.5 738.5,-295.5 738.5,-249.5 296.5,-249.5\" stroke=\"#000000\"/>\n<text fill=\"#000000\" font-family=\"Times,serif\" font-size=\"14.00\" text-anchor=\"middle\" x=\"430\" y=\"-268.8\">bidirectional_1(gru_1): Bidirectional(GRU)</text>\n<polyline fill=\"none\" points=\"563.5,-249.5 563.5,-295.5 \" stroke=\"#000000\"/>\n<text fill=\"#000000\" font-family=\"Times,serif\" font-size=\"14.00\" text-anchor=\"middle\" x=\"592.5\" y=\"-280.3\">input:</text>\n<polyline fill=\"none\" points=\"563.5,-272.5 621.5,-272.5 \" stroke=\"#000000\"/>\n<text fill=\"#000000\" font-family=\"Times,serif\" font-size=\"14.00\" text-anchor=\"middle\" x=\"592.5\" y=\"-257.3\">output:</text>\n<polyline fill=\"none\" points=\"621.5,-249.5 621.5,-295.5 \" stroke=\"#000000\"/>\n<text fill=\"#000000\" font-family=\"Times,serif\" font-size=\"14.00\" text-anchor=\"middle\" x=\"680\" y=\"-280.3\">(None, 500, 300)</text>\n<polyline fill=\"none\" points=\"621.5,-272.5 738.5,-272.5 \" stroke=\"#000000\"/>\n<text fill=\"#000000\" font-family=\"Times,serif\" font-size=\"14.00\" text-anchor=\"middle\" x=\"680\" y=\"-257.3\">(None, 500, 128)</text>\n</g>\n<!-- 140073766725448&#45;&gt;140073766726400 -->\n<g class=\"edge\" id=\"edge3\">\n<title>140073766725448-&gt;140073766726400</title>\n<path d=\"M517.5,-332.3799C517.5,-324.1745 517.5,-314.7679 517.5,-305.8786\" fill=\"none\" stroke=\"#000000\"/>\n<polygon fill=\"#000000\" points=\"521.0001,-305.784 517.5,-295.784 514.0001,-305.784 521.0001,-305.784\" stroke=\"#000000\"/>\n</g>\n<!-- 140073766725392 -->\n<g class=\"node\" id=\"node5\">\n<title>140073766725392</title>\n<polygon fill=\"none\" points=\"0,-166.5 0,-212.5 519,-212.5 519,-166.5 0,-166.5\" stroke=\"#000000\"/>\n<text fill=\"#000000\" font-family=\"Times,serif\" font-size=\"14.00\" text-anchor=\"middle\" x=\"172\" y=\"-185.8\">global_average_pooling1d_1: GlobalAveragePooling1D</text>\n<polyline fill=\"none\" points=\"344,-166.5 344,-212.5 \" stroke=\"#000000\"/>\n<text fill=\"#000000\" font-family=\"Times,serif\" font-size=\"14.00\" text-anchor=\"middle\" x=\"373\" y=\"-197.3\">input:</text>\n<polyline fill=\"none\" points=\"344,-189.5 402,-189.5 \" stroke=\"#000000\"/>\n<text fill=\"#000000\" font-family=\"Times,serif\" font-size=\"14.00\" text-anchor=\"middle\" x=\"373\" y=\"-174.3\">output:</text>\n<polyline fill=\"none\" points=\"402,-166.5 402,-212.5 \" stroke=\"#000000\"/>\n<text fill=\"#000000\" font-family=\"Times,serif\" font-size=\"14.00\" text-anchor=\"middle\" x=\"460.5\" y=\"-197.3\">(None, 500, 128)</text>\n<polyline fill=\"none\" points=\"402,-189.5 519,-189.5 \" stroke=\"#000000\"/>\n<text fill=\"#000000\" font-family=\"Times,serif\" font-size=\"14.00\" text-anchor=\"middle\" x=\"460.5\" y=\"-174.3\">(None, 128)</text>\n</g>\n<!-- 140073766726400&#45;&gt;140073766725392 -->\n<g class=\"edge\" id=\"edge4\">\n<title>140073766726400-&gt;140073766725392</title>\n<path d=\"M445.9752,-249.4901C413.4,-239.0105 374.6784,-226.5535 340.9843,-215.7139\" fill=\"none\" stroke=\"#000000\"/>\n<polygon fill=\"#000000\" points=\"341.7553,-212.2854 331.1639,-212.5547 339.6115,-218.949 341.7553,-212.2854\" stroke=\"#000000\"/>\n</g>\n<!-- 140073768667344 -->\n<g class=\"node\" id=\"node6\">\n<title>140073768667344</title>\n<polygon fill=\"none\" points=\"537,-166.5 537,-212.5 1016,-212.5 1016,-166.5 537,-166.5\" stroke=\"#000000\"/>\n<text fill=\"#000000\" font-family=\"Times,serif\" font-size=\"14.00\" text-anchor=\"middle\" x=\"689\" y=\"-185.8\">global_max_pooling1d_1: GlobalMaxPooling1D</text>\n<polyline fill=\"none\" points=\"841,-166.5 841,-212.5 \" stroke=\"#000000\"/>\n<text fill=\"#000000\" font-family=\"Times,serif\" font-size=\"14.00\" text-anchor=\"middle\" x=\"870\" y=\"-197.3\">input:</text>\n<polyline fill=\"none\" points=\"841,-189.5 899,-189.5 \" stroke=\"#000000\"/>\n<text fill=\"#000000\" font-family=\"Times,serif\" font-size=\"14.00\" text-anchor=\"middle\" x=\"870\" y=\"-174.3\">output:</text>\n<polyline fill=\"none\" points=\"899,-166.5 899,-212.5 \" stroke=\"#000000\"/>\n<text fill=\"#000000\" font-family=\"Times,serif\" font-size=\"14.00\" text-anchor=\"middle\" x=\"957.5\" y=\"-197.3\">(None, 500, 128)</text>\n<polyline fill=\"none\" points=\"899,-189.5 1016,-189.5 \" stroke=\"#000000\"/>\n<text fill=\"#000000\" font-family=\"Times,serif\" font-size=\"14.00\" text-anchor=\"middle\" x=\"957.5\" y=\"-174.3\">(None, 128)</text>\n</g>\n<!-- 140073766726400&#45;&gt;140073768667344 -->\n<g class=\"edge\" id=\"edge5\">\n<title>140073766726400-&gt;140073768667344</title>\n<path d=\"M589.302,-249.4901C622.0035,-239.0105 660.8752,-226.5535 694.6999,-215.7139\" fill=\"none\" stroke=\"#000000\"/>\n<polygon fill=\"#000000\" points=\"696.1035,-218.9395 704.5583,-212.5547 693.9672,-212.2735 696.1035,-218.9395\" stroke=\"#000000\"/>\n</g>\n<!-- 140073768667064 -->\n<g class=\"node\" id=\"node7\">\n<title>140073768667064</title>\n<polygon fill=\"none\" points=\"314,-83.5 314,-129.5 721,-129.5 721,-83.5 314,-83.5\" stroke=\"#000000\"/>\n<text fill=\"#000000\" font-family=\"Times,serif\" font-size=\"14.00\" text-anchor=\"middle\" x=\"401.5\" y=\"-102.8\">concatenate_1: Concatenate</text>\n<polyline fill=\"none\" points=\"489,-83.5 489,-129.5 \" stroke=\"#000000\"/>\n<text fill=\"#000000\" font-family=\"Times,serif\" font-size=\"14.00\" text-anchor=\"middle\" x=\"518\" y=\"-114.3\">input:</text>\n<polyline fill=\"none\" points=\"489,-106.5 547,-106.5 \" stroke=\"#000000\"/>\n<text fill=\"#000000\" font-family=\"Times,serif\" font-size=\"14.00\" text-anchor=\"middle\" x=\"518\" y=\"-91.3\">output:</text>\n<polyline fill=\"none\" points=\"547,-83.5 547,-129.5 \" stroke=\"#000000\"/>\n<text fill=\"#000000\" font-family=\"Times,serif\" font-size=\"14.00\" text-anchor=\"middle\" x=\"634\" y=\"-114.3\">[(None, 128), (None, 128)]</text>\n<polyline fill=\"none\" points=\"547,-106.5 721,-106.5 \" stroke=\"#000000\"/>\n<text fill=\"#000000\" font-family=\"Times,serif\" font-size=\"14.00\" text-anchor=\"middle\" x=\"634\" y=\"-91.3\">(None, 256)</text>\n</g>\n<!-- 140073766725392&#45;&gt;140073768667064 -->\n<g class=\"edge\" id=\"edge6\">\n<title>140073766725392-&gt;140073768667064</title>\n<path d=\"M331.0248,-166.4901C363.6,-156.0105 402.3216,-143.5535 436.0157,-132.7139\" fill=\"none\" stroke=\"#000000\"/>\n<polygon fill=\"#000000\" points=\"437.3885,-135.949 445.8361,-129.5547 435.2447,-129.2854 437.3885,-135.949\" stroke=\"#000000\"/>\n</g>\n<!-- 140073768667344&#45;&gt;140073768667064 -->\n<g class=\"edge\" id=\"edge7\">\n<title>140073768667344-&gt;140073768667064</title>\n<path d=\"M704.698,-166.4901C671.9965,-156.0105 633.1248,-143.5535 599.3001,-132.7139\" fill=\"none\" stroke=\"#000000\"/>\n<polygon fill=\"#000000\" points=\"600.0328,-129.2735 589.4417,-129.5547 597.8965,-135.9395 600.0328,-129.2735\" stroke=\"#000000\"/>\n</g>\n<!-- 140073768665776 -->\n<g class=\"node\" id=\"node8\">\n<title>140073768665776</title>\n<polygon fill=\"none\" points=\"391.5,-.5 391.5,-46.5 643.5,-46.5 643.5,-.5 391.5,-.5\" stroke=\"#000000\"/>\n<text fill=\"#000000\" font-family=\"Times,serif\" font-size=\"14.00\" text-anchor=\"middle\" x=\"445\" y=\"-19.8\">dense_1: Dense</text>\n<polyline fill=\"none\" points=\"498.5,-.5 498.5,-46.5 \" stroke=\"#000000\"/>\n<text fill=\"#000000\" font-family=\"Times,serif\" font-size=\"14.00\" text-anchor=\"middle\" x=\"527.5\" y=\"-31.3\">input:</text>\n<polyline fill=\"none\" points=\"498.5,-23.5 556.5,-23.5 \" stroke=\"#000000\"/>\n<text fill=\"#000000\" font-family=\"Times,serif\" font-size=\"14.00\" text-anchor=\"middle\" x=\"527.5\" y=\"-8.3\">output:</text>\n<polyline fill=\"none\" points=\"556.5,-.5 556.5,-46.5 \" stroke=\"#000000\"/>\n<text fill=\"#000000\" font-family=\"Times,serif\" font-size=\"14.00\" text-anchor=\"middle\" x=\"600\" y=\"-31.3\">(None, 256)</text>\n<polyline fill=\"none\" points=\"556.5,-23.5 643.5,-23.5 \" stroke=\"#000000\"/>\n<text fill=\"#000000\" font-family=\"Times,serif\" font-size=\"14.00\" text-anchor=\"middle\" x=\"600\" y=\"-8.3\">(None, 22)</text>\n</g>\n<!-- 140073768667064&#45;&gt;140073768665776 -->\n<g class=\"edge\" id=\"edge8\">\n<title>140073768667064-&gt;140073768665776</title>\n<path d=\"M517.5,-83.3799C517.5,-75.1745 517.5,-65.7679 517.5,-56.8786\" fill=\"none\" stroke=\"#000000\"/>\n<polygon fill=\"#000000\" points=\"521.0001,-56.784 517.5,-46.784 514.0001,-56.784 521.0001,-56.784\" stroke=\"#000000\"/>\n</g>\n</g>\n</svg>"
          },
          "metadata": {
            "tags": []
          },
          "execution_count": 53
        }
      ]
    },
    {
      "cell_type": "code",
      "metadata": {
        "id": "RWIisItiAHHd",
        "colab_type": "code",
        "outputId": "da2facbe-be4e-4303-ada7-ef6118c0eaf1",
        "colab": {
          "base_uri": "https://localhost:8080/",
          "height": 661
        }
      },
      "source": [
        "from keras.utils import plot_model\n",
        "plot_model(model, to_file='/content/drive/My Drive/MScA/Machine Learning/ML Final Project/Models/model.png')"
      ],
      "execution_count": 0,
      "outputs": [
        {
          "output_type": "execute_result",
          "data": {
            "image/png": "[encoded data removed]",
            "text/plain": [
              "<IPython.core.display.Image object>"
            ]
          },
          "metadata": {
            "tags": []
          },
          "execution_count": 55
        }
      ]
    },
    {
      "cell_type": "code",
      "metadata": {
        "id": "d4Fh6npDCsv2",
        "colab_type": "code",
        "colab": {}
      },
      "source": [
        "model.compile(loss=keras.losses.categorical_crossentropy,\n",
        "              optimizer=tensorflow.keras.optimizers.Adam(),\n",
        "              metrics=['accuracy'])"
      ],
      "execution_count": 0,
      "outputs": []
    },
    {
      "cell_type": "markdown",
      "metadata": {
        "id": "LOc75lhLDCQN",
        "colab_type": "text"
      },
      "source": [
        "#### Training the model"
      ]
    },
    {
      "cell_type": "code",
      "metadata": {
        "id": "6uhmRfkFZbWy",
        "colab_type": "code",
        "colab": {}
      },
      "source": [
        "filepath=\"/content/drive/My Drive/MScA/Machine Learning/ML Final Project/Models/gru_model_weights_best\"\n",
        "def step_decay(epoch):\n",
        "\tinitial_lrate = 0.01\n",
        "\tdrop = 0.5\n",
        "\tepochs_drop = 5\n",
        "\tlrate = initial_lrate * math.pow(drop, math.floor((1+epoch)/epochs_drop))\n",
        "\treturn lrate\n",
        "lrate =  keras.callbacks.LearningRateScheduler(step_decay)\n",
        "es = EarlyStopping(monitor='val_loss', mode='min', verbose=1, patience=5)\n",
        "checkpoint = ModelCheckpoint(filepath, monitor='val_acc',\n",
        "                             verbose=1, save_best_only=True, mode='max') #only save model if it improves the accuracy\n",
        "callbacks_list = [es, checkpoint]"
      ],
      "execution_count": 0,
      "outputs": []
    },
    {
      "cell_type": "code",
      "metadata": {
        "id": "KTcISNyADBXm",
        "colab_type": "code",
        "outputId": "0814405d-41f1-4913-ff62-040fb35dced7",
        "colab": {
          "base_uri": "https://localhost:8080/",
          "height": 598
        }
      },
      "source": [
        "epochs = 15\n",
        "batch_size = 128\n",
        "history = model.fit(padded_docs, labels_encoded, \n",
        "                    batch_size=batch_size, epochs=epochs,verbose=1,\n",
        "                    validation_split=0.2,\n",
        "                    shuffle=True, callbacks=callbacks_list)"
      ],
      "execution_count": 0,
      "outputs": [
        {
          "output_type": "stream",
          "text": [
            "Train on 14823 samples, validate on 3706 samples\n",
            "Epoch 1/15\n",
            "14823/14823 [==============================] - 286s 19ms/step - loss: 2.0647 - accuracy: 0.4401 - val_loss: 1.8924 - val_accuracy: 0.4765\n",
            "Epoch 2/15\n"
          ],
          "name": "stdout"
        },
        {
          "output_type": "stream",
          "text": [
            "/usr/local/lib/python3.6/dist-packages/keras/callbacks/callbacks.py:707: RuntimeWarning: Can save best model only with val_acc available, skipping.\n",
            "  'skipping.' % (self.monitor), RuntimeWarning)\n"
          ],
          "name": "stderr"
        },
        {
          "output_type": "stream",
          "text": [
            "14823/14823 [==============================] - 286s 19ms/step - loss: 1.8050 - accuracy: 0.4934 - val_loss: 1.7325 - val_accuracy: 0.5024\n",
            "Epoch 3/15\n",
            "14823/14823 [==============================] - 283s 19ms/step - loss: 1.6574 - accuracy: 0.5186 - val_loss: 1.6018 - val_accuracy: 0.5440\n",
            "Epoch 4/15\n",
            "14823/14823 [==============================] - 283s 19ms/step - loss: 1.5346 - accuracy: 0.5467 - val_loss: 1.5157 - val_accuracy: 0.5666\n",
            "Epoch 5/15\n",
            "14823/14823 [==============================] - 285s 19ms/step - loss: 1.4268 - accuracy: 0.5736 - val_loss: 1.4292 - val_accuracy: 0.5804\n",
            "Epoch 6/15\n",
            "14823/14823 [==============================] - 283s 19ms/step - loss: 1.3301 - accuracy: 0.5995 - val_loss: 1.3462 - val_accuracy: 0.5985\n",
            "Epoch 7/15\n",
            "14823/14823 [==============================] - 287s 19ms/step - loss: 1.2431 - accuracy: 0.6236 - val_loss: 1.2959 - val_accuracy: 0.6185\n",
            "Epoch 8/15\n",
            "14823/14823 [==============================] - 282s 19ms/step - loss: 1.1643 - accuracy: 0.6461 - val_loss: 1.2413 - val_accuracy: 0.6203\n",
            "Epoch 9/15\n",
            "14823/14823 [==============================] - 285s 19ms/step - loss: 1.0983 - accuracy: 0.6671 - val_loss: 1.2138 - val_accuracy: 0.6306\n",
            "Epoch 10/15\n",
            "14823/14823 [==============================] - 284s 19ms/step - loss: 1.0435 - accuracy: 0.6823 - val_loss: 1.1737 - val_accuracy: 0.6387\n",
            "Epoch 11/15\n",
            "14823/14823 [==============================] - 283s 19ms/step - loss: 0.9824 - accuracy: 0.6976 - val_loss: 1.1347 - val_accuracy: 0.6552\n",
            "Epoch 12/15\n",
            "14823/14823 [==============================] - 283s 19ms/step - loss: 0.9301 - accuracy: 0.7114 - val_loss: 1.1254 - val_accuracy: 0.6506\n",
            "Epoch 13/15\n",
            "14823/14823 [==============================] - 284s 19ms/step - loss: 0.8871 - accuracy: 0.7258 - val_loss: 1.1059 - val_accuracy: 0.6560\n",
            "Epoch 14/15\n",
            "14823/14823 [==============================] - 281s 19ms/step - loss: 0.8465 - accuracy: 0.7374 - val_loss: 1.0684 - val_accuracy: 0.6662\n",
            "Epoch 15/15\n",
            "14823/14823 [==============================] - 285s 19ms/step - loss: 0.8029 - accuracy: 0.7519 - val_loss: 1.0644 - val_accuracy: 0.6662\n"
          ],
          "name": "stdout"
        }
      ]
    },
    {
      "cell_type": "markdown",
      "metadata": {
        "id": "wNxbuj4eDFpr",
        "colab_type": "text"
      },
      "source": [
        "#### Evaluating model"
      ]
    },
    {
      "cell_type": "code",
      "metadata": {
        "id": "4KGgLb1E08X4",
        "colab_type": "code",
        "colab": {}
      },
      "source": [
        "preds = model.predict(padded_docs_test)\n",
        "preds_train = model.predict(padded_docs)"
      ],
      "execution_count": 0,
      "outputs": []
    },
    {
      "cell_type": "code",
      "metadata": {
        "id": "kSx4cO_L_ONn",
        "colab_type": "code",
        "colab": {}
      },
      "source": [
        "preds = preds.argmax(axis=-1)\n",
        "preds_train = preds_train.argmax(axis=-1)"
      ],
      "execution_count": 0,
      "outputs": []
    },
    {
      "cell_type": "code",
      "metadata": {
        "id": "ehRwsDc10rID",
        "colab_type": "code",
        "outputId": "966e3d54-cee0-47aa-9e96-e17e488151e5",
        "colab": {
          "base_uri": "https://localhost:8080/",
          "height": 493
        }
      },
      "source": [
        "print(classification_report(Y_test, preds))"
      ],
      "execution_count": 0,
      "outputs": [
        {
          "output_type": "stream",
          "text": [
            "              precision    recall  f1-score   support\n",
            "\n",
            "           0       0.57      0.80      0.67        55\n",
            "           1       0.48      0.61      0.53       193\n",
            "           2       0.45      0.95      0.61        44\n",
            "           3       0.42      0.57      0.48        56\n",
            "           4       0.54      0.57      0.55        92\n",
            "           5       0.54      0.48      0.50        61\n",
            "           6       0.54      0.44      0.49       194\n",
            "           7       0.58      0.57      0.58        81\n",
            "           8       0.41      0.82      0.55       222\n",
            "          10       0.60      0.67      0.63        18\n",
            "          11       0.55      0.50      0.53        42\n",
            "          12       0.50      0.17      0.25        12\n",
            "          13       0.60      0.80      0.68        70\n",
            "          14       0.43      0.52      0.47       166\n",
            "          15       0.44      0.25      0.32        72\n",
            "          16       0.52      0.65      0.58        69\n",
            "          17       0.29      0.14      0.19        78\n",
            "          18       0.87      0.75      0.81      2286\n",
            "          19       0.45      0.55      0.50       195\n",
            "          20       0.51      0.46      0.49       553\n",
            "          21       0.75      0.77      0.76        74\n",
            "\n",
            "    accuracy                           0.65      4633\n",
            "   macro avg       0.53      0.57      0.53      4633\n",
            "weighted avg       0.68      0.65      0.66      4633\n",
            "\n"
          ],
          "name": "stdout"
        }
      ]
    },
    {
      "cell_type": "code",
      "metadata": {
        "id": "Svwfihg81OJ3",
        "colab_type": "code",
        "outputId": "6ecbc0fa-fd51-4684-9a3b-bd3d6b6cb5c5",
        "colab": {
          "base_uri": "https://localhost:8080/",
          "height": 34
        }
      },
      "source": [
        "set(preds_train)"
      ],
      "execution_count": 0,
      "outputs": [
        {
          "output_type": "execute_result",
          "data": {
            "text/plain": [
              "{0, 1, 2, 3, 4, 5, 6, 7, 8, 10, 11, 12, 13, 14, 15, 16, 17, 18, 19, 20, 21}"
            ]
          },
          "metadata": {
            "tags": []
          },
          "execution_count": 52
        }
      ]
    },
    {
      "cell_type": "code",
      "metadata": {
        "id": "M88rV6iI1DyV",
        "colab_type": "code",
        "outputId": "d4595fd4-764c-4d32-abca-249fd3e66c7e",
        "colab": {
          "base_uri": "https://localhost:8080/",
          "height": 34
        }
      },
      "source": [
        "set(preds)"
      ],
      "execution_count": 0,
      "outputs": [
        {
          "output_type": "execute_result",
          "data": {
            "text/plain": [
              "{0, 1, 2, 3, 4, 5, 6, 7, 8, 10, 11, 12, 13, 14, 15, 16, 17, 18, 19, 20, 21}"
            ]
          },
          "metadata": {
            "tags": []
          },
          "execution_count": 53
        }
      ]
    },
    {
      "cell_type": "code",
      "metadata": {
        "id": "ZdWYzhnWDGQF",
        "colab_type": "code",
        "outputId": "99cae4b8-9311-4570-8b3e-8a5c39a0cef1",
        "colab": {
          "base_uri": "https://localhost:8080/",
          "height": 51
        }
      },
      "source": [
        "scores = model.evaluate(padded_docs_test, labels_encoded_test, batch_size=128, verbose=1)\n",
        "print('Test result: %.3f loss: %.3f' % (scores[1]*100,scores[0]))"
      ],
      "execution_count": 0,
      "outputs": [
        {
          "output_type": "stream",
          "text": [
            "4633/4633 [==============================] - 24s 5ms/step\n",
            "Test result: 65.271 loss: 1.082\n"
          ],
          "name": "stdout"
        }
      ]
    },
    {
      "cell_type": "code",
      "metadata": {
        "id": "phkZyYxlDfHf",
        "colab_type": "code",
        "outputId": "1da7b063-4305-4a2d-90d9-09be66c932e1",
        "colab": {
          "base_uri": "https://localhost:8080/",
          "height": 590
        }
      },
      "source": [
        "plt.figure(221)\n",
        "\n",
        "plt.figure(0)\n",
        "plt.plot(history.history['accuracy'],'r')\n",
        "plt.plot(history.history['val_accuracy'],'g')\n",
        "plt.xticks(np.arange(0, 15, 1.0))\n",
        "plt.rcParams['figure.figsize'] = (12, 4)\n",
        "plt.xlabel(\"Num of Epochs\")\n",
        "plt.ylabel(\"Accuracy\")\n",
        "plt.title(\"Training Accuracy vs Validation Accuracy\")\n",
        "plt.legend(['train','validation'])\n",
        " \n",
        " \n",
        "plt.figure(1)\n",
        "plt.plot(history.history['loss'],'r')\n",
        "plt.plot(history.history['val_loss'],'g')\n",
        "plt.xticks(np.arange(0, 15, 1.0))\n",
        "plt.rcParams['figure.figsize'] = (12, 4)\n",
        "plt.xlabel(\"Num of Epochs\")\n",
        "plt.ylabel(\"Loss\")\n",
        "plt.title(\"Training Loss vs Validation Loss\")\n",
        "plt.legend(['train','validation'])\n",
        " \n",
        "plt.show()"
      ],
      "execution_count": 0,
      "outputs": [
        {
          "output_type": "display_data",
          "data": {
            "text/plain": [
              "<Figure size 432x288 with 0 Axes>"
            ]
          },
          "metadata": {
            "tags": []
          }
        },
        {
          "output_type": "display_data",
          "data": {
            "image/png": "[encoded data removed]",
            "text/plain": [
              "<Figure size 432x288 with 1 Axes>"
            ]
          },
          "metadata": {
            "tags": [],
            "needs_background": "light"
          }
        },
        {
          "output_type": "display_data",
          "data": {
            "image/png": "[encoded data removed]",
            "text/plain": [
              "<Figure size 864x288 with 1 Axes>"
            ]
          },
          "metadata": {
            "tags": [],
            "needs_background": "light"
          }
        }
      ]
    },
    {
      "cell_type": "markdown",
      "metadata": {
        "id": "7OMdefim6ytP",
        "colab_type": "text"
      },
      "source": [
        "#### Save or load models"
      ]
    },
    {
      "cell_type": "code",
      "metadata": {
        "id": "pQPH_s_N6SPa",
        "colab_type": "code",
        "outputId": "2a8d58d3-ac5a-447d-e585-d28a7428873e",
        "colab": {
          "base_uri": "https://localhost:8080/",
          "height": 34
        }
      },
      "source": [
        "# serialize model to JSON\n",
        "model_json = model.to_json()\n",
        "with open(\"/content/drive/My Drive/MScA/Machine Learning/ML Final Project/Models/gru_bidir.json\", \"w\") as json_file:\n",
        "    json_file.write(model_json)\n",
        "# serialize weights to HDF5\n",
        "model.save_weights(\"/content/drive/My Drive/MScA/Machine Learning/ML Final Project/Models/gru_bidir.h5\")\n",
        "print(\"Saved model to disk\")"
      ],
      "execution_count": 0,
      "outputs": [
        {
          "output_type": "stream",
          "text": [
            "Saved model to disk\n"
          ],
          "name": "stdout"
        }
      ]
    },
    {
      "cell_type": "code",
      "metadata": {
        "id": "sFycZfUA6T1I",
        "colab_type": "code",
        "outputId": "7aacd184-b694-427e-da3f-1439b87bb530",
        "colab": {
          "base_uri": "https://localhost:8080/",
          "height": 34
        }
      },
      "source": [
        "# load json and create model\n",
        "json_file = open('/content/drive/My Drive/MScA/Machine Learning/ML Final Project/Models/____________.json', 'r')\n",
        "loaded_model_json = json_file.read()\n",
        "json_file.close()\n",
        "model = model_from_json(loaded_model_json)\n",
        "# load weights into new model\n",
        "model.load_weights(\"/content/drive/My Drive/MScA/Machine Learning/ML Final Project/Models/_______________.h5\")\n",
        "print(\"Loaded model from disk\")"
      ],
      "execution_count": 0,
      "outputs": [
        {
          "output_type": "stream",
          "text": [
            "Loaded model from disk\n"
          ],
          "name": "stdout"
        }
      ]
    }
  ]
}