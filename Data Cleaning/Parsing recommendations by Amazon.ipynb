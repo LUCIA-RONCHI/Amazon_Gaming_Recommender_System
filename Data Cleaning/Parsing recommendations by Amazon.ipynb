{
 "cells": [
  {
   "cell_type": "code",
   "execution_count": 1,
   "metadata": {},
   "outputs": [],
   "source": [
    "# Load libraries\n",
    "import pandas as pd\n",
    "import numpy as np\n",
    "import matplotlib.pyplot as plt\n",
    "import seaborn as sns\n",
    "import ast\n",
    "# Surprise Package\n",
    "import surprise"
   ]
  },
  {
   "cell_type": "code",
   "execution_count": 2,
   "metadata": {},
   "outputs": [],
   "source": [
    "# Read data\n",
    "train_df = pd.read_pickle(\"../../train_df.pkl\")\n",
    "test_df = pd.read_pickle(\"../../test_df.pkl\")"
   ]
  },
  {
   "cell_type": "code",
   "execution_count": 4,
   "metadata": {},
   "outputs": [],
   "source": [
    "# Create Train/Test flag\n",
    "train_df[\"Set\"] = \"Train\"\n",
    "test_df[\"Set\"] = \"Test\""
   ]
  },
  {
   "cell_type": "markdown",
   "metadata": {},
   "source": [
    "### Merge datasets"
   ]
  },
  {
   "cell_type": "code",
   "execution_count": 5,
   "metadata": {},
   "outputs": [],
   "source": [
    "data = pd.concat([train_df, test_df], sort = False)"
   ]
  },
  {
   "cell_type": "code",
   "execution_count": 7,
   "metadata": {},
   "outputs": [
    {
     "name": "stdout",
     "output_type": "stream",
     "text": [
      "(290639, 21)\n"
     ]
    },
    {
     "data": {
      "text/html": [
       "<div>\n",
       "<style scoped>\n",
       "    .dataframe tbody tr th:only-of-type {\n",
       "        vertical-align: middle;\n",
       "    }\n",
       "\n",
       "    .dataframe tbody tr th {\n",
       "        vertical-align: top;\n",
       "    }\n",
       "\n",
       "    .dataframe thead th {\n",
       "        text-align: right;\n",
       "    }\n",
       "</style>\n",
       "<table border=\"1\" class=\"dataframe\">\n",
       "  <thead>\n",
       "    <tr style=\"text-align: right;\">\n",
       "      <th></th>\n",
       "      <th>reviewID</th>\n",
       "      <th>overall</th>\n",
       "      <th>verified</th>\n",
       "      <th>reviewTime</th>\n",
       "      <th>reviewerID</th>\n",
       "      <th>productID</th>\n",
       "      <th>reviewText</th>\n",
       "      <th>summary</th>\n",
       "      <th>vote</th>\n",
       "      <th>style</th>\n",
       "      <th>...</th>\n",
       "      <th>title</th>\n",
       "      <th>brand</th>\n",
       "      <th>rank</th>\n",
       "      <th>main_cat</th>\n",
       "      <th>description</th>\n",
       "      <th>also_buy</th>\n",
       "      <th>also_view</th>\n",
       "      <th>feature</th>\n",
       "      <th>numberOfReviews</th>\n",
       "      <th>Set</th>\n",
       "    </tr>\n",
       "  </thead>\n",
       "  <tbody>\n",
       "    <tr>\n",
       "      <td>473590</td>\n",
       "      <td>473590</td>\n",
       "      <td>5</td>\n",
       "      <td>False</td>\n",
       "      <td>2016-07-16</td>\n",
       "      <td>A2KJVIU82ZUSBA</td>\n",
       "      <td>B0186D1UQ0</td>\n",
       "      <td>Fantastic</td>\n",
       "      <td>Best Remake I've Ever Played</td>\n",
       "      <td>0</td>\n",
       "      <td>{'Format:': ' Video Game'}</td>\n",
       "      <td>...</td>\n",
       "      <td>Odin Sphere Leifthrasir - PlayStation 4 Standa...</td>\n",
       "      <td>by Atlus</td>\n",
       "      <td>&gt;#4,665 in Video Games (See Top 100 in Video G...</td>\n",
       "      <td>Video Games</td>\n",
       "      <td>[\"ATLUS x Vanillaware, the team behind the hit...</td>\n",
       "      <td>['B077Y7313L', 'B0794Y8FLW', 'B01HQGWBZ2', 'B0...</td>\n",
       "      <td>['B077Y7313L', 'B0794Y8FLW', 'B017GY06UQ', 'B0...</td>\n",
       "      <td>['HD Art Upgrade: Known for its beautiful, 2D ...</td>\n",
       "      <td>26</td>\n",
       "      <td>Train</td>\n",
       "    </tr>\n",
       "    <tr>\n",
       "      <td>128446</td>\n",
       "      <td>128446</td>\n",
       "      <td>5</td>\n",
       "      <td>True</td>\n",
       "      <td>2014-07-18</td>\n",
       "      <td>A3GENOZU8QJZAZ</td>\n",
       "      <td>B000R39GPA</td>\n",
       "      <td>Great game</td>\n",
       "      <td>PS3</td>\n",
       "      <td>0</td>\n",
       "      <td>{'Edition:': ' Standard', 'Platform:': ' PlayS...</td>\n",
       "      <td>...</td>\n",
       "      <td>Star Wars: The Force Unleashed</td>\n",
       "      <td>by LucasArts</td>\n",
       "      <td>&gt;#9,056 in Video Games (See Top 100 in Video G...</td>\n",
       "      <td>Video Games</td>\n",
       "      <td>['The Star Wars saga will continue in Star War...</td>\n",
       "      <td>['B0030F1DOO', 'B003FMUMBM', 'B00EY3F8LU', 'B0...</td>\n",
       "      <td>['B01BCMBP44', 'B0030F1DOO', 'B00EY3F8LU', 'B0...</td>\n",
       "      <td>['Confront and associate with familiar faces f...</td>\n",
       "      <td>140</td>\n",
       "      <td>Train</td>\n",
       "    </tr>\n",
       "    <tr>\n",
       "      <td>356264</td>\n",
       "      <td>356264</td>\n",
       "      <td>3</td>\n",
       "      <td>True</td>\n",
       "      <td>2015-07-03</td>\n",
       "      <td>ADE6VBLJEOKFC</td>\n",
       "      <td>B00DHF39HQ</td>\n",
       "      <td>Its a game with stuff thats really boring to s...</td>\n",
       "      <td>Buy a car.</td>\n",
       "      <td>2</td>\n",
       "      <td>{'Format:': ' Video Game'}</td>\n",
       "      <td>...</td>\n",
       "      <td>Elder Scrolls Online: Tamriel Unlimited - Play...</td>\n",
       "      <td>by Bethesda</td>\n",
       "      <td>&gt;#5,896 in Video Games (See Top 100 in Video G...</td>\n",
       "      <td>Video Games</td>\n",
       "      <td>[\"The award winning Elder Scrolls saga goes on...</td>\n",
       "      <td>['B01MSDDCUI', 'B07BJ66LRB', 'B01I41HEGY', 'B0...</td>\n",
       "      <td>['B07BJ66LRB', 'B01I41HEGY', 'B01MSDDCUI', 'B0...</td>\n",
       "      <td>['Unlimited Adventures, No Subscription Requir...</td>\n",
       "      <td>135</td>\n",
       "      <td>Train</td>\n",
       "    </tr>\n",
       "    <tr>\n",
       "      <td>396581</td>\n",
       "      <td>396581</td>\n",
       "      <td>5</td>\n",
       "      <td>True</td>\n",
       "      <td>2014-12-25</td>\n",
       "      <td>AGS25M1ED8EGZ</td>\n",
       "      <td>B00K848IH0</td>\n",
       "      <td>love it</td>\n",
       "      <td>great</td>\n",
       "      <td>0</td>\n",
       "      <td>{'Edition:': ' Alpha Sapphire', 'Platform:': '...</td>\n",
       "      <td>...</td>\n",
       "      <td>Pokemon Alpha Sapphire - Nintendo 3DS</td>\n",
       "      <td>by Nintendo</td>\n",
       "      <td>&gt;#837 in Video Games (See Top 100 in Video Gam...</td>\n",
       "      <td>Video Games</td>\n",
       "      <td>[\"Soar high above the Hoenn region on an unfor...</td>\n",
       "      <td>['B0053B66KE', 'B0053B5RGI', 'B071WNTGFY', 'B0...</td>\n",
       "      <td>['B0053B5RGI', 'B00R11EPAC', 'B071JQQ9PK', 'B0...</td>\n",
       "      <td>['Games in 2D. Some areas also playable in 3D....</td>\n",
       "      <td>267</td>\n",
       "      <td>Train</td>\n",
       "    </tr>\n",
       "    <tr>\n",
       "      <td>244246</td>\n",
       "      <td>244246</td>\n",
       "      <td>4</td>\n",
       "      <td>True</td>\n",
       "      <td>2011-07-15</td>\n",
       "      <td>A1CZT2GDDO4GC1</td>\n",
       "      <td>B003O6G1L4</td>\n",
       "      <td>The main people who are really DOWNING this ga...</td>\n",
       "      <td>It's not that bad of a game, but does lack a l...</td>\n",
       "      <td>5</td>\n",
       "      <td>{'Edition:': ' Standard', 'Platform:': ' PlayS...</td>\n",
       "      <td>...</td>\n",
       "      <td>Dungeon Siege III - Playstation 3</td>\n",
       "      <td>by Square Enix</td>\n",
       "      <td>&gt;#19,535 in Video Games (See Top 100 in Video ...</td>\n",
       "      <td>Video Games</td>\n",
       "      <td>[\"Torn asunder, the delicate balance of power ...</td>\n",
       "      <td>['B00IQCRO3K', 'B001BTPRKC', 'B000HCJD68', 'B0...</td>\n",
       "      <td>['B00IQCRO3K', 'B007V9QKH0', 'B00B59MXGY', 'B0...</td>\n",
       "      <td>['For the first time, play DUNGEON SIEGE on hi...</td>\n",
       "      <td>43</td>\n",
       "      <td>Train</td>\n",
       "    </tr>\n",
       "  </tbody>\n",
       "</table>\n",
       "<p>5 rows × 21 columns</p>\n",
       "</div>"
      ],
      "text/plain": [
       "        reviewID  overall  verified  reviewTime      reviewerID   productID  \\\n",
       "473590    473590        5     False  2016-07-16  A2KJVIU82ZUSBA  B0186D1UQ0   \n",
       "128446    128446        5      True  2014-07-18  A3GENOZU8QJZAZ  B000R39GPA   \n",
       "356264    356264        3      True  2015-07-03   ADE6VBLJEOKFC  B00DHF39HQ   \n",
       "396581    396581        5      True  2014-12-25   AGS25M1ED8EGZ  B00K848IH0   \n",
       "244246    244246        4      True  2011-07-15  A1CZT2GDDO4GC1  B003O6G1L4   \n",
       "\n",
       "                                               reviewText  \\\n",
       "473590                                          Fantastic   \n",
       "128446                                         Great game   \n",
       "356264  Its a game with stuff thats really boring to s...   \n",
       "396581                                            love it   \n",
       "244246  The main people who are really DOWNING this ga...   \n",
       "\n",
       "                                                  summary vote  \\\n",
       "473590                       Best Remake I've Ever Played    0   \n",
       "128446                                                PS3    0   \n",
       "356264                                         Buy a car.    2   \n",
       "396581                                              great    0   \n",
       "244246  It's not that bad of a game, but does lack a l...    5   \n",
       "\n",
       "                                                    style  ...  \\\n",
       "473590                         {'Format:': ' Video Game'}  ...   \n",
       "128446  {'Edition:': ' Standard', 'Platform:': ' PlayS...  ...   \n",
       "356264                         {'Format:': ' Video Game'}  ...   \n",
       "396581  {'Edition:': ' Alpha Sapphire', 'Platform:': '...  ...   \n",
       "244246  {'Edition:': ' Standard', 'Platform:': ' PlayS...  ...   \n",
       "\n",
       "                                                    title           brand  \\\n",
       "473590  Odin Sphere Leifthrasir - PlayStation 4 Standa...        by Atlus   \n",
       "128446                     Star Wars: The Force Unleashed    by LucasArts   \n",
       "356264  Elder Scrolls Online: Tamriel Unlimited - Play...     by Bethesda   \n",
       "396581              Pokemon Alpha Sapphire - Nintendo 3DS     by Nintendo   \n",
       "244246                  Dungeon Siege III - Playstation 3  by Square Enix   \n",
       "\n",
       "                                                     rank     main_cat  \\\n",
       "473590  >#4,665 in Video Games (See Top 100 in Video G...  Video Games   \n",
       "128446  >#9,056 in Video Games (See Top 100 in Video G...  Video Games   \n",
       "356264  >#5,896 in Video Games (See Top 100 in Video G...  Video Games   \n",
       "396581  >#837 in Video Games (See Top 100 in Video Gam...  Video Games   \n",
       "244246  >#19,535 in Video Games (See Top 100 in Video ...  Video Games   \n",
       "\n",
       "                                              description  \\\n",
       "473590  [\"ATLUS x Vanillaware, the team behind the hit...   \n",
       "128446  ['The Star Wars saga will continue in Star War...   \n",
       "356264  [\"The award winning Elder Scrolls saga goes on...   \n",
       "396581  [\"Soar high above the Hoenn region on an unfor...   \n",
       "244246  [\"Torn asunder, the delicate balance of power ...   \n",
       "\n",
       "                                                 also_buy  \\\n",
       "473590  ['B077Y7313L', 'B0794Y8FLW', 'B01HQGWBZ2', 'B0...   \n",
       "128446  ['B0030F1DOO', 'B003FMUMBM', 'B00EY3F8LU', 'B0...   \n",
       "356264  ['B01MSDDCUI', 'B07BJ66LRB', 'B01I41HEGY', 'B0...   \n",
       "396581  ['B0053B66KE', 'B0053B5RGI', 'B071WNTGFY', 'B0...   \n",
       "244246  ['B00IQCRO3K', 'B001BTPRKC', 'B000HCJD68', 'B0...   \n",
       "\n",
       "                                                also_view  \\\n",
       "473590  ['B077Y7313L', 'B0794Y8FLW', 'B017GY06UQ', 'B0...   \n",
       "128446  ['B01BCMBP44', 'B0030F1DOO', 'B00EY3F8LU', 'B0...   \n",
       "356264  ['B07BJ66LRB', 'B01I41HEGY', 'B01MSDDCUI', 'B0...   \n",
       "396581  ['B0053B5RGI', 'B00R11EPAC', 'B071JQQ9PK', 'B0...   \n",
       "244246  ['B00IQCRO3K', 'B007V9QKH0', 'B00B59MXGY', 'B0...   \n",
       "\n",
       "                                                  feature numberOfReviews  \\\n",
       "473590  ['HD Art Upgrade: Known for its beautiful, 2D ...              26   \n",
       "128446  ['Confront and associate with familiar faces f...             140   \n",
       "356264  ['Unlimited Adventures, No Subscription Requir...             135   \n",
       "396581  ['Games in 2D. Some areas also playable in 3D....             267   \n",
       "244246  ['For the first time, play DUNGEON SIEGE on hi...              43   \n",
       "\n",
       "          Set  \n",
       "473590  Train  \n",
       "128446  Train  \n",
       "356264  Train  \n",
       "396581  Train  \n",
       "244246  Train  \n",
       "\n",
       "[5 rows x 21 columns]"
      ]
     },
     "execution_count": 7,
     "metadata": {},
     "output_type": "execute_result"
    }
   ],
   "source": [
    "# Explore dataset\n",
    "print(data.shape)\n",
    "data.head(5)"
   ]
  },
  {
   "cell_type": "markdown",
   "metadata": {},
   "source": [
    "### Drop lines without recommendation"
   ]
  },
  {
   "cell_type": "code",
   "execution_count": 59,
   "metadata": {},
   "outputs": [
    {
     "data": {
      "text/plain": [
       "13311"
      ]
     },
     "execution_count": 59,
     "metadata": {},
     "output_type": "execute_result"
    }
   ],
   "source": [
    "# Missing recommendations\n",
    "sum(data[\"also_buy\"].isna())"
   ]
  },
  {
   "cell_type": "code",
   "execution_count": 60,
   "metadata": {},
   "outputs": [
    {
     "data": {
      "text/plain": [
       "4.579908408713215"
      ]
     },
     "execution_count": 60,
     "metadata": {},
     "output_type": "execute_result"
    }
   ],
   "source": [
    "# Percentage\n",
    "sum(data[\"also_buy\"].isna())/len(data)*100"
   ]
  },
  {
   "cell_type": "code",
   "execution_count": 61,
   "metadata": {},
   "outputs": [],
   "source": [
    "# Drop rows with no recommendation\n",
    "data.dropna(axis = 0, subset = [\"also_buy\"], inplace = True)"
   ]
  },
  {
   "cell_type": "code",
   "execution_count": 62,
   "metadata": {},
   "outputs": [
    {
     "data": {
      "text/plain": [
       "0"
      ]
     },
     "execution_count": 62,
     "metadata": {},
     "output_type": "execute_result"
    }
   ],
   "source": [
    "# Check dropna\n",
    "sum(data[\"also_buy\"].isna())"
   ]
  },
  {
   "cell_type": "code",
   "execution_count": 63,
   "metadata": {},
   "outputs": [
    {
     "data": {
      "text/plain": [
       "277328"
      ]
     },
     "execution_count": 63,
     "metadata": {},
     "output_type": "execute_result"
    }
   ],
   "source": [
    "# New length of the data\n",
    "len(data)"
   ]
  },
  {
   "cell_type": "markdown",
   "metadata": {},
   "source": [
    "### Obtaining unique list of videogames"
   ]
  },
  {
   "cell_type": "code",
   "execution_count": 80,
   "metadata": {},
   "outputs": [],
   "source": [
    "# Unique products\n",
    "games_list = set(data[\"productID\"].unique())"
   ]
  },
  {
   "cell_type": "code",
   "execution_count": 81,
   "metadata": {},
   "outputs": [
    {
     "data": {
      "text/plain": [
       "9322"
      ]
     },
     "execution_count": 81,
     "metadata": {},
     "output_type": "execute_result"
    }
   ],
   "source": [
    "# Explore list of unique videogames\n",
    "len(games_list)"
   ]
  },
  {
   "cell_type": "markdown",
   "metadata": {},
   "source": [
    "### Subsetting recommendations only to videogames"
   ]
  },
  {
   "cell_type": "code",
   "execution_count": 72,
   "metadata": {},
   "outputs": [],
   "source": [
    "# Convert string to list\n",
    "data[\"amz_recommendation\"] = data[\"also_buy\"].apply(lambda x: ast.literal_eval(x))"
   ]
  },
  {
   "cell_type": "code",
   "execution_count": 84,
   "metadata": {},
   "outputs": [],
   "source": [
    "# Keep only products that are videogames\n",
    "data[\"game_recommendation\"] = data[\"amz_recommendation\"].apply(lambda x: set(x).intersection(games_list))"
   ]
  },
  {
   "cell_type": "code",
   "execution_count": 87,
   "metadata": {},
   "outputs": [],
   "source": [
    "# Count recommended games per row\n",
    "data[\"n_recommended_games\"] = data[\"game_recommendation\"].apply(lambda x: len(x))"
   ]
  },
  {
   "cell_type": "code",
   "execution_count": 88,
   "metadata": {},
   "outputs": [],
   "source": [
    "# Count recommended products per row\n",
    "data[\"n_recommended_products\"] = data[\"amz_recommendation\"].apply(lambda x: len(x))"
   ]
  },
  {
   "cell_type": "code",
   "execution_count": 96,
   "metadata": {},
   "outputs": [
    {
     "data": {
      "text/plain": [
       "273635"
      ]
     },
     "execution_count": 96,
     "metadata": {},
     "output_type": "execute_result"
    }
   ],
   "source": [
    "# Check that they are mostly different\n",
    "sum(data[\"n_recommended_games\"] != data[\"n_recommended_products\"])"
   ]
  },
  {
   "cell_type": "markdown",
   "metadata": {},
   "source": [
    "### Checking for sufficient recommendations"
   ]
  },
  {
   "cell_type": "code",
   "execution_count": 98,
   "metadata": {},
   "outputs": [
    {
     "data": {
      "text/plain": [
       "235594"
      ]
     },
     "execution_count": 98,
     "metadata": {},
     "output_type": "execute_result"
    }
   ],
   "source": [
    "# Check for how many rows we have at least 10 recommendations\n",
    "sum(data[\"n_recommended_games\"] >= 10)"
   ]
  },
  {
   "cell_type": "code",
   "execution_count": 101,
   "metadata": {},
   "outputs": [
    {
     "data": {
      "text/plain": [
       "84.95139329602492"
      ]
     },
     "execution_count": 101,
     "metadata": {},
     "output_type": "execute_result"
    }
   ],
   "source": [
    "# As %\n",
    "sum(data[\"n_recommended_games\"] >= 10)/len(data)*100"
   ]
  },
  {
   "cell_type": "code",
   "execution_count": 99,
   "metadata": {},
   "outputs": [
    {
     "data": {
      "text/plain": [
       "223381"
      ]
     },
     "execution_count": 99,
     "metadata": {},
     "output_type": "execute_result"
    }
   ],
   "source": [
    "# Check for how many rows we have at least 15 recommendations\n",
    "sum(data[\"n_recommended_games\"] >= 15)"
   ]
  },
  {
   "cell_type": "code",
   "execution_count": 102,
   "metadata": {},
   "outputs": [
    {
     "data": {
      "text/plain": [
       "80.54758264582011"
      ]
     },
     "execution_count": 102,
     "metadata": {},
     "output_type": "execute_result"
    }
   ],
   "source": [
    "# As %\n",
    "sum(data[\"n_recommended_games\"] >= 15)/len(data)*100"
   ]
  }
 ],
 "metadata": {
  "kernelspec": {
   "display_name": "Python 3",
   "language": "python",
   "name": "python3"
  },
  "language_info": {
   "codemirror_mode": {
    "name": "ipython",
    "version": 3
   },
   "file_extension": ".py",
   "mimetype": "text/x-python",
   "name": "python",
   "nbconvert_exporter": "python",
   "pygments_lexer": "ipython3",
   "version": "3.7.4"
  }
 },
 "nbformat": 4,
 "nbformat_minor": 2
}
