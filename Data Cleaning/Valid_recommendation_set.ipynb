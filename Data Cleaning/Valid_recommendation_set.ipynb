{
 "cells": [
  {
   "cell_type": "markdown",
   "metadata": {},
   "source": [
    "# Creating a valid recommendation set"
   ]
  },
  {
   "cell_type": "markdown",
   "metadata": {},
   "source": [
    "The valid recommendation set will have a length of 15 and will be composed of:\n",
    "* Most recent true reviews with a score or 4 or 5\n",
    "* also_buy column whenever needed to complement the set, following these criteria:\n",
    "    * The most recent also_buy will be considered first\n",
    "    * The top items from that list will be used to complement\n",
    "    * Should that list be empty / not long enough, the preceding also_buy will be used\n",
    "\n",
    "For example:\n",
    "* For a user with 20 reviews of 4 and 5, the 15 most recent will be taken into account\n",
    "* For a user with 5 reviews of 4 and 5, all will be taken into account, plus 10 taken from also_buy"
   ]
  },
  {
   "cell_type": "markdown",
   "metadata": {},
   "source": [
    "## Importing Libraries"
   ]
  },
  {
   "cell_type": "code",
   "execution_count": 1,
   "metadata": {},
   "outputs": [],
   "source": [
    "# Load libraries\n",
    "import pandas as pd\n",
    "import numpy as np\n",
    "import matplotlib.pyplot as plt\n",
    "import seaborn as sns\n",
    "import ast\n",
    "from sklearn.utils import shuffle"
   ]
  },
  {
   "cell_type": "markdown",
   "metadata": {},
   "source": [
    "## Reading the data"
   ]
  },
  {
   "cell_type": "code",
   "execution_count": 2,
   "metadata": {},
   "outputs": [],
   "source": [
    "# Read data\n",
    "train_df = pd.read_pickle(\"../../train_df_2.pkl\")\n",
    "test_df = pd.read_pickle(\"../../test_df_2.pkl\")"
   ]
  },
  {
   "cell_type": "code",
   "execution_count": 3,
   "metadata": {},
   "outputs": [
    {
     "name": "stdout",
     "output_type": "stream",
     "text": [
      "(206085, 20)\n",
      "(84554, 20)\n"
     ]
    }
   ],
   "source": [
    "# Exploring shapes of resulting dataframes\n",
    "print(train_df.shape)\n",
    "print(test_df.shape)"
   ]
  },
  {
   "cell_type": "code",
   "execution_count": 4,
   "metadata": {},
   "outputs": [],
   "source": [
    "# Create Train/Test flag\n",
    "train_df[\"Set\"] = \"Train\"\n",
    "test_df[\"Set\"] = \"Test\""
   ]
  },
  {
   "cell_type": "code",
   "execution_count": 5,
   "metadata": {},
   "outputs": [],
   "source": [
    "# Merge data for initial investigation\n",
    "data = pd.concat([train_df, test_df], sort = False)"
   ]
  },
  {
   "cell_type": "code",
   "execution_count": 6,
   "metadata": {},
   "outputs": [
    {
     "name": "stdout",
     "output_type": "stream",
     "text": [
      "(290639, 21)\n"
     ]
    },
    {
     "data": {
      "text/html": [
       "<div>\n",
       "<style scoped>\n",
       "    .dataframe tbody tr th:only-of-type {\n",
       "        vertical-align: middle;\n",
       "    }\n",
       "\n",
       "    .dataframe tbody tr th {\n",
       "        vertical-align: top;\n",
       "    }\n",
       "\n",
       "    .dataframe thead th {\n",
       "        text-align: right;\n",
       "    }\n",
       "</style>\n",
       "<table border=\"1\" class=\"dataframe\">\n",
       "  <thead>\n",
       "    <tr style=\"text-align: right;\">\n",
       "      <th></th>\n",
       "      <th>reviewID</th>\n",
       "      <th>overall</th>\n",
       "      <th>verified</th>\n",
       "      <th>reviewTime</th>\n",
       "      <th>reviewerID</th>\n",
       "      <th>productID</th>\n",
       "      <th>reviewText</th>\n",
       "      <th>summary</th>\n",
       "      <th>vote</th>\n",
       "      <th>style</th>\n",
       "      <th>...</th>\n",
       "      <th>title</th>\n",
       "      <th>brand</th>\n",
       "      <th>rank</th>\n",
       "      <th>main_cat</th>\n",
       "      <th>description</th>\n",
       "      <th>also_buy</th>\n",
       "      <th>also_view</th>\n",
       "      <th>feature</th>\n",
       "      <th>numberOfReviews</th>\n",
       "      <th>Set</th>\n",
       "    </tr>\n",
       "  </thead>\n",
       "  <tbody>\n",
       "    <tr>\n",
       "      <td>473590</td>\n",
       "      <td>473590</td>\n",
       "      <td>5</td>\n",
       "      <td>False</td>\n",
       "      <td>2016-07-16</td>\n",
       "      <td>A2KJVIU82ZUSBA</td>\n",
       "      <td>B0186D1UQ0</td>\n",
       "      <td>Fantastic</td>\n",
       "      <td>Best Remake I've Ever Played</td>\n",
       "      <td>0</td>\n",
       "      <td>{'Format:': ' Video Game'}</td>\n",
       "      <td>...</td>\n",
       "      <td>Odin Sphere Leifthrasir - PlayStation 4 Standa...</td>\n",
       "      <td>by Atlus</td>\n",
       "      <td>&gt;#4,665 in Video Games (See Top 100 in Video G...</td>\n",
       "      <td>Video Games</td>\n",
       "      <td>[\"ATLUS x Vanillaware, the team behind the hit...</td>\n",
       "      <td>['B077Y7313L', 'B0794Y8FLW', 'B01HQGWBZ2', 'B0...</td>\n",
       "      <td>['B077Y7313L', 'B0794Y8FLW', 'B017GY06UQ', 'B0...</td>\n",
       "      <td>['HD Art Upgrade: Known for its beautiful, 2D ...</td>\n",
       "      <td>26</td>\n",
       "      <td>Train</td>\n",
       "    </tr>\n",
       "    <tr>\n",
       "      <td>128446</td>\n",
       "      <td>128446</td>\n",
       "      <td>5</td>\n",
       "      <td>True</td>\n",
       "      <td>2014-07-18</td>\n",
       "      <td>A3GENOZU8QJZAZ</td>\n",
       "      <td>B000R39GPA</td>\n",
       "      <td>Great game</td>\n",
       "      <td>PS3</td>\n",
       "      <td>0</td>\n",
       "      <td>{'Edition:': ' Standard', 'Platform:': ' PlayS...</td>\n",
       "      <td>...</td>\n",
       "      <td>Star Wars: The Force Unleashed</td>\n",
       "      <td>by LucasArts</td>\n",
       "      <td>&gt;#9,056 in Video Games (See Top 100 in Video G...</td>\n",
       "      <td>Video Games</td>\n",
       "      <td>['The Star Wars saga will continue in Star War...</td>\n",
       "      <td>['B0030F1DOO', 'B003FMUMBM', 'B00EY3F8LU', 'B0...</td>\n",
       "      <td>['B01BCMBP44', 'B0030F1DOO', 'B00EY3F8LU', 'B0...</td>\n",
       "      <td>['Confront and associate with familiar faces f...</td>\n",
       "      <td>140</td>\n",
       "      <td>Train</td>\n",
       "    </tr>\n",
       "  </tbody>\n",
       "</table>\n",
       "<p>2 rows × 21 columns</p>\n",
       "</div>"
      ],
      "text/plain": [
       "        reviewID  overall  verified  reviewTime      reviewerID   productID  \\\n",
       "473590    473590        5     False  2016-07-16  A2KJVIU82ZUSBA  B0186D1UQ0   \n",
       "128446    128446        5      True  2014-07-18  A3GENOZU8QJZAZ  B000R39GPA   \n",
       "\n",
       "        reviewText                       summary vote  \\\n",
       "473590   Fantastic  Best Remake I've Ever Played    0   \n",
       "128446  Great game                           PS3    0   \n",
       "\n",
       "                                                    style  ...  \\\n",
       "473590                         {'Format:': ' Video Game'}  ...   \n",
       "128446  {'Edition:': ' Standard', 'Platform:': ' PlayS...  ...   \n",
       "\n",
       "                                                    title         brand  \\\n",
       "473590  Odin Sphere Leifthrasir - PlayStation 4 Standa...      by Atlus   \n",
       "128446                     Star Wars: The Force Unleashed  by LucasArts   \n",
       "\n",
       "                                                     rank     main_cat  \\\n",
       "473590  >#4,665 in Video Games (See Top 100 in Video G...  Video Games   \n",
       "128446  >#9,056 in Video Games (See Top 100 in Video G...  Video Games   \n",
       "\n",
       "                                              description  \\\n",
       "473590  [\"ATLUS x Vanillaware, the team behind the hit...   \n",
       "128446  ['The Star Wars saga will continue in Star War...   \n",
       "\n",
       "                                                 also_buy  \\\n",
       "473590  ['B077Y7313L', 'B0794Y8FLW', 'B01HQGWBZ2', 'B0...   \n",
       "128446  ['B0030F1DOO', 'B003FMUMBM', 'B00EY3F8LU', 'B0...   \n",
       "\n",
       "                                                also_view  \\\n",
       "473590  ['B077Y7313L', 'B0794Y8FLW', 'B017GY06UQ', 'B0...   \n",
       "128446  ['B01BCMBP44', 'B0030F1DOO', 'B00EY3F8LU', 'B0...   \n",
       "\n",
       "                                                  feature numberOfReviews  \\\n",
       "473590  ['HD Art Upgrade: Known for its beautiful, 2D ...              26   \n",
       "128446  ['Confront and associate with familiar faces f...             140   \n",
       "\n",
       "          Set  \n",
       "473590  Train  \n",
       "128446  Train  \n",
       "\n",
       "[2 rows x 21 columns]"
      ]
     },
     "execution_count": 6,
     "metadata": {},
     "output_type": "execute_result"
    }
   ],
   "source": [
    "# Explore dataset\n",
    "print(data.shape)\n",
    "data.head(2)"
   ]
  },
  {
   "cell_type": "markdown",
   "metadata": {},
   "source": [
    "## Exploring count of reviews per user"
   ]
  },
  {
   "cell_type": "code",
   "execution_count": 7,
   "metadata": {},
   "outputs": [
    {
     "data": {
      "image/png": "[encoded data removed]",
      "text/plain": [
       "<Figure size 432x288 with 1 Axes>"
      ]
     },
     "metadata": {
      "needs_background": "light"
     },
     "output_type": "display_data"
    }
   ],
   "source": [
    "pd.DataFrame(data.groupby([\"reviewerID\"]).count()[\"overall\"]).plot.hist(bins = 500)\n",
    "plt.xlim((0, 50))\n",
    "plt.show()"
   ]
  },
  {
   "cell_type": "markdown",
   "metadata": {},
   "source": [
    "## Exploring count of 4 and 5 star reviews per user"
   ]
  },
  {
   "cell_type": "code",
   "execution_count": 32,
   "metadata": {},
   "outputs": [
    {
     "data": {
      "text/html": [
       "<div>\n",
       "<style scoped>\n",
       "    .dataframe tbody tr th:only-of-type {\n",
       "        vertical-align: middle;\n",
       "    }\n",
       "\n",
       "    .dataframe tbody tr th {\n",
       "        vertical-align: top;\n",
       "    }\n",
       "\n",
       "    .dataframe thead th {\n",
       "        text-align: right;\n",
       "    }\n",
       "</style>\n",
       "<table border=\"1\" class=\"dataframe\">\n",
       "  <thead>\n",
       "    <tr style=\"text-align: right;\">\n",
       "      <th></th>\n",
       "      <th>reviewID</th>\n",
       "    </tr>\n",
       "    <tr>\n",
       "      <th>reviewerID</th>\n",
       "      <th></th>\n",
       "    </tr>\n",
       "  </thead>\n",
       "  <tbody>\n",
       "    <tr>\n",
       "      <td>AZZTOUKVTUMVM</td>\n",
       "      <td>1</td>\n",
       "    </tr>\n",
       "    <tr>\n",
       "      <td>A38VJPJCLMZ2XR</td>\n",
       "      <td>1</td>\n",
       "    </tr>\n",
       "    <tr>\n",
       "      <td>A38VWX46A6PJ51</td>\n",
       "      <td>1</td>\n",
       "    </tr>\n",
       "    <tr>\n",
       "      <td>A38W304R7UYCQ8</td>\n",
       "      <td>1</td>\n",
       "    </tr>\n",
       "    <tr>\n",
       "      <td>A1JA5QY189OUMS</td>\n",
       "      <td>1</td>\n",
       "    </tr>\n",
       "    <tr>\n",
       "      <td>...</td>\n",
       "      <td>...</td>\n",
       "    </tr>\n",
       "    <tr>\n",
       "      <td>A2TCG2HV1VJP6V</td>\n",
       "      <td>231</td>\n",
       "    </tr>\n",
       "    <tr>\n",
       "      <td>A29BQ6B90Y1R5F</td>\n",
       "      <td>258</td>\n",
       "    </tr>\n",
       "    <tr>\n",
       "      <td>A119Q9NFGVOEJZ</td>\n",
       "      <td>269</td>\n",
       "    </tr>\n",
       "    <tr>\n",
       "      <td>AJKWF4W7QD4NS</td>\n",
       "      <td>358</td>\n",
       "    </tr>\n",
       "    <tr>\n",
       "      <td>A3V6Z4RCDGRC44</td>\n",
       "      <td>535</td>\n",
       "    </tr>\n",
       "  </tbody>\n",
       "</table>\n",
       "<p>47716 rows × 1 columns</p>\n",
       "</div>"
      ],
      "text/plain": [
       "                reviewID\n",
       "reviewerID              \n",
       "AZZTOUKVTUMVM          1\n",
       "A38VJPJCLMZ2XR         1\n",
       "A38VWX46A6PJ51         1\n",
       "A38W304R7UYCQ8         1\n",
       "A1JA5QY189OUMS         1\n",
       "...                  ...\n",
       "A2TCG2HV1VJP6V       231\n",
       "A29BQ6B90Y1R5F       258\n",
       "A119Q9NFGVOEJZ       269\n",
       "AJKWF4W7QD4NS        358\n",
       "A3V6Z4RCDGRC44       535\n",
       "\n",
       "[47716 rows x 1 columns]"
      ]
     },
     "execution_count": 32,
     "metadata": {},
     "output_type": "execute_result"
    }
   ],
   "source": [
    "pd.DataFrame(data[data.overall.isin([4, 5])].groupby([\"reviewerID\"]).count()[\"reviewID\"]).sort_values(by = \"reviewID\")"
   ]
  },
  {
   "cell_type": "code",
   "execution_count": 33,
   "metadata": {},
   "outputs": [
    {
     "data": {
      "image/png": "[encoded data removed]",
      "text/plain": [
       "<Figure size 432x288 with 1 Axes>"
      ]
     },
     "metadata": {
      "needs_background": "light"
     },
     "output_type": "display_data"
    }
   ],
   "source": [
    "pd.DataFrame(data[data.overall.isin([4, 5])].groupby([\"reviewerID\"]).count()[\"overall\"]).plot.hist(bins = 500, color = \"orange\", legend = False)\n",
    "plt.xlim((0, 16))\n",
    "plt.xticks(horizontalalignment = \"right\")\n",
    "plt.show()"
   ]
  },
  {
   "cell_type": "markdown",
   "metadata": {},
   "source": [
    "## Exploring how to create a valid recommendation set per user"
   ]
  },
  {
   "cell_type": "markdown",
   "metadata": {},
   "source": [
    "### Extracting only positive (4 or 5) reviews for each user"
   ]
  },
  {
   "cell_type": "code",
   "execution_count": 8,
   "metadata": {},
   "outputs": [],
   "source": [
    "# Filter 4 and 5 reviews, order by reviewer, rating, and reviewtime in descending order\n",
    "positive_reviews = data[(data[\"overall\"] == 4) | (data[\"overall\"] == 5)].sort_values(by = [\"reviewerID\", \"overall\", \"reviewTime\"], axis = 0, ascending = False)[[\"reviewID\", \"overall\", \"reviewTime\", \"reviewerID\", \"productID\"]]"
   ]
  },
  {
   "cell_type": "code",
   "execution_count": 9,
   "metadata": {},
   "outputs": [
    {
     "data": {
      "text/plain": [
       "array([5, 4])"
      ]
     },
     "execution_count": 9,
     "metadata": {},
     "output_type": "execute_result"
    }
   ],
   "source": [
    "# Check only 4 and 5 remain\n",
    "positive_reviews[\"overall\"].unique()"
   ]
  },
  {
   "cell_type": "code",
   "execution_count": 10,
   "metadata": {},
   "outputs": [
    {
     "data": {
      "text/html": [
       "<div>\n",
       "<style scoped>\n",
       "    .dataframe tbody tr th:only-of-type {\n",
       "        vertical-align: middle;\n",
       "    }\n",
       "\n",
       "    .dataframe tbody tr th {\n",
       "        vertical-align: top;\n",
       "    }\n",
       "\n",
       "    .dataframe thead th {\n",
       "        text-align: right;\n",
       "    }\n",
       "</style>\n",
       "<table border=\"1\" class=\"dataframe\">\n",
       "  <thead>\n",
       "    <tr style=\"text-align: right;\">\n",
       "      <th></th>\n",
       "      <th>reviewID</th>\n",
       "      <th>overall</th>\n",
       "      <th>reviewTime</th>\n",
       "      <th>reviewerID</th>\n",
       "      <th>productID</th>\n",
       "    </tr>\n",
       "  </thead>\n",
       "  <tbody>\n",
       "    <tr>\n",
       "      <td>334469</td>\n",
       "      <td>334469</td>\n",
       "      <td>5</td>\n",
       "      <td>2014-10-27</td>\n",
       "      <td>AZZTOUKVTUMVM</td>\n",
       "      <td>B00BU3ZLJQ</td>\n",
       "    </tr>\n",
       "    <tr>\n",
       "      <td>262057</td>\n",
       "      <td>262057</td>\n",
       "      <td>4</td>\n",
       "      <td>2013-04-13</td>\n",
       "      <td>AZZTC2OYVNE2Q</td>\n",
       "      <td>B004PAGJOC</td>\n",
       "    </tr>\n",
       "    <tr>\n",
       "      <td>279005</td>\n",
       "      <td>279005</td>\n",
       "      <td>4</td>\n",
       "      <td>2012-12-27</td>\n",
       "      <td>AZZTC2OYVNE2Q</td>\n",
       "      <td>B0050SYX8W</td>\n",
       "    </tr>\n",
       "    <tr>\n",
       "      <td>388123</td>\n",
       "      <td>388123</td>\n",
       "      <td>5</td>\n",
       "      <td>2016-09-14</td>\n",
       "      <td>AZZT1ERHBSNQ8</td>\n",
       "      <td>B00IXMF5CU</td>\n",
       "    </tr>\n",
       "    <tr>\n",
       "      <td>406708</td>\n",
       "      <td>406708</td>\n",
       "      <td>5</td>\n",
       "      <td>2016-09-14</td>\n",
       "      <td>AZZT1ERHBSNQ8</td>\n",
       "      <td>B00KWFCV32</td>\n",
       "    </tr>\n",
       "    <tr>\n",
       "      <td>334515</td>\n",
       "      <td>334515</td>\n",
       "      <td>5</td>\n",
       "      <td>2014-07-08</td>\n",
       "      <td>AZZT1ERHBSNQ8</td>\n",
       "      <td>B00BU3ZLJQ</td>\n",
       "    </tr>\n",
       "    <tr>\n",
       "      <td>128182</td>\n",
       "      <td>128182</td>\n",
       "      <td>5</td>\n",
       "      <td>2009-02-08</td>\n",
       "      <td>AZZKH219IDQGY</td>\n",
       "      <td>B000R2WIE2</td>\n",
       "    </tr>\n",
       "    <tr>\n",
       "      <td>126401</td>\n",
       "      <td>126401</td>\n",
       "      <td>4</td>\n",
       "      <td>2009-08-21</td>\n",
       "      <td>AZZKH219IDQGY</td>\n",
       "      <td>B000QB058U</td>\n",
       "    </tr>\n",
       "    <tr>\n",
       "      <td>55869</td>\n",
       "      <td>55869</td>\n",
       "      <td>4</td>\n",
       "      <td>2009-02-08</td>\n",
       "      <td>AZZKH219IDQGY</td>\n",
       "      <td>B00009ECGH</td>\n",
       "    </tr>\n",
       "    <tr>\n",
       "      <td>407261</td>\n",
       "      <td>407261</td>\n",
       "      <td>5</td>\n",
       "      <td>2015-09-17</td>\n",
       "      <td>AZZHLZ8H23QD4</td>\n",
       "      <td>B00KWFCSB2</td>\n",
       "    </tr>\n",
       "  </tbody>\n",
       "</table>\n",
       "</div>"
      ],
      "text/plain": [
       "        reviewID  overall  reviewTime     reviewerID   productID\n",
       "334469    334469        5  2014-10-27  AZZTOUKVTUMVM  B00BU3ZLJQ\n",
       "262057    262057        4  2013-04-13  AZZTC2OYVNE2Q  B004PAGJOC\n",
       "279005    279005        4  2012-12-27  AZZTC2OYVNE2Q  B0050SYX8W\n",
       "388123    388123        5  2016-09-14  AZZT1ERHBSNQ8  B00IXMF5CU\n",
       "406708    406708        5  2016-09-14  AZZT1ERHBSNQ8  B00KWFCV32\n",
       "334515    334515        5  2014-07-08  AZZT1ERHBSNQ8  B00BU3ZLJQ\n",
       "128182    128182        5  2009-02-08  AZZKH219IDQGY  B000R2WIE2\n",
       "126401    126401        4  2009-08-21  AZZKH219IDQGY  B000QB058U\n",
       "55869      55869        4  2009-02-08  AZZKH219IDQGY  B00009ECGH\n",
       "407261    407261        5  2015-09-17  AZZHLZ8H23QD4  B00KWFCSB2"
      ]
     },
     "execution_count": 10,
     "metadata": {},
     "output_type": "execute_result"
    }
   ],
   "source": [
    "# Explore dataset\n",
    "positive_reviews.head(10)"
   ]
  },
  {
   "cell_type": "code",
   "execution_count": 11,
   "metadata": {},
   "outputs": [],
   "source": [
    "# Create dictionary with top 15 (if possible) reviews for each reviewer\n",
    "positive_dict = dict()\n",
    "# Loop over each row, adding reviewers and their preferences\n",
    "for index, row in positive_reviews.iterrows():\n",
    "    \n",
    "    if row[\"reviewerID\"] not in positive_dict.keys():\n",
    "        positive_dict[row[\"reviewerID\"]] = [row[\"productID\"]]\n",
    "    \n",
    "    elif len(positive_dict[row[\"reviewerID\"]]) < 15:\n",
    "        positive_dict[row[\"reviewerID\"]].append(row[\"productID\"])"
   ]
  },
  {
   "cell_type": "code",
   "execution_count": 12,
   "metadata": {},
   "outputs": [
    {
     "data": {
      "text/plain": [
       "True"
      ]
     },
     "execution_count": 12,
     "metadata": {},
     "output_type": "execute_result"
    }
   ],
   "source": [
    "# Check the dictionary was well constructed\n",
    "len(positive_dict.keys()) == len(positive_reviews[\"reviewerID\"].unique())"
   ]
  },
  {
   "cell_type": "code",
   "execution_count": 13,
   "metadata": {},
   "outputs": [
    {
     "data": {
      "text/plain": [
       "['B00IXMF5CU', 'B00KWFCV32', 'B00BU3ZLJQ']"
      ]
     },
     "execution_count": 13,
     "metadata": {},
     "output_type": "execute_result"
    }
   ],
   "source": [
    "# Explore an example\n",
    "positive_dict[\"AZZT1ERHBSNQ8\"]"
   ]
  },
  {
   "cell_type": "markdown",
   "metadata": {},
   "source": [
    "### Extracting top 15 products from also_buy"
   ]
  },
  {
   "cell_type": "code",
   "execution_count": 14,
   "metadata": {},
   "outputs": [],
   "source": [
    "# Order reviews by reviewerID and date in decending order\n",
    "ordered_data = data.sort_values(by = [\"reviewerID\", \"reviewTime\"], axis = 0, ascending = False)\n",
    "ordered_data = ordered_data[[\"reviewID\", \"overall\", \"reviewTime\", \"reviewerID\", \"productID\", \"also_buy\"]]"
   ]
  },
  {
   "cell_type": "code",
   "execution_count": 15,
   "metadata": {},
   "outputs": [],
   "source": [
    "# Drop rows with no recommendation\n",
    "ordered_data.dropna(axis = 0, subset = [\"also_buy\"], inplace = True)"
   ]
  },
  {
   "cell_type": "code",
   "execution_count": 16,
   "metadata": {},
   "outputs": [],
   "source": [
    "# Convert also_buy string to list\n",
    "ordered_data[\"amz_recommendation\"] = ordered_data[\"also_buy\"].apply(lambda x: ast.literal_eval(x))"
   ]
  },
  {
   "cell_type": "code",
   "execution_count": 17,
   "metadata": {},
   "outputs": [],
   "source": [
    "# Drop also_buy\n",
    "ordered_data.drop([\"also_buy\"], axis = 1, inplace = True)"
   ]
  },
  {
   "cell_type": "code",
   "execution_count": 18,
   "metadata": {},
   "outputs": [
    {
     "data": {
      "text/html": [
       "<div>\n",
       "<style scoped>\n",
       "    .dataframe tbody tr th:only-of-type {\n",
       "        vertical-align: middle;\n",
       "    }\n",
       "\n",
       "    .dataframe tbody tr th {\n",
       "        vertical-align: top;\n",
       "    }\n",
       "\n",
       "    .dataframe thead th {\n",
       "        text-align: right;\n",
       "    }\n",
       "</style>\n",
       "<table border=\"1\" class=\"dataframe\">\n",
       "  <thead>\n",
       "    <tr style=\"text-align: right;\">\n",
       "      <th></th>\n",
       "      <th>reviewID</th>\n",
       "      <th>overall</th>\n",
       "      <th>reviewTime</th>\n",
       "      <th>reviewerID</th>\n",
       "      <th>productID</th>\n",
       "      <th>amz_recommendation</th>\n",
       "    </tr>\n",
       "  </thead>\n",
       "  <tbody>\n",
       "    <tr>\n",
       "      <td>334469</td>\n",
       "      <td>334469</td>\n",
       "      <td>5</td>\n",
       "      <td>2014-10-27</td>\n",
       "      <td>AZZTOUKVTUMVM</td>\n",
       "      <td>B00BU3ZLJQ</td>\n",
       "      <td>[B00SXEOOHU, B00B98HF1O, B001G3AZS2, B004X56OU...</td>\n",
       "    </tr>\n",
       "    <tr>\n",
       "      <td>262057</td>\n",
       "      <td>262057</td>\n",
       "      <td>4</td>\n",
       "      <td>2013-04-13</td>\n",
       "      <td>AZZTC2OYVNE2Q</td>\n",
       "      <td>B004PAGJOC</td>\n",
       "      <td>[B00CP1UQPG, B002I098JE, B00A7QPNK4, B009JBFG0...</td>\n",
       "    </tr>\n",
       "    <tr>\n",
       "      <td>279005</td>\n",
       "      <td>279005</td>\n",
       "      <td>4</td>\n",
       "      <td>2012-12-27</td>\n",
       "      <td>AZZTC2OYVNE2Q</td>\n",
       "      <td>B0050SYX8W</td>\n",
       "      <td>[B000FRU0NU, B001HWB68K, B002BSA20M, B0050SYY5...</td>\n",
       "    </tr>\n",
       "    <tr>\n",
       "      <td>209106</td>\n",
       "      <td>209106</td>\n",
       "      <td>3</td>\n",
       "      <td>2012-12-27</td>\n",
       "      <td>AZZTC2OYVNE2Q</td>\n",
       "      <td>B001PB9J14</td>\n",
       "      <td>[B0017ZDGWG, B006ZTHGCK, B003O6G6RI, B000ZKDOV...</td>\n",
       "    </tr>\n",
       "    <tr>\n",
       "      <td>388123</td>\n",
       "      <td>388123</td>\n",
       "      <td>5</td>\n",
       "      <td>2016-09-14</td>\n",
       "      <td>AZZT1ERHBSNQ8</td>\n",
       "      <td>B00IXMF5CU</td>\n",
       "      <td>[B00BYDKCZK, B0050SYAQ2, B00CKKIJ24, B002I0J9M...</td>\n",
       "    </tr>\n",
       "    <tr>\n",
       "      <td>406708</td>\n",
       "      <td>406708</td>\n",
       "      <td>5</td>\n",
       "      <td>2016-09-14</td>\n",
       "      <td>AZZT1ERHBSNQ8</td>\n",
       "      <td>B00KWFCV32</td>\n",
       "      <td>[B00DD0B0BM, B01AC3ZD2O, B01AC3ZD06, B00D41GCV...</td>\n",
       "    </tr>\n",
       "    <tr>\n",
       "      <td>334515</td>\n",
       "      <td>334515</td>\n",
       "      <td>5</td>\n",
       "      <td>2014-07-08</td>\n",
       "      <td>AZZT1ERHBSNQ8</td>\n",
       "      <td>B00BU3ZLJQ</td>\n",
       "      <td>[B00SXEOOHU, B00B98HF1O, B001G3AZS2, B004X56OU...</td>\n",
       "    </tr>\n",
       "    <tr>\n",
       "      <td>126401</td>\n",
       "      <td>126401</td>\n",
       "      <td>4</td>\n",
       "      <td>2009-08-21</td>\n",
       "      <td>AZZKH219IDQGY</td>\n",
       "      <td>B000QB058U</td>\n",
       "      <td>[076155355X]</td>\n",
       "    </tr>\n",
       "    <tr>\n",
       "      <td>195393</td>\n",
       "      <td>195393</td>\n",
       "      <td>1</td>\n",
       "      <td>2009-08-21</td>\n",
       "      <td>AZZKH219IDQGY</td>\n",
       "      <td>B001C6Q8QG</td>\n",
       "      <td>[B00CCT483M, B0058NY622, B005OGYVKU, B002V1GFH...</td>\n",
       "    </tr>\n",
       "    <tr>\n",
       "      <td>128182</td>\n",
       "      <td>128182</td>\n",
       "      <td>5</td>\n",
       "      <td>2009-02-08</td>\n",
       "      <td>AZZKH219IDQGY</td>\n",
       "      <td>B000R2WIE2</td>\n",
       "      <td>[B001E3ARJ6, B000B8P8RG, B000E0XX9Q, B000E0TOK...</td>\n",
       "    </tr>\n",
       "  </tbody>\n",
       "</table>\n",
       "</div>"
      ],
      "text/plain": [
       "        reviewID  overall  reviewTime     reviewerID   productID  \\\n",
       "334469    334469        5  2014-10-27  AZZTOUKVTUMVM  B00BU3ZLJQ   \n",
       "262057    262057        4  2013-04-13  AZZTC2OYVNE2Q  B004PAGJOC   \n",
       "279005    279005        4  2012-12-27  AZZTC2OYVNE2Q  B0050SYX8W   \n",
       "209106    209106        3  2012-12-27  AZZTC2OYVNE2Q  B001PB9J14   \n",
       "388123    388123        5  2016-09-14  AZZT1ERHBSNQ8  B00IXMF5CU   \n",
       "406708    406708        5  2016-09-14  AZZT1ERHBSNQ8  B00KWFCV32   \n",
       "334515    334515        5  2014-07-08  AZZT1ERHBSNQ8  B00BU3ZLJQ   \n",
       "126401    126401        4  2009-08-21  AZZKH219IDQGY  B000QB058U   \n",
       "195393    195393        1  2009-08-21  AZZKH219IDQGY  B001C6Q8QG   \n",
       "128182    128182        5  2009-02-08  AZZKH219IDQGY  B000R2WIE2   \n",
       "\n",
       "                                       amz_recommendation  \n",
       "334469  [B00SXEOOHU, B00B98HF1O, B001G3AZS2, B004X56OU...  \n",
       "262057  [B00CP1UQPG, B002I098JE, B00A7QPNK4, B009JBFG0...  \n",
       "279005  [B000FRU0NU, B001HWB68K, B002BSA20M, B0050SYY5...  \n",
       "209106  [B0017ZDGWG, B006ZTHGCK, B003O6G6RI, B000ZKDOV...  \n",
       "388123  [B00BYDKCZK, B0050SYAQ2, B00CKKIJ24, B002I0J9M...  \n",
       "406708  [B00DD0B0BM, B01AC3ZD2O, B01AC3ZD06, B00D41GCV...  \n",
       "334515  [B00SXEOOHU, B00B98HF1O, B001G3AZS2, B004X56OU...  \n",
       "126401                                       [076155355X]  \n",
       "195393  [B00CCT483M, B0058NY622, B005OGYVKU, B002V1GFH...  \n",
       "128182  [B001E3ARJ6, B000B8P8RG, B000E0XX9Q, B000E0TOK...  "
      ]
     },
     "execution_count": 18,
     "metadata": {},
     "output_type": "execute_result"
    }
   ],
   "source": [
    "# Explore ordered data\n",
    "ordered_data.head(10)"
   ]
  },
  {
   "cell_type": "code",
   "execution_count": 19,
   "metadata": {},
   "outputs": [],
   "source": [
    "# Create dictionary with top 15 (if possible) products from also_buy, starting with the most recent recommendations\n",
    "also_buy_dict = dict()\n",
    "# Loop over each row, adding reviewers and their recommended products\n",
    "for index, row in ordered_data.iterrows():\n",
    "   \n",
    "    # Add new key\n",
    "    if row[\"reviewerID\"] not in also_buy_dict.keys():\n",
    "        \n",
    "        # If the recommendation list is too long add only the first 15, else add all\n",
    "        if len(row[\"amz_recommendation\"]) >= 15:\n",
    "            also_buy_dict[row[\"reviewerID\"]] = row[\"amz_recommendation\"][:15]\n",
    "        else:\n",
    "            also_buy_dict[row[\"reviewerID\"]] = row[\"amz_recommendation\"]\n",
    "    \n",
    "    # Update value for the given key, to complete the length of 15 products\n",
    "    elif len(also_buy_dict[row[\"reviewerID\"]]) < 15:\n",
    "        \n",
    "        # Define how many elements to add to the list\n",
    "        x = 15 - len(also_buy_dict[row[\"reviewerID\"]])\n",
    "        \n",
    "        # Add as many elements as possible and required\n",
    "        if len(row[\"amz_recommendation\"]) >= x:\n",
    "            also_buy_dict[row[\"reviewerID\"]].extend(row[\"amz_recommendation\"][:x])\n",
    "        else:\n",
    "            also_buy_dict[row[\"reviewerID\"]].extend(row[\"amz_recommendation\"])\n",
    "            "
   ]
  },
  {
   "cell_type": "code",
   "execution_count": 20,
   "metadata": {},
   "outputs": [
    {
     "data": {
      "text/plain": [
       "True"
      ]
     },
     "execution_count": 20,
     "metadata": {},
     "output_type": "execute_result"
    }
   ],
   "source": [
    "# Check the dictionary was well constructed\n",
    "len(also_buy_dict.keys()) == len(ordered_data[\"reviewerID\"].unique())"
   ]
  },
  {
   "cell_type": "code",
   "execution_count": 21,
   "metadata": {},
   "outputs": [
    {
     "data": {
      "text/html": [
       "<div>\n",
       "<style scoped>\n",
       "    .dataframe tbody tr th:only-of-type {\n",
       "        vertical-align: middle;\n",
       "    }\n",
       "\n",
       "    .dataframe tbody tr th {\n",
       "        vertical-align: top;\n",
       "    }\n",
       "\n",
       "    .dataframe thead th {\n",
       "        text-align: right;\n",
       "    }\n",
       "</style>\n",
       "<table border=\"1\" class=\"dataframe\">\n",
       "  <thead>\n",
       "    <tr style=\"text-align: right;\">\n",
       "      <th></th>\n",
       "      <th>0</th>\n",
       "      <th>1</th>\n",
       "      <th>2</th>\n",
       "      <th>3</th>\n",
       "      <th>4</th>\n",
       "      <th>5</th>\n",
       "      <th>6</th>\n",
       "      <th>7</th>\n",
       "      <th>8</th>\n",
       "      <th>9</th>\n",
       "      <th>10</th>\n",
       "      <th>11</th>\n",
       "      <th>12</th>\n",
       "      <th>13</th>\n",
       "      <th>14</th>\n",
       "    </tr>\n",
       "  </thead>\n",
       "  <tbody>\n",
       "    <tr>\n",
       "      <td>0</td>\n",
       "      <td>B00SXEOOHU</td>\n",
       "      <td>B00B98HF1O</td>\n",
       "      <td>B001G3AZS2</td>\n",
       "      <td>B004X56OU8</td>\n",
       "      <td>B00ECOBFA4</td>\n",
       "      <td>B014XCWZA8</td>\n",
       "      <td>B01LZVTM35</td>\n",
       "      <td>B00T57U7V6</td>\n",
       "      <td>B002BS4JDS</td>\n",
       "      <td>B002BRYHUY</td>\n",
       "      <td>B00EFL2R2O</td>\n",
       "      <td>B073VY4P31</td>\n",
       "      <td>B076HGRQGK</td>\n",
       "      <td>B008OQTRYW</td>\n",
       "      <td>B005YR1VP2</td>\n",
       "    </tr>\n",
       "    <tr>\n",
       "      <td>1</td>\n",
       "      <td>B00CP1UQPG</td>\n",
       "      <td>B002I098JE</td>\n",
       "      <td>B00A7QPNK4</td>\n",
       "      <td>B009JBFG00</td>\n",
       "      <td>B0050SYV70</td>\n",
       "      <td>B00MU1YENG</td>\n",
       "      <td>B000UU3SVI</td>\n",
       "      <td>B000F3AADE</td>\n",
       "      <td>B002EE5ROO</td>\n",
       "      <td>B00EFFW0HC</td>\n",
       "      <td>B000ZK6950</td>\n",
       "      <td>B000FRS9II</td>\n",
       "      <td>B003JVKHEQ</td>\n",
       "      <td>B00CJ7IUGS</td>\n",
       "      <td>B01C7L07OI</td>\n",
       "    </tr>\n",
       "    <tr>\n",
       "      <td>2</td>\n",
       "      <td>B00BYDKCZK</td>\n",
       "      <td>B0050SYAQ2</td>\n",
       "      <td>B00CKKIJ24</td>\n",
       "      <td>B002I0J9M0</td>\n",
       "      <td>B004X56OU8</td>\n",
       "      <td>0399541330</td>\n",
       "      <td>B002BRYHUY</td>\n",
       "      <td>B001G3AZS2</td>\n",
       "      <td>B076HGRQGK</td>\n",
       "      <td>B00B98HF1O</td>\n",
       "      <td>B000WMEEAI</td>\n",
       "      <td>B014XCWZA8</td>\n",
       "      <td>B00MEXP5KG</td>\n",
       "      <td>B0017ZDGWG</td>\n",
       "      <td>B00ECOBFA4</td>\n",
       "    </tr>\n",
       "    <tr>\n",
       "      <td>3</td>\n",
       "      <td>076155355X</td>\n",
       "      <td>B00CCT483M</td>\n",
       "      <td>B0058NY622</td>\n",
       "      <td>B005OGYVKU</td>\n",
       "      <td>B002V1GFHS</td>\n",
       "      <td>B003BU77P2</td>\n",
       "      <td>B000WCCURW</td>\n",
       "      <td>B004BYDPJO</td>\n",
       "      <td>B0044S8DA8</td>\n",
       "      <td>B000FGA1US</td>\n",
       "      <td>B005AUXYYY</td>\n",
       "      <td>B001Q96ZNU</td>\n",
       "      <td>B001E2I4H4</td>\n",
       "      <td>0979551307</td>\n",
       "      <td>B004WMTOWC</td>\n",
       "    </tr>\n",
       "    <tr>\n",
       "      <td>4</td>\n",
       "      <td>B012F20ZY6</td>\n",
       "      <td>B00DC7G0GG</td>\n",
       "      <td>B00KWF366S</td>\n",
       "      <td>B009AGXH64</td>\n",
       "      <td>B01AC3ZD06</td>\n",
       "      <td>B00DC7G2W8</td>\n",
       "      <td>B00KWG4HG0</td>\n",
       "      <td>B00DD0B0BM</td>\n",
       "      <td>B01CKGI4RM</td>\n",
       "      <td>B00G0OYHCW</td>\n",
       "      <td>B00DC7O77A</td>\n",
       "      <td>B00MUY0OFU</td>\n",
       "      <td>B00TV90AGA</td>\n",
       "      <td>B00LCHZRIK</td>\n",
       "      <td>B00NJ0HTH0</td>\n",
       "    </tr>\n",
       "    <tr>\n",
       "      <td>...</td>\n",
       "      <td>...</td>\n",
       "      <td>...</td>\n",
       "      <td>...</td>\n",
       "      <td>...</td>\n",
       "      <td>...</td>\n",
       "      <td>...</td>\n",
       "      <td>...</td>\n",
       "      <td>...</td>\n",
       "      <td>...</td>\n",
       "      <td>...</td>\n",
       "      <td>...</td>\n",
       "      <td>...</td>\n",
       "      <td>...</td>\n",
       "      <td>...</td>\n",
       "      <td>...</td>\n",
       "    </tr>\n",
       "    <tr>\n",
       "      <td>49453</td>\n",
       "      <td>B00ZMBMO06</td>\n",
       "      <td>B00M31VIOG</td>\n",
       "      <td>B01GW90BTW</td>\n",
       "      <td>B00CMQTTZ2</td>\n",
       "      <td>B01AVGIGZI</td>\n",
       "      <td>B01CDK2Z48</td>\n",
       "      <td>B0787NN56S</td>\n",
       "      <td>B01EJNUMQ0</td>\n",
       "      <td>B07MC9GTH5</td>\n",
       "      <td>B07542DJQY</td>\n",
       "      <td>B00ZMBLKPG</td>\n",
       "      <td>B079ZPD1BV</td>\n",
       "      <td>B00ZPTMX60</td>\n",
       "      <td>B00NY62FH8</td>\n",
       "      <td>B01N0OK8XH</td>\n",
       "    </tr>\n",
       "    <tr>\n",
       "      <td>49454</td>\n",
       "      <td>B01EZA0D8O</td>\n",
       "      <td>B00CX6XKK6</td>\n",
       "      <td>B01EUPD3VS</td>\n",
       "      <td>B00MU1YEE0</td>\n",
       "      <td>B00UL908IY</td>\n",
       "      <td>B07859CC47</td>\n",
       "      <td>B072NQJCW5</td>\n",
       "      <td>B0166QDJZE</td>\n",
       "      <td>B01EZA0DEI</td>\n",
       "      <td>B071JRHDFQ</td>\n",
       "      <td>B00KVSQAGO</td>\n",
       "      <td>B07D4WR5XJ</td>\n",
       "      <td>B01GKF824Y</td>\n",
       "      <td>B00D781W3Q</td>\n",
       "      <td>B00KL3W626</td>\n",
       "    </tr>\n",
       "    <tr>\n",
       "      <td>49455</td>\n",
       "      <td>B000058BCU</td>\n",
       "      <td>B000031KJM</td>\n",
       "      <td>B000046S41</td>\n",
       "      <td>B00002DHEV</td>\n",
       "      <td>B00002STEZ</td>\n",
       "      <td>B00000J2W7</td>\n",
       "      <td>B00000DMAX</td>\n",
       "      <td>B00000F1GM</td>\n",
       "      <td>B00002STH0</td>\n",
       "      <td>B00000DMB3</td>\n",
       "      <td>B00P1OYN0S</td>\n",
       "      <td>B00000ID61</td>\n",
       "      <td>B00002STFH</td>\n",
       "      <td>B0012YLDHC</td>\n",
       "      <td>B00000DMAQ</td>\n",
       "    </tr>\n",
       "    <tr>\n",
       "      <td>49456</td>\n",
       "      <td>B0007W5IUS</td>\n",
       "      <td>B0009UBR3A</td>\n",
       "      <td>B00006IJJK</td>\n",
       "      <td>B000066JRN</td>\n",
       "      <td>B0002ILS1K</td>\n",
       "      <td>B00009WAUD</td>\n",
       "      <td>B01LWA474D</td>\n",
       "      <td>B00006IJJI</td>\n",
       "      <td>B011HMIVJ6</td>\n",
       "      <td>B00005Q8M0</td>\n",
       "      <td>B00CHRNOPW</td>\n",
       "      <td>B0009XSMNA</td>\n",
       "      <td>B0000A2Y96</td>\n",
       "      <td>B00005Q8LR</td>\n",
       "      <td>B00006FWTX</td>\n",
       "    </tr>\n",
       "    <tr>\n",
       "      <td>49457</td>\n",
       "      <td>B074F562BR</td>\n",
       "      <td>B078TNPD7C</td>\n",
       "      <td>B07DMHVJNQ</td>\n",
       "      <td>B01LYOCVZF</td>\n",
       "      <td>B004RMK4BC</td>\n",
       "      <td>B00GAC1D2G</td>\n",
       "      <td>B01LZNGPY3</td>\n",
       "      <td>B01M0YDV8M</td>\n",
       "      <td>B07DM7JVCY</td>\n",
       "      <td>B00F4CEHNK</td>\n",
       "      <td>B07DMFRNF9</td>\n",
       "      <td>B013XJ2M8M</td>\n",
       "      <td>B01M1VX5UJ</td>\n",
       "      <td>B004RMK4P8</td>\n",
       "      <td>B07C438TMN</td>\n",
       "    </tr>\n",
       "  </tbody>\n",
       "</table>\n",
       "<p>49458 rows × 15 columns</p>\n",
       "</div>"
      ],
      "text/plain": [
       "                0           1           2           3           4           5  \\\n",
       "0      B00SXEOOHU  B00B98HF1O  B001G3AZS2  B004X56OU8  B00ECOBFA4  B014XCWZA8   \n",
       "1      B00CP1UQPG  B002I098JE  B00A7QPNK4  B009JBFG00  B0050SYV70  B00MU1YENG   \n",
       "2      B00BYDKCZK  B0050SYAQ2  B00CKKIJ24  B002I0J9M0  B004X56OU8  0399541330   \n",
       "3      076155355X  B00CCT483M  B0058NY622  B005OGYVKU  B002V1GFHS  B003BU77P2   \n",
       "4      B012F20ZY6  B00DC7G0GG  B00KWF366S  B009AGXH64  B01AC3ZD06  B00DC7G2W8   \n",
       "...           ...         ...         ...         ...         ...         ...   \n",
       "49453  B00ZMBMO06  B00M31VIOG  B01GW90BTW  B00CMQTTZ2  B01AVGIGZI  B01CDK2Z48   \n",
       "49454  B01EZA0D8O  B00CX6XKK6  B01EUPD3VS  B00MU1YEE0  B00UL908IY  B07859CC47   \n",
       "49455  B000058BCU  B000031KJM  B000046S41  B00002DHEV  B00002STEZ  B00000J2W7   \n",
       "49456  B0007W5IUS  B0009UBR3A  B00006IJJK  B000066JRN  B0002ILS1K  B00009WAUD   \n",
       "49457  B074F562BR  B078TNPD7C  B07DMHVJNQ  B01LYOCVZF  B004RMK4BC  B00GAC1D2G   \n",
       "\n",
       "                6           7           8           9          10          11  \\\n",
       "0      B01LZVTM35  B00T57U7V6  B002BS4JDS  B002BRYHUY  B00EFL2R2O  B073VY4P31   \n",
       "1      B000UU3SVI  B000F3AADE  B002EE5ROO  B00EFFW0HC  B000ZK6950  B000FRS9II   \n",
       "2      B002BRYHUY  B001G3AZS2  B076HGRQGK  B00B98HF1O  B000WMEEAI  B014XCWZA8   \n",
       "3      B000WCCURW  B004BYDPJO  B0044S8DA8  B000FGA1US  B005AUXYYY  B001Q96ZNU   \n",
       "4      B00KWG4HG0  B00DD0B0BM  B01CKGI4RM  B00G0OYHCW  B00DC7O77A  B00MUY0OFU   \n",
       "...           ...         ...         ...         ...         ...         ...   \n",
       "49453  B0787NN56S  B01EJNUMQ0  B07MC9GTH5  B07542DJQY  B00ZMBLKPG  B079ZPD1BV   \n",
       "49454  B072NQJCW5  B0166QDJZE  B01EZA0DEI  B071JRHDFQ  B00KVSQAGO  B07D4WR5XJ   \n",
       "49455  B00000DMAX  B00000F1GM  B00002STH0  B00000DMB3  B00P1OYN0S  B00000ID61   \n",
       "49456  B01LWA474D  B00006IJJI  B011HMIVJ6  B00005Q8M0  B00CHRNOPW  B0009XSMNA   \n",
       "49457  B01LZNGPY3  B01M0YDV8M  B07DM7JVCY  B00F4CEHNK  B07DMFRNF9  B013XJ2M8M   \n",
       "\n",
       "               12          13          14  \n",
       "0      B076HGRQGK  B008OQTRYW  B005YR1VP2  \n",
       "1      B003JVKHEQ  B00CJ7IUGS  B01C7L07OI  \n",
       "2      B00MEXP5KG  B0017ZDGWG  B00ECOBFA4  \n",
       "3      B001E2I4H4  0979551307  B004WMTOWC  \n",
       "4      B00TV90AGA  B00LCHZRIK  B00NJ0HTH0  \n",
       "...           ...         ...         ...  \n",
       "49453  B00ZPTMX60  B00NY62FH8  B01N0OK8XH  \n",
       "49454  B01GKF824Y  B00D781W3Q  B00KL3W626  \n",
       "49455  B00002STFH  B0012YLDHC  B00000DMAQ  \n",
       "49456  B0000A2Y96  B00005Q8LR  B00006FWTX  \n",
       "49457  B01M1VX5UJ  B004RMK4P8  B07C438TMN  \n",
       "\n",
       "[49458 rows x 15 columns]"
      ]
     },
     "execution_count": 21,
     "metadata": {},
     "output_type": "execute_result"
    }
   ],
   "source": [
    "# Check all keys have at most 15 items\n",
    "pd.DataFrame(also_buy_dict.values())"
   ]
  },
  {
   "cell_type": "markdown",
   "metadata": {},
   "source": [
    "### Creating the final recommendation set (merging positive reviews with also_buy)"
   ]
  },
  {
   "cell_type": "code",
   "execution_count": 22,
   "metadata": {},
   "outputs": [
    {
     "name": "stdout",
     "output_type": "stream",
     "text": [
      "49666\n"
     ]
    }
   ],
   "source": [
    "# Create list of unique users for easier iteration\n",
    "unique_users = data[\"reviewerID\"].unique()\n",
    "print(len(unique_users))"
   ]
  },
  {
   "cell_type": "code",
   "execution_count": 23,
   "metadata": {},
   "outputs": [
    {
     "name": "stdout",
     "output_type": "stream",
     "text": [
      "47716\n",
      "49458\n"
     ]
    }
   ],
   "source": [
    "# Investigate lengths of dictionaries\n",
    "print(len(positive_dict))\n",
    "print(len(also_buy_dict))"
   ]
  },
  {
   "cell_type": "code",
   "execution_count": 24,
   "metadata": {},
   "outputs": [],
   "source": [
    "# Create final recommendation set dictionary\n",
    "rec_dict = dict()\n",
    "\n",
    "# Iterate through each user\n",
    "for user in unique_users:\n",
    "    \n",
    "    # Check if user has positive reviews and keep them\n",
    "    if user in positive_dict.keys():\n",
    "        rec_dict[user] = positive_dict[user]\n",
    "    \n",
    "    # Check if user can be completed by also_buy\n",
    "    if user in also_buy_dict.keys():\n",
    "        \n",
    "        # Check if it needs to be completed\n",
    "        if user in rec_dict.keys() and len(rec_dict[user]) < 15:\n",
    "            \n",
    "            # Check how many items are missing\n",
    "            x = 15 - len(rec_dict[user])\n",
    "            \n",
    "            # Check if also_buy has enough products to complete\n",
    "            if len(also_buy_dict[user]) >= x:\n",
    "            \n",
    "                # Complete list with exact number of products from also_buy\n",
    "                rec_dict[user].extend(also_buy_dict[user][:x])\n",
    "            \n",
    "            else:\n",
    "                \n",
    "                # Complete with as many products as it has\n",
    "                rec_dict[user].extend(also_buy_dict[user])\n",
    "        \n",
    "        # Chech if the user needs to be started from scratch bc it didnt have positive reviews\n",
    "        if user not in rec_dict.keys():\n",
    "            rec_dict[user] = also_buy_dict[user]\n",
    "        \n",
    "        "
   ]
  },
  {
   "cell_type": "code",
   "execution_count": 25,
   "metadata": {},
   "outputs": [
    {
     "data": {
      "text/plain": [
       "49620"
      ]
     },
     "execution_count": 25,
     "metadata": {},
     "output_type": "execute_result"
    }
   ],
   "source": [
    "# Check how long the new dict should be (union of both positive and also_buy)\n",
    "len(set(positive_dict.keys()).union(set(also_buy_dict.keys())))"
   ]
  },
  {
   "cell_type": "code",
   "execution_count": 26,
   "metadata": {},
   "outputs": [
    {
     "data": {
      "text/plain": [
       "49620"
      ]
     },
     "execution_count": 26,
     "metadata": {},
     "output_type": "execute_result"
    }
   ],
   "source": [
    "# Check length of new dictionary\n",
    "len(rec_dict)"
   ]
  },
  {
   "cell_type": "code",
   "execution_count": 27,
   "metadata": {},
   "outputs": [],
   "source": [
    "# Investigate users not present in any set\n",
    "investigate = list()\n",
    "for user in unique_users:\n",
    "    if user not in rec_dict.keys():\n",
    "        investigate.append(user)"
   ]
  },
  {
   "cell_type": "code",
   "execution_count": 28,
   "metadata": {},
   "outputs": [
    {
     "data": {
      "text/plain": [
       "46"
      ]
     },
     "execution_count": 28,
     "metadata": {},
     "output_type": "execute_result"
    }
   ],
   "source": [
    "# How many users dont have any kind of recommendation\n",
    "len(investigate)"
   ]
  },
  {
   "cell_type": "code",
   "execution_count": 29,
   "metadata": {},
   "outputs": [
    {
     "data": {
      "text/plain": [
       "['A78PJ50UNRJV6',\n",
       " 'A38EDDASAM1W0V',\n",
       " 'ADRMIAHG306RV',\n",
       " 'A12ESGQ81M70JX',\n",
       " 'A1TDT6YBRP7DPC']"
      ]
     },
     "execution_count": 29,
     "metadata": {},
     "output_type": "execute_result"
    }
   ],
   "source": [
    "investigate[:5]"
   ]
  },
  {
   "cell_type": "code",
   "execution_count": 30,
   "metadata": {},
   "outputs": [
    {
     "data": {
      "text/html": [
       "<div>\n",
       "<style scoped>\n",
       "    .dataframe tbody tr th:only-of-type {\n",
       "        vertical-align: middle;\n",
       "    }\n",
       "\n",
       "    .dataframe tbody tr th {\n",
       "        vertical-align: top;\n",
       "    }\n",
       "\n",
       "    .dataframe thead th {\n",
       "        text-align: right;\n",
       "    }\n",
       "</style>\n",
       "<table border=\"1\" class=\"dataframe\">\n",
       "  <thead>\n",
       "    <tr style=\"text-align: right;\">\n",
       "      <th></th>\n",
       "      <th>reviewID</th>\n",
       "      <th>overall</th>\n",
       "      <th>verified</th>\n",
       "      <th>reviewTime</th>\n",
       "      <th>reviewerID</th>\n",
       "      <th>productID</th>\n",
       "      <th>reviewText</th>\n",
       "      <th>summary</th>\n",
       "      <th>vote</th>\n",
       "      <th>style</th>\n",
       "      <th>...</th>\n",
       "      <th>title</th>\n",
       "      <th>brand</th>\n",
       "      <th>rank</th>\n",
       "      <th>main_cat</th>\n",
       "      <th>description</th>\n",
       "      <th>also_buy</th>\n",
       "      <th>also_view</th>\n",
       "      <th>feature</th>\n",
       "      <th>numberOfReviews</th>\n",
       "      <th>Set</th>\n",
       "    </tr>\n",
       "  </thead>\n",
       "  <tbody>\n",
       "    <tr>\n",
       "      <td>343803</td>\n",
       "      <td>343803</td>\n",
       "      <td>1</td>\n",
       "      <td>False</td>\n",
       "      <td>2014-05-02</td>\n",
       "      <td>A78PJ50UNRJV6</td>\n",
       "      <td>B00CX6G1IE</td>\n",
       "      <td>I bought this and activated it on my Origin ac...</td>\n",
       "      <td>This is a cheat pack that ruins the game</td>\n",
       "      <td>2</td>\n",
       "      <td>NaN</td>\n",
       "      <td>...</td>\n",
       "      <td>Burnout Paradise Bonus Vehicle Pack [Online Ga...</td>\n",
       "      <td>by Electronic Arts</td>\n",
       "      <td>&gt;#36,569 in Video Games (See Top 100 in Video ...</td>\n",
       "      <td>Video Games</td>\n",
       "      <td>['', 'Burnout Paradise Bonus Vehicle Pack', 'G...</td>\n",
       "      <td>NaN</td>\n",
       "      <td>NaN</td>\n",
       "      <td>['Requires Origin Client to activate. The DLC ...</td>\n",
       "      <td>12</td>\n",
       "      <td>Train</td>\n",
       "    </tr>\n",
       "    <tr>\n",
       "      <td>309449</td>\n",
       "      <td>309449</td>\n",
       "      <td>1</td>\n",
       "      <td>False</td>\n",
       "      <td>2012-12-17</td>\n",
       "      <td>A78PJ50UNRJV6</td>\n",
       "      <td>B007XWHO98</td>\n",
       "      <td>This is the most unpleasant game to look at I'...</td>\n",
       "      <td>Graphics make me physically ill</td>\n",
       "      <td>4</td>\n",
       "      <td>NaN</td>\n",
       "      <td>...</td>\n",
       "      <td>Stacking [Download]</td>\n",
       "      <td>by Double Fine Productions</td>\n",
       "      <td>NaN</td>\n",
       "      <td>Video Games</td>\n",
       "      <td>['', 'From Tim Schafer’s Double Fine Productio...</td>\n",
       "      <td>NaN</td>\n",
       "      <td>['B00803MX90']</td>\n",
       "      <td>['You can download your game or software order...</td>\n",
       "      <td>6</td>\n",
       "      <td>Train</td>\n",
       "    </tr>\n",
       "  </tbody>\n",
       "</table>\n",
       "<p>2 rows × 21 columns</p>\n",
       "</div>"
      ],
      "text/plain": [
       "        reviewID  overall  verified  reviewTime     reviewerID   productID  \\\n",
       "343803    343803        1     False  2014-05-02  A78PJ50UNRJV6  B00CX6G1IE   \n",
       "309449    309449        1     False  2012-12-17  A78PJ50UNRJV6  B007XWHO98   \n",
       "\n",
       "                                               reviewText  \\\n",
       "343803  I bought this and activated it on my Origin ac...   \n",
       "309449  This is the most unpleasant game to look at I'...   \n",
       "\n",
       "                                         summary vote style  ...  \\\n",
       "343803  This is a cheat pack that ruins the game    2   NaN  ...   \n",
       "309449           Graphics make me physically ill    4   NaN  ...   \n",
       "\n",
       "                                                    title  \\\n",
       "343803  Burnout Paradise Bonus Vehicle Pack [Online Ga...   \n",
       "309449                                Stacking [Download]   \n",
       "\n",
       "                             brand  \\\n",
       "343803          by Electronic Arts   \n",
       "309449  by Double Fine Productions   \n",
       "\n",
       "                                                     rank     main_cat  \\\n",
       "343803  >#36,569 in Video Games (See Top 100 in Video ...  Video Games   \n",
       "309449                                                NaN  Video Games   \n",
       "\n",
       "                                              description also_buy  \\\n",
       "343803  ['', 'Burnout Paradise Bonus Vehicle Pack', 'G...      NaN   \n",
       "309449  ['', 'From Tim Schafer’s Double Fine Productio...      NaN   \n",
       "\n",
       "             also_view                                            feature  \\\n",
       "343803             NaN  ['Requires Origin Client to activate. The DLC ...   \n",
       "309449  ['B00803MX90']  ['You can download your game or software order...   \n",
       "\n",
       "       numberOfReviews    Set  \n",
       "343803              12  Train  \n",
       "309449               6  Train  \n",
       "\n",
       "[2 rows x 21 columns]"
      ]
     },
     "execution_count": 30,
     "metadata": {},
     "output_type": "execute_result"
    }
   ],
   "source": [
    "# Example\n",
    "data[data[\"reviewerID\"] == \"A78PJ50UNRJV6\"]"
   ]
  },
  {
   "cell_type": "code",
   "execution_count": 31,
   "metadata": {},
   "outputs": [
    {
     "data": {
      "text/html": [
       "<div>\n",
       "<style scoped>\n",
       "    .dataframe tbody tr th:only-of-type {\n",
       "        vertical-align: middle;\n",
       "    }\n",
       "\n",
       "    .dataframe tbody tr th {\n",
       "        vertical-align: top;\n",
       "    }\n",
       "\n",
       "    .dataframe thead th {\n",
       "        text-align: right;\n",
       "    }\n",
       "</style>\n",
       "<table border=\"1\" class=\"dataframe\">\n",
       "  <thead>\n",
       "    <tr style=\"text-align: right;\">\n",
       "      <th></th>\n",
       "      <th>reviewID</th>\n",
       "      <th>overall</th>\n",
       "      <th>verified</th>\n",
       "      <th>reviewTime</th>\n",
       "      <th>reviewerID</th>\n",
       "      <th>productID</th>\n",
       "      <th>reviewText</th>\n",
       "      <th>summary</th>\n",
       "      <th>vote</th>\n",
       "      <th>style</th>\n",
       "      <th>...</th>\n",
       "      <th>title</th>\n",
       "      <th>brand</th>\n",
       "      <th>rank</th>\n",
       "      <th>main_cat</th>\n",
       "      <th>description</th>\n",
       "      <th>also_buy</th>\n",
       "      <th>also_view</th>\n",
       "      <th>feature</th>\n",
       "      <th>numberOfReviews</th>\n",
       "      <th>Set</th>\n",
       "    </tr>\n",
       "  </thead>\n",
       "  <tbody>\n",
       "    <tr>\n",
       "      <td>63498</td>\n",
       "      <td>63498</td>\n",
       "      <td>1</td>\n",
       "      <td>False</td>\n",
       "      <td>2004-06-20</td>\n",
       "      <td>A38EDDASAM1W0V</td>\n",
       "      <td>B00013MRU2</td>\n",
       "      <td>I really, really wish that I had read some rev...</td>\n",
       "      <td>not at all what I expected...</td>\n",
       "      <td>39</td>\n",
       "      <td>NaN</td>\n",
       "      <td>...</td>\n",
       "      <td>A Quiet Weekend In Capri - PC</td>\n",
       "      <td>by Got Game</td>\n",
       "      <td>&gt;#81,925 in Video Games (See Top 100 in Video ...</td>\n",
       "      <td>Video Games</td>\n",
       "      <td>['GOT GAME A Quiet Weekend in Capri - As a tou...</td>\n",
       "      <td>NaN</td>\n",
       "      <td>NaN</td>\n",
       "      <td>['Graphical mystery adventure', 'First person'...</td>\n",
       "      <td>9</td>\n",
       "      <td>Train</td>\n",
       "    </tr>\n",
       "    <tr>\n",
       "      <td>43905</td>\n",
       "      <td>43905</td>\n",
       "      <td>3</td>\n",
       "      <td>False</td>\n",
       "      <td>2003-05-29</td>\n",
       "      <td>A38EDDASAM1W0V</td>\n",
       "      <td>B00006AALC</td>\n",
       "      <td>This game follows the adventures of Kate Walke...</td>\n",
       "      <td>Syberia</td>\n",
       "      <td>27</td>\n",
       "      <td>{'Platform:': ' PC'}</td>\n",
       "      <td>...</td>\n",
       "      <td>Syberia - PC</td>\n",
       "      <td>by Dreamcatcher Interactive</td>\n",
       "      <td>&gt;#44,775 in Video Games (See Top 100 in Video ...</td>\n",
       "      <td>Video Games</td>\n",
       "      <td>['Kate Walker, a corporate lawyer from the USA...</td>\n",
       "      <td>NaN</td>\n",
       "      <td>['B0017HLYNC', 'B000BNB2GW', 'B06WWRR72F', 'B0...</td>\n",
       "      <td>[\"You play as Kate Walker, a businesswoman loo...</td>\n",
       "      <td>64</td>\n",
       "      <td>Train</td>\n",
       "    </tr>\n",
       "  </tbody>\n",
       "</table>\n",
       "<p>2 rows × 21 columns</p>\n",
       "</div>"
      ],
      "text/plain": [
       "       reviewID  overall  verified  reviewTime      reviewerID   productID  \\\n",
       "63498     63498        1     False  2004-06-20  A38EDDASAM1W0V  B00013MRU2   \n",
       "43905     43905        3     False  2003-05-29  A38EDDASAM1W0V  B00006AALC   \n",
       "\n",
       "                                              reviewText  \\\n",
       "63498  I really, really wish that I had read some rev...   \n",
       "43905  This game follows the adventures of Kate Walke...   \n",
       "\n",
       "                             summary vote                 style  ...  \\\n",
       "63498  not at all what I expected...   39                   NaN  ...   \n",
       "43905                        Syberia   27  {'Platform:': ' PC'}  ...   \n",
       "\n",
       "                               title                        brand  \\\n",
       "63498  A Quiet Weekend In Capri - PC                  by Got Game   \n",
       "43905                   Syberia - PC  by Dreamcatcher Interactive   \n",
       "\n",
       "                                                    rank     main_cat  \\\n",
       "63498  >#81,925 in Video Games (See Top 100 in Video ...  Video Games   \n",
       "43905  >#44,775 in Video Games (See Top 100 in Video ...  Video Games   \n",
       "\n",
       "                                             description also_buy  \\\n",
       "63498  ['GOT GAME A Quiet Weekend in Capri - As a tou...      NaN   \n",
       "43905  ['Kate Walker, a corporate lawyer from the USA...      NaN   \n",
       "\n",
       "                                               also_view  \\\n",
       "63498                                                NaN   \n",
       "43905  ['B0017HLYNC', 'B000BNB2GW', 'B06WWRR72F', 'B0...   \n",
       "\n",
       "                                                 feature numberOfReviews  \\\n",
       "63498  ['Graphical mystery adventure', 'First person'...               9   \n",
       "43905  [\"You play as Kate Walker, a businesswoman loo...              64   \n",
       "\n",
       "         Set  \n",
       "63498  Train  \n",
       "43905  Train  \n",
       "\n",
       "[2 rows x 21 columns]"
      ]
     },
     "execution_count": 31,
     "metadata": {},
     "output_type": "execute_result"
    }
   ],
   "source": [
    "# Example\n",
    "data[data[\"reviewerID\"] == \"A38EDDASAM1W0V\"]"
   ]
  },
  {
   "cell_type": "code",
   "execution_count": 32,
   "metadata": {},
   "outputs": [
    {
     "data": {
      "text/html": [
       "<div>\n",
       "<style scoped>\n",
       "    .dataframe tbody tr th:only-of-type {\n",
       "        vertical-align: middle;\n",
       "    }\n",
       "\n",
       "    .dataframe tbody tr th {\n",
       "        vertical-align: top;\n",
       "    }\n",
       "\n",
       "    .dataframe thead th {\n",
       "        text-align: right;\n",
       "    }\n",
       "</style>\n",
       "<table border=\"1\" class=\"dataframe\">\n",
       "  <thead>\n",
       "    <tr style=\"text-align: right;\">\n",
       "      <th></th>\n",
       "      <th>reviewID</th>\n",
       "      <th>overall</th>\n",
       "      <th>verified</th>\n",
       "      <th>reviewTime</th>\n",
       "      <th>reviewerID</th>\n",
       "      <th>productID</th>\n",
       "      <th>reviewText</th>\n",
       "      <th>summary</th>\n",
       "      <th>vote</th>\n",
       "      <th>style</th>\n",
       "      <th>...</th>\n",
       "      <th>title</th>\n",
       "      <th>brand</th>\n",
       "      <th>rank</th>\n",
       "      <th>main_cat</th>\n",
       "      <th>description</th>\n",
       "      <th>also_buy</th>\n",
       "      <th>also_view</th>\n",
       "      <th>feature</th>\n",
       "      <th>numberOfReviews</th>\n",
       "      <th>Set</th>\n",
       "    </tr>\n",
       "  </thead>\n",
       "  <tbody>\n",
       "    <tr>\n",
       "      <td>373416</td>\n",
       "      <td>373416</td>\n",
       "      <td>1</td>\n",
       "      <td>True</td>\n",
       "      <td>2013-03-27</td>\n",
       "      <td>A1TDT6YBRP7DPC</td>\n",
       "      <td>B00GGUUUQW</td>\n",
       "      <td>This is an insult to anything branded, \"The Wa...</td>\n",
       "      <td>Rubbish!!!!!</td>\n",
       "      <td>5</td>\n",
       "      <td>{'Platform:': ' PlayStation 3'}</td>\n",
       "      <td>...</td>\n",
       "      <td>The Walking Dead Survival Instinct  - PS3 [Dig...</td>\n",
       "      <td>by Activision</td>\n",
       "      <td>NaN</td>\n",
       "      <td>Video Games</td>\n",
       "      <td>['', 'The Walking Dead video game takes the un...</td>\n",
       "      <td>NaN</td>\n",
       "      <td>NaN</td>\n",
       "      <td>['First-person action game based on the Emmy a...</td>\n",
       "      <td>88</td>\n",
       "      <td>Train</td>\n",
       "    </tr>\n",
       "  </tbody>\n",
       "</table>\n",
       "<p>1 rows × 21 columns</p>\n",
       "</div>"
      ],
      "text/plain": [
       "        reviewID  overall  verified  reviewTime      reviewerID   productID  \\\n",
       "373416    373416        1      True  2013-03-27  A1TDT6YBRP7DPC  B00GGUUUQW   \n",
       "\n",
       "                                               reviewText       summary vote  \\\n",
       "373416  This is an insult to anything branded, \"The Wa...  Rubbish!!!!!    5   \n",
       "\n",
       "                                  style  ...  \\\n",
       "373416  {'Platform:': ' PlayStation 3'}  ...   \n",
       "\n",
       "                                                    title          brand rank  \\\n",
       "373416  The Walking Dead Survival Instinct  - PS3 [Dig...  by Activision  NaN   \n",
       "\n",
       "           main_cat                                        description  \\\n",
       "373416  Video Games  ['', 'The Walking Dead video game takes the un...   \n",
       "\n",
       "       also_buy also_view                                            feature  \\\n",
       "373416      NaN       NaN  ['First-person action game based on the Emmy a...   \n",
       "\n",
       "       numberOfReviews    Set  \n",
       "373416              88  Train  \n",
       "\n",
       "[1 rows x 21 columns]"
      ]
     },
     "execution_count": 32,
     "metadata": {},
     "output_type": "execute_result"
    }
   ],
   "source": [
    "# Example\n",
    "data[data[\"reviewerID\"] == \"A1TDT6YBRP7DPC\"]"
   ]
  },
  {
   "cell_type": "code",
   "execution_count": 33,
   "metadata": {},
   "outputs": [
    {
     "data": {
      "text/plain": [
       "56"
      ]
     },
     "execution_count": 33,
     "metadata": {},
     "output_type": "execute_result"
    }
   ],
   "source": [
    "# How many rows are affected\n",
    "len(data[data[\"reviewerID\"].isin(investigate)])"
   ]
  },
  {
   "cell_type": "code",
   "execution_count": 34,
   "metadata": {},
   "outputs": [
    {
     "data": {
      "text/plain": [
       "Train    54\n",
       "Test      2\n",
       "Name: Set, dtype: int64"
      ]
     },
     "execution_count": 34,
     "metadata": {},
     "output_type": "execute_result"
    }
   ],
   "source": [
    "# How many from Train, and how many from Test\n",
    "data[data[\"reviewerID\"].isin(investigate)][\"Set\"].value_counts()"
   ]
  },
  {
   "cell_type": "markdown",
   "metadata": {},
   "source": [
    "We should remove rows without enough information"
   ]
  },
  {
   "cell_type": "markdown",
   "metadata": {},
   "source": [
    "## Creating a Valid Recommendation set for Train"
   ]
  },
  {
   "cell_type": "code",
   "execution_count": 35,
   "metadata": {},
   "outputs": [],
   "source": [
    "# Filter 4 and 5 reviews, order by reviewer, rating, and reviewtime in descending order\n",
    "positive_reviews = train_df[(train_df[\"overall\"] == 4) | (train_df[\"overall\"] == 5)].sort_values(by = [\"reviewerID\", \"overall\", \"reviewTime\"], axis = 0, ascending = False)[[\"reviewID\", \"overall\", \"reviewTime\", \"reviewerID\", \"productID\"]]\n",
    "\n",
    "# Create dictionary with top 15 (if possible) reviews for each reviewer\n",
    "positive_dict = dict()\n",
    "# Loop over each row, adding reviewers and their preferences\n",
    "for index, row in positive_reviews.iterrows():\n",
    "    if row[\"reviewerID\"] not in positive_dict.keys():\n",
    "        positive_dict[row[\"reviewerID\"]] = [row[\"productID\"]]\n",
    "    elif len(positive_dict[row[\"reviewerID\"]]) < 15:\n",
    "        positive_dict[row[\"reviewerID\"]].append(row[\"productID\"])\n",
    "\n",
    "# Order reviews by reviewerID and date in decending order\n",
    "ordered_data = train_df.sort_values(by = [\"reviewerID\", \"reviewTime\"], axis = 0, ascending = False)\n",
    "ordered_data = ordered_data[[\"reviewID\", \"overall\", \"reviewTime\", \"reviewerID\", \"productID\", \"also_buy\"]]\n",
    "\n",
    "# Drop rows with no recommendation\n",
    "ordered_data.dropna(axis = 0, subset = [\"also_buy\"], inplace = True)\n",
    "\n",
    "# Convert also_buy string to list\n",
    "ordered_data[\"amz_recommendation\"] = ordered_data[\"also_buy\"].apply(lambda x: ast.literal_eval(x))\n",
    "\n",
    "# Drop also_buy\n",
    "ordered_data.drop([\"also_buy\"], axis = 1, inplace = True)\n",
    "\n",
    "# Create dictionary with top 15 (if possible) products from also_buy, starting with the most recent recommendations\n",
    "also_buy_dict = dict()\n",
    "# Loop over each row, adding reviewers and their recommended products\n",
    "for index, row in ordered_data.iterrows():\n",
    "   \n",
    "    # Add new key\n",
    "    if row[\"reviewerID\"] not in also_buy_dict.keys():\n",
    "        \n",
    "        # If the recommendation list is too long add only the first 15, else add all\n",
    "        if len(row[\"amz_recommendation\"]) >= 15:\n",
    "            also_buy_dict[row[\"reviewerID\"]] = row[\"amz_recommendation\"][:15]\n",
    "        else:\n",
    "            also_buy_dict[row[\"reviewerID\"]] = row[\"amz_recommendation\"]\n",
    "    \n",
    "    # Update value for the given key, to complete the length of 15 products\n",
    "    elif len(also_buy_dict[row[\"reviewerID\"]]) < 15:\n",
    "        \n",
    "        # Define how many elements to add to the list\n",
    "        x = 15 - len(also_buy_dict[row[\"reviewerID\"]])\n",
    "        \n",
    "        # Add as many elements as possible and required\n",
    "        if len(row[\"amz_recommendation\"]) >= x:\n",
    "            also_buy_dict[row[\"reviewerID\"]].extend(row[\"amz_recommendation\"][:x])\n",
    "        else:\n",
    "            also_buy_dict[row[\"reviewerID\"]].extend(row[\"amz_recommendation\"])\n",
    "\n",
    "# Create list of unique users for easier iteration\n",
    "unique_users = train_df[\"reviewerID\"].unique()\n",
    "\n",
    "# Create final recommendation set dictionary\n",
    "rec_dict = dict()\n",
    "\n",
    "# Iterate through each user\n",
    "for user in unique_users:\n",
    "    \n",
    "    # Check if user has positive reviews and keep them\n",
    "    if user in positive_dict.keys():\n",
    "        rec_dict[user] = positive_dict[user]\n",
    "    \n",
    "    # Check if user can be completed by also_buy\n",
    "    if user in also_buy_dict.keys():\n",
    "        \n",
    "        # Check if it needs to be completed\n",
    "        if user in rec_dict.keys() and len(rec_dict[user]) < 15:\n",
    "            \n",
    "            # Check how many items are missing\n",
    "            x = 15 - len(rec_dict[user])\n",
    "            \n",
    "            # Check if also_buy has enough products to complete\n",
    "            if len(also_buy_dict[user]) >= x:\n",
    "            \n",
    "                # Complete list with exact number of products from also_buy\n",
    "                rec_dict[user].extend(also_buy_dict[user][:x])\n",
    "            \n",
    "            else:\n",
    "                \n",
    "                # Complete with as many products as it has\n",
    "                rec_dict[user].extend(also_buy_dict[user])\n",
    "        \n",
    "        # Chech if the user needs to be started from scratch bc it didnt have positive reviews\n",
    "        if user not in rec_dict.keys():\n",
    "            rec_dict[user] = also_buy_dict[user]\n",
    "\n"
   ]
  },
  {
   "cell_type": "code",
   "execution_count": 36,
   "metadata": {},
   "outputs": [],
   "source": [
    "# Rename dictionary\n",
    "train_recommendation_dict = rec_dict"
   ]
  },
  {
   "cell_type": "code",
   "execution_count": 37,
   "metadata": {},
   "outputs": [],
   "source": [
    "# Save recommendation set to dataframe\n",
    "train_df[\"valid_recommendations\"] = train_df[\"reviewerID\"].map(train_recommendation_dict)"
   ]
  },
  {
   "cell_type": "code",
   "execution_count": 38,
   "metadata": {},
   "outputs": [],
   "source": [
    "# Explore how many rows don't have 15 recommendations\n",
    "remove_reviews = list()\n",
    "for index, row in train_df.iterrows():\n",
    "    if type(row[\"valid_recommendations\"]) == float:\n",
    "        remove_reviews.append(row[\"reviewID\"])\n",
    "    elif len(row[\"valid_recommendations\"]) < 15:\n",
    "        remove_reviews.append(row[\"reviewID\"])"
   ]
  },
  {
   "cell_type": "code",
   "execution_count": 39,
   "metadata": {},
   "outputs": [
    {
     "data": {
      "text/plain": [
       "3095"
      ]
     },
     "execution_count": 39,
     "metadata": {},
     "output_type": "execute_result"
    }
   ],
   "source": [
    "# Count of rows without enough reviews\n",
    "len(remove_reviews)"
   ]
  },
  {
   "cell_type": "code",
   "execution_count": 40,
   "metadata": {},
   "outputs": [
    {
     "data": {
      "text/plain": [
       "206085"
      ]
     },
     "execution_count": 40,
     "metadata": {},
     "output_type": "execute_result"
    }
   ],
   "source": [
    "# Total length in Train\n",
    "len(train_df)"
   ]
  },
  {
   "cell_type": "code",
   "execution_count": 41,
   "metadata": {},
   "outputs": [],
   "source": [
    "# Drop rows without enough reviews\n",
    "train_df.drop(index = remove_reviews, inplace = True)"
   ]
  },
  {
   "cell_type": "code",
   "execution_count": 42,
   "metadata": {},
   "outputs": [
    {
     "data": {
      "text/plain": [
       "202990"
      ]
     },
     "execution_count": 42,
     "metadata": {},
     "output_type": "execute_result"
    }
   ],
   "source": [
    "# New length in Train\n",
    "len(train_df)"
   ]
  },
  {
   "cell_type": "markdown",
   "metadata": {},
   "source": [
    "## Splitting Test into 2: Validation and Test"
   ]
  },
  {
   "cell_type": "code",
   "execution_count": 43,
   "metadata": {},
   "outputs": [],
   "source": [
    "validation_ratio = 0.67\n",
    "shuffled_data = shuffle(test_df, random_state = 232323)\n",
    "split_cut = np.int(np.round(len(shuffled_data) * validation_ratio))"
   ]
  },
  {
   "cell_type": "code",
   "execution_count": 44,
   "metadata": {},
   "outputs": [],
   "source": [
    "# Split the data\n",
    "validation_df = shuffled_data.iloc[0:split_cut]\n",
    "test_df = shuffled_data.iloc[split_cut::]"
   ]
  },
  {
   "cell_type": "code",
   "execution_count": 45,
   "metadata": {},
   "outputs": [
    {
     "name": "stdout",
     "output_type": "stream",
     "text": [
      "(56651, 21)\n",
      "(27903, 21)\n"
     ]
    }
   ],
   "source": [
    "# Check resulting shapes\n",
    "print(validation_df.shape)\n",
    "print(test_df.shape)"
   ]
  },
  {
   "cell_type": "code",
   "execution_count": 46,
   "metadata": {},
   "outputs": [
    {
     "name": "stdout",
     "output_type": "stream",
     "text": [
      "(202990, 22)\n"
     ]
    }
   ],
   "source": [
    "print(train_df.shape)"
   ]
  },
  {
   "cell_type": "markdown",
   "metadata": {},
   "source": [
    "## Creating a valid recommendation set for Validation"
   ]
  },
  {
   "cell_type": "code",
   "execution_count": 47,
   "metadata": {},
   "outputs": [],
   "source": [
    "# Use both Train and Validation history for this\n",
    "data_train_val = pd.concat([train_df, validation_df], sort = False)"
   ]
  },
  {
   "cell_type": "code",
   "execution_count": 48,
   "metadata": {},
   "outputs": [],
   "source": [
    "# Filter 4 and 5 reviews, order by reviewer, rating, and reviewtime in descending order\n",
    "positive_reviews = data_train_val[(data_train_val[\"overall\"] == 4) | (data_train_val[\"overall\"] == 5)].sort_values(by = [\"reviewerID\", \"overall\", \"reviewTime\"], axis = 0, ascending = False)[[\"reviewID\", \"overall\", \"reviewTime\", \"reviewerID\", \"productID\"]]\n",
    "\n",
    "# Create dictionary with top 15 (if possible) reviews for each reviewer\n",
    "positive_dict = dict()\n",
    "\n",
    "# Loop over each row, adding reviewers and their preferences\n",
    "for index, row in positive_reviews.iterrows():\n",
    "    if row[\"reviewerID\"] not in positive_dict.keys():\n",
    "        positive_dict[row[\"reviewerID\"]] = [row[\"productID\"]]\n",
    "    \n",
    "    elif len(positive_dict[row[\"reviewerID\"]]) < 15:\n",
    "        positive_dict[row[\"reviewerID\"]].append(row[\"productID\"])\n",
    "\n",
    "# Order reviews by reviewerID and date in decending order\n",
    "ordered_data = data_train_val.sort_values(by = [\"reviewerID\", \"reviewTime\"], axis = 0, ascending = False)\n",
    "ordered_data = ordered_data[[\"reviewID\", \"overall\", \"reviewTime\", \"reviewerID\", \"productID\", \"also_buy\"]]\n",
    "\n",
    "# Drop rows with no recommendation\n",
    "ordered_data.dropna(axis = 0, subset = [\"also_buy\"], inplace = True)\n",
    "\n",
    "# Convert also_buy string to list\n",
    "ordered_data[\"amz_recommendation\"] = ordered_data[\"also_buy\"].apply(lambda x: ast.literal_eval(x))\n",
    "\n",
    "# Drop also_buy\n",
    "ordered_data.drop([\"also_buy\"], axis = 1, inplace = True)\n",
    "\n",
    "# Create dictionary with top 15 (if possible) products from also_buy, starting with the most recent recommendations\n",
    "also_buy_dict = dict()\n",
    "\n",
    "# Loop over each row, adding reviewers and their recommended products\n",
    "for index, row in ordered_data.iterrows():\n",
    "   \n",
    "    # Add new key\n",
    "    if row[\"reviewerID\"] not in also_buy_dict.keys():\n",
    "        \n",
    "        # If the recommendation list is too long add only the first 15, else add all\n",
    "        if len(row[\"amz_recommendation\"]) >= 15:\n",
    "            also_buy_dict[row[\"reviewerID\"]] = row[\"amz_recommendation\"][:15]\n",
    "        else:\n",
    "            also_buy_dict[row[\"reviewerID\"]] = row[\"amz_recommendation\"]\n",
    "    \n",
    "    # Update value for the given key, to complete the length of 15 products\n",
    "    elif len(also_buy_dict[row[\"reviewerID\"]]) < 15:\n",
    "        \n",
    "        # Define how many elements to add to the list\n",
    "        x = 15 - len(also_buy_dict[row[\"reviewerID\"]])\n",
    "        \n",
    "        # Add as many elements as possible and required\n",
    "        if len(row[\"amz_recommendation\"]) >= x:\n",
    "            also_buy_dict[row[\"reviewerID\"]].extend(row[\"amz_recommendation\"][:x])\n",
    "        else:\n",
    "            also_buy_dict[row[\"reviewerID\"]].extend(row[\"amz_recommendation\"])\n",
    "\n",
    "# Create list of unique users for easier iteration\n",
    "unique_users = data_train_val[\"reviewerID\"].unique()\n",
    "\n",
    "# Create final recommendation set dictionary\n",
    "rec_dict = dict()\n",
    "\n",
    "# Iterate through each user\n",
    "for user in unique_users:\n",
    "    \n",
    "    # Check if user has positive reviews and keep them\n",
    "    if user in positive_dict.keys():\n",
    "        rec_dict[user] = positive_dict[user]\n",
    "    \n",
    "    # Check if user can be completed by also_buy\n",
    "    if user in also_buy_dict.keys():\n",
    "        \n",
    "        # Check if it needs to be completed\n",
    "        if user in rec_dict.keys() and len(rec_dict[user]) < 15:\n",
    "            \n",
    "            # Check how many items are missing\n",
    "            x = 15 - len(rec_dict[user])\n",
    "            \n",
    "            # Check if also_buy has enough products to complete\n",
    "            if len(also_buy_dict[user]) >= x:\n",
    "            \n",
    "                # Complete list with exact number of products from also_buy\n",
    "                rec_dict[user].extend(also_buy_dict[user][:x])\n",
    "            \n",
    "            else:\n",
    "                \n",
    "                # Complete with as many products as it has\n",
    "                rec_dict[user].extend(also_buy_dict[user])\n",
    "        \n",
    "        # Chech if the user needs to be started from scratch bc it didnt have positive reviews\n",
    "        if user not in rec_dict.keys():\n",
    "            rec_dict[user] = also_buy_dict[user]\n",
    "\n"
   ]
  },
  {
   "cell_type": "code",
   "execution_count": 49,
   "metadata": {},
   "outputs": [],
   "source": [
    "# Rename dictionary\n",
    "validation_recommendation_dict = rec_dict"
   ]
  },
  {
   "cell_type": "code",
   "execution_count": 50,
   "metadata": {},
   "outputs": [
    {
     "name": "stderr",
     "output_type": "stream",
     "text": [
      "/Users/luciaronchi/opt/anaconda3/lib/python3.7/site-packages/ipykernel_launcher.py:2: SettingWithCopyWarning: \n",
      "A value is trying to be set on a copy of a slice from a DataFrame.\n",
      "Try using .loc[row_indexer,col_indexer] = value instead\n",
      "\n",
      "See the caveats in the documentation: http://pandas.pydata.org/pandas-docs/stable/user_guide/indexing.html#returning-a-view-versus-a-copy\n",
      "  \n"
     ]
    }
   ],
   "source": [
    "# Save recommendation set to dataframe\n",
    "validation_df[\"valid_recommendations\"] = validation_df[\"reviewerID\"].map(validation_recommendation_dict)"
   ]
  },
  {
   "cell_type": "code",
   "execution_count": 51,
   "metadata": {},
   "outputs": [],
   "source": [
    "# Explore how many rows don't have 15 recommendations\n",
    "remove_reviews = list()\n",
    "\n",
    "for index, row in validation_df.iterrows():\n",
    "    \n",
    "    if type(row[\"valid_recommendations\"]) == float:\n",
    "        remove_reviews.append(row[\"reviewID\"])\n",
    "    \n",
    "    elif len(row[\"valid_recommendations\"]) < 15:\n",
    "        remove_reviews.append(row[\"reviewID\"])"
   ]
  },
  {
   "cell_type": "code",
   "execution_count": 52,
   "metadata": {},
   "outputs": [
    {
     "data": {
      "text/plain": [
       "455"
      ]
     },
     "execution_count": 52,
     "metadata": {},
     "output_type": "execute_result"
    }
   ],
   "source": [
    "# Count of rows without enough reviews\n",
    "len(remove_reviews)"
   ]
  },
  {
   "cell_type": "code",
   "execution_count": 53,
   "metadata": {},
   "outputs": [
    {
     "name": "stderr",
     "output_type": "stream",
     "text": [
      "/Users/luciaronchi/opt/anaconda3/lib/python3.7/site-packages/pandas/core/frame.py:4102: SettingWithCopyWarning: \n",
      "A value is trying to be set on a copy of a slice from a DataFrame\n",
      "\n",
      "See the caveats in the documentation: http://pandas.pydata.org/pandas-docs/stable/user_guide/indexing.html#returning-a-view-versus-a-copy\n",
      "  errors=errors,\n"
     ]
    }
   ],
   "source": [
    "# Drop rows without enough reviews\n",
    "validation_df.drop(index = remove_reviews, inplace = True)"
   ]
  },
  {
   "cell_type": "code",
   "execution_count": 54,
   "metadata": {},
   "outputs": [
    {
     "data": {
      "text/plain": [
       "1050"
      ]
     },
     "execution_count": 54,
     "metadata": {},
     "output_type": "execute_result"
    }
   ],
   "source": [
    "# Count products and items not in Train\n",
    "len(validation_df)-len(validation_df[(validation_df['reviewerID'].isin(train_df['reviewerID'])) \n",
    "        & (validation_df['productID'].isin(train_df['productID']))])"
   ]
  },
  {
   "cell_type": "code",
   "execution_count": 55,
   "metadata": {},
   "outputs": [],
   "source": [
    "# For Validation set, keep only rows with products and users present in Train set\n",
    "validation_df = validation_df[(validation_df['reviewerID'].isin(train_df['reviewerID'])) \n",
    "        & (validation_df['productID'].isin(train_df['productID']))]"
   ]
  },
  {
   "cell_type": "code",
   "execution_count": 56,
   "metadata": {},
   "outputs": [
    {
     "data": {
      "text/plain": [
       "55146"
      ]
     },
     "execution_count": 56,
     "metadata": {},
     "output_type": "execute_result"
    }
   ],
   "source": [
    "len(validation_df)"
   ]
  },
  {
   "cell_type": "code",
   "execution_count": 57,
   "metadata": {},
   "outputs": [
    {
     "data": {
      "text/plain": [
       "True"
      ]
     },
     "execution_count": 57,
     "metadata": {},
     "output_type": "execute_result"
    }
   ],
   "source": [
    "# All reviewers from Test contained in Train?\n",
    "sum(validation_df[\"reviewerID\"].isin(train_df[\"reviewerID\"].unique())) == len(validation_df)"
   ]
  },
  {
   "cell_type": "code",
   "execution_count": 58,
   "metadata": {},
   "outputs": [
    {
     "data": {
      "text/plain": [
       "True"
      ]
     },
     "execution_count": 58,
     "metadata": {},
     "output_type": "execute_result"
    }
   ],
   "source": [
    "# All products from Test contained in Train?\n",
    "sum(validation_df[\"productID\"].isin(train_df[\"productID\"].unique())) == len(validation_df)"
   ]
  },
  {
   "cell_type": "markdown",
   "metadata": {},
   "source": [
    "## Creating a valid recommendation set for Test"
   ]
  },
  {
   "cell_type": "code",
   "execution_count": 59,
   "metadata": {},
   "outputs": [],
   "source": [
    "# Use Train, Validation and Test history for this\n",
    "data_train_val_test = pd.concat([train_df, validation_df, test_df], sort = False)"
   ]
  },
  {
   "cell_type": "code",
   "execution_count": 60,
   "metadata": {},
   "outputs": [],
   "source": [
    "# Filter 4 and 5 reviews, order by reviewer, rating, and reviewtime in descending order\n",
    "positive_reviews = data_train_val_test[(data_train_val_test[\"overall\"] == 4) | (data_train_val_test[\"overall\"] == 5)].sort_values(by = [\"reviewerID\", \"overall\", \"reviewTime\"], axis = 0, ascending = False)[[\"reviewID\", \"overall\", \"reviewTime\", \"reviewerID\", \"productID\"]]\n",
    "\n",
    "# Create dictionary with top 15 (if possible) reviews for each reviewer\n",
    "positive_dict = dict()\n",
    "\n",
    "# Loop over each row, adding reviewers and their preferences\n",
    "for index, row in positive_reviews.iterrows():\n",
    "    if row[\"reviewerID\"] not in positive_dict.keys():\n",
    "        positive_dict[row[\"reviewerID\"]] = [row[\"productID\"]]\n",
    "    \n",
    "    elif len(positive_dict[row[\"reviewerID\"]]) < 15:\n",
    "        positive_dict[row[\"reviewerID\"]].append(row[\"productID\"])\n",
    "\n",
    "# Order reviews by reviewerID and date in decending order\n",
    "ordered_data = data_train_val_test.sort_values(by = [\"reviewerID\", \"reviewTime\"], axis = 0, ascending = False)\n",
    "ordered_data = ordered_data[[\"reviewID\", \"overall\", \"reviewTime\", \"reviewerID\", \"productID\", \"also_buy\"]]\n",
    "\n",
    "# Drop rows with no recommendation\n",
    "ordered_data.dropna(axis = 0, subset = [\"also_buy\"], inplace = True)\n",
    "\n",
    "# Convert also_buy string to list\n",
    "ordered_data[\"amz_recommendation\"] = ordered_data[\"also_buy\"].apply(lambda x: ast.literal_eval(x))\n",
    "\n",
    "# Drop also_buy\n",
    "ordered_data.drop([\"also_buy\"], axis = 1, inplace = True)\n",
    "\n",
    "# Create dictionary with top 15 (if possible) products from also_buy, starting with the most recent recommendations\n",
    "also_buy_dict = dict()\n",
    "\n",
    "# Loop over each row, adding reviewers and their recommended products\n",
    "for index, row in ordered_data.iterrows():\n",
    "   \n",
    "    # Add new key\n",
    "    if row[\"reviewerID\"] not in also_buy_dict.keys():\n",
    "        \n",
    "        # If the recommendation list is too long add only the first 15, else add all\n",
    "        if len(row[\"amz_recommendation\"]) >= 15:\n",
    "            also_buy_dict[row[\"reviewerID\"]] = row[\"amz_recommendation\"][:15]\n",
    "        else:\n",
    "            also_buy_dict[row[\"reviewerID\"]] = row[\"amz_recommendation\"]\n",
    "    \n",
    "    # Update value for the given key, to complete the length of 15 products\n",
    "    elif len(also_buy_dict[row[\"reviewerID\"]]) < 15:\n",
    "        \n",
    "        # Define how many elements to add to the list\n",
    "        x = 15 - len(also_buy_dict[row[\"reviewerID\"]])\n",
    "        \n",
    "        # Add as many elements as possible and required\n",
    "        if len(row[\"amz_recommendation\"]) >= x:\n",
    "            also_buy_dict[row[\"reviewerID\"]].extend(row[\"amz_recommendation\"][:x])\n",
    "        else:\n",
    "            also_buy_dict[row[\"reviewerID\"]].extend(row[\"amz_recommendation\"])\n",
    "\n",
    "# Create list of unique users for easier iteration\n",
    "unique_users = data_train_val_test[\"reviewerID\"].unique()\n",
    "\n",
    "# Create final recommendation set dictionary\n",
    "rec_dict = dict()\n",
    "\n",
    "# Iterate through each user\n",
    "for user in unique_users:\n",
    "    \n",
    "    # Check if user has positive reviews and keep them\n",
    "    if user in positive_dict.keys():\n",
    "        rec_dict[user] = positive_dict[user]\n",
    "    \n",
    "    # Check if user can be completed by also_buy\n",
    "    if user in also_buy_dict.keys():\n",
    "        \n",
    "        # Check if it needs to be completed\n",
    "        if user in rec_dict.keys() and len(rec_dict[user]) < 15:\n",
    "            \n",
    "            # Check how many items are missing\n",
    "            x = 15 - len(rec_dict[user])\n",
    "            \n",
    "            # Check if also_buy has enough products to complete\n",
    "            if len(also_buy_dict[user]) >= x:\n",
    "            \n",
    "                # Complete list with exact number of products from also_buy\n",
    "                rec_dict[user].extend(also_buy_dict[user][:x])\n",
    "            \n",
    "            else:\n",
    "                \n",
    "                # Complete with as many products as it has\n",
    "                rec_dict[user].extend(also_buy_dict[user])\n",
    "        \n",
    "        # Chech if the user needs to be started from scratch bc it didnt have positive reviews\n",
    "        if user not in rec_dict.keys():\n",
    "            rec_dict[user] = also_buy_dict[user]\n",
    "\n"
   ]
  },
  {
   "cell_type": "code",
   "execution_count": 61,
   "metadata": {},
   "outputs": [],
   "source": [
    "# Rename dictionary\n",
    "test_recommendation_dict = rec_dict"
   ]
  },
  {
   "cell_type": "code",
   "execution_count": 62,
   "metadata": {},
   "outputs": [
    {
     "name": "stderr",
     "output_type": "stream",
     "text": [
      "/Users/luciaronchi/opt/anaconda3/lib/python3.7/site-packages/ipykernel_launcher.py:2: SettingWithCopyWarning: \n",
      "A value is trying to be set on a copy of a slice from a DataFrame.\n",
      "Try using .loc[row_indexer,col_indexer] = value instead\n",
      "\n",
      "See the caveats in the documentation: http://pandas.pydata.org/pandas-docs/stable/user_guide/indexing.html#returning-a-view-versus-a-copy\n",
      "  \n"
     ]
    }
   ],
   "source": [
    "# Save recommendation set to dataframe\n",
    "test_df[\"valid_recommendations\"] = test_df[\"reviewerID\"].map(test_recommendation_dict)"
   ]
  },
  {
   "cell_type": "code",
   "execution_count": 63,
   "metadata": {},
   "outputs": [],
   "source": [
    "# Explore how many rows don't have 15 recommendations\n",
    "remove_reviews = list()\n",
    "\n",
    "for index, row in test_df.iterrows():\n",
    "    \n",
    "    if type(row[\"valid_recommendations\"]) == float:\n",
    "        remove_reviews.append(row[\"reviewID\"])\n",
    "    \n",
    "    elif len(row[\"valid_recommendations\"]) < 15:\n",
    "        remove_reviews.append(row[\"reviewID\"])"
   ]
  },
  {
   "cell_type": "code",
   "execution_count": 64,
   "metadata": {},
   "outputs": [
    {
     "data": {
      "text/plain": [
       "265"
      ]
     },
     "execution_count": 64,
     "metadata": {},
     "output_type": "execute_result"
    }
   ],
   "source": [
    "# Count of rows without enough reviews\n",
    "len(remove_reviews)"
   ]
  },
  {
   "cell_type": "code",
   "execution_count": 65,
   "metadata": {},
   "outputs": [],
   "source": [
    "# Drop rows without enough reviews\n",
    "test_df.drop(index = remove_reviews, inplace = True)"
   ]
  },
  {
   "cell_type": "code",
   "execution_count": 66,
   "metadata": {},
   "outputs": [
    {
     "data": {
      "text/plain": [
       "453"
      ]
     },
     "execution_count": 66,
     "metadata": {},
     "output_type": "execute_result"
    }
   ],
   "source": [
    "# Count products and/or items not in Train\n",
    "len(test_df)-len(test_df[(test_df['reviewerID'].isin(train_df['reviewerID'])) \n",
    "        & (test_df['productID'].isin(train_df['productID']))])"
   ]
  },
  {
   "cell_type": "code",
   "execution_count": 67,
   "metadata": {},
   "outputs": [],
   "source": [
    "# For Test set, keep only rows with products and users present in Train set\n",
    "test_df = test_df[(test_df['reviewerID'].isin(train_df['reviewerID'])) \n",
    "        & (test_df['productID'].isin(train_df['productID']))]"
   ]
  },
  {
   "cell_type": "code",
   "execution_count": 68,
   "metadata": {},
   "outputs": [
    {
     "data": {
      "text/plain": [
       "27185"
      ]
     },
     "execution_count": 68,
     "metadata": {},
     "output_type": "execute_result"
    }
   ],
   "source": [
    "len(test_df)"
   ]
  },
  {
   "cell_type": "code",
   "execution_count": 69,
   "metadata": {},
   "outputs": [
    {
     "data": {
      "text/plain": [
       "True"
      ]
     },
     "execution_count": 69,
     "metadata": {},
     "output_type": "execute_result"
    }
   ],
   "source": [
    "# All reviewers from Test contained in Train?\n",
    "sum(test_df[\"reviewerID\"].isin(train_df[\"reviewerID\"].unique())) == len(test_df)"
   ]
  },
  {
   "cell_type": "code",
   "execution_count": 70,
   "metadata": {},
   "outputs": [
    {
     "data": {
      "text/plain": [
       "True"
      ]
     },
     "execution_count": 70,
     "metadata": {},
     "output_type": "execute_result"
    }
   ],
   "source": [
    "# All products from Test contained in Train?\n",
    "sum(test_df[\"productID\"].isin(train_df[\"productID\"].unique())) == len(test_df)"
   ]
  },
  {
   "cell_type": "markdown",
   "metadata": {},
   "source": [
    "## Checking final results"
   ]
  },
  {
   "cell_type": "code",
   "execution_count": 71,
   "metadata": {},
   "outputs": [
    {
     "name": "stdout",
     "output_type": "stream",
     "text": [
      "(202990, 22)\n",
      "(55146, 22)\n",
      "(27185, 22)\n"
     ]
    }
   ],
   "source": [
    "# Exploring shapes of resulting dataframes\n",
    "print(train_df.shape)\n",
    "print(validation_df.shape)\n",
    "print(test_df.shape)"
   ]
  },
  {
   "cell_type": "code",
   "execution_count": 72,
   "metadata": {},
   "outputs": [
    {
     "data": {
      "text/plain": [
       "71.1444303083194"
      ]
     },
     "execution_count": 72,
     "metadata": {},
     "output_type": "execute_result"
    }
   ],
   "source": [
    "# Train (%)\n",
    "len(train_df)/(len(train_df)+len(validation_df)+len(test_df))*100"
   ]
  },
  {
   "cell_type": "code",
   "execution_count": 73,
   "metadata": {
    "scrolled": true
   },
   "outputs": [
    {
     "data": {
      "text/plain": [
       "19.32770458536175"
      ]
     },
     "execution_count": 73,
     "metadata": {},
     "output_type": "execute_result"
    }
   ],
   "source": [
    "# Validation (%)\n",
    "len(validation_df)/(len(train_df)+len(validation_df)+len(test_df))*100"
   ]
  },
  {
   "cell_type": "code",
   "execution_count": 74,
   "metadata": {},
   "outputs": [
    {
     "data": {
      "text/plain": [
       "9.527865106318847"
      ]
     },
     "execution_count": 74,
     "metadata": {},
     "output_type": "execute_result"
    }
   ],
   "source": [
    "# Test (%)\n",
    "len(test_df)/(len(train_df)+len(validation_df)+len(test_df))*100"
   ]
  },
  {
   "cell_type": "markdown",
   "metadata": {},
   "source": [
    "## Saving train, validation and test sets"
   ]
  },
  {
   "cell_type": "code",
   "execution_count": 75,
   "metadata": {},
   "outputs": [],
   "source": [
    "# Save Train with pickle\n",
    "train_df.to_pickle(\"../../train_df_with_valid_recommendations.pkl\")"
   ]
  },
  {
   "cell_type": "code",
   "execution_count": 76,
   "metadata": {},
   "outputs": [],
   "source": [
    "# Save Validation with pickle\n",
    "validation_df.to_pickle(\"../../validation_df_with_valid_recommendations.pkl\")"
   ]
  },
  {
   "cell_type": "code",
   "execution_count": 77,
   "metadata": {},
   "outputs": [],
   "source": [
    "# Save Test with pickle\n",
    "test_df.to_pickle(\"../../test_df_with_valid_recommendations.pkl\")"
   ]
  }
 ],
 "metadata": {
  "kernelspec": {
   "display_name": "Python 3",
   "language": "python",
   "name": "python3"
  },
  "language_info": {
   "codemirror_mode": {
    "name": "ipython",
    "version": 3
   },
   "file_extension": ".py",
   "mimetype": "text/x-python",
   "name": "python",
   "nbconvert_exporter": "python",
   "pygments_lexer": "ipython3",
   "version": "3.7.4"
  },
  "toc": {
   "base_numbering": 1,
   "nav_menu": {},
   "number_sections": false,
   "sideBar": true,
   "skip_h1_title": false,
   "title_cell": "Table of Contents",
   "title_sidebar": "Contents",
   "toc_cell": false,
   "toc_position": {},
   "toc_section_display": true,
   "toc_window_display": true
  }
 },
 "nbformat": 4,
 "nbformat_minor": 2
}
