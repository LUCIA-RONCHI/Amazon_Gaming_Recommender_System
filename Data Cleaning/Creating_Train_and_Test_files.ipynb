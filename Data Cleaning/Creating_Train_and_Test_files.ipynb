{
 "cells": [
  {
   "cell_type": "markdown",
   "metadata": {},
   "source": [
    "## Importing libraries"
   ]
  },
  {
   "cell_type": "code",
   "execution_count": 50,
   "metadata": {},
   "outputs": [],
   "source": [
    "# Import libraries\n",
    "import pandas as pd\n",
    "import numpy as np\n",
    "import joblib\n",
    "from sklearn.utils import shuffle\n",
    "import pickle"
   ]
  },
  {
   "cell_type": "markdown",
   "metadata": {},
   "source": [
    "## Loading all Gaming category (clenaed, merged file with reviews + metadata)"
   ]
  },
  {
   "cell_type": "code",
   "execution_count": 3,
   "metadata": {},
   "outputs": [
    {
     "name": "stderr",
     "output_type": "stream",
     "text": [
      "/Users/luciaronchi/opt/anaconda3/lib/python3.7/site-packages/IPython/core/interactiveshell.py:3058: DtypeWarning: Columns (10) have mixed types. Specify dtype option on import or set low_memory=False.\n",
      "  interactivity=interactivity, compiler=compiler, result=result)\n"
     ]
    }
   ],
   "source": [
    "# Import cleaned dataset\n",
    "raw_data = pd.read_csv(\"../../merged_data_edited.csv\", index_col = 0)"
   ]
  },
  {
   "cell_type": "code",
   "execution_count": 4,
   "metadata": {},
   "outputs": [
    {
     "data": {
      "text/plain": [
       "Index(['Unnamed: 0.1', 'reviewID', 'overall', 'verified', 'reviewTime',\n",
       "       'reviewerID', 'productID', 'reviewText', 'summary', 'vote', 'style',\n",
       "       'category', 'title', 'brand', 'rank', 'main_cat', 'description',\n",
       "       'also_buy', 'also_view', 'feature', 'numberOfReviews'],\n",
       "      dtype='object')"
      ]
     },
     "execution_count": 4,
     "metadata": {},
     "output_type": "execute_result"
    }
   ],
   "source": [
    "# Column names\n",
    "raw_data.columns"
   ]
  },
  {
   "cell_type": "code",
   "execution_count": 5,
   "metadata": {},
   "outputs": [],
   "source": [
    "# Drop first column\n",
    "data = raw_data.drop(labels = [\"Unnamed: 0.1\"], axis = 1)"
   ]
  },
  {
   "cell_type": "code",
   "execution_count": 26,
   "metadata": {},
   "outputs": [
    {
     "name": "stdout",
     "output_type": "stream",
     "text": [
      "(473824, 20)\n"
     ]
    },
    {
     "data": {
      "text/html": [
       "<div>\n",
       "<style scoped>\n",
       "    .dataframe tbody tr th:only-of-type {\n",
       "        vertical-align: middle;\n",
       "    }\n",
       "\n",
       "    .dataframe tbody tr th {\n",
       "        vertical-align: top;\n",
       "    }\n",
       "\n",
       "    .dataframe thead th {\n",
       "        text-align: right;\n",
       "    }\n",
       "</style>\n",
       "<table border=\"1\" class=\"dataframe\">\n",
       "  <thead>\n",
       "    <tr style=\"text-align: right;\">\n",
       "      <th></th>\n",
       "      <th>reviewID</th>\n",
       "      <th>overall</th>\n",
       "      <th>verified</th>\n",
       "      <th>reviewTime</th>\n",
       "      <th>reviewerID</th>\n",
       "      <th>productID</th>\n",
       "      <th>reviewText</th>\n",
       "      <th>summary</th>\n",
       "      <th>vote</th>\n",
       "      <th>style</th>\n",
       "      <th>category</th>\n",
       "      <th>title</th>\n",
       "      <th>brand</th>\n",
       "      <th>rank</th>\n",
       "      <th>main_cat</th>\n",
       "      <th>description</th>\n",
       "      <th>also_buy</th>\n",
       "      <th>also_view</th>\n",
       "      <th>feature</th>\n",
       "      <th>numberOfReviews</th>\n",
       "    </tr>\n",
       "  </thead>\n",
       "  <tbody>\n",
       "    <tr>\n",
       "      <td>0</td>\n",
       "      <td>0</td>\n",
       "      <td>5</td>\n",
       "      <td>True</td>\n",
       "      <td>2015-10-17</td>\n",
       "      <td>A1HP7NVNPFMA4N</td>\n",
       "      <td>0700026657</td>\n",
       "      <td>This game is a bit hard to get the hang of, bu...</td>\n",
       "      <td>but when you do it's great.</td>\n",
       "      <td>0</td>\n",
       "      <td>NaN</td>\n",
       "      <td>['Video Games', 'PC', 'Games']</td>\n",
       "      <td>Anno 2070</td>\n",
       "      <td>Ubisoft</td>\n",
       "      <td>&gt;#30,230 in Video Games (See Top 100 in Video ...</td>\n",
       "      <td>Video Games</td>\n",
       "      <td>['ANNO 2070BRAND NEW - IN STOCKDVD Rom Softwar...</td>\n",
       "      <td>NaN</td>\n",
       "      <td>['B013F0IP1C', 'B00JDP1AWU', 'B00XR3YC2E', 'B0...</td>\n",
       "      <td>['A new era: while adhering to the fundamental...</td>\n",
       "      <td>13</td>\n",
       "    </tr>\n",
       "    <tr>\n",
       "      <td>1</td>\n",
       "      <td>1</td>\n",
       "      <td>4</td>\n",
       "      <td>False</td>\n",
       "      <td>2015-07-27</td>\n",
       "      <td>A1JGAP0185YJI6</td>\n",
       "      <td>0700026657</td>\n",
       "      <td>I played it a while but it was alright. The st...</td>\n",
       "      <td>But in spite of that it was fun, I liked it</td>\n",
       "      <td>0</td>\n",
       "      <td>NaN</td>\n",
       "      <td>['Video Games', 'PC', 'Games']</td>\n",
       "      <td>Anno 2070</td>\n",
       "      <td>Ubisoft</td>\n",
       "      <td>&gt;#30,230 in Video Games (See Top 100 in Video ...</td>\n",
       "      <td>Video Games</td>\n",
       "      <td>['ANNO 2070BRAND NEW - IN STOCKDVD Rom Softwar...</td>\n",
       "      <td>NaN</td>\n",
       "      <td>['B013F0IP1C', 'B00JDP1AWU', 'B00XR3YC2E', 'B0...</td>\n",
       "      <td>['A new era: while adhering to the fundamental...</td>\n",
       "      <td>13</td>\n",
       "    </tr>\n",
       "  </tbody>\n",
       "</table>\n",
       "</div>"
      ],
      "text/plain": [
       "   reviewID  overall  verified  reviewTime      reviewerID   productID  \\\n",
       "0         0        5      True  2015-10-17  A1HP7NVNPFMA4N  0700026657   \n",
       "1         1        4     False  2015-07-27  A1JGAP0185YJI6  0700026657   \n",
       "\n",
       "                                          reviewText  \\\n",
       "0  This game is a bit hard to get the hang of, bu...   \n",
       "1  I played it a while but it was alright. The st...   \n",
       "\n",
       "                                       summary vote style  \\\n",
       "0                  but when you do it's great.    0   NaN   \n",
       "1  But in spite of that it was fun, I liked it    0   NaN   \n",
       "\n",
       "                         category      title    brand  \\\n",
       "0  ['Video Games', 'PC', 'Games']  Anno 2070  Ubisoft   \n",
       "1  ['Video Games', 'PC', 'Games']  Anno 2070  Ubisoft   \n",
       "\n",
       "                                                rank     main_cat  \\\n",
       "0  >#30,230 in Video Games (See Top 100 in Video ...  Video Games   \n",
       "1  >#30,230 in Video Games (See Top 100 in Video ...  Video Games   \n",
       "\n",
       "                                         description also_buy  \\\n",
       "0  ['ANNO 2070BRAND NEW - IN STOCKDVD Rom Softwar...      NaN   \n",
       "1  ['ANNO 2070BRAND NEW - IN STOCKDVD Rom Softwar...      NaN   \n",
       "\n",
       "                                           also_view  \\\n",
       "0  ['B013F0IP1C', 'B00JDP1AWU', 'B00XR3YC2E', 'B0...   \n",
       "1  ['B013F0IP1C', 'B00JDP1AWU', 'B00XR3YC2E', 'B0...   \n",
       "\n",
       "                                             feature  numberOfReviews  \n",
       "0  ['A new era: while adhering to the fundamental...               13  \n",
       "1  ['A new era: while adhering to the fundamental...               13  "
      ]
     },
     "execution_count": 26,
     "metadata": {},
     "output_type": "execute_result"
    }
   ],
   "source": [
    "# Explore resulting df\n",
    "print(data.shape)\n",
    "data.head(2)"
   ]
  },
  {
   "cell_type": "code",
   "execution_count": 23,
   "metadata": {},
   "outputs": [
    {
     "data": {
      "text/plain": [
       "17408"
      ]
     },
     "execution_count": 23,
     "metadata": {},
     "output_type": "execute_result"
    }
   ],
   "source": [
    "# Count unique product IDs\n",
    "len(data[\"productID\"].unique())"
   ]
  },
  {
   "cell_type": "markdown",
   "metadata": {},
   "source": [
    "## Loading Game Features to extract only Games from Gaming Category"
   ]
  },
  {
   "cell_type": "code",
   "execution_count": 9,
   "metadata": {},
   "outputs": [],
   "source": [
    "# Loading file with game features\n",
    "game_features_df = joblib.load(\"../../game_feature_predictions.joblib\")"
   ]
  },
  {
   "cell_type": "code",
   "execution_count": 12,
   "metadata": {},
   "outputs": [
    {
     "name": "stdout",
     "output_type": "stream",
     "text": [
      "(28223, 15)\n"
     ]
    },
    {
     "data": {
      "text/html": [
       "<div>\n",
       "<style scoped>\n",
       "    .dataframe tbody tr th:only-of-type {\n",
       "        vertical-align: middle;\n",
       "    }\n",
       "\n",
       "    .dataframe tbody tr th {\n",
       "        vertical-align: top;\n",
       "    }\n",
       "\n",
       "    .dataframe thead th {\n",
       "        text-align: right;\n",
       "    }\n",
       "</style>\n",
       "<table border=\"1\" class=\"dataframe\">\n",
       "  <thead>\n",
       "    <tr style=\"text-align: right;\">\n",
       "      <th></th>\n",
       "      <th>asin</th>\n",
       "      <th>features_joined</th>\n",
       "      <th>logreg_preds_proba_v1</th>\n",
       "      <th>games_logreg_preds_v1</th>\n",
       "      <th>logreg_preds_proba_v2</th>\n",
       "      <th>games_logreg_preds_v2</th>\n",
       "      <th>cnn_preds_proba_v1</th>\n",
       "      <th>games_cnn_preds_v1</th>\n",
       "      <th>cnn_preds_proba_v2</th>\n",
       "      <th>games_cnn_preds_v2</th>\n",
       "      <th>full_preds</th>\n",
       "      <th>new_preds</th>\n",
       "      <th>game</th>\n",
       "      <th>full_model_prediction</th>\n",
       "      <th>new_model_predictions</th>\n",
       "    </tr>\n",
       "  </thead>\n",
       "  <tbody>\n",
       "    <tr>\n",
       "      <td>0</td>\n",
       "      <td>0439335310</td>\n",
       "      <td>Grades 2-12 Spelling Program Teaches Spelling ...</td>\n",
       "      <td>0.088128</td>\n",
       "      <td>26</td>\n",
       "      <td>0.257119</td>\n",
       "      <td>25</td>\n",
       "      <td>0.814444</td>\n",
       "      <td>15</td>\n",
       "      <td>0.158219</td>\n",
       "      <td>7</td>\n",
       "      <td>15</td>\n",
       "      <td>25</td>\n",
       "      <td>Phonics Alive! 3: The Speller</td>\n",
       "      <td>rpg_action</td>\n",
       "      <td>sports</td>\n",
       "    </tr>\n",
       "    <tr>\n",
       "      <td>1</td>\n",
       "      <td>0439339006</td>\n",
       "      <td>Sim City 3000 CD-ROM</td>\n",
       "      <td>0.127250</td>\n",
       "      <td>10</td>\n",
       "      <td>0.401816</td>\n",
       "      <td>25</td>\n",
       "      <td>0.178567</td>\n",
       "      <td>9</td>\n",
       "      <td>0.358299</td>\n",
       "      <td>25</td>\n",
       "      <td>25</td>\n",
       "      <td>25</td>\n",
       "      <td>Sim City 3000</td>\n",
       "      <td>sports</td>\n",
       "      <td>sports</td>\n",
       "    </tr>\n",
       "  </tbody>\n",
       "</table>\n",
       "</div>"
      ],
      "text/plain": [
       "         asin                                    features_joined  \\\n",
       "0  0439335310  Grades 2-12 Spelling Program Teaches Spelling ...   \n",
       "1  0439339006                               Sim City 3000 CD-ROM   \n",
       "\n",
       "   logreg_preds_proba_v1  games_logreg_preds_v1  logreg_preds_proba_v2  \\\n",
       "0               0.088128                     26               0.257119   \n",
       "1               0.127250                     10               0.401816   \n",
       "\n",
       "   games_logreg_preds_v2  cnn_preds_proba_v1  games_cnn_preds_v1  \\\n",
       "0                     25            0.814444                  15   \n",
       "1                     25            0.178567                   9   \n",
       "\n",
       "   cnn_preds_proba_v2  games_cnn_preds_v2  full_preds  new_preds  \\\n",
       "0            0.158219                   7          15         25   \n",
       "1            0.358299                  25          25         25   \n",
       "\n",
       "                            game full_model_prediction new_model_predictions  \n",
       "0  Phonics Alive! 3: The Speller            rpg_action                sports  \n",
       "1                  Sim City 3000                sports                sports  "
      ]
     },
     "execution_count": 12,
     "metadata": {},
     "output_type": "execute_result"
    }
   ],
   "source": [
    "# Explore df\n",
    "print(game_features_df.shape)\n",
    "game_features_df.head(2)"
   ]
  },
  {
   "cell_type": "code",
   "execution_count": 16,
   "metadata": {},
   "outputs": [
    {
     "name": "stdout",
     "output_type": "stream",
     "text": [
      "28223\n"
     ]
    },
    {
     "data": {
      "text/plain": [
       "array(['0439335310', '0439339006', '0439335299', ..., 'B01HIZGKOE',\n",
       "       'B01HIZF7XE', 'B01HJ13III'], dtype=object)"
      ]
     },
     "execution_count": 16,
     "metadata": {},
     "output_type": "execute_result"
    }
   ],
   "source": [
    "# Unique product IDs\n",
    "print(len(game_features_df[\"asin\"].unique()))\n",
    "game_features_df[\"asin\"].unique()"
   ]
  },
  {
   "cell_type": "code",
   "execution_count": 22,
   "metadata": {},
   "outputs": [
    {
     "data": {
      "text/plain": [
       "28223"
      ]
     },
     "execution_count": 22,
     "metadata": {},
     "output_type": "execute_result"
    }
   ],
   "source": [
    "# Create list with unique product IDs, relevant to games only\n",
    "relevant_products = list(game_features_df[\"asin\"].unique())\n",
    "len(relevant_products)"
   ]
  },
  {
   "cell_type": "markdown",
   "metadata": {},
   "source": [
    "## Keeping only Games"
   ]
  },
  {
   "cell_type": "code",
   "execution_count": 25,
   "metadata": {},
   "outputs": [
    {
     "data": {
      "text/plain": [
       "294407"
      ]
     },
     "execution_count": 25,
     "metadata": {},
     "output_type": "execute_result"
    }
   ],
   "source": [
    "# Count how many rows we would keep from the overall file\n",
    "sum(data[\"productID\"].isin(relevant_products))"
   ]
  },
  {
   "cell_type": "code",
   "execution_count": 27,
   "metadata": {},
   "outputs": [
    {
     "data": {
      "text/plain": [
       "0.6213425238063078"
      ]
     },
     "execution_count": 27,
     "metadata": {},
     "output_type": "execute_result"
    }
   ],
   "source": [
    "# Proportion we would keep\n",
    "sum(data[\"productID\"].isin(relevant_products))/len(data)"
   ]
  },
  {
   "cell_type": "code",
   "execution_count": 28,
   "metadata": {},
   "outputs": [],
   "source": [
    "# Keep only rows corresponding to relevant products\n",
    "relevant_data = data[data[\"productID\"].isin(relevant_products)]"
   ]
  },
  {
   "cell_type": "code",
   "execution_count": 30,
   "metadata": {},
   "outputs": [
    {
     "data": {
      "text/plain": [
       "True"
      ]
     },
     "execution_count": 30,
     "metadata": {},
     "output_type": "execute_result"
    }
   ],
   "source": [
    "# Check conversion\n",
    "sum(relevant_data[\"productID\"].isin(relevant_products)) == len(relevant_data)"
   ]
  },
  {
   "cell_type": "code",
   "execution_count": 32,
   "metadata": {},
   "outputs": [
    {
     "name": "stdout",
     "output_type": "stream",
     "text": [
      "(294407, 20)\n"
     ]
    },
    {
     "data": {
      "text/html": [
       "<div>\n",
       "<style scoped>\n",
       "    .dataframe tbody tr th:only-of-type {\n",
       "        vertical-align: middle;\n",
       "    }\n",
       "\n",
       "    .dataframe tbody tr th {\n",
       "        vertical-align: top;\n",
       "    }\n",
       "\n",
       "    .dataframe thead th {\n",
       "        text-align: right;\n",
       "    }\n",
       "</style>\n",
       "<table border=\"1\" class=\"dataframe\">\n",
       "  <thead>\n",
       "    <tr style=\"text-align: right;\">\n",
       "      <th></th>\n",
       "      <th>reviewID</th>\n",
       "      <th>overall</th>\n",
       "      <th>verified</th>\n",
       "      <th>reviewTime</th>\n",
       "      <th>reviewerID</th>\n",
       "      <th>productID</th>\n",
       "      <th>reviewText</th>\n",
       "      <th>summary</th>\n",
       "      <th>vote</th>\n",
       "      <th>style</th>\n",
       "      <th>category</th>\n",
       "      <th>title</th>\n",
       "      <th>brand</th>\n",
       "      <th>rank</th>\n",
       "      <th>main_cat</th>\n",
       "      <th>description</th>\n",
       "      <th>also_buy</th>\n",
       "      <th>also_view</th>\n",
       "      <th>feature</th>\n",
       "      <th>numberOfReviews</th>\n",
       "    </tr>\n",
       "  </thead>\n",
       "  <tbody>\n",
       "    <tr>\n",
       "      <td>0</td>\n",
       "      <td>0</td>\n",
       "      <td>5</td>\n",
       "      <td>True</td>\n",
       "      <td>2015-10-17</td>\n",
       "      <td>A1HP7NVNPFMA4N</td>\n",
       "      <td>0700026657</td>\n",
       "      <td>This game is a bit hard to get the hang of, bu...</td>\n",
       "      <td>but when you do it's great.</td>\n",
       "      <td>0</td>\n",
       "      <td>NaN</td>\n",
       "      <td>['Video Games', 'PC', 'Games']</td>\n",
       "      <td>Anno 2070</td>\n",
       "      <td>Ubisoft</td>\n",
       "      <td>&gt;#30,230 in Video Games (See Top 100 in Video ...</td>\n",
       "      <td>Video Games</td>\n",
       "      <td>['ANNO 2070BRAND NEW - IN STOCKDVD Rom Softwar...</td>\n",
       "      <td>NaN</td>\n",
       "      <td>['B013F0IP1C', 'B00JDP1AWU', 'B00XR3YC2E', 'B0...</td>\n",
       "      <td>['A new era: while adhering to the fundamental...</td>\n",
       "      <td>13</td>\n",
       "    </tr>\n",
       "    <tr>\n",
       "      <td>1</td>\n",
       "      <td>1</td>\n",
       "      <td>4</td>\n",
       "      <td>False</td>\n",
       "      <td>2015-07-27</td>\n",
       "      <td>A1JGAP0185YJI6</td>\n",
       "      <td>0700026657</td>\n",
       "      <td>I played it a while but it was alright. The st...</td>\n",
       "      <td>But in spite of that it was fun, I liked it</td>\n",
       "      <td>0</td>\n",
       "      <td>NaN</td>\n",
       "      <td>['Video Games', 'PC', 'Games']</td>\n",
       "      <td>Anno 2070</td>\n",
       "      <td>Ubisoft</td>\n",
       "      <td>&gt;#30,230 in Video Games (See Top 100 in Video ...</td>\n",
       "      <td>Video Games</td>\n",
       "      <td>['ANNO 2070BRAND NEW - IN STOCKDVD Rom Softwar...</td>\n",
       "      <td>NaN</td>\n",
       "      <td>['B013F0IP1C', 'B00JDP1AWU', 'B00XR3YC2E', 'B0...</td>\n",
       "      <td>['A new era: while adhering to the fundamental...</td>\n",
       "      <td>13</td>\n",
       "    </tr>\n",
       "  </tbody>\n",
       "</table>\n",
       "</div>"
      ],
      "text/plain": [
       "   reviewID  overall  verified  reviewTime      reviewerID   productID  \\\n",
       "0         0        5      True  2015-10-17  A1HP7NVNPFMA4N  0700026657   \n",
       "1         1        4     False  2015-07-27  A1JGAP0185YJI6  0700026657   \n",
       "\n",
       "                                          reviewText  \\\n",
       "0  This game is a bit hard to get the hang of, bu...   \n",
       "1  I played it a while but it was alright. The st...   \n",
       "\n",
       "                                       summary vote style  \\\n",
       "0                  but when you do it's great.    0   NaN   \n",
       "1  But in spite of that it was fun, I liked it    0   NaN   \n",
       "\n",
       "                         category      title    brand  \\\n",
       "0  ['Video Games', 'PC', 'Games']  Anno 2070  Ubisoft   \n",
       "1  ['Video Games', 'PC', 'Games']  Anno 2070  Ubisoft   \n",
       "\n",
       "                                                rank     main_cat  \\\n",
       "0  >#30,230 in Video Games (See Top 100 in Video ...  Video Games   \n",
       "1  >#30,230 in Video Games (See Top 100 in Video ...  Video Games   \n",
       "\n",
       "                                         description also_buy  \\\n",
       "0  ['ANNO 2070BRAND NEW - IN STOCKDVD Rom Softwar...      NaN   \n",
       "1  ['ANNO 2070BRAND NEW - IN STOCKDVD Rom Softwar...      NaN   \n",
       "\n",
       "                                           also_view  \\\n",
       "0  ['B013F0IP1C', 'B00JDP1AWU', 'B00XR3YC2E', 'B0...   \n",
       "1  ['B013F0IP1C', 'B00JDP1AWU', 'B00XR3YC2E', 'B0...   \n",
       "\n",
       "                                             feature  numberOfReviews  \n",
       "0  ['A new era: while adhering to the fundamental...               13  \n",
       "1  ['A new era: while adhering to the fundamental...               13  "
      ]
     },
     "execution_count": 32,
     "metadata": {},
     "output_type": "execute_result"
    }
   ],
   "source": [
    "# Explore new dataframe\n",
    "print(relevant_data.shape)\n",
    "relevant_data.head(2)"
   ]
  },
  {
   "cell_type": "markdown",
   "metadata": {},
   "source": [
    "## Splitting into Train and Test"
   ]
  },
  {
   "cell_type": "code",
   "execution_count": 35,
   "metadata": {},
   "outputs": [],
   "source": [
    "# Select ratio and define split cut\n",
    "train_ratio = 0.7\n",
    "shuffled_data = shuffle(relevant_data, random_state = 232323)\n",
    "split_cut = np.int(np.round(len(shuffled_data) * train_ratio))"
   ]
  },
  {
   "cell_type": "code",
   "execution_count": 36,
   "metadata": {},
   "outputs": [],
   "source": [
    "# Split the data\n",
    "train_df = shuffled_data.iloc[0:split_cut]\n",
    "test_df = shuffled_data.iloc[split_cut::]"
   ]
  },
  {
   "cell_type": "code",
   "execution_count": 37,
   "metadata": {},
   "outputs": [
    {
     "name": "stdout",
     "output_type": "stream",
     "text": [
      "(206085, 20)\n",
      "(88322, 20)\n"
     ]
    }
   ],
   "source": [
    "# Check resulting shapes\n",
    "print(train_df.shape)\n",
    "print(test_df.shape)"
   ]
  },
  {
   "cell_type": "code",
   "execution_count": 38,
   "metadata": {},
   "outputs": [],
   "source": [
    "# For Test set, keep only rows with products and users present in Train set\n",
    "test_df = test_df[(test_df['reviewerID'].isin(train_df['reviewerID'])) \n",
    "                  & (test_df['productID'].isin(train_df['productID']))]"
   ]
  },
  {
   "cell_type": "code",
   "execution_count": 39,
   "metadata": {},
   "outputs": [
    {
     "name": "stdout",
     "output_type": "stream",
     "text": [
      "(206085, 20)\n",
      "(84554, 20)\n"
     ]
    }
   ],
   "source": [
    "# Check resulting shapes\n",
    "print(train_df.shape)\n",
    "print(test_df.shape)"
   ]
  },
  {
   "cell_type": "markdown",
   "metadata": {},
   "source": [
    "## Verifying collaborative filtering will work (All test users and products are present in Train)"
   ]
  },
  {
   "cell_type": "code",
   "execution_count": 40,
   "metadata": {},
   "outputs": [
    {
     "name": "stdout",
     "output_type": "stream",
     "text": [
      "52023\n",
      "10482\n"
     ]
    }
   ],
   "source": [
    "# Unique users in full dataset\n",
    "print(len(relevant_data[\"reviewerID\"].unique()))\n",
    "# Unique users in full dataset\n",
    "print(len(relevant_data[\"productID\"].unique()))"
   ]
  },
  {
   "cell_type": "code",
   "execution_count": 41,
   "metadata": {},
   "outputs": [
    {
     "name": "stdout",
     "output_type": "stream",
     "text": [
      "49666\n",
      "10474\n"
     ]
    }
   ],
   "source": [
    "# Unique users in Train dataset\n",
    "print(len(train_df[\"reviewerID\"].unique()))\n",
    "# Unique users in Train dataset\n",
    "print(len(train_df[\"productID\"].unique()))"
   ]
  },
  {
   "cell_type": "code",
   "execution_count": 42,
   "metadata": {},
   "outputs": [
    {
     "name": "stdout",
     "output_type": "stream",
     "text": [
      "35963\n",
      "9970\n"
     ]
    }
   ],
   "source": [
    "# Unique users in Test dataset\n",
    "print(len(test_df[\"reviewerID\"].unique()))\n",
    "# Unique users in Test dataset\n",
    "print(len(test_df[\"productID\"].unique()))"
   ]
  },
  {
   "cell_type": "code",
   "execution_count": 47,
   "metadata": {},
   "outputs": [
    {
     "data": {
      "text/plain": [
       "True"
      ]
     },
     "execution_count": 47,
     "metadata": {},
     "output_type": "execute_result"
    }
   ],
   "source": [
    "# All reviewers from Test contained in Train?\n",
    "sum(test_df[\"reviewerID\"].isin(train_df[\"reviewerID\"].unique())) == len(test_df)"
   ]
  },
  {
   "cell_type": "code",
   "execution_count": 46,
   "metadata": {},
   "outputs": [
    {
     "data": {
      "text/plain": [
       "True"
      ]
     },
     "execution_count": 46,
     "metadata": {},
     "output_type": "execute_result"
    }
   ],
   "source": [
    "# All products from Test contained in Train?\n",
    "sum(test_df[\"productID\"].isin(train_df[\"productID\"].unique())) == len(test_df)"
   ]
  },
  {
   "cell_type": "code",
   "execution_count": 48,
   "metadata": {},
   "outputs": [
    {
     "name": "stdout",
     "output_type": "stream",
     "text": [
      "(206085, 20)\n",
      "(84554, 20)\n"
     ]
    }
   ],
   "source": [
    "# Exploring shapes of resulting dataframes\n",
    "print(train_df.shape)\n",
    "print(test_df.shape)"
   ]
  },
  {
   "cell_type": "markdown",
   "metadata": {},
   "source": [
    "## Saving Train and Test files"
   ]
  },
  {
   "cell_type": "code",
   "execution_count": 51,
   "metadata": {},
   "outputs": [],
   "source": [
    "# Save Train with pickle\n",
    "train_df.to_pickle(\"../../train_df.pkl\")"
   ]
  },
  {
   "cell_type": "code",
   "execution_count": 52,
   "metadata": {},
   "outputs": [],
   "source": [
    "# Save Test with pickle\n",
    "test_df.to_pickle(\"../../test_df.pkl\")"
   ]
  }
 ],
 "metadata": {
  "kernelspec": {
   "display_name": "Python 3",
   "language": "python",
   "name": "python3"
  },
  "language_info": {
   "codemirror_mode": {
    "name": "ipython",
    "version": 3
   },
   "file_extension": ".py",
   "mimetype": "text/x-python",
   "name": "python",
   "nbconvert_exporter": "python",
   "pygments_lexer": "ipython3",
   "version": "3.7.4"
  }
 },
 "nbformat": 4,
 "nbformat_minor": 2
}
